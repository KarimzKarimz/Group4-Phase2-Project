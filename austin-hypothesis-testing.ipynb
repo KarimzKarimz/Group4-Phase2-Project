{
 "cells": [
  {
   "cell_type": "markdown",
   "id": "d4f4e359",
   "metadata": {},
   "source": [
    "### HYPOTHESIS TESTING FORMULATION\n",
    "\n",
    "HYPOTHESIS FORMULATION \n",
    "\n",
    "Load relevant data and csv files :\n",
    "- The dataset has no missing or duplicate values.\n",
    "- Numeric columns like Revenue and Budget are in the correct formats \n",
    "\n",
    "For our two hypothesis that seek to explain the `financial projections for our investors` below:\n",
    "1.  Genre comparison ttest:Analyse Action,Adventure,scifi vs. Adventure,Animation,Comedy\n",
    "\n",
    "2.  Budget  comparison ttest:Analyse High-budget ($>$ $17M) vs. low-budget ($\\leq$ $17M).\n",
    "\n",
    "let’s establish the hypotheses:\n",
    "\n",
    "A.` analysis of genres investigates whether the average production budgets differ significantly between Action,adventure and sci-Fi and Adventure ,Animation,Comedy films. A two-sample t-test was used to assess the difference `\n",
    "- Null Hypothesis (H₀): The average box office revenue for Action/Adventure/Sci-Fi movies is equal to that of Adventure/Animation/Comedy movies.\n",
    "- Alternative Hypothesis (H₁): The average box office revenue for Action/Adventure/Sci-Fi movies is different (or higher) than Adventure/Animation/Comedy movies.\n",
    "\n",
    "B.`Impact of Budget on Box Office Revenue\n",
    "To evaluate whether investments on production budgets significantly affect box office performance.A two-sample t-test was conducted comparing revenues from`\n",
    "- Null Hypothesis (H₀): Budget has no significant impact on box office revenue.\n",
    "- Alternative Hypothesis (H₁): Higher budgets lead to significantly higher box office revenue\n",
    "\n",
    "\n"
   ]
  },
  {
   "cell_type": "code",
   "execution_count": 33,
   "id": "79390059",
   "metadata": {},
   "outputs": [],
   "source": [
    "#import necessary libraries\n",
    "import pandas as pd \n",
    "import numpy as np"
   ]
  },
  {
   "cell_type": "markdown",
   "id": "b0a97298",
   "metadata": {},
   "source": [
    "#### Loading the all combined csv to our `Film_df`"
   ]
  },
  {
   "cell_type": "code",
   "execution_count": 64,
   "id": "62202f76",
   "metadata": {},
   "outputs": [
    {
     "name": "stderr",
     "output_type": "stream",
     "text": [
      "c:\\Users\\hp\\anaconda3\\envs\\learn-env\\lib\\site-packages\\IPython\\core\\interactiveshell.py:3145: DtypeWarning: Columns (19) have mixed types.Specify dtype option on import or set low_memory=False.\n",
      "  has_raised = await self.run_ast_nodes(code_ast.body, cell_name,\n"
     ]
    },
    {
     "data": {
      "text/html": [
       "<div>\n",
       "<style scoped>\n",
       "    .dataframe tbody tr th:only-of-type {\n",
       "        vertical-align: middle;\n",
       "    }\n",
       "\n",
       "    .dataframe tbody tr th {\n",
       "        vertical-align: top;\n",
       "    }\n",
       "\n",
       "    .dataframe thead th {\n",
       "        text-align: right;\n",
       "    }\n",
       "</style>\n",
       "<table border=\"1\" class=\"dataframe\">\n",
       "  <thead>\n",
       "    <tr style=\"text-align: right;\">\n",
       "      <th></th>\n",
       "      <th>movie_id</th>\n",
       "      <th>ordering</th>\n",
       "      <th>person_id</th>\n",
       "      <th>category</th>\n",
       "      <th>ordering.1</th>\n",
       "      <th>title</th>\n",
       "      <th>region</th>\n",
       "      <th>is_original_title</th>\n",
       "      <th>primary_title</th>\n",
       "      <th>original_title_x</th>\n",
       "      <th>...</th>\n",
       "      <th>Unnamed: 0</th>\n",
       "      <th>genre_ids</th>\n",
       "      <th>id_y</th>\n",
       "      <th>original_language</th>\n",
       "      <th>original_title_y</th>\n",
       "      <th>popularity</th>\n",
       "      <th>release_date_y</th>\n",
       "      <th>vote_average</th>\n",
       "      <th>vote_count</th>\n",
       "      <th>profits</th>\n",
       "    </tr>\n",
       "  </thead>\n",
       "  <tbody>\n",
       "    <tr>\n",
       "      <th>0</th>\n",
       "      <td>tt0475290</td>\n",
       "      <td>10</td>\n",
       "      <td>nm0005683</td>\n",
       "      <td>cinematographer</td>\n",
       "      <td>24</td>\n",
       "      <td>Hail, Caesar!</td>\n",
       "      <td>GB</td>\n",
       "      <td>0.0</td>\n",
       "      <td>Hail, Caesar!</td>\n",
       "      <td>Hail, Caesar!</td>\n",
       "      <td>...</td>\n",
       "      <td>17497</td>\n",
       "      <td>[35, 18, 9648]</td>\n",
       "      <td>270487</td>\n",
       "      <td>en</td>\n",
       "      <td>Hail, Caesar!</td>\n",
       "      <td>12.312</td>\n",
       "      <td>2016-02-05</td>\n",
       "      <td>5.9</td>\n",
       "      <td>2328</td>\n",
       "      <td>42160680.0</td>\n",
       "    </tr>\n",
       "    <tr>\n",
       "      <th>1</th>\n",
       "      <td>tt0475290</td>\n",
       "      <td>1</td>\n",
       "      <td>nm0000982</td>\n",
       "      <td>actor</td>\n",
       "      <td>24</td>\n",
       "      <td>Hail, Caesar!</td>\n",
       "      <td>GB</td>\n",
       "      <td>0.0</td>\n",
       "      <td>Hail, Caesar!</td>\n",
       "      <td>Hail, Caesar!</td>\n",
       "      <td>...</td>\n",
       "      <td>17497</td>\n",
       "      <td>[35, 18, 9648]</td>\n",
       "      <td>270487</td>\n",
       "      <td>en</td>\n",
       "      <td>Hail, Caesar!</td>\n",
       "      <td>12.312</td>\n",
       "      <td>2016-02-05</td>\n",
       "      <td>5.9</td>\n",
       "      <td>2328</td>\n",
       "      <td>42160680.0</td>\n",
       "    </tr>\n",
       "    <tr>\n",
       "      <th>2</th>\n",
       "      <td>tt0475290</td>\n",
       "      <td>2</td>\n",
       "      <td>nm0000123</td>\n",
       "      <td>actor</td>\n",
       "      <td>24</td>\n",
       "      <td>Hail, Caesar!</td>\n",
       "      <td>GB</td>\n",
       "      <td>0.0</td>\n",
       "      <td>Hail, Caesar!</td>\n",
       "      <td>Hail, Caesar!</td>\n",
       "      <td>...</td>\n",
       "      <td>17497</td>\n",
       "      <td>[35, 18, 9648]</td>\n",
       "      <td>270487</td>\n",
       "      <td>en</td>\n",
       "      <td>Hail, Caesar!</td>\n",
       "      <td>12.312</td>\n",
       "      <td>2016-02-05</td>\n",
       "      <td>5.9</td>\n",
       "      <td>2328</td>\n",
       "      <td>42160680.0</td>\n",
       "    </tr>\n",
       "    <tr>\n",
       "      <th>3</th>\n",
       "      <td>tt0475290</td>\n",
       "      <td>3</td>\n",
       "      <td>nm2403277</td>\n",
       "      <td>actor</td>\n",
       "      <td>24</td>\n",
       "      <td>Hail, Caesar!</td>\n",
       "      <td>GB</td>\n",
       "      <td>0.0</td>\n",
       "      <td>Hail, Caesar!</td>\n",
       "      <td>Hail, Caesar!</td>\n",
       "      <td>...</td>\n",
       "      <td>17497</td>\n",
       "      <td>[35, 18, 9648]</td>\n",
       "      <td>270487</td>\n",
       "      <td>en</td>\n",
       "      <td>Hail, Caesar!</td>\n",
       "      <td>12.312</td>\n",
       "      <td>2016-02-05</td>\n",
       "      <td>5.9</td>\n",
       "      <td>2328</td>\n",
       "      <td>42160680.0</td>\n",
       "    </tr>\n",
       "    <tr>\n",
       "      <th>4</th>\n",
       "      <td>tt0475290</td>\n",
       "      <td>4</td>\n",
       "      <td>nm0000146</td>\n",
       "      <td>actor</td>\n",
       "      <td>24</td>\n",
       "      <td>Hail, Caesar!</td>\n",
       "      <td>GB</td>\n",
       "      <td>0.0</td>\n",
       "      <td>Hail, Caesar!</td>\n",
       "      <td>Hail, Caesar!</td>\n",
       "      <td>...</td>\n",
       "      <td>17497</td>\n",
       "      <td>[35, 18, 9648]</td>\n",
       "      <td>270487</td>\n",
       "      <td>en</td>\n",
       "      <td>Hail, Caesar!</td>\n",
       "      <td>12.312</td>\n",
       "      <td>2016-02-05</td>\n",
       "      <td>5.9</td>\n",
       "      <td>2328</td>\n",
       "      <td>42160680.0</td>\n",
       "    </tr>\n",
       "  </tbody>\n",
       "</table>\n",
       "<p>5 rows × 37 columns</p>\n",
       "</div>"
      ],
      "text/plain": [
       "    movie_id  ordering  person_id         category  ordering.1          title  \\\n",
       "0  tt0475290        10  nm0005683  cinematographer          24  Hail, Caesar!   \n",
       "1  tt0475290         1  nm0000982            actor          24  Hail, Caesar!   \n",
       "2  tt0475290         2  nm0000123            actor          24  Hail, Caesar!   \n",
       "3  tt0475290         3  nm2403277            actor          24  Hail, Caesar!   \n",
       "4  tt0475290         4  nm0000146            actor          24  Hail, Caesar!   \n",
       "\n",
       "  region  is_original_title  primary_title original_title_x  ...  Unnamed: 0  \\\n",
       "0     GB                0.0  Hail, Caesar!    Hail, Caesar!  ...       17497   \n",
       "1     GB                0.0  Hail, Caesar!    Hail, Caesar!  ...       17497   \n",
       "2     GB                0.0  Hail, Caesar!    Hail, Caesar!  ...       17497   \n",
       "3     GB                0.0  Hail, Caesar!    Hail, Caesar!  ...       17497   \n",
       "4     GB                0.0  Hail, Caesar!    Hail, Caesar!  ...       17497   \n",
       "\n",
       "        genre_ids    id_y  original_language  original_title_y popularity  \\\n",
       "0  [35, 18, 9648]  270487                 en     Hail, Caesar!     12.312   \n",
       "1  [35, 18, 9648]  270487                 en     Hail, Caesar!     12.312   \n",
       "2  [35, 18, 9648]  270487                 en     Hail, Caesar!     12.312   \n",
       "3  [35, 18, 9648]  270487                 en     Hail, Caesar!     12.312   \n",
       "4  [35, 18, 9648]  270487                 en     Hail, Caesar!     12.312   \n",
       "\n",
       "  release_date_y vote_average  vote_count     profits  \n",
       "0     2016-02-05          5.9        2328  42160680.0  \n",
       "1     2016-02-05          5.9        2328  42160680.0  \n",
       "2     2016-02-05          5.9        2328  42160680.0  \n",
       "3     2016-02-05          5.9        2328  42160680.0  \n",
       "4     2016-02-05          5.9        2328  42160680.0  \n",
       "\n",
       "[5 rows x 37 columns]"
      ]
     },
     "execution_count": 64,
     "metadata": {},
     "output_type": "execute_result"
    }
   ],
   "source": [
    "film_df = pd.read_csv(\"zippedData/all_combined.csv\")\n",
    "film_df.head()"
   ]
  },
  {
   "cell_type": "code",
   "execution_count": 35,
   "id": "f33d59eb",
   "metadata": {},
   "outputs": [
    {
     "data": {
      "text/html": [
       "<div>\n",
       "<style scoped>\n",
       "    .dataframe tbody tr th:only-of-type {\n",
       "        vertical-align: middle;\n",
       "    }\n",
       "\n",
       "    .dataframe tbody tr th {\n",
       "        vertical-align: top;\n",
       "    }\n",
       "\n",
       "    .dataframe thead th {\n",
       "        text-align: right;\n",
       "    }\n",
       "</style>\n",
       "<table border=\"1\" class=\"dataframe\">\n",
       "  <thead>\n",
       "    <tr style=\"text-align: right;\">\n",
       "      <th></th>\n",
       "      <th>title</th>\n",
       "      <th>studio</th>\n",
       "      <th>domestic_gross</th>\n",
       "      <th>foreign_gross</th>\n",
       "      <th>year</th>\n",
       "    </tr>\n",
       "  </thead>\n",
       "  <tbody>\n",
       "    <tr>\n",
       "      <th>0</th>\n",
       "      <td>Toy Story 3</td>\n",
       "      <td>BV</td>\n",
       "      <td>415000000.0</td>\n",
       "      <td>652000000</td>\n",
       "      <td>2010</td>\n",
       "    </tr>\n",
       "    <tr>\n",
       "      <th>1</th>\n",
       "      <td>Alice in Wonderland (2010)</td>\n",
       "      <td>BV</td>\n",
       "      <td>334200000.0</td>\n",
       "      <td>691300000</td>\n",
       "      <td>2010</td>\n",
       "    </tr>\n",
       "    <tr>\n",
       "      <th>2</th>\n",
       "      <td>Harry Potter and the Deathly Hallows Part 1</td>\n",
       "      <td>WB</td>\n",
       "      <td>296000000.0</td>\n",
       "      <td>664300000</td>\n",
       "      <td>2010</td>\n",
       "    </tr>\n",
       "    <tr>\n",
       "      <th>3</th>\n",
       "      <td>Inception</td>\n",
       "      <td>WB</td>\n",
       "      <td>292600000.0</td>\n",
       "      <td>535700000</td>\n",
       "      <td>2010</td>\n",
       "    </tr>\n",
       "    <tr>\n",
       "      <th>4</th>\n",
       "      <td>Shrek Forever After</td>\n",
       "      <td>P/DW</td>\n",
       "      <td>238700000.0</td>\n",
       "      <td>513900000</td>\n",
       "      <td>2010</td>\n",
       "    </tr>\n",
       "    <tr>\n",
       "      <th>...</th>\n",
       "      <td>...</td>\n",
       "      <td>...</td>\n",
       "      <td>...</td>\n",
       "      <td>...</td>\n",
       "      <td>...</td>\n",
       "    </tr>\n",
       "    <tr>\n",
       "      <th>3382</th>\n",
       "      <td>The Quake</td>\n",
       "      <td>Magn.</td>\n",
       "      <td>6200.0</td>\n",
       "      <td>NaN</td>\n",
       "      <td>2018</td>\n",
       "    </tr>\n",
       "    <tr>\n",
       "      <th>3383</th>\n",
       "      <td>Edward II (2018 re-release)</td>\n",
       "      <td>FM</td>\n",
       "      <td>4800.0</td>\n",
       "      <td>NaN</td>\n",
       "      <td>2018</td>\n",
       "    </tr>\n",
       "    <tr>\n",
       "      <th>3384</th>\n",
       "      <td>El Pacto</td>\n",
       "      <td>Sony</td>\n",
       "      <td>2500.0</td>\n",
       "      <td>NaN</td>\n",
       "      <td>2018</td>\n",
       "    </tr>\n",
       "    <tr>\n",
       "      <th>3385</th>\n",
       "      <td>The Swan</td>\n",
       "      <td>Synergetic</td>\n",
       "      <td>2400.0</td>\n",
       "      <td>NaN</td>\n",
       "      <td>2018</td>\n",
       "    </tr>\n",
       "    <tr>\n",
       "      <th>3386</th>\n",
       "      <td>An Actor Prepares</td>\n",
       "      <td>Grav.</td>\n",
       "      <td>1700.0</td>\n",
       "      <td>NaN</td>\n",
       "      <td>2018</td>\n",
       "    </tr>\n",
       "  </tbody>\n",
       "</table>\n",
       "<p>3387 rows × 5 columns</p>\n",
       "</div>"
      ],
      "text/plain": [
       "                                            title      studio  domestic_gross  \\\n",
       "0                                     Toy Story 3          BV     415000000.0   \n",
       "1                      Alice in Wonderland (2010)          BV     334200000.0   \n",
       "2     Harry Potter and the Deathly Hallows Part 1          WB     296000000.0   \n",
       "3                                       Inception          WB     292600000.0   \n",
       "4                             Shrek Forever After        P/DW     238700000.0   \n",
       "...                                           ...         ...             ...   \n",
       "3382                                    The Quake       Magn.          6200.0   \n",
       "3383                  Edward II (2018 re-release)          FM          4800.0   \n",
       "3384                                     El Pacto        Sony          2500.0   \n",
       "3385                                     The Swan  Synergetic          2400.0   \n",
       "3386                            An Actor Prepares       Grav.          1700.0   \n",
       "\n",
       "     foreign_gross  year  \n",
       "0        652000000  2010  \n",
       "1        691300000  2010  \n",
       "2        664300000  2010  \n",
       "3        535700000  2010  \n",
       "4        513900000  2010  \n",
       "...            ...   ...  \n",
       "3382           NaN  2018  \n",
       "3383           NaN  2018  \n",
       "3384           NaN  2018  \n",
       "3385           NaN  2018  \n",
       "3386           NaN  2018  \n",
       "\n",
       "[3387 rows x 5 columns]"
      ]
     },
     "execution_count": 35,
     "metadata": {},
     "output_type": "execute_result"
    }
   ],
   "source": [
    "box_office_df = pd.read_csv('zippedData/bom.movie_gross.csv.gz')\n",
    "box_office_df"
   ]
  },
  {
   "cell_type": "markdown",
   "id": "d337f30e",
   "metadata": {},
   "source": [
    "#### Created the samples that will be used in `Statistical Computation`"
   ]
  },
  {
   "cell_type": "markdown",
   "id": "9d35a1a2",
   "metadata": {},
   "source": [
    "## STATISTICAL ANALYSIS"
   ]
  },
  {
   "cell_type": "markdown",
   "id": "99edb571",
   "metadata": {},
   "source": [
    "Now that we’ve created the samples, let’s `formulate the hypotheses`:\n",
    "- Null Hypothesis (H₀): The average box office revenue for Action/Adventure/Sci-Fi movies is equal to that of Adventure/Animation /Comedy movies.\n",
    "- Alternative Hypothesis (H₁): The average box office revenue for Action/Adventure/Sci-Fi movies is different (or higher) than Adventure/Animation/Comedy movies.\n"
   ]
  },
  {
   "cell_type": "markdown",
   "id": "9683e459",
   "metadata": {},
   "source": [
    "## Sample Data loaded lets now begin to : Perform T-Test\n",
    "Create a revenue column by combinining the columns for domestic gross and foreign gross \n"
   ]
  },
  {
   "cell_type": "code",
   "execution_count": 42,
   "id": "dcd5504f",
   "metadata": {},
   "outputs": [],
   "source": [
    "#creating a new column revenue for hypothesis testing\n",
    "film_df['revenue'] = box_office_df['domestic_gross'] + box_office_df['foreign_gross']"
   ]
  },
  {
   "cell_type": "code",
   "execution_count": 46,
   "id": "165fb408",
   "metadata": {},
   "outputs": [
    {
     "name": "stdout",
     "output_type": "stream",
     "text": [
      "Action Sample Size: 0\n",
      "Animation Sample Size: 0\n"
     ]
    }
   ],
   "source": [
    "print(\"Action Sample Size:\", len(sample_action))\n",
    "print(\"Animation Sample Size:\", len(sample_animation))"
   ]
  },
  {
   "cell_type": "markdown",
   "id": "e3a0a156",
   "metadata": {},
   "source": []
  },
  {
   "cell_type": "markdown",
   "id": "b271e680",
   "metadata": {},
   "source": [
    "### 2 .Hypothesis Formulation\n",
    "\n",
    "#### B.Impact of Budget on Box Office Revenue\n",
    "`To evaluate whether investments on production budgets significantly affect box office performance`\n",
    "- Null Hypothesis (H₀): Budget has no significant impact on box office revenue.\n",
    "- Alternative Hypothesis (H₁): Higher budgets lead to significantly higher box office revenue"
   ]
  },
  {
   "cell_type": "code",
   "execution_count": 51,
   "id": "d36d5b5b",
   "metadata": {},
   "outputs": [
    {
     "data": {
      "text/html": [
       "<div>\n",
       "<style scoped>\n",
       "    .dataframe tbody tr th:only-of-type {\n",
       "        vertical-align: middle;\n",
       "    }\n",
       "\n",
       "    .dataframe tbody tr th {\n",
       "        vertical-align: top;\n",
       "    }\n",
       "\n",
       "    .dataframe thead th {\n",
       "        text-align: right;\n",
       "    }\n",
       "</style>\n",
       "<table border=\"1\" class=\"dataframe\">\n",
       "  <thead>\n",
       "    <tr style=\"text-align: right;\">\n",
       "      <th></th>\n",
       "      <th>id</th>\n",
       "      <th>release_date</th>\n",
       "      <th>movie</th>\n",
       "      <th>production_budget</th>\n",
       "      <th>domestic_gross</th>\n",
       "      <th>worldwide_gross</th>\n",
       "    </tr>\n",
       "  </thead>\n",
       "  <tbody>\n",
       "    <tr>\n",
       "      <th>0</th>\n",
       "      <td>1</td>\n",
       "      <td>dec 18, 2009</td>\n",
       "      <td>avatar</td>\n",
       "      <td>$425,000,000</td>\n",
       "      <td>$760,507,625</td>\n",
       "      <td>$2,776,345,279</td>\n",
       "    </tr>\n",
       "    <tr>\n",
       "      <th>1</th>\n",
       "      <td>2</td>\n",
       "      <td>may 20, 2011</td>\n",
       "      <td>pirates of the caribbean: on stranger tides</td>\n",
       "      <td>$410,600,000</td>\n",
       "      <td>$241,063,875</td>\n",
       "      <td>$1,045,663,875</td>\n",
       "    </tr>\n",
       "    <tr>\n",
       "      <th>2</th>\n",
       "      <td>3</td>\n",
       "      <td>jun 7, 2019</td>\n",
       "      <td>dark phoenix</td>\n",
       "      <td>$350,000,000</td>\n",
       "      <td>$42,762,350</td>\n",
       "      <td>$149,762,350</td>\n",
       "    </tr>\n",
       "    <tr>\n",
       "      <th>3</th>\n",
       "      <td>4</td>\n",
       "      <td>may 1, 2015</td>\n",
       "      <td>avengers: age of ultron</td>\n",
       "      <td>$330,600,000</td>\n",
       "      <td>$459,005,868</td>\n",
       "      <td>$1,403,013,963</td>\n",
       "    </tr>\n",
       "    <tr>\n",
       "      <th>4</th>\n",
       "      <td>5</td>\n",
       "      <td>dec 15, 2017</td>\n",
       "      <td>star wars ep. viii: the last jedi</td>\n",
       "      <td>$317,000,000</td>\n",
       "      <td>$620,181,382</td>\n",
       "      <td>$1,316,721,747</td>\n",
       "    </tr>\n",
       "  </tbody>\n",
       "</table>\n",
       "</div>"
      ],
      "text/plain": [
       "   id  release_date                                        movie  \\\n",
       "0   1  dec 18, 2009                                       avatar   \n",
       "1   2  may 20, 2011  pirates of the caribbean: on stranger tides   \n",
       "2   3   jun 7, 2019                                 dark phoenix   \n",
       "3   4   may 1, 2015                      avengers: age of ultron   \n",
       "4   5  dec 15, 2017            star wars ep. viii: the last jedi   \n",
       "\n",
       "  production_budget domestic_gross worldwide_gross  \n",
       "0      $425,000,000   $760,507,625  $2,776,345,279  \n",
       "1      $410,600,000   $241,063,875  $1,045,663,875  \n",
       "2      $350,000,000    $42,762,350    $149,762,350  \n",
       "3      $330,600,000   $459,005,868  $1,403,013,963  \n",
       "4      $317,000,000   $620,181,382  $1,316,721,747  "
      ]
     },
     "execution_count": 51,
     "metadata": {},
     "output_type": "execute_result"
    }
   ],
   "source": [
    "#import library\n",
    "import pandas as pd\n",
    "#load the csv\n",
    "budget_df=pd.read_csv('zippedData\\cleaned_dataset_movie_budget.csv')\n",
    "budget_df.head()"
   ]
  },
  {
   "cell_type": "code",
   "execution_count": 52,
   "id": "865d7eb5",
   "metadata": {},
   "outputs": [
    {
     "data": {
      "text/plain": [
       "Index(['id', 'release_date', 'movie', 'production_budget', 'domestic_gross',\n",
       "       'worldwide_gross'],\n",
       "      dtype='object')"
      ]
     },
     "execution_count": 52,
     "metadata": {},
     "output_type": "execute_result"
    }
   ],
   "source": [
    "budget_df.columns"
   ]
  },
  {
   "cell_type": "code",
   "execution_count": 53,
   "id": "8a0fd886",
   "metadata": {},
   "outputs": [
    {
     "name": "stdout",
     "output_type": "stream",
     "text": [
      "Index(['id', 'release_date', 'movie', 'production_budget', 'domestic_gross',\n",
      "       'revenue'],\n",
      "      dtype='object')\n"
     ]
    }
   ],
   "source": [
    "#rename worlwide_gross to revenue\n",
    "budget_df=budget_df.rename(columns={'worldwide_gross':'revenue'})\n",
    "print (budget_df.columns)"
   ]
  },
  {
   "cell_type": "code",
   "execution_count": 54,
   "id": "1e8753d1",
   "metadata": {},
   "outputs": [],
   "source": [
    "#rename production_budget to budget\n",
    "budget_df=budget_df.rename(columns={'production_budget':'budget'})"
   ]
  },
  {
   "cell_type": "markdown",
   "id": "73af383f",
   "metadata": {},
   "source": [
    "Proceed to check for missing values"
   ]
  },
  {
   "cell_type": "code",
   "execution_count": 55,
   "id": "1cd827ad",
   "metadata": {},
   "outputs": [],
   "source": [
    "# Remove non-numeric characters (commas, dollar signs) and convert to numeric\n",
    "for col in ['budget', 'revenue']:\n",
    "    budget_df[col] = budget_df[col].astype(str).str.replace(r'[^\\d.]', '', regex=True)\n",
    "    budget_df[col] = pd.to_numeric(budget_df[col], errors='coerce')\n"
   ]
  },
  {
   "cell_type": "code",
   "execution_count": 56,
   "id": "ae3bf284",
   "metadata": {},
   "outputs": [],
   "source": [
    "#drop rows with missing values\n",
    "budget_df = budget_df.dropna(subset=['budget', 'revenue'])\n"
   ]
  },
  {
   "cell_type": "markdown",
   "id": "d60778a5",
   "metadata": {},
   "source": [
    "Finalise the data cleaning .Assertaining the budget column has no Nan values"
   ]
  },
  {
   "cell_type": "code",
   "execution_count": 57,
   "id": "0a2cda7c",
   "metadata": {},
   "outputs": [],
   "source": [
    "# Force all to strings and lowercase\n",
    "budget_df['budget'] = budget_df['budget'].astype(str).str.lower()\n",
    "\n",
    "# Replace common bad values with NaN\n",
    "budget_df['budget'] = budget_df['budget'].replace(['n/a', 'na', '-', 'none', 'unknown', '—'], pd.NA)\n",
    "\n",
    "# Remove all non-numeric characters (except decimal point)\n",
    "budget_df['budget'] = budget_df['budget'].str.replace(r'[^\\d.]', '', regex=True)\n",
    "\n",
    "# Convert to numeric\n",
    "budget_df['budget'] = pd.to_numeric(budget_df['budget'], errors='coerce')\n",
    "\n",
    "\n"
   ]
  },
  {
   "cell_type": "markdown",
   "id": "f9b375c3",
   "metadata": {},
   "source": [
    " We will need to obtain High budget and the Low budget threshhold by computation of the median production.This will split by the median "
   ]
  },
  {
   "cell_type": "code",
   "execution_count": 58,
   "id": "b7074490",
   "metadata": {},
   "outputs": [
    {
     "name": "stdout",
     "output_type": "stream",
     "text": [
      "Median budget: 17000000.0\n"
     ]
    }
   ],
   "source": [
    "#COMPUTE THE MEDIAN PRODUCTION FOR THE BUDGET ANALYSIS\n",
    "# Find the median budget\n",
    "median_budget = budget_df['budget'].median()\n",
    "print(\"Median budget:\", median_budget)\n",
    "\n",
    "# Split into high and low budget groups\n",
    "low_budget_df = budget_df[budget_df['budget'] < median_budget]\n",
    "high_budget_df = budget_df[budget_df['budget'] >= median_budget]\n",
    "\n"
   ]
  },
  {
   "cell_type": "markdown",
   "id": "60003b2d",
   "metadata": {},
   "source": [
    " Median Production Budget Analysis\n",
    "The dataset was cleaned to extract valid numerical values for both budget and revenue. After removing any non-numeric characters and null entries, we computed the median production budget across all films.\n",
    "\n",
    "Median Budget: $17,000,000\n",
    "\n",
    "This median value serves as the threshold to divide the dataset into two groups for further statistical analysis:\n",
    "\n",
    "Low Budget Films: Films with budgets ≤ $17M\n",
    "\n",
    "High Budget Films: Films with budgets > $17M\n",
    "\n",
    "This grouping is essential for hypothesis testing to determine whether higher production budgets are associated with significantly higher box office revenues.\n",
    "We have assertained that the median value of 17,000,000 will be the threshhold of our statistical analysis.\n",
    "Let us now calculate the T-statistic and P-value"
   ]
  },
  {
   "cell_type": "code",
   "execution_count": 59,
   "id": "1da43e1a",
   "metadata": {},
   "outputs": [
    {
     "name": "stdout",
     "output_type": "stream",
     "text": [
      "T-Statistic: 32.12504153761319\n",
      "P-Value: 9.18893427925073e-197\n",
      "Reject H₀: High-budget films earn significantly more revenue.\n"
     ]
    }
   ],
   "source": [
    "from scipy.stats import ttest_ind\n",
    "\n",
    "# Extract revenue\n",
    "low_revenue = low_budget_df['revenue']\n",
    "high_revenue = high_budget_df['revenue']\n",
    "\n",
    "# Run Welch’s t-test\n",
    "t_stat, p_value = ttest_ind(high_revenue, low_revenue, equal_var=False)\n",
    "\n",
    "# Display results\n",
    "print(\"T-Statistic:\", t_stat)\n",
    "print(\"P-Value:\", p_value)\n",
    "\n",
    "# Interpretation\n",
    "if p_value <= 0.05:\n",
    "    print(\"Reject H₀: High-budget films earn significantly more revenue.\")\n",
    "else:\n",
    "    print(\"Fail to reject H₀: No significant revenue difference based on budget.\")\n"
   ]
  },
  {
   "cell_type": "markdown",
   "id": "58d7fce1",
   "metadata": {},
   "source": [
    "\n",
    "` The Hypothesis Test: Impact of Budget on Box Office Revenue\n",
    "To evaluate whether production budgets significantly affect box office performance, a two-sample t-test was conducted comparing revenues from:`\n",
    "\n",
    "High Budget Films with budgets greater than the 17,000,000 threshold (budget > $17M)\n",
    "\n",
    "Low Budget Films equal or lesser than the 17,000,000 threshold .(budget ≤ $17M)\n",
    "\n",
    " Hypotheses \n",
    "Null Hypothesis (H₀): Budget has no significant impact on box office revenue.\n",
    "\n",
    "Alternative Hypothesis (H₁): Higher budgets lead to significantly higher revenue.\n",
    "\n",
    " Test Details\n",
    "Test Used: Welch’s t-test (accounts for unequal variances)\n",
    "\n",
    "T-statistic: 32.13\n",
    "\n",
    "P-value: 9.19 × 10⁻¹⁹⁷\n",
    "\n",
    "`We thereby Reject the null hypothesis.`\n",
    "\n",
    "There is overwhelming statistical evidence that higher-budget films earn significantly more revenue than lower-budget films."
   ]
  },
  {
   "cell_type": "code",
   "execution_count": 60,
   "id": "3db63692",
   "metadata": {},
   "outputs": [
    {
     "name": "stdout",
     "output_type": "stream",
     "text": [
      "Confidence Interval for Low-Budget Movies: (21468885.009598993, 25226213.171140715)\n",
      "Confidence Interval for High-Budget Movies: (150432556.5062074, 166485429.27431387)\n"
     ]
    }
   ],
   "source": [
    "#COMPUTING THE CONFIDENCE INTERVALS\n",
    "# Ensure Revenue is numeric\n",
    "budget_df['revenue'] = pd.to_numeric(budget_df['revenue'], errors='coerce')\n",
    "budget_df = budget_df.dropna(subset=['revenue'])\n",
    "\n",
    "# Compute mean, standard deviation, and sample size for low-budget movies\n",
    "mean_low = np.mean(low_budget_df['revenue'])\n",
    "std_low = np.std(low_budget_df['revenue'], ddof=1)\n",
    "n_low = len(low_budget_df['revenue'])\n",
    "\n",
    "# Compute mean, standard deviation, and sample size for high-budget movies\n",
    "mean_high = np.mean(high_budget_df['revenue'])\n",
    "std_high = np.std(high_budget_df['revenue'], ddof=1)\n",
    "n_high = len(high_budget_df['revenue'])\n",
    "\n",
    "# Calculate confidence intervals for both groups\n",
    "if n_low > 0:\n",
    "    ci_low = (mean_low - 1.96 * std_low / np.sqrt(n_low), \n",
    "              mean_low + 1.96 * std_low / np.sqrt(n_low))\n",
    "    print(\"Confidence Interval for Low-Budget Movies:\", ci_low)\n",
    "else:\n",
    "    print(\"Not enough data for Low-Budget CI.\")\n",
    "\n",
    "if n_high > 0:\n",
    "    ci_high = (mean_high - 1.96 * std_high / np.sqrt(n_high), \n",
    "               mean_high + 1.96 * std_high / np.sqrt(n_high))\n",
    "    print(\"Confidence Interval for High-Budget Movies:\", ci_high)\n",
    "else:\n",
    "    print(\"Not enough data for High-Budget CI.\")"
   ]
  },
  {
   "cell_type": "markdown",
   "id": "81061fc9",
   "metadata": {},
   "source": []
  }
 ],
 "metadata": {
  "kernelspec": {
   "display_name": "learn-env",
   "language": "python",
   "name": "python3"
  },
  "language_info": {
   "codemirror_mode": {
    "name": "ipython",
    "version": 3
   },
   "file_extension": ".py",
   "mimetype": "text/x-python",
   "name": "python",
   "nbconvert_exporter": "python",
   "pygments_lexer": "ipython3",
   "version": "3.8.5"
  }
 },
 "nbformat": 4,
 "nbformat_minor": 5
}
