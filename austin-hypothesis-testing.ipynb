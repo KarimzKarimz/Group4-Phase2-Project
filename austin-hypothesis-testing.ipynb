{
 "cells": [
  {
   "cell_type": "markdown",
   "id": "d4f4e359",
   "metadata": {},
   "source": [
    "### HYPOTHESIS TESTING \n",
    "Step 1: Verifying Cleaned Data\n",
    "Make sure:\n",
    "- The dataset has no missing or duplicate values.\n",
    "- Numeric columns like Revenue and Budget are in the correct format (e.g., no text strings or special characters).\n",
    "- Categories like Genre are consistent (e.g., no typos like “Action” vs. “action”).\n",
    "\n",
    "Step 2: Define Your Groups\n",
    "Decide what two groups you’ll compare for the t-test. For example:\n",
    "- Genre comparison: Action vs. Drama.\n",
    "- Budget comparison: High-budget ($>$ $10M) vs. low-budget ($\\leq$ $10M).\n",
    "\n",
    "\n"
   ]
  },
  {
   "cell_type": "code",
   "execution_count": 1,
   "id": "f07b3bcc",
   "metadata": {},
   "outputs": [
    {
     "data": {
      "text/html": [
       "Path (<tt>cleaned_dataset.csv</tt>) doesn't exist. It may still be in the process of being generated, or you may have the incorrect path."
      ],
      "text/plain": [
       "c:\\Users\\hp\\Documents\\phase2\\Group4-Phase2-Project\\cleaned_dataset.csv"
      ]
     },
     "execution_count": 1,
     "metadata": {},
     "output_type": "execute_result"
    }
   ],
   "source": [
    "#extracting the cleaned datasets\n",
    "\n",
    "from IPython.display import FileLink  \n",
    "FileLink(\"cleaned_dataset.csv\") "
   ]
  }
 ],
 "metadata": {
  "kernelspec": {
   "display_name": "learn-env",
   "language": "python",
   "name": "python3"
  },
  "language_info": {
   "codemirror_mode": {
    "name": "ipython",
    "version": 3
   },
   "file_extension": ".py",
   "mimetype": "text/x-python",
   "name": "python",
   "nbconvert_exporter": "python",
   "pygments_lexer": "ipython3",
   "version": "3.8.5"
  }
 },
 "nbformat": 4,
 "nbformat_minor": 5
}
