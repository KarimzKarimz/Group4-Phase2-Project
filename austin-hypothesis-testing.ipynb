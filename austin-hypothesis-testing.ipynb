{
 "cells": [
  {
   "cell_type": "markdown",
   "id": "d4f4e359",
   "metadata": {},
   "source": [
    "### HYPOTHESIS TESTING \n",
    "Step 1: Verifying Cleaned Data\n",
    "Make sure:\n",
    "- The dataset has no missing or duplicate values.\n",
    "- Numeric columns like Revenue and Budget are in the correct format (e.g., no text strings or special characters).\n",
    "- Categories like Genre are consistent (e.g., no typos like “Action” vs. “action”).\n",
    "\n",
    "Step 2: Define Your Groups\n",
    "Decide what two groups you’ll compare for the t-test. For example:\n",
    "- Genre comparison: Action vs. Drama.\n",
    "- Budget comparison: High-budget ($>$ $10M) vs. low-budget ($\\leq$ $10M).\n",
    "\n",
    "\n"
   ]
  },
  {
   "cell_type": "markdown",
   "id": "f07b3bcc",
   "metadata": {},
   "source": []
  },
  {
   "cell_type": "markdown",
   "id": "cdff5eb4",
   "metadata": {},
   "source": []
  }
 ],
 "metadata": {
  "language_info": {
   "name": "python"
  }
 },
 "nbformat": 4,
 "nbformat_minor": 5
}
