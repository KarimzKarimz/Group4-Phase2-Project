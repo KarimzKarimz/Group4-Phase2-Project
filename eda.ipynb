{
 "cells": [
  {
   "cell_type": "code",
   "execution_count": 1,
   "id": "f159dc73",
   "metadata": {},
   "outputs": [],
   "source": [
    "# We are Importing neccessary libraries\n",
    "\n",
    "import zipfile\n",
    "from scipy import stats\n",
    "import sqlite3\n",
    "import pandas as pd\n",
    "import numpy as np\n",
    "import matplotlib.pyplot as plt\n",
    "import seaborn as sns"
   ]
  },
  {
   "cell_type": "code",
   "execution_count": 2,
   "id": "65a27af5",
   "metadata": {},
   "outputs": [],
   "source": [
    "conn = sqlite3.connect(\"zippedData/im.db\")"
   ]
  },
  {
   "cell_type": "code",
   "execution_count": 3,
   "id": "68933ec8",
   "metadata": {},
   "outputs": [
    {
     "data": {
      "text/html": [
       "<div>\n",
       "<style scoped>\n",
       "    .dataframe tbody tr th:only-of-type {\n",
       "        vertical-align: middle;\n",
       "    }\n",
       "\n",
       "    .dataframe tbody tr th {\n",
       "        vertical-align: top;\n",
       "    }\n",
       "\n",
       "    .dataframe thead th {\n",
       "        text-align: right;\n",
       "    }\n",
       "</style>\n",
       "<table border=\"1\" class=\"dataframe\">\n",
       "  <thead>\n",
       "    <tr style=\"text-align: right;\">\n",
       "      <th></th>\n",
       "      <th>movie_id</th>\n",
       "      <th>primary_title</th>\n",
       "      <th>original_title</th>\n",
       "      <th>start_year</th>\n",
       "      <th>runtime_minutes</th>\n",
       "      <th>genres</th>\n",
       "    </tr>\n",
       "  </thead>\n",
       "  <tbody>\n",
       "    <tr>\n",
       "      <th>0</th>\n",
       "      <td>tt0063540</td>\n",
       "      <td>Sunghursh</td>\n",
       "      <td>Sunghursh</td>\n",
       "      <td>2013</td>\n",
       "      <td>175.0</td>\n",
       "      <td>Action,Crime,Drama</td>\n",
       "    </tr>\n",
       "    <tr>\n",
       "      <th>1</th>\n",
       "      <td>tt0066787</td>\n",
       "      <td>One Day Before the Rainy Season</td>\n",
       "      <td>Ashad Ka Ek Din</td>\n",
       "      <td>2019</td>\n",
       "      <td>114.0</td>\n",
       "      <td>Biography,Drama</td>\n",
       "    </tr>\n",
       "    <tr>\n",
       "      <th>2</th>\n",
       "      <td>tt0069049</td>\n",
       "      <td>The Other Side of the Wind</td>\n",
       "      <td>The Other Side of the Wind</td>\n",
       "      <td>2018</td>\n",
       "      <td>122.0</td>\n",
       "      <td>Drama</td>\n",
       "    </tr>\n",
       "    <tr>\n",
       "      <th>3</th>\n",
       "      <td>tt0069204</td>\n",
       "      <td>Sabse Bada Sukh</td>\n",
       "      <td>Sabse Bada Sukh</td>\n",
       "      <td>2018</td>\n",
       "      <td>NaN</td>\n",
       "      <td>Comedy,Drama</td>\n",
       "    </tr>\n",
       "    <tr>\n",
       "      <th>4</th>\n",
       "      <td>tt0100275</td>\n",
       "      <td>The Wandering Soap Opera</td>\n",
       "      <td>La Telenovela Errante</td>\n",
       "      <td>2017</td>\n",
       "      <td>80.0</td>\n",
       "      <td>Comedy,Drama,Fantasy</td>\n",
       "    </tr>\n",
       "  </tbody>\n",
       "</table>\n",
       "</div>"
      ],
      "text/plain": [
       "    movie_id                    primary_title              original_title  \\\n",
       "0  tt0063540                        Sunghursh                   Sunghursh   \n",
       "1  tt0066787  One Day Before the Rainy Season             Ashad Ka Ek Din   \n",
       "2  tt0069049       The Other Side of the Wind  The Other Side of the Wind   \n",
       "3  tt0069204                  Sabse Bada Sukh             Sabse Bada Sukh   \n",
       "4  tt0100275         The Wandering Soap Opera       La Telenovela Errante   \n",
       "\n",
       "   start_year  runtime_minutes                genres  \n",
       "0        2013            175.0    Action,Crime,Drama  \n",
       "1        2019            114.0       Biography,Drama  \n",
       "2        2018            122.0                 Drama  \n",
       "3        2018              NaN          Comedy,Drama  \n",
       "4        2017             80.0  Comedy,Drama,Fantasy  "
      ]
     },
     "execution_count": 3,
     "metadata": {},
     "output_type": "execute_result"
    }
   ],
   "source": [
    "query = \"\"\"\n",
    "SELECT * \n",
    " FROM movie_basics;\n",
    "\"\"\"\n",
    "\n",
    "# output query using pandas\n",
    "\n",
    "movie_basics_df = pd.read_sql(query, conn)\n",
    "movie_basics_df.head()"
   ]
  },
  {
   "cell_type": "code",
   "execution_count": 4,
   "id": "e3112d5d",
   "metadata": {},
   "outputs": [
    {
     "data": {
      "text/html": [
       "<div>\n",
       "<style scoped>\n",
       "    .dataframe tbody tr th:only-of-type {\n",
       "        vertical-align: middle;\n",
       "    }\n",
       "\n",
       "    .dataframe tbody tr th {\n",
       "        vertical-align: top;\n",
       "    }\n",
       "\n",
       "    .dataframe thead th {\n",
       "        text-align: right;\n",
       "    }\n",
       "</style>\n",
       "<table border=\"1\" class=\"dataframe\">\n",
       "  <thead>\n",
       "    <tr style=\"text-align: right;\">\n",
       "      <th></th>\n",
       "      <th>movie_id</th>\n",
       "      <th>averagerating</th>\n",
       "      <th>numvotes</th>\n",
       "    </tr>\n",
       "  </thead>\n",
       "  <tbody>\n",
       "    <tr>\n",
       "      <th>0</th>\n",
       "      <td>tt10356526</td>\n",
       "      <td>8.3</td>\n",
       "      <td>31</td>\n",
       "    </tr>\n",
       "    <tr>\n",
       "      <th>1</th>\n",
       "      <td>tt10384606</td>\n",
       "      <td>8.9</td>\n",
       "      <td>559</td>\n",
       "    </tr>\n",
       "    <tr>\n",
       "      <th>2</th>\n",
       "      <td>tt1042974</td>\n",
       "      <td>6.4</td>\n",
       "      <td>20</td>\n",
       "    </tr>\n",
       "    <tr>\n",
       "      <th>3</th>\n",
       "      <td>tt1043726</td>\n",
       "      <td>4.2</td>\n",
       "      <td>50352</td>\n",
       "    </tr>\n",
       "    <tr>\n",
       "      <th>4</th>\n",
       "      <td>tt1060240</td>\n",
       "      <td>6.5</td>\n",
       "      <td>21</td>\n",
       "    </tr>\n",
       "  </tbody>\n",
       "</table>\n",
       "</div>"
      ],
      "text/plain": [
       "     movie_id  averagerating  numvotes\n",
       "0  tt10356526            8.3        31\n",
       "1  tt10384606            8.9       559\n",
       "2   tt1042974            6.4        20\n",
       "3   tt1043726            4.2     50352\n",
       "4   tt1060240            6.5        21"
      ]
     },
     "execution_count": 4,
     "metadata": {},
     "output_type": "execute_result"
    }
   ],
   "source": [
    "query = \"\"\"\n",
    "SELECT *\n",
    " FROM movie_ratings;\n",
    "\"\"\"\n",
    "\n",
    "movie_rating_df = pd.read_sql(query, conn)\n",
    "movie_rating_df.head()"
   ]
  },
  {
   "cell_type": "code",
   "execution_count": 10,
   "id": "63c00787",
   "metadata": {},
   "outputs": [
    {
     "data": {
      "text/html": [
       "<div>\n",
       "<style scoped>\n",
       "    .dataframe tbody tr th:only-of-type {\n",
       "        vertical-align: middle;\n",
       "    }\n",
       "\n",
       "    .dataframe tbody tr th {\n",
       "        vertical-align: top;\n",
       "    }\n",
       "\n",
       "    .dataframe thead th {\n",
       "        text-align: right;\n",
       "    }\n",
       "</style>\n",
       "<table border=\"1\" class=\"dataframe\">\n",
       "  <thead>\n",
       "    <tr style=\"text-align: right;\">\n",
       "      <th></th>\n",
       "      <th>movie_id</th>\n",
       "      <th>primary_title</th>\n",
       "      <th>original_title</th>\n",
       "      <th>start_year</th>\n",
       "      <th>runtime_minutes</th>\n",
       "      <th>genres</th>\n",
       "      <th>averagerating</th>\n",
       "      <th>numvotes</th>\n",
       "    </tr>\n",
       "  </thead>\n",
       "  <tbody>\n",
       "    <tr>\n",
       "      <th>0</th>\n",
       "      <td>tt0063540</td>\n",
       "      <td>Sunghursh</td>\n",
       "      <td>Sunghursh</td>\n",
       "      <td>2013</td>\n",
       "      <td>175.0</td>\n",
       "      <td>Action,Crime,Drama</td>\n",
       "      <td>7.0</td>\n",
       "      <td>77</td>\n",
       "    </tr>\n",
       "    <tr>\n",
       "      <th>1</th>\n",
       "      <td>tt0066787</td>\n",
       "      <td>One Day Before the Rainy Season</td>\n",
       "      <td>Ashad Ka Ek Din</td>\n",
       "      <td>2019</td>\n",
       "      <td>114.0</td>\n",
       "      <td>Biography,Drama</td>\n",
       "      <td>7.2</td>\n",
       "      <td>43</td>\n",
       "    </tr>\n",
       "    <tr>\n",
       "      <th>2</th>\n",
       "      <td>tt0069049</td>\n",
       "      <td>The Other Side of the Wind</td>\n",
       "      <td>The Other Side of the Wind</td>\n",
       "      <td>2018</td>\n",
       "      <td>122.0</td>\n",
       "      <td>Drama</td>\n",
       "      <td>6.9</td>\n",
       "      <td>4517</td>\n",
       "    </tr>\n",
       "    <tr>\n",
       "      <th>3</th>\n",
       "      <td>tt0069204</td>\n",
       "      <td>Sabse Bada Sukh</td>\n",
       "      <td>Sabse Bada Sukh</td>\n",
       "      <td>2018</td>\n",
       "      <td>NaN</td>\n",
       "      <td>Comedy,Drama</td>\n",
       "      <td>6.1</td>\n",
       "      <td>13</td>\n",
       "    </tr>\n",
       "    <tr>\n",
       "      <th>4</th>\n",
       "      <td>tt0100275</td>\n",
       "      <td>The Wandering Soap Opera</td>\n",
       "      <td>La Telenovela Errante</td>\n",
       "      <td>2017</td>\n",
       "      <td>80.0</td>\n",
       "      <td>Comedy,Drama,Fantasy</td>\n",
       "      <td>6.5</td>\n",
       "      <td>119</td>\n",
       "    </tr>\n",
       "  </tbody>\n",
       "</table>\n",
       "</div>"
      ],
      "text/plain": [
       "    movie_id                    primary_title              original_title  \\\n",
       "0  tt0063540                        Sunghursh                   Sunghursh   \n",
       "1  tt0066787  One Day Before the Rainy Season             Ashad Ka Ek Din   \n",
       "2  tt0069049       The Other Side of the Wind  The Other Side of the Wind   \n",
       "3  tt0069204                  Sabse Bada Sukh             Sabse Bada Sukh   \n",
       "4  tt0100275         The Wandering Soap Opera       La Telenovela Errante   \n",
       "\n",
       "   start_year  runtime_minutes                genres  averagerating  numvotes  \n",
       "0        2013            175.0    Action,Crime,Drama            7.0        77  \n",
       "1        2019            114.0       Biography,Drama            7.2        43  \n",
       "2        2018            122.0                 Drama            6.9      4517  \n",
       "3        2018              NaN          Comedy,Drama            6.1        13  \n",
       "4        2017             80.0  Comedy,Drama,Fantasy            6.5       119  "
      ]
     },
     "execution_count": 10,
     "metadata": {},
     "output_type": "execute_result"
    }
   ],
   "source": [
    "# merge movie_basics_df & movie_rating_df\n",
    "\n",
    "film_df = pd.merge(movie_basics_df, movie_rating_df, on='movie_id', how='inner')\n",
    "film_df.head()"
   ]
  },
  {
   "cell_type": "code",
   "execution_count": 13,
   "id": "3928b4dc",
   "metadata": {},
   "outputs": [
    {
     "data": {
      "text/html": [
       "<div>\n",
       "<style scoped>\n",
       "    .dataframe tbody tr th:only-of-type {\n",
       "        vertical-align: middle;\n",
       "    }\n",
       "\n",
       "    .dataframe tbody tr th {\n",
       "        vertical-align: top;\n",
       "    }\n",
       "\n",
       "    .dataframe thead th {\n",
       "        text-align: right;\n",
       "    }\n",
       "</style>\n",
       "<table border=\"1\" class=\"dataframe\">\n",
       "  <thead>\n",
       "    <tr style=\"text-align: right;\">\n",
       "      <th></th>\n",
       "      <th>title</th>\n",
       "      <th>studio</th>\n",
       "      <th>domestic_gross</th>\n",
       "      <th>foreign_gross</th>\n",
       "      <th>year</th>\n",
       "    </tr>\n",
       "  </thead>\n",
       "  <tbody>\n",
       "    <tr>\n",
       "      <th>0</th>\n",
       "      <td>Toy Story 3</td>\n",
       "      <td>BV</td>\n",
       "      <td>415000000.0</td>\n",
       "      <td>652000000</td>\n",
       "      <td>2010</td>\n",
       "    </tr>\n",
       "    <tr>\n",
       "      <th>1</th>\n",
       "      <td>Alice in Wonderland (2010)</td>\n",
       "      <td>BV</td>\n",
       "      <td>334200000.0</td>\n",
       "      <td>691300000</td>\n",
       "      <td>2010</td>\n",
       "    </tr>\n",
       "    <tr>\n",
       "      <th>2</th>\n",
       "      <td>Harry Potter and the Deathly Hallows Part 1</td>\n",
       "      <td>WB</td>\n",
       "      <td>296000000.0</td>\n",
       "      <td>664300000</td>\n",
       "      <td>2010</td>\n",
       "    </tr>\n",
       "    <tr>\n",
       "      <th>3</th>\n",
       "      <td>Inception</td>\n",
       "      <td>WB</td>\n",
       "      <td>292600000.0</td>\n",
       "      <td>535700000</td>\n",
       "      <td>2010</td>\n",
       "    </tr>\n",
       "    <tr>\n",
       "      <th>4</th>\n",
       "      <td>Shrek Forever After</td>\n",
       "      <td>P/DW</td>\n",
       "      <td>238700000.0</td>\n",
       "      <td>513900000</td>\n",
       "      <td>2010</td>\n",
       "    </tr>\n",
       "  </tbody>\n",
       "</table>\n",
       "</div>"
      ],
      "text/plain": [
       "                                         title studio  domestic_gross  \\\n",
       "0                                  Toy Story 3     BV     415000000.0   \n",
       "1                   Alice in Wonderland (2010)     BV     334200000.0   \n",
       "2  Harry Potter and the Deathly Hallows Part 1     WB     296000000.0   \n",
       "3                                    Inception     WB     292600000.0   \n",
       "4                          Shrek Forever After   P/DW     238700000.0   \n",
       "\n",
       "  foreign_gross  year  \n",
       "0     652000000  2010  \n",
       "1     691300000  2010  \n",
       "2     664300000  2010  \n",
       "3     535700000  2010  \n",
       "4     513900000  2010  "
      ]
     },
     "execution_count": 13,
     "metadata": {},
     "output_type": "execute_result"
    }
   ],
   "source": [
    "# load data from bom.movie_gross.csv.gz\n",
    "# box_office_df : shows how movies were earning\n",
    "\n",
    "box_office_df= pd.read_csv('zippedData/bom.movie_gross.csv.gz')\n",
    "box_office_df.head()"
   ]
  },
  {
   "cell_type": "code",
   "execution_count": 15,
   "id": "aa6399bc",
   "metadata": {},
   "outputs": [
    {
     "name": "stdout",
     "output_type": "stream",
     "text": [
      "Shape of box_office_df after dropping missing values in 'studio' or 'domestic_gross':\n",
      "(3356, 5)\n"
     ]
    }
   ],
   "source": [
    "# Drop rows where either 'studio' or 'domestic_gross' has missing values\n",
    "box_office_df.dropna(subset=[\"studio\", \"domestic_gross\"], inplace=True)\n",
    "\n",
    "# Check the shape of the DataFrame after dropping rows\n",
    "print(\"Shape of box_office_df after dropping missing values in 'studio' or 'domestic_gross':\")\n",
    "print(box_office_df.shape)\n"
   ]
  },
  {
   "cell_type": "code",
   "execution_count": 16,
   "id": "6945f0de",
   "metadata": {},
   "outputs": [
    {
     "name": "stdout",
     "output_type": "stream",
     "text": [
      "   foreign_gross\n",
      "0    652000000.0\n",
      "1    691300000.0\n",
      "2    664300000.0\n",
      "3    535700000.0\n",
      "4    513900000.0\n"
     ]
    }
   ],
   "source": [
    "# Remove commas from 'foreign_gross' and convert it to a float\n",
    "box_office_df[\"foreign_gross\"] = box_office_df[\"foreign_gross\"].replace(\",\", \"\", regex=True).astype(float)\n",
    "\n",
    "# Fill missing values with the median of the 'foreign_gross' column\n",
    "box_office_df[\"foreign_gross\"].fillna(box_office_df[\"foreign_gross\"].median(), inplace=True)\n",
    "\n",
    "# Display the first few rows to check the results\n",
    "print(box_office_df[['foreign_gross']].head())\n"
   ]
  },
  {
   "cell_type": "code",
   "execution_count": 17,
   "id": "14797608",
   "metadata": {},
   "outputs": [
    {
     "name": "stdout",
     "output_type": "stream",
     "text": [
      "Missing Values After Cleaning:\n",
      "movie_id           0\n",
      "primary_title      0\n",
      "original_title     0\n",
      "start_year         0\n",
      "runtime_minutes    0\n",
      "genres             0\n",
      "averagerating      0\n",
      "numvotes           0\n",
      "dtype: int64\n"
     ]
    }
   ],
   "source": [
    "# film Data Cleaning \n",
    "\n",
    "# Fill missing 'runtime_minutes' with the median value\n",
    "median_runtime = film_df['runtime_minutes'].median()\n",
    "film_df['runtime_minutes'].fillna(median_runtime, inplace=True)\n",
    "\n",
    "# Fill missing 'genres' with 'Unknown'\n",
    "film_df['genres'].fillna('Unknown', inplace=True)\n",
    "\n",
    "# Optional: If you want to fill missing 'original_title' with the 'primary_title' instead\n",
    "film_df['original_title'].fillna(movie_basics_df['primary_title'], inplace=True)\n",
    "\n",
    "# --- Checking after cleaning ---\n",
    "print(\"Missing Values After Cleaning:\")\n",
    "print(film_df.isnull().sum())\n"
   ]
  },
  {
   "cell_type": "code",
   "execution_count": 18,
   "id": "a230c5e5",
   "metadata": {},
   "outputs": [
    {
     "name": "stdout",
     "output_type": "stream",
     "text": [
      "Missing Values After Cleaning:\n",
      "movie_id           0\n",
      "primary_title      0\n",
      "original_title     0\n",
      "start_year         0\n",
      "runtime_minutes    0\n",
      "genres             0\n",
      "averagerating      0\n",
      "numvotes           0\n",
      "dtype: int64\n"
     ]
    }
   ],
   "source": [
    "median_runtime = film_df['runtime_minutes'].median()\n",
    "movie_basics_df['runtime_minutes'].fillna(median_runtime, inplace=True)\n",
    "\n",
    "# Fill missing 'genres' with 'Unknown'\n",
    "movie_basics_df['genres'].fillna('Unknown', inplace=True)\n",
    "\n",
    "# Optional: If you want to fill missing 'original_title' with the 'primary_title' instead\n",
    "movie_basics_df['original_title'].fillna(movie_basics_df['primary_title'], inplace=True)\n",
    "\n",
    "# --- Checking after cleaning ---\n",
    "print(\"Missing Values After Cleaning:\")\n",
    "print(film_df.isnull().sum())"
   ]
  },
  {
   "cell_type": "code",
   "execution_count": 19,
   "id": "ab34640d",
   "metadata": {},
   "outputs": [
    {
     "name": "stdout",
     "output_type": "stream",
     "text": [
      "Missing Values After Final Cleaning:\n",
      "movie_id           0\n",
      "primary_title      0\n",
      "original_title     0\n",
      "start_year         0\n",
      "runtime_minutes    0\n",
      "genres             0\n",
      "averagerating      0\n",
      "numvotes           0\n",
      "dtype: int64\n"
     ]
    }
   ],
   "source": [
    "# Drop any rows still missing 'runtime_minutes' or 'genres'\n",
    "film_df.dropna(subset=['runtime_minutes', 'genres'], inplace=True)\n",
    "\n",
    "# Final check\n",
    "print(\"Missing Values After Final Cleaning:\")\n",
    "print(film_df.isnull().sum())\n"
   ]
  },
  {
   "cell_type": "code",
   "execution_count": 20,
   "id": "e187fd8e",
   "metadata": {},
   "outputs": [
    {
     "name": "stdout",
     "output_type": "stream",
     "text": [
      "Standardized Column Names in film_df: ['movie_id', 'primary_title', 'original_title', 'start_year', 'runtime_minutes', 'genres', 'averagerating', 'numvotes']\n",
      "Standardized Column Names in box_office_df: ['title', 'studio', 'domestic_gross', 'foreign_gross', 'year']\n"
     ]
    }
   ],
   "source": [
    "# Standardize column names in film_df\n",
    "film_df.columns = film_df.columns.str.strip().str.lower().str.replace(' ', '_')\n",
    "\n",
    "# Standardize column names in box_office_df\n",
    "box_office_df.columns = box_office_df.columns.str.strip().str.lower().str.replace(' ', '_')\n",
    "\n",
    "# Display column names to confirm changes\n",
    "print(\"Standardized Column Names in film_df:\", film_df.columns.tolist())\n",
    "print(\"Standardized Column Names in box_office_df:\", box_office_df.columns.tolist())\n"
   ]
  },
  {
   "cell_type": "code",
   "execution_count": 21,
   "id": "e2f905cc",
   "metadata": {},
   "outputs": [
    {
     "name": "stdout",
     "output_type": "stream",
     "text": [
      "First few rows of film_df after cleaning:\n",
      "    movie_id                    primary_title              original_title  \\\n",
      "0  tt0063540                        sunghursh                   sunghursh   \n",
      "1  tt0066787  one day before the rainy season             ashad ka ek din   \n",
      "2  tt0069049       the other side of the wind  the other side of the wind   \n",
      "3  tt0069204                  sabse bada sukh             sabse bada sukh   \n",
      "4  tt0100275         the wandering soap opera       la telenovela errante   \n",
      "\n",
      "   start_year  runtime_minutes                genres  averagerating  numvotes  \n",
      "0        2013            175.0    action,crime,drama            7.0        77  \n",
      "1        2019            114.0       biography,drama            7.2        43  \n",
      "2        2018            122.0                 drama            6.9      4517  \n",
      "3        2018             91.0          comedy,drama            6.1        13  \n",
      "4        2017             80.0  comedy,drama,fantasy            6.5       119  \n",
      "First few rows of box_office_df after cleaning:\n",
      "                                         title studio  domestic_gross  \\\n",
      "0                                  toy story 3     bv     415000000.0   \n",
      "1                   alice in wonderland (2010)     bv     334200000.0   \n",
      "2  harry potter and the deathly hallows part 1     wb     296000000.0   \n",
      "3                                    inception     wb     292600000.0   \n",
      "4                          shrek forever after   p/dw     238700000.0   \n",
      "\n",
      "   foreign_gross  year  \n",
      "0    652000000.0  2010  \n",
      "1    691300000.0  2010  \n",
      "2    664300000.0  2010  \n",
      "3    535700000.0  2010  \n",
      "4    513900000.0  2010  \n"
     ]
    }
   ],
   "source": [
    "# Correct inconsistent categorical values in film_df\n",
    "for col in film_df.select_dtypes(include=['object']).columns:\n",
    "    film_df[col] = film_df[col].str.lower().str.strip()\n",
    "\n",
    "# Correct inconsistent categorical values in box_office_df\n",
    "for col in box_office_df.select_dtypes(include=['object']).columns:\n",
    "    box_office_df[col] = box_office_df[col].str.lower().str.strip()\n",
    "\n",
    "# Displaying the first few rows to check the changes\n",
    "print(\"First few rows of film_df after cleaning:\")\n",
    "print(film_df.head())\n",
    "\n",
    "print(\"First few rows of box_office_df after cleaning:\")\n",
    "print(box_office_df.head())\n"
   ]
  },
  {
   "cell_type": "code",
   "execution_count": 22,
   "id": "c05e5ac0",
   "metadata": {},
   "outputs": [
    {
     "name": "stdout",
     "output_type": "stream",
     "text": [
      "First few rows of box_office_df after fixing casing:\n",
      "  studio                                        title\n",
      "0     bv                                  toy story 3\n",
      "1     bv                   alice in wonderland (2010)\n",
      "2     wb  harry potter and the deathly hallows part 1\n",
      "3     wb                                    inception\n",
      "4   p/dw                          shrek forever after\n"
     ]
    }
   ],
   "source": [
    "# Correct inconsistent casing and strip spaces in 'studio' and 'title' columns\n",
    "box_office_df[\"studio\"] = box_office_df[\"studio\"].str.strip().str.lower()\n",
    "box_office_df[\"title\"] = box_office_df[\"title\"].str.strip().str.lower()\n",
    "\n",
    "# Displaying the first few rows to confirm the changes\n",
    "print(\"First few rows of box_office_df after fixing casing:\")\n",
    "print(box_office_df[['studio', 'title']].head())\n"
   ]
  },
  {
   "cell_type": "code",
   "execution_count": 23,
   "id": "05237da3",
   "metadata": {},
   "outputs": [
    {
     "data": {
      "text/plain": [
       "Series([], Name: title, dtype: int64)"
      ]
     },
     "execution_count": 23,
     "metadata": {},
     "output_type": "execute_result"
    }
   ],
   "source": [
    "# Differentiating the titles Bluebeard by adding the release year\n",
    "box_office_df[\"title\"] = box_office_df[\"title\"] + \" (\" + box_office_df[\"year\"].astype(str) + \")\"\n",
    "box_office_df[\"title\"].value_counts()[box_office_df[\"title\"].value_counts() > 1]"
   ]
  },
  {
   "cell_type": "code",
   "execution_count": 24,
   "id": "fea192b2",
   "metadata": {},
   "outputs": [
    {
     "name": "stdout",
     "output_type": "stream",
     "text": [
      "Missing Values in Box Office Data:\n",
      " title             0\n",
      "studio            0\n",
      "domestic_gross    0\n",
      "foreign_gross     0\n",
      "year              0\n",
      "dtype: int64\n",
      "\n",
      "Missing Values in Merged Movie Data (film_df):\n",
      " movie_id           0\n",
      "primary_title      0\n",
      "original_title     0\n",
      "start_year         0\n",
      "runtime_minutes    0\n",
      "genres             0\n",
      "averagerating      0\n",
      "numvotes           0\n",
      "dtype: int64\n",
      "\n",
      "Duplicate Rows in Box Office Data: 0\n",
      "\n",
      "Duplicate Rows in Merged Movie Data (film_df): 0\n",
      "\n",
      "Data Types in Box Office Data:\n",
      " title              object\n",
      "studio             object\n",
      "domestic_gross    float64\n",
      "foreign_gross     float64\n",
      "year                int64\n",
      "dtype: object\n",
      "\n",
      "Data Types in Merged Movie Data (film_df):\n",
      " movie_id            object\n",
      "primary_title       object\n",
      "original_title      object\n",
      "start_year           int64\n",
      "runtime_minutes    float64\n",
      "genres              object\n",
      "averagerating      float64\n",
      "numvotes             int64\n",
      "dtype: object\n"
     ]
    }
   ],
   "source": [
    "# Check missing values in box_office_df and film_df\n",
    "print(\"Missing Values in Box Office Data:\\n\", box_office_df.isnull().sum())\n",
    "print(\"\\nMissing Values in Merged Movie Data (film_df):\\n\", film_df.isnull().sum())\n",
    "\n",
    "# Check duplicate rows in box_office_df and film_df\n",
    "print(\"\\nDuplicate Rows in Box Office Data:\", box_office_df.duplicated().sum())\n",
    "print(\"\\nDuplicate Rows in Merged Movie Data (film_df):\", film_df.duplicated().sum())\n",
    "\n",
    "# Check data types in box_office_df and film_df\n",
    "print(\"\\nData Types in Box Office Data:\\n\", box_office_df.dtypes)\n",
    "print(\"\\nData Types in Merged Movie Data (film_df):\\n\", film_df.dtypes)\n"
   ]
  },
  {
   "cell_type": "code",
   "execution_count": 26,
   "id": "67be7ea2",
   "metadata": {},
   "outputs": [],
   "source": [
    "film_df.to_csv(\"cleaned_film_dataset.csv\", index=False)  # Save cleaned dataset for Tableau \n",
    "box_office_df.to_csv(\"cleaned_box_office_dataset.csv\", index=False)\n"
   ]
  }
 ],
 "metadata": {
  "kernelspec": {
   "display_name": "learn-env",
   "language": "python",
   "name": "python3"
  },
  "language_info": {
   "codemirror_mode": {
    "name": "ipython",
    "version": 3
   },
   "file_extension": ".py",
   "mimetype": "text/x-python",
   "name": "python",
   "nbconvert_exporter": "python",
   "pygments_lexer": "ipython3",
   "version": "3.8.5"
  }
 },
 "nbformat": 4,
 "nbformat_minor": 5
}
