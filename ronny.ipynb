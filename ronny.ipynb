{
 "cells": [
  {
   "cell_type": "markdown",
   "id": "d8d9355f",
   "metadata": {},
   "source": [
    "## 🎬  **Project Title** : \n",
    "\n",
    "**Box Office Gold**: **Data-Driven Insights for a Profitable Movie Studio Launch**\n",
    "\n",
    "### **Business Understanding**\n",
    "\n",
    "#### 👥 Stakeholder\n",
    "The primary stakeholder is the executive team of the company's new movie studio. They need insights into the film industry to make confident decisions on what type of movies to produce.\n",
    "\n",
    "🌍 **Domain**:\n",
    "\n",
    "**Entertainment & Media Analytics (specifically, Film Industry/Box Office Performance)**\n",
    "\n",
    "📘 **Introduction**:\n",
    "\n",
    "With the growing trend of major companies venturing into original film production, my organization is planning to launch its own movie studio. However, without prior experience in the film industry, there’s uncertainty about what types of movies resonate with audiences and drive box office success. This project aims to analyze trends in box office data to uncover what genres, budgets, and other film attributes contribute most to commercial success — providing strategic guidance for profitable content creation.\n",
    "\n",
    "#### 🎯 **Business Objectives** :\n",
    "\n",
    "1. **To Identify High-Performing Film Genres**:\n",
    "\n",
    "* Analyze box office data to determine which movie genres consistently generate the highest revenue and audience engagement.\n",
    "\n",
    "2. **To Examine the Relationship Between Budget and Profitability**:\n",
    "\n",
    "* Investigate how production budgets influence box office success and identify the budget range that maximizes return on investment (ROI).\n",
    "\n",
    "3. **To Assess the Impact of Key Film Attributes**:\n",
    "\n",
    "* Explore how factors such as runtime, cast, release date (season), and film ratings (e.g., PG-13, R) affect a movie’s performance.\n",
    "\n",
    "4. **To Benchmark Against Top Studios** :\n",
    "\n",
    "* Analyze which production studios are leading in terms of commercial success and identify patterns in their film portfolios.\n",
    "\n",
    "5. **To Provide Actionable Recommendations**:\n",
    "\n",
    "Based on the insights, suggest the optimal type of film (genre, budget, release timing, etc.) that the company should produce for a successful studio launch.\n",
    "\n",
    "#### 📊 **Project Plan**: **Box Office Gold – Data-Driven Insights for a Profitable Movie Studio Launch**\n",
    "\n",
    "🔍 **1. Problem Understanding & Goal Definition**\n",
    "\n",
    "* Review business problem: Identify film types that succeed at the box office.\n",
    "\n",
    "* Define clear goals: Provide recommendations on genre, budget, and release strategy.\n",
    "\n",
    "\n",
    "📦 **2. Data Collection**\n",
    "\n",
    "**Source Box Office Datasets from platforms like**:\n",
    "\n",
    "* Im.db.zip(movie_basics & Movie_ratings)\n",
    "\n",
    "* bom.movie_gross.gz\n",
    "\n",
    "**Collect relevant data fields**:\n",
    "\n",
    "Genre, budget, revenue, runtime, release date, production company, director, cast, rating, etc.\n",
    "\n",
    "\n",
    "🧹 **3. Data Cleaning & Preprocessing**\n",
    "\n",
    "* Handle missing values and inconsistencies.\n",
    "* Standardize formats (dates, currencies, genres).\n",
    "* Convert categorical variables where necessary.\n",
    "* Remove duplicates or irrelevant records (e.g., short films, non-theatrical releases).\n",
    "\n",
    "📊 **4. Exploratory Data Analysis (EDA)**\n",
    "\n",
    "* Univariate & Bivariate Analysis (e.g., budget vs revenue, genre vs revenue).\n",
    "* Correlation heatmaps, box plots, histograms.\n",
    "* Identify outliers and common patterns in successful films.\n",
    "* Segment data by genre, production studio, or release year.\n",
    "\n",
    "🧠 **5. Insights & Recommendations**\n",
    "\n",
    "* Summarize which genres are top performers.\n",
    "* Recommend ideal budget ranges.\n",
    "* Identify optimal release months/seasons.\n",
    "* Suggest attributes linked to successful movies (e.g., popular runtimes, ratings).\n",
    "\n",
    "📑 **6. Reporting & Visualization**\n",
    "\n",
    "* Build clear and compelling visualizations (using Tableau, Power BI, or Python’s Seaborn/Matplotlib).\n",
    "* Draft a business-focused report or slide deck.\n",
    "\n",
    "**Include:**\n",
    "\n",
    "* Key findings\n",
    "* Strategic suggestions\n",
    "* Visual evidence\n",
    "\n",
    "📢 **7. Presentation to Stakeholders**\n",
    "\n",
    "* Communicate insights in non-technical language.\n",
    "* Show data-driven rationale for proposed movie types.\n",
    "* Allow room for stakeholder feedback and Q&A.\n",
    "\n",
    "\n",
    "\n",
    "\n",
    "\n",
    "\n",
    "\n"
   ]
  },
  {
   "cell_type": "markdown",
   "id": "a1a9f5f6",
   "metadata": {},
   "source": [
    "### **Overview/Background**\n",
    "\n",
    "As the entertainment industry shifts toward original content production, many large companies are investing in their own movie studios to capture audience attention and drive revenue. The company seeks to follow this trend but lacks experience in film production. To ensure a successful studio launch, this project aims to analyze historical box office data to uncover key trends in genre performance, budget impact, and other critical success factors. The goal is to provide data-driven insights that will guide strategic decisions on what types of films to produce for maximum box office success.\n",
    "\n",
    "\n",
    "### **Challenges**\n",
    "\n",
    "One of the main challenges in this project is acquiring comprehensive and reliable box office data that includes essential attributes such as genre, budget, revenue, and release details. Additionally, the film industry is influenced by unpredictable factors like audience trends, star power, and marketing, which are difficult to quantify. Ensuring data quality, handling missing or inconsistent entries, and drawing actionable insights that align with business goals also present key hurdles in the analysis process.\n",
    "\n",
    "\n",
    "### **Proposed Solution**\n",
    "\n",
    "To address the business challenge, this project proposes a data-driven approach that involves collecting and analyzing historical box office data to identify patterns in successful films. By examining factors such as genre, budget, revenue, release timing, and other key attributes, the project will uncover trends that correlate with box office success. The insights will then be translated into practical recommendations to guide the company in producing films with higher chances of commercial success.\n",
    "\n",
    "### **Conclusion**:\n",
    "\n",
    "Launching a successful movie studio requires more than creativity—it demands strategic, data-informed decisions. This project leverages box office analytics to uncover what drives film profitability, helping the company make confident choices about genre, budget, and release strategy. With clear insights and recommendations, the company will be well-positioned to enter the competitive film industry with a strong foundation for success.\n",
    "\n",
    "### ❗ **Problem Statement**\n",
    "\n",
    "As the company plans to venture into original film production, it faces significant uncertainty due to a lack of industry experience. 🎬 Making informed decisions about what types of films to produce is challenging without a clear understanding of market trends and performance drivers. Additionally, obtaining accurate and complete box office data is difficult, and the film industry itself is influenced by various unpredictable factors such as changing audience preferences, marketing impact, and star power. These challenges make it hard to identify what contributes to a movie’s commercial success and pose a risk to the company’s new venture.\n",
    "\n",
    "\n",
    "🎯 **Objectives**\n",
    "\n",
    "- **To analyze historical movie data to identify patterns and trends** related to box office performance.\n",
    "\n",
    "- **To identify the highest-grossing films and the characteristics that contributed to their success**.\n",
    "\n",
    "- To determine key factors **such as genre, budget, cast, and runtime** that significantly influence box office revenue.\n",
    "\n",
    "- To Present insights visually through an interactive dashboard and a clear, non-technical presentation tailored for business stakeholders.\n",
    "\n",
    "- **To Provide actionable recommendations** to guide the company's new movie studio in selecting and producing high-potential films."
   ]
  },
  {
   "cell_type": "markdown",
   "id": "3823743b",
   "metadata": {},
   "source": [
    "## 📊 **Data Understanding**\n",
    "\n",
    "The data for this project comes from multiple sources:\n",
    "\n",
    "1. **im.db.zip**:\n",
    "\n",
    "**A zipped SQLite database that contains various tables. The two most relevant tables are**:\n",
    "\n",
    "* **movie_basics**: Likely includes key information about movies such as titles, genres, release dates, runtime, etc.\n",
    "* **movie_ratings**: Contains viewer and critic ratings, providing insight into movie reception.\n",
    "\n",
    "2. **bom.movie_gross.csv.gz**:\n",
    "\n",
    "* A compressed CSV file containing box office gross data. This file is essential for analyzing revenue trends and overall financial performance.\n",
    "* These sources combined offer a comprehensive view of film attributes and performance metrics, which are crucial for understanding the factors behind movie success.\n",
    "\n"
   ]
  },
  {
   "cell_type": "markdown",
   "id": "bded0421",
   "metadata": {},
   "source": [
    "In cell below I **import Libraries** to use to achieve the project goals"
   ]
  },
  {
   "cell_type": "code",
   "execution_count": 1,
   "id": "0bf569e9",
   "metadata": {},
   "outputs": [],
   "source": [
    "import sqlite3\n",
    "import pandas as pd\n",
    "import numpy as np\n",
    "import matplotlib.pyplot as plt\n",
    "import seaborn as sns\n"
   ]
  },
  {
   "cell_type": "markdown",
   "id": "a2b3640d",
   "metadata": {},
   "source": [
    "In cell below I load and organize data for analysis from `im.db.zip` and `bom.movie_gross.csv.gz` using variable **film_df**. The data is contained in different sources. For the `im.db (after extracting)` I will all tables which I am focusing with in this project `movie_basics` `directors`, `known_for`, `movie_akas`,`movie_ratings`, `persons`, `principals` and\n",
    " `writers`. And for the `bom.movie_gross.csv.gz (compressed file)`"
   ]
  },
  {
   "cell_type": "code",
   "execution_count": 6,
   "id": "02f35e44",
   "metadata": {},
   "outputs": [
    {
     "data": {
      "text/plain": [
       "[('movie_basics',),\n",
       " ('directors',),\n",
       " ('known_for',),\n",
       " ('movie_akas',),\n",
       " ('movie_ratings',),\n",
       " ('persons',),\n",
       " ('principals',),\n",
       " ('writers',)]"
      ]
     },
     "execution_count": 6,
     "metadata": {},
     "output_type": "execute_result"
    }
   ],
   "source": [
    "# create connection to im.db\n",
    "\n",
    "conn = sqlite3.connect('zippedData/im.db/im.db')\n",
    "\n",
    "# initialize cursor object \n",
    "cur = conn.cursor()\n",
    "\n",
    "#output all tables on im.db\n",
    "cur.execute(\"SELECT name from sqlite_master\").fetchall()"
   ]
  },
  {
   "cell_type": "code",
   "execution_count": 8,
   "id": "0bbbac21",
   "metadata": {},
   "outputs": [
    {
     "data": {
      "application/vnd.microsoft.datawrangler.viewer.v0+json": {
       "columns": [
        {
         "name": "index",
         "rawType": "int64",
         "type": "integer"
        },
        {
         "name": "movie_id",
         "rawType": "object",
         "type": "string"
        },
        {
         "name": "ordering",
         "rawType": "int64",
         "type": "integer"
        },
        {
         "name": "person_id",
         "rawType": "object",
         "type": "string"
        },
        {
         "name": "category",
         "rawType": "object",
         "type": "string"
        },
        {
         "name": "job",
         "rawType": "object",
         "type": "unknown"
        },
        {
         "name": "characters",
         "rawType": "object",
         "type": "unknown"
        },
        {
         "name": "ordering",
         "rawType": "int64",
         "type": "integer"
        },
        {
         "name": "title",
         "rawType": "object",
         "type": "string"
        },
        {
         "name": "region",
         "rawType": "object",
         "type": "unknown"
        },
        {
         "name": "language",
         "rawType": "object",
         "type": "unknown"
        },
        {
         "name": "types",
         "rawType": "object",
         "type": "unknown"
        },
        {
         "name": "attributes",
         "rawType": "object",
         "type": "unknown"
        },
        {
         "name": "is_original_title",
         "rawType": "float64",
         "type": "float"
        },
        {
         "name": "primary_title",
         "rawType": "object",
         "type": "string"
        },
        {
         "name": "original_title",
         "rawType": "object",
         "type": "string"
        },
        {
         "name": "start_year",
         "rawType": "int64",
         "type": "integer"
        },
        {
         "name": "runtime_minutes",
         "rawType": "float64",
         "type": "float"
        },
        {
         "name": "genres",
         "rawType": "object",
         "type": "string"
        },
        {
         "name": "averagerating",
         "rawType": "float64",
         "type": "float"
        },
        {
         "name": "numvotes",
         "rawType": "int64",
         "type": "integer"
        },
        {
         "name": "primary_name",
         "rawType": "object",
         "type": "string"
        },
        {
         "name": "birth_year",
         "rawType": "float64",
         "type": "float"
        },
        {
         "name": "death_year",
         "rawType": "float64",
         "type": "float"
        },
        {
         "name": "primary_profession",
         "rawType": "object",
         "type": "string"
        }
       ],
       "conversionMethod": "pd.DataFrame",
       "ref": "9663238d-8512-4b4c-bc6a-c07c4eb784c0",
       "rows": [
        [
         "0",
         "tt0323808",
         "10",
         "nm0059247",
         "editor",
         null,
         null,
         "1",
         "May Day",
         "GB",
         null,
         "working",
         null,
         "0.0",
         "The Wicker Tree",
         "The Wicker Tree",
         "2011",
         "96.0",
         "Drama,Horror",
         "3.9",
         "2328",
         "Sean Barton",
         "1944.0",
         null,
         "editor,editorial_department,assistant_director"
        ],
        [
         "1",
         "tt0323808",
         "10",
         "nm0059247",
         "editor",
         null,
         null,
         "2",
         "Cowboys for Christ",
         "GB",
         null,
         "working",
         null,
         "0.0",
         "The Wicker Tree",
         "The Wicker Tree",
         "2011",
         "96.0",
         "Drama,Horror",
         "3.9",
         "2328",
         "Sean Barton",
         "1944.0",
         null,
         "editor,editorial_department,assistant_director"
        ],
        [
         "2",
         "tt0323808",
         "10",
         "nm0059247",
         "editor",
         null,
         null,
         "3",
         "The Wicker Tree",
         "GB",
         null,
         null,
         null,
         "0.0",
         "The Wicker Tree",
         "The Wicker Tree",
         "2011",
         "96.0",
         "Drama,Horror",
         "3.9",
         "2328",
         "Sean Barton",
         "1944.0",
         null,
         "editor,editorial_department,assistant_director"
        ],
        [
         "3",
         "tt0323808",
         "10",
         "nm0059247",
         "editor",
         null,
         null,
         "4",
         "The Wicker Tree",
         null,
         null,
         "original",
         null,
         "1.0",
         "The Wicker Tree",
         "The Wicker Tree",
         "2011",
         "96.0",
         "Drama,Horror",
         "3.9",
         "2328",
         "Sean Barton",
         "1944.0",
         null,
         "editor,editorial_department,assistant_director"
        ],
        [
         "4",
         "tt0323808",
         "10",
         "nm0059247",
         "editor",
         null,
         null,
         "5",
         "Плетеное дерево",
         "RU",
         null,
         null,
         null,
         "0.0",
         "The Wicker Tree",
         "The Wicker Tree",
         "2011",
         "96.0",
         "Drama,Horror",
         "3.9",
         "2328",
         "Sean Barton",
         "1944.0",
         null,
         "editor,editorial_department,assistant_director"
        ]
       ],
       "shape": {
        "columns": 24,
        "rows": 5
       }
      },
      "text/html": [
       "<div>\n",
       "<style scoped>\n",
       "    .dataframe tbody tr th:only-of-type {\n",
       "        vertical-align: middle;\n",
       "    }\n",
       "\n",
       "    .dataframe tbody tr th {\n",
       "        vertical-align: top;\n",
       "    }\n",
       "\n",
       "    .dataframe thead th {\n",
       "        text-align: right;\n",
       "    }\n",
       "</style>\n",
       "<table border=\"1\" class=\"dataframe\">\n",
       "  <thead>\n",
       "    <tr style=\"text-align: right;\">\n",
       "      <th></th>\n",
       "      <th>movie_id</th>\n",
       "      <th>ordering</th>\n",
       "      <th>person_id</th>\n",
       "      <th>category</th>\n",
       "      <th>job</th>\n",
       "      <th>characters</th>\n",
       "      <th>ordering</th>\n",
       "      <th>title</th>\n",
       "      <th>region</th>\n",
       "      <th>language</th>\n",
       "      <th>...</th>\n",
       "      <th>original_title</th>\n",
       "      <th>start_year</th>\n",
       "      <th>runtime_minutes</th>\n",
       "      <th>genres</th>\n",
       "      <th>averagerating</th>\n",
       "      <th>numvotes</th>\n",
       "      <th>primary_name</th>\n",
       "      <th>birth_year</th>\n",
       "      <th>death_year</th>\n",
       "      <th>primary_profession</th>\n",
       "    </tr>\n",
       "  </thead>\n",
       "  <tbody>\n",
       "    <tr>\n",
       "      <th>0</th>\n",
       "      <td>tt0323808</td>\n",
       "      <td>10</td>\n",
       "      <td>nm0059247</td>\n",
       "      <td>editor</td>\n",
       "      <td>None</td>\n",
       "      <td>None</td>\n",
       "      <td>1</td>\n",
       "      <td>May Day</td>\n",
       "      <td>GB</td>\n",
       "      <td>None</td>\n",
       "      <td>...</td>\n",
       "      <td>The Wicker Tree</td>\n",
       "      <td>2011</td>\n",
       "      <td>96.0</td>\n",
       "      <td>Drama,Horror</td>\n",
       "      <td>3.9</td>\n",
       "      <td>2328</td>\n",
       "      <td>Sean Barton</td>\n",
       "      <td>1944.0</td>\n",
       "      <td>NaN</td>\n",
       "      <td>editor,editorial_department,assistant_director</td>\n",
       "    </tr>\n",
       "    <tr>\n",
       "      <th>1</th>\n",
       "      <td>tt0323808</td>\n",
       "      <td>10</td>\n",
       "      <td>nm0059247</td>\n",
       "      <td>editor</td>\n",
       "      <td>None</td>\n",
       "      <td>None</td>\n",
       "      <td>2</td>\n",
       "      <td>Cowboys for Christ</td>\n",
       "      <td>GB</td>\n",
       "      <td>None</td>\n",
       "      <td>...</td>\n",
       "      <td>The Wicker Tree</td>\n",
       "      <td>2011</td>\n",
       "      <td>96.0</td>\n",
       "      <td>Drama,Horror</td>\n",
       "      <td>3.9</td>\n",
       "      <td>2328</td>\n",
       "      <td>Sean Barton</td>\n",
       "      <td>1944.0</td>\n",
       "      <td>NaN</td>\n",
       "      <td>editor,editorial_department,assistant_director</td>\n",
       "    </tr>\n",
       "    <tr>\n",
       "      <th>2</th>\n",
       "      <td>tt0323808</td>\n",
       "      <td>10</td>\n",
       "      <td>nm0059247</td>\n",
       "      <td>editor</td>\n",
       "      <td>None</td>\n",
       "      <td>None</td>\n",
       "      <td>3</td>\n",
       "      <td>The Wicker Tree</td>\n",
       "      <td>GB</td>\n",
       "      <td>None</td>\n",
       "      <td>...</td>\n",
       "      <td>The Wicker Tree</td>\n",
       "      <td>2011</td>\n",
       "      <td>96.0</td>\n",
       "      <td>Drama,Horror</td>\n",
       "      <td>3.9</td>\n",
       "      <td>2328</td>\n",
       "      <td>Sean Barton</td>\n",
       "      <td>1944.0</td>\n",
       "      <td>NaN</td>\n",
       "      <td>editor,editorial_department,assistant_director</td>\n",
       "    </tr>\n",
       "    <tr>\n",
       "      <th>3</th>\n",
       "      <td>tt0323808</td>\n",
       "      <td>10</td>\n",
       "      <td>nm0059247</td>\n",
       "      <td>editor</td>\n",
       "      <td>None</td>\n",
       "      <td>None</td>\n",
       "      <td>4</td>\n",
       "      <td>The Wicker Tree</td>\n",
       "      <td>None</td>\n",
       "      <td>None</td>\n",
       "      <td>...</td>\n",
       "      <td>The Wicker Tree</td>\n",
       "      <td>2011</td>\n",
       "      <td>96.0</td>\n",
       "      <td>Drama,Horror</td>\n",
       "      <td>3.9</td>\n",
       "      <td>2328</td>\n",
       "      <td>Sean Barton</td>\n",
       "      <td>1944.0</td>\n",
       "      <td>NaN</td>\n",
       "      <td>editor,editorial_department,assistant_director</td>\n",
       "    </tr>\n",
       "    <tr>\n",
       "      <th>4</th>\n",
       "      <td>tt0323808</td>\n",
       "      <td>10</td>\n",
       "      <td>nm0059247</td>\n",
       "      <td>editor</td>\n",
       "      <td>None</td>\n",
       "      <td>None</td>\n",
       "      <td>5</td>\n",
       "      <td>Плетеное дерево</td>\n",
       "      <td>RU</td>\n",
       "      <td>None</td>\n",
       "      <td>...</td>\n",
       "      <td>The Wicker Tree</td>\n",
       "      <td>2011</td>\n",
       "      <td>96.0</td>\n",
       "      <td>Drama,Horror</td>\n",
       "      <td>3.9</td>\n",
       "      <td>2328</td>\n",
       "      <td>Sean Barton</td>\n",
       "      <td>1944.0</td>\n",
       "      <td>NaN</td>\n",
       "      <td>editor,editorial_department,assistant_director</td>\n",
       "    </tr>\n",
       "  </tbody>\n",
       "</table>\n",
       "<p>5 rows × 24 columns</p>\n",
       "</div>"
      ],
      "text/plain": [
       "    movie_id  ordering  person_id category   job characters  ordering  \\\n",
       "0  tt0323808        10  nm0059247   editor  None       None         1   \n",
       "1  tt0323808        10  nm0059247   editor  None       None         2   \n",
       "2  tt0323808        10  nm0059247   editor  None       None         3   \n",
       "3  tt0323808        10  nm0059247   editor  None       None         4   \n",
       "4  tt0323808        10  nm0059247   editor  None       None         5   \n",
       "\n",
       "                title region language  ...   original_title start_year  \\\n",
       "0             May Day     GB     None  ...  The Wicker Tree       2011   \n",
       "1  Cowboys for Christ     GB     None  ...  The Wicker Tree       2011   \n",
       "2     The Wicker Tree     GB     None  ...  The Wicker Tree       2011   \n",
       "3     The Wicker Tree   None     None  ...  The Wicker Tree       2011   \n",
       "4     Плетеное дерево     RU     None  ...  The Wicker Tree       2011   \n",
       "\n",
       "   runtime_minutes        genres averagerating  numvotes  primary_name  \\\n",
       "0             96.0  Drama,Horror           3.9      2328   Sean Barton   \n",
       "1             96.0  Drama,Horror           3.9      2328   Sean Barton   \n",
       "2             96.0  Drama,Horror           3.9      2328   Sean Barton   \n",
       "3             96.0  Drama,Horror           3.9      2328   Sean Barton   \n",
       "4             96.0  Drama,Horror           3.9      2328   Sean Barton   \n",
       "\n",
       "  birth_year  death_year                              primary_profession  \n",
       "0     1944.0         NaN  editor,editorial_department,assistant_director  \n",
       "1     1944.0         NaN  editor,editorial_department,assistant_director  \n",
       "2     1944.0         NaN  editor,editorial_department,assistant_director  \n",
       "3     1944.0         NaN  editor,editorial_department,assistant_director  \n",
       "4     1944.0         NaN  editor,editorial_department,assistant_director  \n",
       "\n",
       "[5 rows x 24 columns]"
      ]
     },
     "execution_count": 8,
     "metadata": {},
     "output_type": "execute_result"
    }
   ],
   "source": [
    "\n",
    "\n",
    "query =\"\"\"SELECT *\n",
    "                from principals\n",
    "                JOIN movie_akas USING (movie_id)\n",
    "                JOIN movie_basics USING (movie_id)\n",
    "                JOIN movie_ratings USING (movie_id)\n",
    "                JOIN persons USING (person_id);\n",
    "\"\"\"\n",
    "\n",
    "# output query using pandas\n",
    "\n",
    "film_df = pd.read_sql(query, conn)\n",
    "film_df.head()"
   ]
  },
  {
   "cell_type": "markdown",
   "id": "ebf7d6b1",
   "metadata": {},
   "source": [
    "In cell I check the shape of `film_df`"
   ]
  },
  {
   "cell_type": "code",
   "execution_count": 9,
   "id": "84989db0",
   "metadata": {},
   "outputs": [
    {
     "data": {
      "text/plain": [
       "(2422866, 24)"
      ]
     },
     "execution_count": 9,
     "metadata": {},
     "output_type": "execute_result"
    }
   ],
   "source": [
    "# check for shape\n",
    "\n",
    "film_df.shape"
   ]
  },
  {
   "cell_type": "markdown",
   "id": "100aa669",
   "metadata": {},
   "source": [
    "The cell above shows that `film_df` contains **2422866** entries(rows) and **24** attributes.\n",
    "\n"
   ]
  },
  {
   "cell_type": "code",
   "execution_count": null,
   "id": "84731a14",
   "metadata": {},
   "outputs": [
    {
     "name": "stdout",
     "output_type": "stream",
     "text": [
      "<class 'pandas.core.frame.DataFrame'>\n",
      "RangeIndex: 2422866 entries, 0 to 2422865\n",
      "Data columns (total 24 columns):\n",
      " #   Column              Dtype  \n",
      "---  ------              -----  \n",
      " 0   movie_id            object \n",
      " 1   ordering            int64  \n",
      " 2   person_id           object \n",
      " 3   category            object \n",
      " 4   job                 object \n",
      " 5   characters          object \n",
      " 6   ordering            int64  \n",
      " 7   title               object \n",
      " 8   region              object \n",
      " 9   language            object \n",
      " 10  types               object \n",
      " 11  attributes          object \n",
      " 12  is_original_title   float64\n",
      " 13  primary_title       object \n",
      " 14  original_title      object \n",
      " 15  start_year          int64  \n",
      " 16  runtime_minutes     float64\n",
      " 17  genres              object \n",
      " 18  averagerating       float64\n",
      " 19  numvotes            int64  \n",
      " 20  primary_name        object \n",
      " 21  birth_year          float64\n",
      " 22  death_year          float64\n",
      " 23  primary_profession  object \n",
      "dtypes: float64(5), int64(4), object(15)\n",
      "memory usage: 443.6+ MB\n"
     ]
    }
   ],
   "source": [
    "# meta data summary\n",
    "\n",
    "film_df.info()"
   ]
  },
  {
   "cell_type": "code",
   "execution_count": 17,
   "id": "fdf42af2",
   "metadata": {},
   "outputs": [
    {
     "data": {
      "text/plain": [
       "movie_id                    0\n",
       "ordering                    0\n",
       "person_id                   0\n",
       "category                    0\n",
       "job                   1757131\n",
       "characters            1468512\n",
       "ordering                    0\n",
       "title                       0\n",
       "region                 393739\n",
       "language              2073586\n",
       "types                  974092\n",
       "attributes            2301142\n",
       "is_original_title           0\n",
       "primary_title               0\n",
       "original_title              0\n",
       "start_year                  0\n",
       "runtime_minutes         95004\n",
       "genres                   9057\n",
       "averagerating               0\n",
       "numvotes                    0\n",
       "primary_name                0\n",
       "birth_year            1367955\n",
       "death_year            2380448\n",
       "primary_profession      52454\n",
       "dtype: int64"
      ]
     },
     "execution_count": 17,
     "metadata": {},
     "output_type": "execute_result"
    }
   ],
   "source": [
    "film_df.isna().sum()"
   ]
  },
  {
   "cell_type": "markdown",
   "id": "9241fed4",
   "metadata": {},
   "source": [
    "\n",
    "\n",
    "In cell below I load data from `bom.movie_gross.csv.gz` as I need it for the analysis."
   ]
  },
  {
   "cell_type": "code",
   "execution_count": 12,
   "id": "7222a64e",
   "metadata": {},
   "outputs": [
    {
     "data": {
      "application/vnd.microsoft.datawrangler.viewer.v0+json": {
       "columns": [
        {
         "name": "index",
         "rawType": "int64",
         "type": "integer"
        },
        {
         "name": "title",
         "rawType": "object",
         "type": "string"
        },
        {
         "name": "studio",
         "rawType": "object",
         "type": "string"
        },
        {
         "name": "domestic_gross",
         "rawType": "float64",
         "type": "float"
        },
        {
         "name": "foreign_gross",
         "rawType": "object",
         "type": "string"
        },
        {
         "name": "year",
         "rawType": "int64",
         "type": "integer"
        }
       ],
       "conversionMethod": "pd.DataFrame",
       "ref": "08d3da65-6d09-4157-97e9-fee2317f979d",
       "rows": [
        [
         "0",
         "Toy Story 3",
         "BV",
         "415000000.0",
         "652000000",
         "2010"
        ],
        [
         "1",
         "Alice in Wonderland (2010)",
         "BV",
         "334200000.0",
         "691300000",
         "2010"
        ],
        [
         "2",
         "Harry Potter and the Deathly Hallows Part 1",
         "WB",
         "296000000.0",
         "664300000",
         "2010"
        ],
        [
         "3",
         "Inception",
         "WB",
         "292600000.0",
         "535700000",
         "2010"
        ],
        [
         "4",
         "Shrek Forever After",
         "P/DW",
         "238700000.0",
         "513900000",
         "2010"
        ]
       ],
       "shape": {
        "columns": 5,
        "rows": 5
       }
      },
      "text/html": [
       "<div>\n",
       "<style scoped>\n",
       "    .dataframe tbody tr th:only-of-type {\n",
       "        vertical-align: middle;\n",
       "    }\n",
       "\n",
       "    .dataframe tbody tr th {\n",
       "        vertical-align: top;\n",
       "    }\n",
       "\n",
       "    .dataframe thead th {\n",
       "        text-align: right;\n",
       "    }\n",
       "</style>\n",
       "<table border=\"1\" class=\"dataframe\">\n",
       "  <thead>\n",
       "    <tr style=\"text-align: right;\">\n",
       "      <th></th>\n",
       "      <th>title</th>\n",
       "      <th>studio</th>\n",
       "      <th>domestic_gross</th>\n",
       "      <th>foreign_gross</th>\n",
       "      <th>year</th>\n",
       "    </tr>\n",
       "  </thead>\n",
       "  <tbody>\n",
       "    <tr>\n",
       "      <th>0</th>\n",
       "      <td>Toy Story 3</td>\n",
       "      <td>BV</td>\n",
       "      <td>415000000.0</td>\n",
       "      <td>652000000</td>\n",
       "      <td>2010</td>\n",
       "    </tr>\n",
       "    <tr>\n",
       "      <th>1</th>\n",
       "      <td>Alice in Wonderland (2010)</td>\n",
       "      <td>BV</td>\n",
       "      <td>334200000.0</td>\n",
       "      <td>691300000</td>\n",
       "      <td>2010</td>\n",
       "    </tr>\n",
       "    <tr>\n",
       "      <th>2</th>\n",
       "      <td>Harry Potter and the Deathly Hallows Part 1</td>\n",
       "      <td>WB</td>\n",
       "      <td>296000000.0</td>\n",
       "      <td>664300000</td>\n",
       "      <td>2010</td>\n",
       "    </tr>\n",
       "    <tr>\n",
       "      <th>3</th>\n",
       "      <td>Inception</td>\n",
       "      <td>WB</td>\n",
       "      <td>292600000.0</td>\n",
       "      <td>535700000</td>\n",
       "      <td>2010</td>\n",
       "    </tr>\n",
       "    <tr>\n",
       "      <th>4</th>\n",
       "      <td>Shrek Forever After</td>\n",
       "      <td>P/DW</td>\n",
       "      <td>238700000.0</td>\n",
       "      <td>513900000</td>\n",
       "      <td>2010</td>\n",
       "    </tr>\n",
       "  </tbody>\n",
       "</table>\n",
       "</div>"
      ],
      "text/plain": [
       "                                         title studio  domestic_gross  \\\n",
       "0                                  Toy Story 3     BV     415000000.0   \n",
       "1                   Alice in Wonderland (2010)     BV     334200000.0   \n",
       "2  Harry Potter and the Deathly Hallows Part 1     WB     296000000.0   \n",
       "3                                    Inception     WB     292600000.0   \n",
       "4                          Shrek Forever After   P/DW     238700000.0   \n",
       "\n",
       "  foreign_gross  year  \n",
       "0     652000000  2010  \n",
       "1     691300000  2010  \n",
       "2     664300000  2010  \n",
       "3     535700000  2010  \n",
       "4     513900000  2010  "
      ]
     },
     "execution_count": 12,
     "metadata": {},
     "output_type": "execute_result"
    }
   ],
   "source": [
    "# load data from bom.movie_gross.csv.gz\n",
    "# box_office_df : shows how movies were earning\n",
    "\n",
    "box_office_df= pd.read_csv('zippedData/bom.movie_gross.csv.gz')\n",
    "box_office_df.head()"
   ]
  },
  {
   "cell_type": "code",
   "execution_count": 13,
   "id": "d1bbff75",
   "metadata": {},
   "outputs": [
    {
     "data": {
      "text/plain": [
       "(3387, 5)"
      ]
     },
     "execution_count": 13,
     "metadata": {},
     "output_type": "execute_result"
    }
   ],
   "source": [
    "# check box_office_df shape\n",
    "box_office_df.shape"
   ]
  },
  {
   "cell_type": "code",
   "execution_count": 14,
   "id": "504520ce",
   "metadata": {},
   "outputs": [
    {
     "name": "stdout",
     "output_type": "stream",
     "text": [
      "<class 'pandas.core.frame.DataFrame'>\n",
      "RangeIndex: 3387 entries, 0 to 3386\n",
      "Data columns (total 5 columns):\n",
      " #   Column          Non-Null Count  Dtype  \n",
      "---  ------          --------------  -----  \n",
      " 0   title           3387 non-null   object \n",
      " 1   studio          3382 non-null   object \n",
      " 2   domestic_gross  3359 non-null   float64\n",
      " 3   foreign_gross   2037 non-null   object \n",
      " 4   year            3387 non-null   int64  \n",
      "dtypes: float64(1), int64(1), object(3)\n",
      "memory usage: 132.4+ KB\n"
     ]
    }
   ],
   "source": [
    "box_office_df.info()"
   ]
  },
  {
   "cell_type": "code",
   "execution_count": 18,
   "id": "832170b1",
   "metadata": {},
   "outputs": [
    {
     "data": {
      "text/plain": [
       "['title', 'studio', 'domestic_gross', 'foreign_gross', 'year']"
      ]
     },
     "execution_count": 18,
     "metadata": {},
     "output_type": "execute_result"
    }
   ],
   "source": [
    "box_office_df.columns.tolist()"
   ]
  },
  {
   "cell_type": "markdown",
   "id": "15456844",
   "metadata": {},
   "source": [
    "The cell above shows `box_office_df` as **3387 entries**  and **5 features**. `box_office_df` shows **How much money a movie made** while `film_df` shows **Movies/film data** eg rating, runminutes etc. **Best option is to use the two dataset separate and work with them parallel** "
   ]
  },
  {
   "cell_type": "code",
   "execution_count": null,
   "id": "d1fd1863",
   "metadata": {},
   "outputs": [],
   "source": [
    "movie_budget_df = pd.read_csv('zippedData/tn.movie_budgets.csv.gz')\n",
    "movie_budget_df.head()"
   ]
  },
  {
   "cell_type": "markdown",
   "id": "69859bc4",
   "metadata": {},
   "source": [
    "## **Data Cleaning**\n",
    "\n",
    "- Dataset that is cleaned is saved as **cleaned_dataset.csv**"
   ]
  },
  {
   "cell_type": "code",
   "execution_count": null,
   "id": "83bc1a10",
   "metadata": {},
   "outputs": [],
   "source": []
  },
  {
   "cell_type": "markdown",
   "id": "1359badd",
   "metadata": {},
   "source": [
    "## **📊 Exploratory Data Analysis**\n",
    "\n",
    "- Before beginning detailed modeling and recommendations, I will conduct an **Exploratory Data Analysis (EDA)** phase. This phase aims to uncover hidden patterns, trends, and insights that align with the project objectives.\n",
    "\n",
    "- Based on the objectives, I have crafted the following key **analysis questions** to guide an effective exploration and ensure we achieve the project goal\n",
    "\n",
    "✨ **General Patterns and Trends (Objective 1)**\n",
    "\n",
    "- What are the most common genres produced over time?\n",
    "- How has the average box office revenue changed by year or decade?\n",
    "- Are newer movies generally earning more revenue than older ones?\n",
    "- What is the distribution of movie runtimes?\n",
    "- What is the distribution of movie ratings (viewer scores)?\n",
    "- How does the number of votes correlate with the box office revenue?\n",
    "- What is the trend of production volume (number of movies released) year by year?\n",
    "\n",
    "🎥 **Highest Grossing Films (Objective 2)**\n",
    "\n",
    "- Which films have grossed the highest revenue domestically and internationally?\n",
    "- What genres do the top 10 highest-grossing films belong to?\n",
    "- What is the average budget of the highest-grossing films compared to others?\n",
    "- What MPAA ratings (e.g., PG-13, R) are most common among top-grossing films?\n",
    "- Are there specific years or decades that produced more high-grossing films?\n",
    "\n",
    "🧩 **Key Factors Influencing Revenue (Objective 3)**\n",
    "\n",
    "- How does **genre** influence box office revenue?\n",
    "- How does **runtime** correlate with box office success (is there an optimal movie length)?\n",
    "- How does **budget** size impact box office revenue?\n",
    "- Does a higher audience rating lead to higher box office earnings?\n",
    "\n",
    "\n"
   ]
  },
  {
   "cell_type": "code",
   "execution_count": 19,
   "id": "f0ea26cf",
   "metadata": {},
   "outputs": [],
   "source": [
    "# create a copy from film_df\n",
    "\n",
    "film_copy = film_df.copy()"
   ]
  },
  {
   "cell_type": "code",
   "execution_count": null,
   "id": "0fca5641",
   "metadata": {},
   "outputs": [
    {
     "data": {
      "text/plain": [
       "<function matplotlib.pyplot.show(close=None, block=None)>"
      ]
     },
     "execution_count": 26,
     "metadata": {},
     "output_type": "execute_result"
    },
    {
     "data": {
      "image/png": "[encoded data removed]",
      "text/plain": [
       "<Figure size 640x480 with 1 Axes>"
      ]
     },
     "metadata": {},
     "output_type": "display_data"
    }
   ],
   "source": [
    "# common genres produced overtime\n",
    "\n",
    "# filter first 100 \n",
    "film_copy[['genres', 'start_year']].head(200)\n",
    "\n",
    "# Group by start_year and count how many movies each year\n",
    "genre_over_time = film_copy.groupby('start_year').count().reset_index()\n",
    "\n",
    "# plot \n",
    "fig, ax =plt.subplots()\n",
    "sns.lineplot(data=genre_over_time, x='start_year', y='genres')\n",
    "ax.set_title('Genres Production Overtime')\n",
    "plt.show"
   ]
  },
  {
   "cell_type": "code",
   "execution_count": null,
   "id": "6edec753",
   "metadata": {},
   "outputs": [],
   "source": []
  }
 ],
 "metadata": {
  "kernelspec": {
   "display_name": ".venv",
   "language": "python",
   "name": "python3"
  },
  "language_info": {
   "codemirror_mode": {
    "name": "ipython",
    "version": 3
   },
   "file_extension": ".py",
   "mimetype": "text/x-python",
   "name": "python",
   "nbconvert_exporter": "python",
   "pygments_lexer": "ipython3",
   "version": "3.11.9"
  }
 },
 "nbformat": 4,
 "nbformat_minor": 5
}
