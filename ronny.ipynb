{
 "cells": [
  {
   "cell_type": "markdown",
   "id": "2ce78c46",
   "metadata": {},
   "source": [
    "In cell below I import libraries used for analysis"
   ]
  },
  {
   "cell_type": "code",
   "execution_count": 1,
   "id": "f0efca90",
   "metadata": {},
   "outputs": [],
   "source": [
    "import sqlite3\n",
    "import pandas as pd\n",
    "import numpy as np\n",
    "import matplotlib.pyplot as plt\n",
    "import seaborn as sns\n"
   ]
  },
  {
   "cell_type": "markdown",
   "id": "69859bc4",
   "metadata": {},
   "source": [
    "## **Data Source**\n",
    "\n",
    "- Loaded cleaned data as csv to use for eda from **Mohammed(branch)**.\n",
    "\n",
    "- Dataset used **(zippedData/cleaned_dataset_box_office.csv)**, **(zippedData/cleaned_dataset_film_df.csv)** & **(zippedData/cleaned_dataset_movie_budget.csv)**\n",
    "\n"
   ]
  },
  {
   "cell_type": "markdown",
   "id": "7602557e",
   "metadata": {},
   "source": [
    "In cell below I load all dataset and organize them ready to use using following variables.\n",
    "\n",
    "- **box_office_df** - (zippedData/cleaned_dataset_box_office.csv)\n",
    "\n",
    "- **film_df** - (zippedData/cleaned_dataset_film_df.csv)\n",
    "\n",
    "- **movie_budget_df** - (zippedData/cleaned_dataset_movie_budget.csv)"
   ]
  },
  {
   "cell_type": "markdown",
   "id": "652f3861",
   "metadata": {},
   "source": [
    "### **In cell Below I load Data needed for analysis**"
   ]
  },
  {
   "cell_type": "code",
   "execution_count": 2,
   "id": "65dac48d",
   "metadata": {},
   "outputs": [
    {
     "data": {
      "application/vnd.microsoft.datawrangler.viewer.v0+json": {
       "columns": [
        {
         "name": "index",
         "rawType": "int64",
         "type": "integer"
        },
        {
         "name": "movie_id",
         "rawType": "object",
         "type": "string"
        },
        {
         "name": "primary_title",
         "rawType": "object",
         "type": "string"
        },
        {
         "name": "original_title",
         "rawType": "object",
         "type": "string"
        },
        {
         "name": "start_year",
         "rawType": "int64",
         "type": "integer"
        },
        {
         "name": "runtime_minutes",
         "rawType": "float64",
         "type": "float"
        },
        {
         "name": "genres",
         "rawType": "object",
         "type": "string"
        },
        {
         "name": "averagerating",
         "rawType": "float64",
         "type": "float"
        },
        {
         "name": "numvotes",
         "rawType": "int64",
         "type": "integer"
        }
       ],
       "conversionMethod": "pd.DataFrame",
       "ref": "f5093d30-162c-47fd-987c-44d9338bb504",
       "rows": [
        [
         "0",
         "tt0063540",
         "sunghursh",
         "sunghursh",
         "2013",
         "175.0",
         "action,crime,drama",
         "7.0",
         "77"
        ],
        [
         "1",
         "tt0066787",
         "one day before the rainy season",
         "ashad ka ek din",
         "2019",
         "114.0",
         "biography,drama",
         "7.2",
         "43"
        ],
        [
         "2",
         "tt0069049",
         "the other side of the wind",
         "the other side of the wind",
         "2018",
         "122.0",
         "drama",
         "6.9",
         "4517"
        ],
        [
         "3",
         "tt0069204",
         "sabse bada sukh",
         "sabse bada sukh",
         "2018",
         "91.0",
         "comedy,drama",
         "6.1",
         "13"
        ],
        [
         "4",
         "tt0100275",
         "the wandering soap opera",
         "la telenovela errante",
         "2017",
         "80.0",
         "comedy,drama,fantasy",
         "6.5",
         "119"
        ]
       ],
       "shape": {
        "columns": 8,
        "rows": 5
       }
      },
      "text/html": [
       "<div>\n",
       "<style scoped>\n",
       "    .dataframe tbody tr th:only-of-type {\n",
       "        vertical-align: middle;\n",
       "    }\n",
       "\n",
       "    .dataframe tbody tr th {\n",
       "        vertical-align: top;\n",
       "    }\n",
       "\n",
       "    .dataframe thead th {\n",
       "        text-align: right;\n",
       "    }\n",
       "</style>\n",
       "<table border=\"1\" class=\"dataframe\">\n",
       "  <thead>\n",
       "    <tr style=\"text-align: right;\">\n",
       "      <th></th>\n",
       "      <th>movie_id</th>\n",
       "      <th>primary_title</th>\n",
       "      <th>original_title</th>\n",
       "      <th>start_year</th>\n",
       "      <th>runtime_minutes</th>\n",
       "      <th>genres</th>\n",
       "      <th>averagerating</th>\n",
       "      <th>numvotes</th>\n",
       "    </tr>\n",
       "  </thead>\n",
       "  <tbody>\n",
       "    <tr>\n",
       "      <th>0</th>\n",
       "      <td>tt0063540</td>\n",
       "      <td>sunghursh</td>\n",
       "      <td>sunghursh</td>\n",
       "      <td>2013</td>\n",
       "      <td>175.0</td>\n",
       "      <td>action,crime,drama</td>\n",
       "      <td>7.0</td>\n",
       "      <td>77</td>\n",
       "    </tr>\n",
       "    <tr>\n",
       "      <th>1</th>\n",
       "      <td>tt0066787</td>\n",
       "      <td>one day before the rainy season</td>\n",
       "      <td>ashad ka ek din</td>\n",
       "      <td>2019</td>\n",
       "      <td>114.0</td>\n",
       "      <td>biography,drama</td>\n",
       "      <td>7.2</td>\n",
       "      <td>43</td>\n",
       "    </tr>\n",
       "    <tr>\n",
       "      <th>2</th>\n",
       "      <td>tt0069049</td>\n",
       "      <td>the other side of the wind</td>\n",
       "      <td>the other side of the wind</td>\n",
       "      <td>2018</td>\n",
       "      <td>122.0</td>\n",
       "      <td>drama</td>\n",
       "      <td>6.9</td>\n",
       "      <td>4517</td>\n",
       "    </tr>\n",
       "    <tr>\n",
       "      <th>3</th>\n",
       "      <td>tt0069204</td>\n",
       "      <td>sabse bada sukh</td>\n",
       "      <td>sabse bada sukh</td>\n",
       "      <td>2018</td>\n",
       "      <td>91.0</td>\n",
       "      <td>comedy,drama</td>\n",
       "      <td>6.1</td>\n",
       "      <td>13</td>\n",
       "    </tr>\n",
       "    <tr>\n",
       "      <th>4</th>\n",
       "      <td>tt0100275</td>\n",
       "      <td>the wandering soap opera</td>\n",
       "      <td>la telenovela errante</td>\n",
       "      <td>2017</td>\n",
       "      <td>80.0</td>\n",
       "      <td>comedy,drama,fantasy</td>\n",
       "      <td>6.5</td>\n",
       "      <td>119</td>\n",
       "    </tr>\n",
       "  </tbody>\n",
       "</table>\n",
       "</div>"
      ],
      "text/plain": [
       "    movie_id                    primary_title              original_title  \\\n",
       "0  tt0063540                        sunghursh                   sunghursh   \n",
       "1  tt0066787  one day before the rainy season             ashad ka ek din   \n",
       "2  tt0069049       the other side of the wind  the other side of the wind   \n",
       "3  tt0069204                  sabse bada sukh             sabse bada sukh   \n",
       "4  tt0100275         the wandering soap opera       la telenovela errante   \n",
       "\n",
       "   start_year  runtime_minutes                genres  averagerating  numvotes  \n",
       "0        2013            175.0    action,crime,drama            7.0        77  \n",
       "1        2019            114.0       biography,drama            7.2        43  \n",
       "2        2018            122.0                 drama            6.9      4517  \n",
       "3        2018             91.0          comedy,drama            6.1        13  \n",
       "4        2017             80.0  comedy,drama,fantasy            6.5       119  "
      ]
     },
     "execution_count": 2,
     "metadata": {},
     "output_type": "execute_result"
    }
   ],
   "source": [
    "# load \n",
    "film_df = pd.read_csv('zippedData/cleaned_dataset_film_df2.csv')\n",
    "film_df.head()"
   ]
  },
  {
   "cell_type": "code",
   "execution_count": 3,
   "id": "2642284f",
   "metadata": {},
   "outputs": [
    {
     "data": {
      "text/plain": [
       "(73856, 8)"
      ]
     },
     "execution_count": 3,
     "metadata": {},
     "output_type": "execute_result"
    }
   ],
   "source": [
    "# check shape\n",
    "\n",
    "film_df.shape"
   ]
  },
  {
   "cell_type": "code",
   "execution_count": 18,
   "id": "fe17733b",
   "metadata": {},
   "outputs": [
    {
     "name": "stderr",
     "output_type": "stream",
     "text": [
      "C:\\Users\\ronny somi\\AppData\\Local\\Temp\\ipykernel_19016\\3319648674.py:1: DtypeWarning: Columns (19) have mixed types. Specify dtype option on import or set low_memory=False.\n",
      "  df_combined = pd.read_csv('zippedData/cleaned_dataset_film_df1.csv')\n"
     ]
    },
    {
     "data": {
      "application/vnd.microsoft.datawrangler.viewer.v0+json": {
       "columns": [
        {
         "name": "index",
         "rawType": "int64",
         "type": "integer"
        },
        {
         "name": "movie_id",
         "rawType": "object",
         "type": "string"
        },
        {
         "name": "ordering",
         "rawType": "int64",
         "type": "integer"
        },
        {
         "name": "person_id",
         "rawType": "object",
         "type": "string"
        },
        {
         "name": "category",
         "rawType": "object",
         "type": "string"
        },
        {
         "name": "ordering.1",
         "rawType": "int64",
         "type": "integer"
        },
        {
         "name": "title",
         "rawType": "object",
         "type": "string"
        },
        {
         "name": "region",
         "rawType": "object",
         "type": "string"
        },
        {
         "name": "is_original_title",
         "rawType": "float64",
         "type": "float"
        },
        {
         "name": "primary_title",
         "rawType": "object",
         "type": "string"
        },
        {
         "name": "original_title_x",
         "rawType": "object",
         "type": "string"
        },
        {
         "name": "start_year",
         "rawType": "int64",
         "type": "integer"
        },
        {
         "name": "runtime_minutes",
         "rawType": "float64",
         "type": "float"
        },
        {
         "name": "genres",
         "rawType": "object",
         "type": "string"
        },
        {
         "name": "averagerating",
         "rawType": "float64",
         "type": "float"
        },
        {
         "name": "numvotes",
         "rawType": "int64",
         "type": "integer"
        },
        {
         "name": "primary_name",
         "rawType": "object",
         "type": "string"
        },
        {
         "name": "primary_profession",
         "rawType": "object",
         "type": "string"
        },
        {
         "name": "studio",
         "rawType": "object",
         "type": "string"
        },
        {
         "name": "domestic_gross_x",
         "rawType": "float64",
         "type": "float"
        },
        {
         "name": "foreign_gross",
         "rawType": "object",
         "type": "string"
        },
        {
         "name": "year",
         "rawType": "int64",
         "type": "integer"
        },
        {
         "name": "id_x",
         "rawType": "int64",
         "type": "integer"
        },
        {
         "name": "release_date_x",
         "rawType": "object",
         "type": "string"
        },
        {
         "name": "movie",
         "rawType": "object",
         "type": "string"
        },
        {
         "name": "production_budget",
         "rawType": "float64",
         "type": "float"
        },
        {
         "name": "domestic_gross_y",
         "rawType": "object",
         "type": "string"
        },
        {
         "name": "worldwide_gross",
         "rawType": "float64",
         "type": "float"
        },
        {
         "name": "Unnamed: 0",
         "rawType": "int64",
         "type": "integer"
        },
        {
         "name": "genre_ids",
         "rawType": "object",
         "type": "string"
        },
        {
         "name": "id_y",
         "rawType": "int64",
         "type": "integer"
        },
        {
         "name": "original_language",
         "rawType": "object",
         "type": "string"
        },
        {
         "name": "original_title_y",
         "rawType": "object",
         "type": "string"
        },
        {
         "name": "popularity",
         "rawType": "float64",
         "type": "float"
        },
        {
         "name": "release_date_y",
         "rawType": "object",
         "type": "string"
        },
        {
         "name": "vote_average",
         "rawType": "float64",
         "type": "float"
        },
        {
         "name": "vote_count",
         "rawType": "int64",
         "type": "integer"
        },
        {
         "name": "profits",
         "rawType": "float64",
         "type": "float"
        }
       ],
       "conversionMethod": "pd.DataFrame",
       "ref": "800efe31-c19a-4113-976e-6440b148839a",
       "rows": [
        [
         "0",
         "tt0475290",
         "10",
         "nm0005683",
         "cinematographer",
         "24",
         "Hail, Caesar!",
         "GB",
         "0.0",
         "Hail, Caesar!",
         "Hail, Caesar!",
         "2016",
         "106.0",
         "Comedy,Drama,Music",
         "6.3",
         "111422",
         "Roger Deakins",
         "cinematographer,camera_department,miscellaneous",
         "Uni.",
         "30500000.0",
         "33100000",
         "2016",
         "22",
         "Feb 5, 2016",
         "Hail, Caesar!",
         "22000000.0",
         "$30,080,225",
         "64160680.0",
         "17497",
         "[35, 18, 9648]",
         "270487",
         "en",
         "Hail, Caesar!",
         "12.312",
         "2016-02-05",
         "5.9",
         "2328",
         "42160680.0"
        ],
        [
         "1",
         "tt0475290",
         "1",
         "nm0000982",
         "actor",
         "24",
         "Hail, Caesar!",
         "GB",
         "0.0",
         "Hail, Caesar!",
         "Hail, Caesar!",
         "2016",
         "106.0",
         "Comedy,Drama,Music",
         "6.3",
         "111422",
         "Josh Brolin",
         "actor,producer,writer",
         "Uni.",
         "30500000.0",
         "33100000",
         "2016",
         "22",
         "Feb 5, 2016",
         "Hail, Caesar!",
         "22000000.0",
         "$30,080,225",
         "64160680.0",
         "17497",
         "[35, 18, 9648]",
         "270487",
         "en",
         "Hail, Caesar!",
         "12.312",
         "2016-02-05",
         "5.9",
         "2328",
         "42160680.0"
        ],
        [
         "2",
         "tt0475290",
         "2",
         "nm0000123",
         "actor",
         "24",
         "Hail, Caesar!",
         "GB",
         "0.0",
         "Hail, Caesar!",
         "Hail, Caesar!",
         "2016",
         "106.0",
         "Comedy,Drama,Music",
         "6.3",
         "111422",
         "George Clooney",
         "actor,producer,director",
         "Uni.",
         "30500000.0",
         "33100000",
         "2016",
         "22",
         "Feb 5, 2016",
         "Hail, Caesar!",
         "22000000.0",
         "$30,080,225",
         "64160680.0",
         "17497",
         "[35, 18, 9648]",
         "270487",
         "en",
         "Hail, Caesar!",
         "12.312",
         "2016-02-05",
         "5.9",
         "2328",
         "42160680.0"
        ],
        [
         "3",
         "tt0475290",
         "3",
         "nm2403277",
         "actor",
         "24",
         "Hail, Caesar!",
         "GB",
         "0.0",
         "Hail, Caesar!",
         "Hail, Caesar!",
         "2016",
         "106.0",
         "Comedy,Drama,Music",
         "6.3",
         "111422",
         "Alden Ehrenreich",
         "actor,soundtrack",
         "Uni.",
         "30500000.0",
         "33100000",
         "2016",
         "22",
         "Feb 5, 2016",
         "Hail, Caesar!",
         "22000000.0",
         "$30,080,225",
         "64160680.0",
         "17497",
         "[35, 18, 9648]",
         "270487",
         "en",
         "Hail, Caesar!",
         "12.312",
         "2016-02-05",
         "5.9",
         "2328",
         "42160680.0"
        ],
        [
         "4",
         "tt0475290",
         "4",
         "nm0000146",
         "actor",
         "24",
         "Hail, Caesar!",
         "GB",
         "0.0",
         "Hail, Caesar!",
         "Hail, Caesar!",
         "2016",
         "106.0",
         "Comedy,Drama,Music",
         "6.3",
         "111422",
         "Ralph Fiennes",
         "actor,director,soundtrack",
         "Uni.",
         "30500000.0",
         "33100000",
         "2016",
         "22",
         "Feb 5, 2016",
         "Hail, Caesar!",
         "22000000.0",
         "$30,080,225",
         "64160680.0",
         "17497",
         "[35, 18, 9648]",
         "270487",
         "en",
         "Hail, Caesar!",
         "12.312",
         "2016-02-05",
         "5.9",
         "2328",
         "42160680.0"
        ]
       ],
       "shape": {
        "columns": 37,
        "rows": 5
       }
      },
      "text/html": [
       "<div>\n",
       "<style scoped>\n",
       "    .dataframe tbody tr th:only-of-type {\n",
       "        vertical-align: middle;\n",
       "    }\n",
       "\n",
       "    .dataframe tbody tr th {\n",
       "        vertical-align: top;\n",
       "    }\n",
       "\n",
       "    .dataframe thead th {\n",
       "        text-align: right;\n",
       "    }\n",
       "</style>\n",
       "<table border=\"1\" class=\"dataframe\">\n",
       "  <thead>\n",
       "    <tr style=\"text-align: right;\">\n",
       "      <th></th>\n",
       "      <th>movie_id</th>\n",
       "      <th>ordering</th>\n",
       "      <th>person_id</th>\n",
       "      <th>category</th>\n",
       "      <th>ordering.1</th>\n",
       "      <th>title</th>\n",
       "      <th>region</th>\n",
       "      <th>is_original_title</th>\n",
       "      <th>primary_title</th>\n",
       "      <th>original_title_x</th>\n",
       "      <th>...</th>\n",
       "      <th>Unnamed: 0</th>\n",
       "      <th>genre_ids</th>\n",
       "      <th>id_y</th>\n",
       "      <th>original_language</th>\n",
       "      <th>original_title_y</th>\n",
       "      <th>popularity</th>\n",
       "      <th>release_date_y</th>\n",
       "      <th>vote_average</th>\n",
       "      <th>vote_count</th>\n",
       "      <th>profits</th>\n",
       "    </tr>\n",
       "  </thead>\n",
       "  <tbody>\n",
       "    <tr>\n",
       "      <th>0</th>\n",
       "      <td>tt0475290</td>\n",
       "      <td>10</td>\n",
       "      <td>nm0005683</td>\n",
       "      <td>cinematographer</td>\n",
       "      <td>24</td>\n",
       "      <td>Hail, Caesar!</td>\n",
       "      <td>GB</td>\n",
       "      <td>0.0</td>\n",
       "      <td>Hail, Caesar!</td>\n",
       "      <td>Hail, Caesar!</td>\n",
       "      <td>...</td>\n",
       "      <td>17497</td>\n",
       "      <td>[35, 18, 9648]</td>\n",
       "      <td>270487</td>\n",
       "      <td>en</td>\n",
       "      <td>Hail, Caesar!</td>\n",
       "      <td>12.312</td>\n",
       "      <td>2016-02-05</td>\n",
       "      <td>5.9</td>\n",
       "      <td>2328</td>\n",
       "      <td>42160680.0</td>\n",
       "    </tr>\n",
       "    <tr>\n",
       "      <th>1</th>\n",
       "      <td>tt0475290</td>\n",
       "      <td>1</td>\n",
       "      <td>nm0000982</td>\n",
       "      <td>actor</td>\n",
       "      <td>24</td>\n",
       "      <td>Hail, Caesar!</td>\n",
       "      <td>GB</td>\n",
       "      <td>0.0</td>\n",
       "      <td>Hail, Caesar!</td>\n",
       "      <td>Hail, Caesar!</td>\n",
       "      <td>...</td>\n",
       "      <td>17497</td>\n",
       "      <td>[35, 18, 9648]</td>\n",
       "      <td>270487</td>\n",
       "      <td>en</td>\n",
       "      <td>Hail, Caesar!</td>\n",
       "      <td>12.312</td>\n",
       "      <td>2016-02-05</td>\n",
       "      <td>5.9</td>\n",
       "      <td>2328</td>\n",
       "      <td>42160680.0</td>\n",
       "    </tr>\n",
       "    <tr>\n",
       "      <th>2</th>\n",
       "      <td>tt0475290</td>\n",
       "      <td>2</td>\n",
       "      <td>nm0000123</td>\n",
       "      <td>actor</td>\n",
       "      <td>24</td>\n",
       "      <td>Hail, Caesar!</td>\n",
       "      <td>GB</td>\n",
       "      <td>0.0</td>\n",
       "      <td>Hail, Caesar!</td>\n",
       "      <td>Hail, Caesar!</td>\n",
       "      <td>...</td>\n",
       "      <td>17497</td>\n",
       "      <td>[35, 18, 9648]</td>\n",
       "      <td>270487</td>\n",
       "      <td>en</td>\n",
       "      <td>Hail, Caesar!</td>\n",
       "      <td>12.312</td>\n",
       "      <td>2016-02-05</td>\n",
       "      <td>5.9</td>\n",
       "      <td>2328</td>\n",
       "      <td>42160680.0</td>\n",
       "    </tr>\n",
       "    <tr>\n",
       "      <th>3</th>\n",
       "      <td>tt0475290</td>\n",
       "      <td>3</td>\n",
       "      <td>nm2403277</td>\n",
       "      <td>actor</td>\n",
       "      <td>24</td>\n",
       "      <td>Hail, Caesar!</td>\n",
       "      <td>GB</td>\n",
       "      <td>0.0</td>\n",
       "      <td>Hail, Caesar!</td>\n",
       "      <td>Hail, Caesar!</td>\n",
       "      <td>...</td>\n",
       "      <td>17497</td>\n",
       "      <td>[35, 18, 9648]</td>\n",
       "      <td>270487</td>\n",
       "      <td>en</td>\n",
       "      <td>Hail, Caesar!</td>\n",
       "      <td>12.312</td>\n",
       "      <td>2016-02-05</td>\n",
       "      <td>5.9</td>\n",
       "      <td>2328</td>\n",
       "      <td>42160680.0</td>\n",
       "    </tr>\n",
       "    <tr>\n",
       "      <th>4</th>\n",
       "      <td>tt0475290</td>\n",
       "      <td>4</td>\n",
       "      <td>nm0000146</td>\n",
       "      <td>actor</td>\n",
       "      <td>24</td>\n",
       "      <td>Hail, Caesar!</td>\n",
       "      <td>GB</td>\n",
       "      <td>0.0</td>\n",
       "      <td>Hail, Caesar!</td>\n",
       "      <td>Hail, Caesar!</td>\n",
       "      <td>...</td>\n",
       "      <td>17497</td>\n",
       "      <td>[35, 18, 9648]</td>\n",
       "      <td>270487</td>\n",
       "      <td>en</td>\n",
       "      <td>Hail, Caesar!</td>\n",
       "      <td>12.312</td>\n",
       "      <td>2016-02-05</td>\n",
       "      <td>5.9</td>\n",
       "      <td>2328</td>\n",
       "      <td>42160680.0</td>\n",
       "    </tr>\n",
       "  </tbody>\n",
       "</table>\n",
       "<p>5 rows × 37 columns</p>\n",
       "</div>"
      ],
      "text/plain": [
       "    movie_id  ordering  person_id         category  ordering.1          title  \\\n",
       "0  tt0475290        10  nm0005683  cinematographer          24  Hail, Caesar!   \n",
       "1  tt0475290         1  nm0000982            actor          24  Hail, Caesar!   \n",
       "2  tt0475290         2  nm0000123            actor          24  Hail, Caesar!   \n",
       "3  tt0475290         3  nm2403277            actor          24  Hail, Caesar!   \n",
       "4  tt0475290         4  nm0000146            actor          24  Hail, Caesar!   \n",
       "\n",
       "  region  is_original_title  primary_title original_title_x  ...  Unnamed: 0  \\\n",
       "0     GB                0.0  Hail, Caesar!    Hail, Caesar!  ...       17497   \n",
       "1     GB                0.0  Hail, Caesar!    Hail, Caesar!  ...       17497   \n",
       "2     GB                0.0  Hail, Caesar!    Hail, Caesar!  ...       17497   \n",
       "3     GB                0.0  Hail, Caesar!    Hail, Caesar!  ...       17497   \n",
       "4     GB                0.0  Hail, Caesar!    Hail, Caesar!  ...       17497   \n",
       "\n",
       "        genre_ids    id_y  original_language  original_title_y popularity  \\\n",
       "0  [35, 18, 9648]  270487                 en     Hail, Caesar!     12.312   \n",
       "1  [35, 18, 9648]  270487                 en     Hail, Caesar!     12.312   \n",
       "2  [35, 18, 9648]  270487                 en     Hail, Caesar!     12.312   \n",
       "3  [35, 18, 9648]  270487                 en     Hail, Caesar!     12.312   \n",
       "4  [35, 18, 9648]  270487                 en     Hail, Caesar!     12.312   \n",
       "\n",
       "  release_date_y vote_average  vote_count     profits  \n",
       "0     2016-02-05          5.9        2328  42160680.0  \n",
       "1     2016-02-05          5.9        2328  42160680.0  \n",
       "2     2016-02-05          5.9        2328  42160680.0  \n",
       "3     2016-02-05          5.9        2328  42160680.0  \n",
       "4     2016-02-05          5.9        2328  42160680.0  \n",
       "\n",
       "[5 rows x 37 columns]"
      ]
     },
     "execution_count": 18,
     "metadata": {},
     "output_type": "execute_result"
    }
   ],
   "source": [
    "df_combined = pd.read_csv('zippedData/cleaned_dataset_film_df1.csv')\n",
    "df_combined.head()"
   ]
  },
  {
   "cell_type": "markdown",
   "id": "fca18d6e",
   "metadata": {},
   "source": [
    "Cell above shows that `film_df` contains *73856* entries and *8* attributes\n",
    "\n",
    "In cell below I load `box_office_df` and check for it shape"
   ]
  },
  {
   "cell_type": "code",
   "execution_count": 5,
   "id": "72bb40a5",
   "metadata": {},
   "outputs": [
    {
     "data": {
      "application/vnd.microsoft.datawrangler.viewer.v0+json": {
       "columns": [
        {
         "name": "index",
         "rawType": "int64",
         "type": "integer"
        },
        {
         "name": "title",
         "rawType": "object",
         "type": "string"
        },
        {
         "name": "studio",
         "rawType": "object",
         "type": "string"
        },
        {
         "name": "domestic_gross",
         "rawType": "float64",
         "type": "float"
        },
        {
         "name": "foreign_gross",
         "rawType": "object",
         "type": "string"
        },
        {
         "name": "year",
         "rawType": "int64",
         "type": "integer"
        }
       ],
       "conversionMethod": "pd.DataFrame",
       "ref": "a53f38c7-87ac-49aa-ae3d-c89119114e8a",
       "rows": [
        [
         "0",
         "Toy Story 3",
         "BV",
         "415000000.0",
         "652000000",
         "2010"
        ],
        [
         "1",
         "Alice in Wonderland (2010)",
         "BV",
         "334200000.0",
         "691300000",
         "2010"
        ],
        [
         "2",
         "Harry Potter and the Deathly Hallows Part 1",
         "WB",
         "296000000.0",
         "664300000",
         "2010"
        ],
        [
         "3",
         "Inception",
         "WB",
         "292600000.0",
         "535700000",
         "2010"
        ],
        [
         "4",
         "Shrek Forever After",
         "P/DW",
         "238700000.0",
         "513900000",
         "2010"
        ]
       ],
       "shape": {
        "columns": 5,
        "rows": 5
       }
      },
      "text/html": [
       "<div>\n",
       "<style scoped>\n",
       "    .dataframe tbody tr th:only-of-type {\n",
       "        vertical-align: middle;\n",
       "    }\n",
       "\n",
       "    .dataframe tbody tr th {\n",
       "        vertical-align: top;\n",
       "    }\n",
       "\n",
       "    .dataframe thead th {\n",
       "        text-align: right;\n",
       "    }\n",
       "</style>\n",
       "<table border=\"1\" class=\"dataframe\">\n",
       "  <thead>\n",
       "    <tr style=\"text-align: right;\">\n",
       "      <th></th>\n",
       "      <th>title</th>\n",
       "      <th>studio</th>\n",
       "      <th>domestic_gross</th>\n",
       "      <th>foreign_gross</th>\n",
       "      <th>year</th>\n",
       "    </tr>\n",
       "  </thead>\n",
       "  <tbody>\n",
       "    <tr>\n",
       "      <th>0</th>\n",
       "      <td>Toy Story 3</td>\n",
       "      <td>BV</td>\n",
       "      <td>415000000.0</td>\n",
       "      <td>652000000</td>\n",
       "      <td>2010</td>\n",
       "    </tr>\n",
       "    <tr>\n",
       "      <th>1</th>\n",
       "      <td>Alice in Wonderland (2010)</td>\n",
       "      <td>BV</td>\n",
       "      <td>334200000.0</td>\n",
       "      <td>691300000</td>\n",
       "      <td>2010</td>\n",
       "    </tr>\n",
       "    <tr>\n",
       "      <th>2</th>\n",
       "      <td>Harry Potter and the Deathly Hallows Part 1</td>\n",
       "      <td>WB</td>\n",
       "      <td>296000000.0</td>\n",
       "      <td>664300000</td>\n",
       "      <td>2010</td>\n",
       "    </tr>\n",
       "    <tr>\n",
       "      <th>3</th>\n",
       "      <td>Inception</td>\n",
       "      <td>WB</td>\n",
       "      <td>292600000.0</td>\n",
       "      <td>535700000</td>\n",
       "      <td>2010</td>\n",
       "    </tr>\n",
       "    <tr>\n",
       "      <th>4</th>\n",
       "      <td>Shrek Forever After</td>\n",
       "      <td>P/DW</td>\n",
       "      <td>238700000.0</td>\n",
       "      <td>513900000</td>\n",
       "      <td>2010</td>\n",
       "    </tr>\n",
       "  </tbody>\n",
       "</table>\n",
       "</div>"
      ],
      "text/plain": [
       "                                         title studio  domestic_gross  \\\n",
       "0                                  Toy Story 3     BV     415000000.0   \n",
       "1                   Alice in Wonderland (2010)     BV     334200000.0   \n",
       "2  Harry Potter and the Deathly Hallows Part 1     WB     296000000.0   \n",
       "3                                    Inception     WB     292600000.0   \n",
       "4                          Shrek Forever After   P/DW     238700000.0   \n",
       "\n",
       "  foreign_gross  year  \n",
       "0     652000000  2010  \n",
       "1     691300000  2010  \n",
       "2     664300000  2010  \n",
       "3     535700000  2010  \n",
       "4     513900000  2010  "
      ]
     },
     "execution_count": 5,
     "metadata": {},
     "output_type": "execute_result"
    }
   ],
   "source": [
    "# load data from bom.movie_gross.csv.gz\n",
    "# box_office_df : shows how movies were earning\n",
    "\n",
    "box_office_df= pd.read_csv('zippedData/bom.movie_gross.csv.gz')\n",
    "box_office_df.head()"
   ]
  },
  {
   "cell_type": "code",
   "execution_count": 6,
   "id": "75d5020f",
   "metadata": {},
   "outputs": [
    {
     "data": {
      "text/plain": [
       "(3387, 5)"
      ]
     },
     "execution_count": 6,
     "metadata": {},
     "output_type": "execute_result"
    }
   ],
   "source": [
    "# check box_office_df shape\n",
    "box_office_df.shape"
   ]
  },
  {
   "cell_type": "markdown",
   "id": "e6d90604",
   "metadata": {},
   "source": [
    "**box_office_df** contains *3387* entries and *5* attributes.\n",
    "\n",
    "In cell below I load **movie_budget_df** and check for it shape"
   ]
  },
  {
   "cell_type": "code",
   "execution_count": 7,
   "id": "c3b84691",
   "metadata": {},
   "outputs": [
    {
     "data": {
      "application/vnd.microsoft.datawrangler.viewer.v0+json": {
       "columns": [
        {
         "name": "index",
         "rawType": "int64",
         "type": "integer"
        },
        {
         "name": "id",
         "rawType": "int64",
         "type": "integer"
        },
        {
         "name": "release_date",
         "rawType": "object",
         "type": "string"
        },
        {
         "name": "movie",
         "rawType": "object",
         "type": "string"
        },
        {
         "name": "production_budget",
         "rawType": "object",
         "type": "string"
        },
        {
         "name": "domestic_gross",
         "rawType": "object",
         "type": "string"
        },
        {
         "name": "worldwide_gross",
         "rawType": "object",
         "type": "string"
        }
       ],
       "conversionMethod": "pd.DataFrame",
       "ref": "437428fd-441a-488b-899d-0dc8ee3ff25d",
       "rows": [
        [
         "0",
         "1",
         "dec 18, 2009",
         "avatar",
         "$425,000,000",
         "$760,507,625",
         "$2,776,345,279"
        ],
        [
         "1",
         "2",
         "may 20, 2011",
         "pirates of the caribbean: on stranger tides",
         "$410,600,000",
         "$241,063,875",
         "$1,045,663,875"
        ],
        [
         "2",
         "3",
         "jun 7, 2019",
         "dark phoenix",
         "$350,000,000",
         "$42,762,350",
         "$149,762,350"
        ],
        [
         "3",
         "4",
         "may 1, 2015",
         "avengers: age of ultron",
         "$330,600,000",
         "$459,005,868",
         "$1,403,013,963"
        ],
        [
         "4",
         "5",
         "dec 15, 2017",
         "star wars ep. viii: the last jedi",
         "$317,000,000",
         "$620,181,382",
         "$1,316,721,747"
        ]
       ],
       "shape": {
        "columns": 6,
        "rows": 5
       }
      },
      "text/html": [
       "<div>\n",
       "<style scoped>\n",
       "    .dataframe tbody tr th:only-of-type {\n",
       "        vertical-align: middle;\n",
       "    }\n",
       "\n",
       "    .dataframe tbody tr th {\n",
       "        vertical-align: top;\n",
       "    }\n",
       "\n",
       "    .dataframe thead th {\n",
       "        text-align: right;\n",
       "    }\n",
       "</style>\n",
       "<table border=\"1\" class=\"dataframe\">\n",
       "  <thead>\n",
       "    <tr style=\"text-align: right;\">\n",
       "      <th></th>\n",
       "      <th>id</th>\n",
       "      <th>release_date</th>\n",
       "      <th>movie</th>\n",
       "      <th>production_budget</th>\n",
       "      <th>domestic_gross</th>\n",
       "      <th>worldwide_gross</th>\n",
       "    </tr>\n",
       "  </thead>\n",
       "  <tbody>\n",
       "    <tr>\n",
       "      <th>0</th>\n",
       "      <td>1</td>\n",
       "      <td>dec 18, 2009</td>\n",
       "      <td>avatar</td>\n",
       "      <td>$425,000,000</td>\n",
       "      <td>$760,507,625</td>\n",
       "      <td>$2,776,345,279</td>\n",
       "    </tr>\n",
       "    <tr>\n",
       "      <th>1</th>\n",
       "      <td>2</td>\n",
       "      <td>may 20, 2011</td>\n",
       "      <td>pirates of the caribbean: on stranger tides</td>\n",
       "      <td>$410,600,000</td>\n",
       "      <td>$241,063,875</td>\n",
       "      <td>$1,045,663,875</td>\n",
       "    </tr>\n",
       "    <tr>\n",
       "      <th>2</th>\n",
       "      <td>3</td>\n",
       "      <td>jun 7, 2019</td>\n",
       "      <td>dark phoenix</td>\n",
       "      <td>$350,000,000</td>\n",
       "      <td>$42,762,350</td>\n",
       "      <td>$149,762,350</td>\n",
       "    </tr>\n",
       "    <tr>\n",
       "      <th>3</th>\n",
       "      <td>4</td>\n",
       "      <td>may 1, 2015</td>\n",
       "      <td>avengers: age of ultron</td>\n",
       "      <td>$330,600,000</td>\n",
       "      <td>$459,005,868</td>\n",
       "      <td>$1,403,013,963</td>\n",
       "    </tr>\n",
       "    <tr>\n",
       "      <th>4</th>\n",
       "      <td>5</td>\n",
       "      <td>dec 15, 2017</td>\n",
       "      <td>star wars ep. viii: the last jedi</td>\n",
       "      <td>$317,000,000</td>\n",
       "      <td>$620,181,382</td>\n",
       "      <td>$1,316,721,747</td>\n",
       "    </tr>\n",
       "  </tbody>\n",
       "</table>\n",
       "</div>"
      ],
      "text/plain": [
       "   id  release_date                                        movie  \\\n",
       "0   1  dec 18, 2009                                       avatar   \n",
       "1   2  may 20, 2011  pirates of the caribbean: on stranger tides   \n",
       "2   3   jun 7, 2019                                 dark phoenix   \n",
       "3   4   may 1, 2015                      avengers: age of ultron   \n",
       "4   5  dec 15, 2017            star wars ep. viii: the last jedi   \n",
       "\n",
       "  production_budget domestic_gross worldwide_gross  \n",
       "0      $425,000,000   $760,507,625  $2,776,345,279  \n",
       "1      $410,600,000   $241,063,875  $1,045,663,875  \n",
       "2      $350,000,000    $42,762,350    $149,762,350  \n",
       "3      $330,600,000   $459,005,868  $1,403,013,963  \n",
       "4      $317,000,000   $620,181,382  $1,316,721,747  "
      ]
     },
     "execution_count": 7,
     "metadata": {},
     "output_type": "execute_result"
    }
   ],
   "source": [
    "# load data from tn.movie_budgets.csv.gz\n",
    "movie_budget_df = pd.read_csv('zippedData/cleaned_dataset_movie_budget.csv')\n",
    "movie_budget_df.head()"
   ]
  },
  {
   "cell_type": "code",
   "execution_count": 8,
   "id": "a32a34f3",
   "metadata": {},
   "outputs": [
    {
     "data": {
      "text/plain": [
       "(5782, 6)"
      ]
     },
     "execution_count": 8,
     "metadata": {},
     "output_type": "execute_result"
    }
   ],
   "source": [
    "# check for shape\n",
    "\n",
    "movie_budget_df.shape\n"
   ]
  },
  {
   "cell_type": "markdown",
   "id": "1359badd",
   "metadata": {},
   "source": [
    "## **📊 Exploratory Data Analysis**\n",
    "\n",
    "- Before beginning detailed modeling and recommendations, I will conduct an **Exploratory Data Analysis (EDA)** phase. This phase aims to uncover hidden patterns, trends, and insights that align with the project objectives.\n",
    "\n",
    "- Based on the objectives, I have crafted the following key **analysis questions** to guide an effective exploration and ensure we achieve the project goal\n",
    "\n",
    "✨ **General Patterns and Trends (Objective 1)**\n",
    "\n",
    "- What are the most common genres produced over time?\n",
    "- How has the average box office revenue changed by year or decade?\n",
    "- Are newer movies generally earning more revenue than older ones?\n",
    "- What is the distribution of movie runtimes?\n",
    "- What is the distribution of movie ratings (viewer scores)?\n",
    "- How does the number of votes correlate with the box office revenue?\n",
    "\n",
    "\n",
    "🎥 **Highest Grossing Films (Objective 2)**\n",
    "\n",
    "- Which films have grossed the highest revenue domestically and internationally?\n",
    "- What genres do the top 10 highest-grossing films belong to?\n",
    "- What is the average budget of the highest-grossing films compared to others?\n",
    "- Are there specific years or decades that produced more high-grossing films?\n",
    "\n",
    "🧩 **Key Factors Influencing Revenue (Objective 3)**\n",
    "\n",
    "- How does **genre** influence box office revenue?\n",
    "- How does **runtime** correlate with box office success (is there an optimal movie length)?\n",
    "- How does **budget** size impact box office revenue?\n",
    "- Does a higher audience rating lead to higher box office earnings?\n",
    "\n",
    "\n"
   ]
  },
  {
   "cell_type": "code",
   "execution_count": 16,
   "id": "f0ea26cf",
   "metadata": {},
   "outputs": [],
   "source": [
    "# create a copy from film_df\n",
    "\n",
    "film_copy = film_df.copy()\n",
    "box_office_copy1 = box_office_df.copy()"
   ]
  },
  {
   "cell_type": "markdown",
   "id": "8ca0b82f",
   "metadata": {},
   "source": [
    "In cell below I group data by `year` and `genre` then counts how many movies belong to each genre `each year`. Then finds `top5 most frequent genres` and filter data to keep only top 5 genres. Avoided ploting all genres which would make plot hard to read."
   ]
  },
  {
   "cell_type": "code",
   "execution_count": 10,
   "id": "dcdcace2",
   "metadata": {},
   "outputs": [
    {
     "data": {
      "image/png": "[encoded data removed]",
      "text/plain": [
       "<Figure size 1000x500 with 1 Axes>"
      ]
     },
     "metadata": {},
     "output_type": "display_data"
    }
   ],
   "source": [
    "\n",
    "# Group and count\n",
    "genre_year_counts = film_copy.groupby(['start_year', 'genres']).size().reset_index(name='count')\n",
    "\n",
    "# Pick top 5 genres\n",
    "top_genres = genre_year_counts['genres'].value_counts().head(5).index\n",
    "genre_year_counts = genre_year_counts[genre_year_counts['genres'].isin(top_genres)]\n",
    "\n",
    "# Line Plot\n",
    "\n",
    "fig, ax= plt.subplots(figsize=(10,5))\n",
    "sns.lineplot(data=genre_year_counts, x='start_year', y='count', hue='genres', marker='o')\n",
    "ax.set_title('Most Common Genres Produced Over Time')\n",
    "ax.set_xlabel('Year')\n",
    "ax.set_ylabel('Number of Movies')\n",
    "ax.tick_params(axis='x', rotation=45)\n",
    "ax.legend(title='Genres')\n",
    "plt.grid(True)\n",
    "plt.show()\n"
   ]
  },
  {
   "cell_type": "markdown",
   "id": "2a6bfefd",
   "metadata": {},
   "source": [
    "### ✅ **Insights**\n",
    "\n",
    "1. **Thriller** was the most produced genre, peaking in 2018 before dropping sharply in 2019.\n",
    "2. **Sci-Fi, Thriller** had a major spike in 2016 but didn’t sustain it.\n",
    "3. **Sport**, **War**, and Western genres stayed low and stable over the years.\n",
    "4. A slight rise in Western movies was seen in 2012 and 2018 but wasn't maintained.\n",
    "\n",
    "### 🎯 **Recommendations**\n",
    "\n",
    "1. **Focus on Thriller** Since Thriller has consistently high production, it remains a strong genre to invest in.\n",
    "\n",
    "2. **Niche Opportunities** Explore ways to grow interest in less popular genres like Sport and Western through innovation or targeted marketing.\n",
    "\n",
    "4. **Market Monitoring**  Track shifting audience interests, especially after the 2019 drop, to adjust production strategies.\n",
    "\n"
   ]
  },
  {
   "cell_type": "markdown",
   "id": "86b9466d",
   "metadata": {},
   "source": [
    "The Cell below shows **How has the average box office revenue changed by year**. To achieve this I first converted `foreign_gross` to numeric using `pd.to_numeric()`, then **calculate total revenue** and group by year and plot a `lineplot`\n"
   ]
  },
  {
   "cell_type": "code",
   "execution_count": null,
   "id": "c4d03578",
   "metadata": {},
   "outputs": [
    {
     "data": {
      "image/png": "[encoded data removed]",
      "text/plain": [
       "<Figure size 1000x600 with 1 Axes>"
      ]
     },
     "metadata": {},
     "output_type": "display_data"
    }
   ],
   "source": [
    "# Convert column to numeric\n",
    "box_office_copy1['foreign_gross'] = pd.to_numeric(box_office_copy1['foreign_gross'], errors='coerce')\n",
    "\n",
    "\n",
    "#  Create a new total revenue column\n",
    "box_office_copy1['total_revenue'] = box_office_copy1['domestic_gross'] + box_office_copy1['foreign_gross']\n",
    "\n",
    "# : Group by year and calculate the mean of total_revenue\n",
    "revenue_avg = box_office_copy1.groupby('year')['total_revenue'].mean().reset_index()\n",
    "\n",
    "# : Plot lineplot\n",
    "fig, ax = plt.subplots(figsize=(10,6))\n",
    "sns.lineplot(data=revenue_avg, x='year', y='total_revenue', marker='o')\n",
    "ax.set_title('Average Box Office Revenue Over Time')\n",
    "ax.set_xlabel('Year')\n",
    "ax.set_ylabel('Average Revenue')\n",
    "ax.tick_params(axis='x' ,rotation=45)\n",
    "plt.grid(True)\n",
    "plt.show()\n"
   ]
  },
  {
   "cell_type": "markdown",
   "id": "73b61453",
   "metadata": {},
   "source": [
    "\n",
    "##  ✅ **Insights**\n",
    "\n",
    "- The **average box office revenue** showed a general **upward trend** from 2010 to 2017.\n",
    "\n",
    "- The **highest average revenue** was recorded in **2017**.\n",
    "\n",
    "- There were **two notable drops** in revenue in 2014 and again slightly in 2018.\n",
    "\n",
    "- Despite occasional declines, the overall pattern indicates **growth in box office earnings** over the years.\n",
    "\n",
    "\n",
    "### 🎯 **Recommendations**\n",
    "\n",
    "- **Capitalize on Growth**: Focus on maintaining and boosting box office momentum by investing in high-performing genres and marketing.\n",
    "\n",
    "- **Investigate Revenue Drops**: Analyze what factors led to the revenue declines in 2014 and 2018 to avoid similar issues in future productions.\n",
    "\n",
    "- **Leverage Peak Years**: Study successful movies from 2017 to replicate winning strategies (e.g., genre, marketing tactics, release timing).\n",
    "\n",
    "- **Diversify Offerings**: Ensure a mix of movies to appeal to a broad audience, helping stabilize revenue even if certain trends change.\n",
    "\n"
   ]
  },
  {
   "cell_type": "markdown",
   "id": "114fd6a6",
   "metadata": {},
   "source": [
    "In cell below the analysis shows **Top 10 Movies by Domestic Gross Revenue** using `barplot`"
   ]
  },
  {
   "cell_type": "code",
   "execution_count": 12,
   "id": "d6d7c0b7",
   "metadata": {},
   "outputs": [
    {
     "data": {
      "image/png": "[encoded data removed]",
      "text/plain": [
       "<Figure size 1000x600 with 1 Axes>"
      ]
     },
     "metadata": {},
     "output_type": "display_data"
    }
   ],
   "source": [
    "\n",
    "# Sort to find top 10 highest grossing films domestically\n",
    "top_domestic = box_office_copy.sort_values(by='domestic_gross', ascending=False).head(10)\n",
    "\n",
    "# Plot 1: Top 10 Domestic Grossing Movies\n",
    "fig, ax = plt.subplots(figsize=(10, 6))\n",
    "sns.barplot(data=top_domestic, x='domestic_gross', y='title', hue='title', palette='Blues_r')\n",
    "ax.set_title('Top 10 Movies by Domestic Gross Revenue', fontsize=16)\n",
    "ax.set_xlabel('Domestic Revenue ($)')\n",
    "ax.set_ylabel('Movie Title')\n",
    "\n",
    "plt.show()"
   ]
  },
  {
   "cell_type": "markdown",
   "id": "6419067b",
   "metadata": {},
   "source": [
    "### ✅ **Insights**\n",
    "\n",
    "- **Blockbusters Dominate**: All top movies are major franchise or branded titles (e.g., Marvel, Star Wars, Pixar, Disney).\n",
    "\n",
    "- **Marvel and Disney Lead**: Marvel and Disney titles appear most frequently, showing strong market influence.\n",
    "\n",
    "- **Top Earner**: Black Panther leads in domestic gross revenue, reflecting audience preference for superhero movies with cultural resonance.\n",
    "\n",
    "- **Animated Films Succeed**: Films like Incredibles 2 and Finding Dory show that animated family movies also generate high revenue.\n",
    "\n",
    "- **Consistency in Themes: Action**, adventure, and fantasy/sci-fi are dominant genres among the top 10.\n",
    "\n",
    "\n",
    "### 🎯 **Recommendations**\n",
    "\n",
    "- 🎬 **To invest in Franchises**: Focus future productions and marketing efforts on franchise films and cinematic universes.\n",
    "\n",
    "- 📈 **To leverage Proven Genres**: Prioritize superhero, fantasy, and animated genres that consistently perform well.\n",
    "\n",
    "- 🌍 **To promote Diversity**: The success of Black Panther highlights the importance of diverse representation and strong cultural storytelling.\n",
    "\n",
    "- 👪 **To target Family Audiences**: Continue to develop high-quality animated and family-friendly content to tap into a broad demographic.\n",
    "\n",
    "- 📣 **Strategic Marketing**: Follow the example of top-grossing films with early buzz, strong brand identity, and wide release strategies."
   ]
  },
  {
   "cell_type": "markdown",
   "id": "ca92b9f0",
   "metadata": {},
   "source": [
    "In cell below the analysis shows **Top 10 Movies by International Gross Revenue**"
   ]
  },
  {
   "cell_type": "code",
   "execution_count": null,
   "id": "d9c7fd0d",
   "metadata": {},
   "outputs": [
    {
     "data": {
      "image/png": "[encoded data removed]",
      "text/plain": [
       "<Figure size 1000x600 with 1 Axes>"
      ]
     },
     "metadata": {},
     "output_type": "display_data"
    }
   ],
   "source": [
    "import seaborn as sns\n",
    "import matplotlib.pyplot as plt\n",
    "\n",
    "\n",
    "#  Sort to find top 10 highest grossing films internationally\n",
    "top_foreign = box_office_copy1.sort_values(by='foreign_gross', ascending=False).head(10)\n",
    "\n",
    "\n",
    "#  Top 10 Foreign Grossing Movies\n",
    "fig, ax = plt.subplots(figsize=(10, 6))\n",
    "sns.barplot(data=top_foreign, x='foreign_gross', y='title',hue='title', palette='Greens_r')\n",
    "ax.set_title('Top 10 Movies by International Gross Revenue', fontsize=16)\n",
    "ax.set_xlabel('International Revenue ($)')\n",
    "ax.set_ylabel('Movie Title')\n",
    "plt.show()"
   ]
  },
  {
   "cell_type": "markdown",
   "id": "5c284124",
   "metadata": {},
   "source": [
    "### ✅ **Insights**\n",
    "\n",
    "\n",
    "- 🌍 **Global Appeal Wins**: All top movies are high-budget blockbusters with global recognition and established fan bases.\n",
    "\n",
    "- 🧙‍♂️ **Harry Potter Tops Internationally**: Harry Potter and the Deathly Hallows Part 2 leads, indicating the strong global loyalty to long-running franchises.\n",
    "\n",
    "- 💥 **Superheroes Dominate**: Multiple Marvel titles (Avengers, Age of Ultron, Iron Man 3) rank high, proving superhero content translates well globally.\n",
    "\n",
    "- 🦖 **Action and Fantasy Drive Revenue**: Movies like Jurassic World, Transformers, and Aquaman show that action, fantasy, and sci-fi genres are highly favored internationally.\n",
    "\n",
    "- ❄️ **Family-Friendly Films Thrive**: Frozen and Minions prove that animated films can be international sensations, especially among family audiences.\n",
    "\n",
    "\n",
    "### 🎯 **Recommendations**\n",
    "\n",
    "- 🌐 **Global Distribution Strategy**: Invest in broad international releases, ensuring dubbed/subtitled versions cater to regional markets.\n",
    "\n",
    "- 📽️ **To Focus on Franchises**: Expand existing cinematic universes (e.g., Marvel, Jurassic) or develop new franchise-capable stories.\n",
    "\n",
    "- 👨‍👩‍👧‍👦 **To Prioritize Family Content**: Continue investing in animated and family-oriented films to capture multi-generational audiences.\n",
    "\n",
    "- 📊 **To Tailor for Regional Markets**: Consider region-specific themes, actors, or co-productions to penetrate large markets like China and India.\n",
    "\n",
    "- 🚀 **To Emphasize Visual Spectacle**: Since visual effects-heavy films succeed globally, allocate budget to VFX and globalized storytelling."
   ]
  },
  {
   "cell_type": "markdown",
   "id": "12a8d48d",
   "metadata": {},
   "source": [
    "In cell below I analyse **movie_budget** to find the **Impact of Production Budget on Worldwide Gross Revenue**"
   ]
  },
  {
   "cell_type": "code",
   "execution_count": 19,
   "id": "6e4f67aa",
   "metadata": {},
   "outputs": [
    {
     "data": {
      "image/png": "[encoded data removed]",
      "text/plain": [
       "<Figure size 1000x600 with 1 Axes>"
      ]
     },
     "metadata": {},
     "output_type": "display_data"
    }
   ],
   "source": [
    "import pandas as pd\n",
    "\n",
    "df_combined =df_combined\n",
    "# convert the data to numeric\n",
    "df_combined['production_budget'] = pd.to_numeric(df_combined['production_budget'], errors='coerce')\n",
    "df_combined['worldwide_gross'] = pd.to_numeric(df_combined['worldwide_gross'], errors='coerce')\n",
    "\n",
    "# plot regplot\n",
    "\n",
    "fig, ax = plt.subplots(figsize=(10, 6))\n",
    "sns.regplot(data=df_combined, x='production_budget', y='worldwide_gross', scatter_kws={'alpha': 0.4})\n",
    "ax.set_title('Impact of Production Budget on Worldwide Gross Revenue')\n",
    "ax.set_xlabel('Production Budget ($)')\n",
    "ax.set_ylabel('Worldwide Gross Revenue ($)')\n",
    "plt.show()"
   ]
  },
  {
   "cell_type": "markdown",
   "id": "4d98fe49",
   "metadata": {},
   "source": [
    "📊 **Findings**\n",
    "\n",
    "1. **Positive Correlation** \n",
    "\n",
    "- There is a clear positive trend: as production budgets increase, worldwide gross revenue tends to increase too.\n",
    "\n",
    "- The line of best fit **(regression line) confirms this upward trend, suggesting that higher investment generally yields higher returns**.\n",
    "\n",
    "2. **Diminishing Returns Potential**\n",
    "\n",
    "- Beyond a certain point **increases in revenue do not rise proportionally, indicating possible diminishing returns**.\n",
    "\n",
    "\n",
    "✅ **Recommendations**\n",
    "\n",
    "1. **Strategic Budgeting**\n",
    "\n",
    "- While increasing production budget can lead to higher revenue, companies should analyze return on investment (ROI) rather than just absolute revenue.\n",
    "\n",
    "- Consider investing moderately, especially if marketability or audience size is uncertain.\n",
    "\n",
    "2. **Focus on Efficiency**\n",
    "\n",
    "- Some low-to-mid budget films perform extremely well. Focus on content quality, marketing strategy, and timing.\n",
    "\n",
    "3. **Risk Management**\n",
    "\n",
    "- High-budget films carry higher financial risk. Consider diversifying investments across multiple mid-range budget films rather than one massive blockbuster."
   ]
  },
  {
   "cell_type": "markdown",
   "id": "9f5ab7b7",
   "metadata": {},
   "source": [
    "In cell below the analysis shows **Average Production Budget by Genre** for all genres"
   ]
  },
  {
   "cell_type": "code",
   "execution_count": 20,
   "id": "014751e0",
   "metadata": {},
   "outputs": [
    {
     "data": {
      "image/png": "[encoded data removed]",
      "text/plain": [
       "<Figure size 1200x600 with 1 Axes>"
      ]
     },
     "metadata": {},
     "output_type": "display_data"
    }
   ],
   "source": [
    "\n",
    "# Handle multiple genres per movie (split if genres are comma-separated)\n",
    "df = df_combined.assign(genres=df_combined['genres'].str.split(',')).explode('genres')\n",
    "df['genres'] = df['genres'].str.strip()\n",
    "\n",
    "# Group by genre and calculate average production budget\n",
    "genre_budget = df.groupby('genres')['production_budget'].mean().sort_values(ascending=False).reset_index()\n",
    "\n",
    "# Plot\n",
    "fig, ax =plt.subplots(figsize=(12, 6))\n",
    "sns.barplot(data=genre_budget, x='production_budget', y='genres', hue='genres', palette='rocket')\n",
    "ax.set_title('Average Production Budget by Genre')\n",
    "ax.set_xlabel('Average Production Budget ($)')\n",
    "ax.set_ylabel('Genre')\n",
    "plt.show()\n"
   ]
  },
  {
   "cell_type": "markdown",
   "id": "24bc4a7e",
   "metadata": {},
   "source": [
    "## **Production Budget Insights by Genre**\n",
    "\n",
    "### **Highest Budget Genres**\n",
    "\n",
    "- **Genres:** Adventure, Sci-Fi, Animation, Fantasy  \n",
    "- **Average Budget:** $0.8M–$1.2M  \n",
    "- 💡 These genres often involve extensive special effects, CGI, or large-scale sets.\n",
    "\n",
    "\n",
    "\n",
    "### **Mid-Range Budget Genres**\n",
    "\n",
    "- **Genres:** Action, Western, Musical, Sport, Family  \n",
    "- **Average Budget:** $0.4M–$0.8M  \n",
    "- 💡 These may require stunts, choreography, or family-friendly production values.\n",
    "\n",
    "\n",
    "\n",
    "### 💡 **Lowest Budget Genres**\n",
    "\n",
    "- **Genres:** Comedy, Thriller, History, Mystery, Drama, Crime, Biography, Documentary, Music, War, Horror, Romance, News  \n",
    "- **Average Budget:** $0.4M  \n",
    "- 💡 Typically rely on storytelling, dialogue, or real-world settings, making them cost-effective.\n",
    "\n",
    "\n",
    "\n",
    "## **Notable Observations**\n",
    "\n",
    "- 🎃 **Horror** and 💘 **Romance** are low-budget genres but often profitable due to strong audience demand.\n",
    "- 📽️ **Documentary** and 📰 **News** have the smallest budgets, requiring minimal production design or effects.\n",
    "\n",
    "\n",
    "## ✅ **Recommendations**\n",
    "\n",
    "### **For Studios with Limited Budgets**\n",
    "\n",
    "-  **Focus on low-cost genres** like Horror, Romance, Comedy, or Drama  \n",
    "-  These require minimal investment but can yield high returns when well-executed\n",
    "\n",
    "\n",
    "\n",
    "### 💰 **For High-Budget Productions**\n",
    "\n",
    "-  **Invest in Adventure, Sci-Fi, or Animation**  \n",
    "-  These genres attract large audiences and have strong franchise potential—but come with higher risks\n",
    "\n",
    "\n",
    "\n",
    "### ⚖️ **Balanced Portfolio Strategy**\n",
    "\n",
    "-  **Mix high-budget blockbusters** (e.g., Fantasy, Action)  \n",
    "- **Include low-budget genres** (e.g., Thriller, Crime)  \n",
    "- This diversification helps manage risk and maximize overall profitability\n",
    "\n",
    "\n",
    "\n",
    "### 📈 **Market Trends to Leverage**\n",
    "\n",
    "-  **Explore hybrid genres** like Sci-Fi Horror or Action-Comedy  \n",
    "-  Combines high-budget appeal with cost-effective storytelling\n",
    "\n",
    "\n",
    "\n",
    "### **Audience Targeting**\n",
    "- **Match budget to audience expectations**  \n",
    "- For example, Animation and Family films should deliver high production quality to meet viewer standards\n",
    "\n"
   ]
  },
  {
   "cell_type": "markdown",
   "id": "9491c2f7",
   "metadata": {},
   "source": [
    "## **Conclusion**\n",
    "\n",
    "- The company should consider starting with **thriller** films, as this genre has demonstrated consistently high production volume over time, indicating steady demand.\n",
    "\n",
    "- To attract a broad audience early on, the company may focus on genres such as *Adventure*, *Sci-Fi*, and *Fantasy*. These genres typically require higher budgets, often resulting in higher-quality productions that appeal to a wide market.\n",
    "\n",
    "- As a strategic entry point, the company could begin with **mid-range budget** genres such as *Action* and *Sports*, then gradually scale up to higher-budget productions as revenue and experience grow.\n",
    "\n",
    "- Expanding **global marketing efforts** is crucial, as analysis shows a strong correlation between budget and international revenue — indicating that higher investments often lead to greater returns.\n",
    "\n",
    "- Initial investments should be moderate. Overspending early could be risky, especially given that returns may diminish beyond a certain budget threshold, leading to potential losses.\n",
    "\n",
    "- The company should **prioritize family-friendly content**, including animated and family-oriented films, as these have consistently captured wide audience appeal and long-term value.\n",
    "\n",
    "- It is advisable to **leverage proven genres** particularly *Superhero*, *Fantasy*, and *Animated* which have a strong track record of commercial success and audience engagement.\n",
    "\n",
    "- A strong emphasis should be placed on **market trend monitoring**. Tracking shifting audience preferences, especially in response to events like the 2019 downturn, will enable timely adjustments to production strategies and content focus.\n"
   ]
  }
 ],
 "metadata": {
  "kernelspec": {
   "display_name": ".venv",
   "language": "python",
   "name": "python3"
  },
  "language_info": {
   "codemirror_mode": {
    "name": "ipython",
    "version": 3
   },
   "file_extension": ".py",
   "mimetype": "text/x-python",
   "name": "python",
   "nbconvert_exporter": "python",
   "pygments_lexer": "ipython3",
   "version": "3.11.9"
  }
 },
 "nbformat": 4,
 "nbformat_minor": 5
}
