{
 "cells": [
  {
   "cell_type": "markdown",
   "id": "d8d9355f",
   "metadata": {},
   "source": [
    "## 🎬  **Project Title** : \n",
    "\n",
    "**Box Office Gold**: **Data-Driven Insights for a Profitable Movie Studio Launch**\n",
    "\n",
    "### **Business Understanding**\n",
    "\n",
    "#### 👥 Stakeholder\n",
    "The primary stakeholder is the executive team of the company's new movie studio. They need insights into the film industry to make confident decisions on what type of movies to produce.\n",
    "\n",
    "🌍 **Domain**:\n",
    "\n",
    "**Entertainment & Media Analytics (specifically, Film Industry/Box Office Performance)**\n",
    "\n",
    "📘 **Introduction**:\n",
    "\n",
    "With the growing trend of major companies venturing into original film production, my organization is planning to launch its own movie studio. However, without prior experience in the film industry, there’s uncertainty about what types of movies resonate with audiences and drive box office success. This project aims to analyze trends in box office data to uncover what genres, budgets, and other film attributes contribute most to commercial success — providing strategic guidance for profitable content creation.\n",
    "\n",
    "#### 🎯 **Business Objectives** :\n",
    "\n",
    "1. **To Identify High-Performing Film Genres**:\n",
    "\n",
    "* Analyze box office data to determine which movie genres consistently generate the highest revenue and audience engagement.\n",
    "\n",
    "2. **To Examine the Relationship Between Budget and Profitability**:\n",
    "\n",
    "* Investigate how production budgets influence box office success and identify the budget range that maximizes return on investment (ROI).\n",
    "\n",
    "3. **To Assess the Impact of Key Film Attributes**:\n",
    "\n",
    "* Explore how factors such as runtime, cast, release date (season), and film ratings (e.g., PG-13, R) affect a movie’s performance.\n",
    "\n",
    "4. **To Benchmark Against Top Studios** :\n",
    "\n",
    "* Analyze which production studios are leading in terms of commercial success and identify patterns in their film portfolios.\n",
    "\n",
    "5. **To Provide Actionable Recommendations**:\n",
    "\n",
    "Based on the insights, suggest the optimal type of film (genre, budget, release timing, etc.) that the company should produce for a successful studio launch.\n",
    "\n",
    "#### 📊 **Project Plan**: **Box Office Gold – Data-Driven Insights for a Profitable Movie Studio Launch**\n",
    "\n",
    "🔍 **1. Problem Understanding & Goal Definition**\n",
    "\n",
    "* Review business problem: Identify film types that succeed at the box office.\n",
    "\n",
    "* Define clear goals: Provide recommendations on genre, budget, and release strategy.\n",
    "\n",
    "\n",
    "📦 **2. Data Collection**\n",
    "\n",
    "**Source Box Office Datasets from platforms like**:\n",
    "\n",
    "* Im.db.zip(movie_basics & Movie_ratings)\n",
    "\n",
    "* bom.movie_gross.gz\n",
    "\n",
    "**Collect relevant data fields**:\n",
    "\n",
    "Genre, budget, revenue, runtime, release date, production company, director, cast, rating, etc.\n",
    "\n",
    "\n",
    "🧹 **3. Data Cleaning & Preprocessing**\n",
    "\n",
    "* Handle missing values and inconsistencies.\n",
    "* Standardize formats (dates, currencies, genres).\n",
    "* Convert categorical variables where necessary.\n",
    "* Remove duplicates or irrelevant records (e.g., short films, non-theatrical releases).\n",
    "\n",
    "📊 **4. Exploratory Data Analysis (EDA)**\n",
    "\n",
    "* Univariate & Bivariate Analysis (e.g., budget vs revenue, genre vs revenue).\n",
    "* Correlation heatmaps, box plots, histograms.\n",
    "* Identify outliers and common patterns in successful films.\n",
    "* Segment data by genre, production studio, or release year.\n",
    "\n",
    "🧠 **5. Insights & Recommendations**\n",
    "\n",
    "* Summarize which genres are top performers.\n",
    "* Recommend ideal budget ranges.\n",
    "* Identify optimal release months/seasons.\n",
    "* Suggest attributes linked to successful movies (e.g., popular runtimes, ratings).\n",
    "\n",
    "📑 **6. Reporting & Visualization**\n",
    "\n",
    "* Build clear and compelling visualizations (using Tableau, Power BI, or Python’s Seaborn/Matplotlib).\n",
    "* Draft a business-focused report or slide deck.\n",
    "\n",
    "**Include:**\n",
    "\n",
    "* Key findings\n",
    "* Strategic suggestions\n",
    "* Visual evidence\n",
    "\n",
    "📢 **7. Presentation to Stakeholders**\n",
    "\n",
    "* Communicate insights in non-technical language.\n",
    "* Show data-driven rationale for proposed movie types.\n",
    "* Allow room for stakeholder feedback and Q&A.\n",
    "\n",
    "\n",
    "\n",
    "\n",
    "\n",
    "\n",
    "\n"
   ]
  },
  {
   "cell_type": "markdown",
   "id": "a1a9f5f6",
   "metadata": {},
   "source": [
    "### **Overview/Background**\n",
    "\n",
    "As the entertainment industry shifts toward original content production, many large companies are investing in their own movie studios to capture audience attention and drive revenue. The company seeks to follow this trend but lacks experience in film production. To ensure a successful studio launch, this project aims to analyze historical box office data to uncover key trends in genre performance, budget impact, and other critical success factors. The goal is to provide data-driven insights that will guide strategic decisions on what types of films to produce for maximum box office success.\n",
    "\n",
    "\n",
    "### **Challenges**\n",
    "\n",
    "One of the main challenges in this project is acquiring comprehensive and reliable box office data that includes essential attributes such as genre, budget, revenue, and release details. Additionally, the film industry is influenced by unpredictable factors like audience trends, star power, and marketing, which are difficult to quantify. Ensuring data quality, handling missing or inconsistent entries, and drawing actionable insights that align with business goals also present key hurdles in the analysis process.\n",
    "\n",
    "\n",
    "### **Proposed Solution**\n",
    "\n",
    "To address the business challenge, this project proposes a data-driven approach that involves collecting and analyzing historical box office data to identify patterns in successful films. By examining factors such as genre, budget, revenue, release timing, and other key attributes, the project will uncover trends that correlate with box office success. The insights will then be translated into practical recommendations to guide the company in producing films with higher chances of commercial success.\n",
    "\n",
    "### **Conclusion**:\n",
    "\n",
    "Launching a successful movie studio requires more than creativity—it demands strategic, data-informed decisions. This project leverages box office analytics to uncover what drives film profitability, helping the company make confident choices about genre, budget, and release strategy. With clear insights and recommendations, the company will be well-positioned to enter the competitive film industry with a strong foundation for success.\n",
    "\n",
    "### ❗ **Problem Statement**\n",
    "\n",
    "As the company plans to venture into original film production, it faces significant uncertainty due to a lack of industry experience. 🎬 Making informed decisions about what types of films to produce is challenging without a clear understanding of market trends and performance drivers. Additionally, obtaining accurate and complete box office data is difficult, and the film industry itself is influenced by various unpredictable factors such as changing audience preferences, marketing impact, and star power. These challenges make it hard to identify what contributes to a movie’s commercial success and pose a risk to the company’s new venture.\n",
    "\n",
    "\n",
    "🎯 **Objectives**\n",
    "\n",
    "- **To analyze historical movie data to identify patterns and trends** related to box office performance.\n",
    "\n",
    "- **To identify the highest-grossing films and the characteristics that contributed to their success**.\n",
    "\n",
    "- To determine key factors **such as genre, budget, cast, and runtime** that significantly influence box office revenue.\n",
    "\n",
    "- To Present insights visually through an interactive dashboard and a clear, non-technical presentation tailored for business stakeholders.\n",
    "\n",
    "- **To Provide actionable recommendations** to guide the company's new movie studio in selecting and producing high-potential films."
   ]
  },
  {
   "cell_type": "markdown",
   "id": "3823743b",
   "metadata": {},
   "source": [
    "## 📊 **Data Understanding**\n",
    "\n",
    "The data for this project comes from multiple sources:\n",
    "\n",
    "1. **im.db.zip**:\n",
    "\n",
    "**A zipped SQLite database that contains various tables. The two most relevant tables are**:\n",
    "\n",
    "* **movie_basics**: Likely includes key information about movies such as titles, genres, release dates, runtime, etc.\n",
    "* **movie_ratings**: Contains viewer and critic ratings, providing insight into movie reception.\n",
    "\n",
    "2. **bom.movie_gross.csv.gz**:\n",
    "\n",
    "* A compressed CSV file containing box office gross data. This file is essential for analyzing revenue trends and overall financial performance.\n",
    "* These sources combined offer a comprehensive view of film attributes and performance metrics, which are crucial for understanding the factors behind movie success.\n",
    "\n"
   ]
  },
  {
   "cell_type": "markdown",
   "id": "bded0421",
   "metadata": {},
   "source": [
    "In cell below I **import Libraries** to use to achieve the project goals"
   ]
  },
  {
   "cell_type": "code",
   "execution_count": 2,
   "id": "0bf569e9",
   "metadata": {},
   "outputs": [],
   "source": [
    "import sqlite3\n",
    "import pandas as pd\n",
    "import numpy as np\n",
    "import matplotlib.pyplot as plt\n",
    "import seaborn as sns\n"
   ]
  },
  {
   "cell_type": "markdown",
   "id": "a2b3640d",
   "metadata": {},
   "source": [
    "In cell below I load and organize data for analysis from `im.db.zip` and `bom.movie_gross.csv.gz` using variable **film_df**. The data is contained in different sources. For the `im.db (after extracting)` I will all tables which I am focusing with in this project `movie_basics` `directors`, `movie_akas`,`movie_ratings`, `persons`, `principals` and\n",
    ". And for the `bom.movie_gross.csv.gz (compressed file)`"
   ]
  },
  {
   "cell_type": "code",
   "execution_count": 3,
   "id": "02f35e44",
   "metadata": {},
   "outputs": [
    {
     "data": {
      "text/plain": [
       "[('movie_basics',),\n",
       " ('directors',),\n",
       " ('known_for',),\n",
       " ('movie_akas',),\n",
       " ('movie_ratings',),\n",
       " ('persons',),\n",
       " ('principals',),\n",
       " ('writers',)]"
      ]
     },
     "execution_count": 3,
     "metadata": {},
     "output_type": "execute_result"
    }
   ],
   "source": [
    "# create connection to im.db\n",
    "\n",
    "conn = sqlite3.connect('zippedData/im.db/im.db')\n",
    "\n",
    "# initialize cursor object \n",
    "cur = conn.cursor()\n",
    "\n",
    "#output all tables on im.db\n",
    "cur.execute(\"SELECT name from sqlite_master\").fetchall()"
   ]
  },
  {
   "cell_type": "markdown",
   "id": "c46c0ada",
   "metadata": {},
   "source": [
    "Works better but the execution is long"
   ]
  },
  {
   "cell_type": "code",
   "execution_count": 17,
   "id": "0bbbac21",
   "metadata": {},
   "outputs": [],
   "source": [
    "\n",
    "\n",
    "#query =\"\"\"SELECT *\n",
    "              # JOIN movie_akas USING (movie_id)\n",
    "               # JOIN movie_basics USING (person_id)\n",
    "               # JOIN movie_ratings USING (movie_id)\n",
    "                #JOIN persons USING (person_id)\n",
    "                \n",
    "               # ;\n",
    "#\"\"\"\n",
    "\n",
    "# output query using pandas\n",
    "\n",
    "#film_df = pd.read_sql(query, conn)\n",
    "#film_df.head()"
   ]
  },
  {
   "cell_type": "code",
   "execution_count": 13,
   "id": "3f6da9ed",
   "metadata": {},
   "outputs": [
    {
     "data": {
      "application/vnd.microsoft.datawrangler.viewer.v0+json": {
       "columns": [
        {
         "name": "index",
         "rawType": "int64",
         "type": "integer"
        },
        {
         "name": "movie_id",
         "rawType": "object",
         "type": "string"
        },
        {
         "name": "primary_title",
         "rawType": "object",
         "type": "string"
        },
        {
         "name": "original_title",
         "rawType": "object",
         "type": "string"
        },
        {
         "name": "start_year",
         "rawType": "int64",
         "type": "integer"
        },
        {
         "name": "runtime_minutes",
         "rawType": "float64",
         "type": "float"
        },
        {
         "name": "genres",
         "rawType": "object",
         "type": "string"
        }
       ],
       "conversionMethod": "pd.DataFrame",
       "ref": "86278b56-35a4-4900-a837-4118ff77d800",
       "rows": [
        [
         "0",
         "tt0063540",
         "Sunghursh",
         "Sunghursh",
         "2013",
         "175.0",
         "Action,Crime,Drama"
        ],
        [
         "1",
         "tt0066787",
         "One Day Before the Rainy Season",
         "Ashad Ka Ek Din",
         "2019",
         "114.0",
         "Biography,Drama"
        ],
        [
         "2",
         "tt0069049",
         "The Other Side of the Wind",
         "The Other Side of the Wind",
         "2018",
         "122.0",
         "Drama"
        ],
        [
         "3",
         "tt0069204",
         "Sabse Bada Sukh",
         "Sabse Bada Sukh",
         "2018",
         null,
         "Comedy,Drama"
        ],
        [
         "4",
         "tt0100275",
         "The Wandering Soap Opera",
         "La Telenovela Errante",
         "2017",
         "80.0",
         "Comedy,Drama,Fantasy"
        ]
       ],
       "shape": {
        "columns": 6,
        "rows": 5
       }
      },
      "text/html": [
       "<div>\n",
       "<style scoped>\n",
       "    .dataframe tbody tr th:only-of-type {\n",
       "        vertical-align: middle;\n",
       "    }\n",
       "\n",
       "    .dataframe tbody tr th {\n",
       "        vertical-align: top;\n",
       "    }\n",
       "\n",
       "    .dataframe thead th {\n",
       "        text-align: right;\n",
       "    }\n",
       "</style>\n",
       "<table border=\"1\" class=\"dataframe\">\n",
       "  <thead>\n",
       "    <tr style=\"text-align: right;\">\n",
       "      <th></th>\n",
       "      <th>movie_id</th>\n",
       "      <th>primary_title</th>\n",
       "      <th>original_title</th>\n",
       "      <th>start_year</th>\n",
       "      <th>runtime_minutes</th>\n",
       "      <th>genres</th>\n",
       "    </tr>\n",
       "  </thead>\n",
       "  <tbody>\n",
       "    <tr>\n",
       "      <th>0</th>\n",
       "      <td>tt0063540</td>\n",
       "      <td>Sunghursh</td>\n",
       "      <td>Sunghursh</td>\n",
       "      <td>2013</td>\n",
       "      <td>175.0</td>\n",
       "      <td>Action,Crime,Drama</td>\n",
       "    </tr>\n",
       "    <tr>\n",
       "      <th>1</th>\n",
       "      <td>tt0066787</td>\n",
       "      <td>One Day Before the Rainy Season</td>\n",
       "      <td>Ashad Ka Ek Din</td>\n",
       "      <td>2019</td>\n",
       "      <td>114.0</td>\n",
       "      <td>Biography,Drama</td>\n",
       "    </tr>\n",
       "    <tr>\n",
       "      <th>2</th>\n",
       "      <td>tt0069049</td>\n",
       "      <td>The Other Side of the Wind</td>\n",
       "      <td>The Other Side of the Wind</td>\n",
       "      <td>2018</td>\n",
       "      <td>122.0</td>\n",
       "      <td>Drama</td>\n",
       "    </tr>\n",
       "    <tr>\n",
       "      <th>3</th>\n",
       "      <td>tt0069204</td>\n",
       "      <td>Sabse Bada Sukh</td>\n",
       "      <td>Sabse Bada Sukh</td>\n",
       "      <td>2018</td>\n",
       "      <td>NaN</td>\n",
       "      <td>Comedy,Drama</td>\n",
       "    </tr>\n",
       "    <tr>\n",
       "      <th>4</th>\n",
       "      <td>tt0100275</td>\n",
       "      <td>The Wandering Soap Opera</td>\n",
       "      <td>La Telenovela Errante</td>\n",
       "      <td>2017</td>\n",
       "      <td>80.0</td>\n",
       "      <td>Comedy,Drama,Fantasy</td>\n",
       "    </tr>\n",
       "  </tbody>\n",
       "</table>\n",
       "</div>"
      ],
      "text/plain": [
       "    movie_id                    primary_title              original_title  \\\n",
       "0  tt0063540                        Sunghursh                   Sunghursh   \n",
       "1  tt0066787  One Day Before the Rainy Season             Ashad Ka Ek Din   \n",
       "2  tt0069049       The Other Side of the Wind  The Other Side of the Wind   \n",
       "3  tt0069204                  Sabse Bada Sukh             Sabse Bada Sukh   \n",
       "4  tt0100275         The Wandering Soap Opera       La Telenovela Errante   \n",
       "\n",
       "   start_year  runtime_minutes                genres  \n",
       "0        2013            175.0    Action,Crime,Drama  \n",
       "1        2019            114.0       Biography,Drama  \n",
       "2        2018            122.0                 Drama  \n",
       "3        2018              NaN          Comedy,Drama  \n",
       "4        2017             80.0  Comedy,Drama,Fantasy  "
      ]
     },
     "execution_count": 13,
     "metadata": {},
     "output_type": "execute_result"
    }
   ],
   "source": [
    "# Query im.db to get data from movie_basics.\n",
    "\n",
    "query = \"\"\"\n",
    "SELECT * \n",
    " FROM movie_basics;\n",
    "\"\"\"\n",
    "\n",
    "# output query using pandas\n",
    "\n",
    "movie_basics_df = pd.read_sql(query, conn)\n",
    "movie_basics_df.head()"
   ]
  },
  {
   "cell_type": "code",
   "execution_count": 14,
   "id": "0266aa37",
   "metadata": {},
   "outputs": [
    {
     "data": {
      "application/vnd.microsoft.datawrangler.viewer.v0+json": {
       "columns": [
        {
         "name": "index",
         "rawType": "int64",
         "type": "integer"
        },
        {
         "name": "movie_id",
         "rawType": "object",
         "type": "string"
        },
        {
         "name": "averagerating",
         "rawType": "float64",
         "type": "float"
        },
        {
         "name": "numvotes",
         "rawType": "int64",
         "type": "integer"
        }
       ],
       "conversionMethod": "pd.DataFrame",
       "ref": "2e5817b1-d95d-4140-ad9e-cf429315b1aa",
       "rows": [
        [
         "0",
         "tt10356526",
         "8.3",
         "31"
        ],
        [
         "1",
         "tt10384606",
         "8.9",
         "559"
        ],
        [
         "2",
         "tt1042974",
         "6.4",
         "20"
        ],
        [
         "3",
         "tt1043726",
         "4.2",
         "50352"
        ],
        [
         "4",
         "tt1060240",
         "6.5",
         "21"
        ]
       ],
       "shape": {
        "columns": 3,
        "rows": 5
       }
      },
      "text/html": [
       "<div>\n",
       "<style scoped>\n",
       "    .dataframe tbody tr th:only-of-type {\n",
       "        vertical-align: middle;\n",
       "    }\n",
       "\n",
       "    .dataframe tbody tr th {\n",
       "        vertical-align: top;\n",
       "    }\n",
       "\n",
       "    .dataframe thead th {\n",
       "        text-align: right;\n",
       "    }\n",
       "</style>\n",
       "<table border=\"1\" class=\"dataframe\">\n",
       "  <thead>\n",
       "    <tr style=\"text-align: right;\">\n",
       "      <th></th>\n",
       "      <th>movie_id</th>\n",
       "      <th>averagerating</th>\n",
       "      <th>numvotes</th>\n",
       "    </tr>\n",
       "  </thead>\n",
       "  <tbody>\n",
       "    <tr>\n",
       "      <th>0</th>\n",
       "      <td>tt10356526</td>\n",
       "      <td>8.3</td>\n",
       "      <td>31</td>\n",
       "    </tr>\n",
       "    <tr>\n",
       "      <th>1</th>\n",
       "      <td>tt10384606</td>\n",
       "      <td>8.9</td>\n",
       "      <td>559</td>\n",
       "    </tr>\n",
       "    <tr>\n",
       "      <th>2</th>\n",
       "      <td>tt1042974</td>\n",
       "      <td>6.4</td>\n",
       "      <td>20</td>\n",
       "    </tr>\n",
       "    <tr>\n",
       "      <th>3</th>\n",
       "      <td>tt1043726</td>\n",
       "      <td>4.2</td>\n",
       "      <td>50352</td>\n",
       "    </tr>\n",
       "    <tr>\n",
       "      <th>4</th>\n",
       "      <td>tt1060240</td>\n",
       "      <td>6.5</td>\n",
       "      <td>21</td>\n",
       "    </tr>\n",
       "  </tbody>\n",
       "</table>\n",
       "</div>"
      ],
      "text/plain": [
       "     movie_id  averagerating  numvotes\n",
       "0  tt10356526            8.3        31\n",
       "1  tt10384606            8.9       559\n",
       "2   tt1042974            6.4        20\n",
       "3   tt1043726            4.2     50352\n",
       "4   tt1060240            6.5        21"
      ]
     },
     "execution_count": 14,
     "metadata": {},
     "output_type": "execute_result"
    }
   ],
   "source": [
    "# query movie_ratings table\n",
    "\n",
    "query = \"\"\"\n",
    "SELECT *\n",
    " FROM movie_ratings;\n",
    "\"\"\"\n",
    "\n",
    "movie_rating_df = pd.read_sql(query, conn)\n",
    "movie_rating_df.head()"
   ]
  },
  {
   "cell_type": "markdown",
   "id": "617df05c",
   "metadata": {},
   "source": []
  },
  {
   "cell_type": "code",
   "execution_count": null,
   "id": "816df9c4",
   "metadata": {},
   "outputs": [
    {
     "data": {
      "application/vnd.microsoft.datawrangler.viewer.v0+json": {
       "columns": [
        {
         "name": "index",
         "rawType": "int64",
         "type": "integer"
        },
        {
         "name": "movie_id",
         "rawType": "object",
         "type": "string"
        },
        {
         "name": "ordering",
         "rawType": "int64",
         "type": "integer"
        },
        {
         "name": "person_id",
         "rawType": "object",
         "type": "string"
        },
        {
         "name": "category",
         "rawType": "object",
         "type": "string"
        },
        {
         "name": "job",
         "rawType": "object",
         "type": "unknown"
        },
        {
         "name": "characters",
         "rawType": "object",
         "type": "unknown"
        }
       ],
       "conversionMethod": "pd.DataFrame",
       "ref": "d8130da2-bec7-4374-b7ab-ef544e01862b",
       "rows": [
        [
         "0",
         "tt0111414",
         "1",
         "nm0246005",
         "actor",
         null,
         "[\"The Man\"]"
        ],
        [
         "1",
         "tt0111414",
         "2",
         "nm0398271",
         "director",
         null,
         null
        ],
        [
         "2",
         "tt0111414",
         "3",
         "nm3739909",
         "producer",
         "producer",
         null
        ],
        [
         "3",
         "tt0323808",
         "10",
         "nm0059247",
         "editor",
         null,
         null
        ],
        [
         "4",
         "tt0323808",
         "1",
         "nm3579312",
         "actress",
         null,
         "[\"Beth Boothby\"]"
        ]
       ],
       "shape": {
        "columns": 6,
        "rows": 5
       }
      },
      "text/html": [
       "<div>\n",
       "<style scoped>\n",
       "    .dataframe tbody tr th:only-of-type {\n",
       "        vertical-align: middle;\n",
       "    }\n",
       "\n",
       "    .dataframe tbody tr th {\n",
       "        vertical-align: top;\n",
       "    }\n",
       "\n",
       "    .dataframe thead th {\n",
       "        text-align: right;\n",
       "    }\n",
       "</style>\n",
       "<table border=\"1\" class=\"dataframe\">\n",
       "  <thead>\n",
       "    <tr style=\"text-align: right;\">\n",
       "      <th></th>\n",
       "      <th>movie_id</th>\n",
       "      <th>ordering</th>\n",
       "      <th>person_id</th>\n",
       "      <th>category</th>\n",
       "      <th>job</th>\n",
       "      <th>characters</th>\n",
       "    </tr>\n",
       "  </thead>\n",
       "  <tbody>\n",
       "    <tr>\n",
       "      <th>0</th>\n",
       "      <td>tt0111414</td>\n",
       "      <td>1</td>\n",
       "      <td>nm0246005</td>\n",
       "      <td>actor</td>\n",
       "      <td>None</td>\n",
       "      <td>[\"The Man\"]</td>\n",
       "    </tr>\n",
       "    <tr>\n",
       "      <th>1</th>\n",
       "      <td>tt0111414</td>\n",
       "      <td>2</td>\n",
       "      <td>nm0398271</td>\n",
       "      <td>director</td>\n",
       "      <td>None</td>\n",
       "      <td>None</td>\n",
       "    </tr>\n",
       "    <tr>\n",
       "      <th>2</th>\n",
       "      <td>tt0111414</td>\n",
       "      <td>3</td>\n",
       "      <td>nm3739909</td>\n",
       "      <td>producer</td>\n",
       "      <td>producer</td>\n",
       "      <td>None</td>\n",
       "    </tr>\n",
       "    <tr>\n",
       "      <th>3</th>\n",
       "      <td>tt0323808</td>\n",
       "      <td>10</td>\n",
       "      <td>nm0059247</td>\n",
       "      <td>editor</td>\n",
       "      <td>None</td>\n",
       "      <td>None</td>\n",
       "    </tr>\n",
       "    <tr>\n",
       "      <th>4</th>\n",
       "      <td>tt0323808</td>\n",
       "      <td>1</td>\n",
       "      <td>nm3579312</td>\n",
       "      <td>actress</td>\n",
       "      <td>None</td>\n",
       "      <td>[\"Beth Boothby\"]</td>\n",
       "    </tr>\n",
       "  </tbody>\n",
       "</table>\n",
       "</div>"
      ],
      "text/plain": [
       "    movie_id  ordering  person_id  category       job        characters\n",
       "0  tt0111414         1  nm0246005     actor      None       [\"The Man\"]\n",
       "1  tt0111414         2  nm0398271  director      None              None\n",
       "2  tt0111414         3  nm3739909  producer  producer              None\n",
       "3  tt0323808        10  nm0059247    editor      None              None\n",
       "4  tt0323808         1  nm3579312   actress      None  [\"Beth Boothby\"]"
      ]
     },
     "execution_count": 18,
     "metadata": {},
     "output_type": "execute_result"
    }
   ],
   "source": [
    "# principals table\n",
    "query = \"\"\"\n",
    "SELECT *\n",
    " FROM principals;\n",
    "\"\"\"\n",
    "\n",
    "principals_df = pd.read_sql(query, conn)\n",
    "principals_df.head()"
   ]
  },
  {
   "cell_type": "code",
   "execution_count": 16,
   "id": "1785711f",
   "metadata": {},
   "outputs": [
    {
     "data": {
      "application/vnd.microsoft.datawrangler.viewer.v0+json": {
       "columns": [
        {
         "name": "index",
         "rawType": "int64",
         "type": "integer"
        },
        {
         "name": "movie_id",
         "rawType": "object",
         "type": "string"
        },
        {
         "name": "primary_title",
         "rawType": "object",
         "type": "string"
        },
        {
         "name": "original_title",
         "rawType": "object",
         "type": "string"
        },
        {
         "name": "start_year",
         "rawType": "int64",
         "type": "integer"
        },
        {
         "name": "runtime_minutes",
         "rawType": "float64",
         "type": "float"
        },
        {
         "name": "genres",
         "rawType": "object",
         "type": "string"
        },
        {
         "name": "averagerating",
         "rawType": "float64",
         "type": "float"
        },
        {
         "name": "numvotes",
         "rawType": "int64",
         "type": "integer"
        }
       ],
       "conversionMethod": "pd.DataFrame",
       "ref": "81aa8376-9b75-4687-9022-117cd9df825f",
       "rows": [
        [
         "0",
         "tt0063540",
         "Sunghursh",
         "Sunghursh",
         "2013",
         "175.0",
         "Action,Crime,Drama",
         "7.0",
         "77"
        ],
        [
         "1",
         "tt0066787",
         "One Day Before the Rainy Season",
         "Ashad Ka Ek Din",
         "2019",
         "114.0",
         "Biography,Drama",
         "7.2",
         "43"
        ],
        [
         "2",
         "tt0069049",
         "The Other Side of the Wind",
         "The Other Side of the Wind",
         "2018",
         "122.0",
         "Drama",
         "6.9",
         "4517"
        ],
        [
         "3",
         "tt0069204",
         "Sabse Bada Sukh",
         "Sabse Bada Sukh",
         "2018",
         null,
         "Comedy,Drama",
         "6.1",
         "13"
        ],
        [
         "4",
         "tt0100275",
         "The Wandering Soap Opera",
         "La Telenovela Errante",
         "2017",
         "80.0",
         "Comedy,Drama,Fantasy",
         "6.5",
         "119"
        ]
       ],
       "shape": {
        "columns": 8,
        "rows": 5
       }
      },
      "text/html": [
       "<div>\n",
       "<style scoped>\n",
       "    .dataframe tbody tr th:only-of-type {\n",
       "        vertical-align: middle;\n",
       "    }\n",
       "\n",
       "    .dataframe tbody tr th {\n",
       "        vertical-align: top;\n",
       "    }\n",
       "\n",
       "    .dataframe thead th {\n",
       "        text-align: right;\n",
       "    }\n",
       "</style>\n",
       "<table border=\"1\" class=\"dataframe\">\n",
       "  <thead>\n",
       "    <tr style=\"text-align: right;\">\n",
       "      <th></th>\n",
       "      <th>movie_id</th>\n",
       "      <th>primary_title</th>\n",
       "      <th>original_title</th>\n",
       "      <th>start_year</th>\n",
       "      <th>runtime_minutes</th>\n",
       "      <th>genres</th>\n",
       "      <th>averagerating</th>\n",
       "      <th>numvotes</th>\n",
       "    </tr>\n",
       "  </thead>\n",
       "  <tbody>\n",
       "    <tr>\n",
       "      <th>0</th>\n",
       "      <td>tt0063540</td>\n",
       "      <td>Sunghursh</td>\n",
       "      <td>Sunghursh</td>\n",
       "      <td>2013</td>\n",
       "      <td>175.0</td>\n",
       "      <td>Action,Crime,Drama</td>\n",
       "      <td>7.0</td>\n",
       "      <td>77</td>\n",
       "    </tr>\n",
       "    <tr>\n",
       "      <th>1</th>\n",
       "      <td>tt0066787</td>\n",
       "      <td>One Day Before the Rainy Season</td>\n",
       "      <td>Ashad Ka Ek Din</td>\n",
       "      <td>2019</td>\n",
       "      <td>114.0</td>\n",
       "      <td>Biography,Drama</td>\n",
       "      <td>7.2</td>\n",
       "      <td>43</td>\n",
       "    </tr>\n",
       "    <tr>\n",
       "      <th>2</th>\n",
       "      <td>tt0069049</td>\n",
       "      <td>The Other Side of the Wind</td>\n",
       "      <td>The Other Side of the Wind</td>\n",
       "      <td>2018</td>\n",
       "      <td>122.0</td>\n",
       "      <td>Drama</td>\n",
       "      <td>6.9</td>\n",
       "      <td>4517</td>\n",
       "    </tr>\n",
       "    <tr>\n",
       "      <th>3</th>\n",
       "      <td>tt0069204</td>\n",
       "      <td>Sabse Bada Sukh</td>\n",
       "      <td>Sabse Bada Sukh</td>\n",
       "      <td>2018</td>\n",
       "      <td>NaN</td>\n",
       "      <td>Comedy,Drama</td>\n",
       "      <td>6.1</td>\n",
       "      <td>13</td>\n",
       "    </tr>\n",
       "    <tr>\n",
       "      <th>4</th>\n",
       "      <td>tt0100275</td>\n",
       "      <td>The Wandering Soap Opera</td>\n",
       "      <td>La Telenovela Errante</td>\n",
       "      <td>2017</td>\n",
       "      <td>80.0</td>\n",
       "      <td>Comedy,Drama,Fantasy</td>\n",
       "      <td>6.5</td>\n",
       "      <td>119</td>\n",
       "    </tr>\n",
       "  </tbody>\n",
       "</table>\n",
       "</div>"
      ],
      "text/plain": [
       "    movie_id                    primary_title              original_title  \\\n",
       "0  tt0063540                        Sunghursh                   Sunghursh   \n",
       "1  tt0066787  One Day Before the Rainy Season             Ashad Ka Ek Din   \n",
       "2  tt0069049       The Other Side of the Wind  The Other Side of the Wind   \n",
       "3  tt0069204                  Sabse Bada Sukh             Sabse Bada Sukh   \n",
       "4  tt0100275         The Wandering Soap Opera       La Telenovela Errante   \n",
       "\n",
       "   start_year  runtime_minutes                genres  averagerating  numvotes  \n",
       "0        2013            175.0    Action,Crime,Drama            7.0        77  \n",
       "1        2019            114.0       Biography,Drama            7.2        43  \n",
       "2        2018            122.0                 Drama            6.9      4517  \n",
       "3        2018              NaN          Comedy,Drama            6.1        13  \n",
       "4        2017             80.0  Comedy,Drama,Fantasy            6.5       119  "
      ]
     },
     "execution_count": 16,
     "metadata": {},
     "output_type": "execute_result"
    }
   ],
   "source": [
    "film_df = pd.merge(movie_basics_df, movie_rating_df, on='movie_id', how='inner')\n",
    "film_df.head()"
   ]
  },
  {
   "cell_type": "markdown",
   "id": "ebf7d6b1",
   "metadata": {},
   "source": [
    "In cell below I check the shape of `film_df`"
   ]
  },
  {
   "cell_type": "code",
   "execution_count": 19,
   "id": "84989db0",
   "metadata": {},
   "outputs": [
    {
     "data": {
      "text/plain": [
       "(73856, 8)"
      ]
     },
     "execution_count": 19,
     "metadata": {},
     "output_type": "execute_result"
    }
   ],
   "source": [
    "# check for shape\n",
    "\n",
    "film_df.shape"
   ]
  },
  {
   "cell_type": "code",
   "execution_count": 20,
   "id": "9075e270",
   "metadata": {},
   "outputs": [
    {
     "data": {
      "text/plain": [
       "category\n",
       "actor                  256718\n",
       "director               146393\n",
       "actress                146208\n",
       "producer               113724\n",
       "cinematographer         80091\n",
       "composer                77063\n",
       "writer                  74357\n",
       "self                    65424\n",
       "editor                  55512\n",
       "production_designer      9373\n",
       "archive_footage          3307\n",
       "archive_sound              16\n",
       "Name: count, dtype: int64"
      ]
     },
     "execution_count": 20,
     "metadata": {},
     "output_type": "execute_result"
    }
   ],
   "source": [
    "principals_df['category'].value_counts()"
   ]
  },
  {
   "cell_type": "markdown",
   "id": "100aa669",
   "metadata": {},
   "source": [
    "The cell above shows that `film_df` contains **2422866** entries(rows) and **24** attributes.\n",
    "\n"
   ]
  },
  {
   "cell_type": "code",
   "execution_count": 23,
   "id": "84731a14",
   "metadata": {},
   "outputs": [
    {
     "name": "stdout",
     "output_type": "stream",
     "text": [
      "<class 'pandas.core.frame.DataFrame'>\n",
      "RangeIndex: 73856 entries, 0 to 73855\n",
      "Data columns (total 8 columns):\n",
      " #   Column           Non-Null Count  Dtype  \n",
      "---  ------           --------------  -----  \n",
      " 0   movie_id         73856 non-null  object \n",
      " 1   primary_title    73856 non-null  object \n",
      " 2   original_title   73856 non-null  object \n",
      " 3   start_year       73856 non-null  int64  \n",
      " 4   runtime_minutes  66236 non-null  float64\n",
      " 5   genres           73052 non-null  object \n",
      " 6   averagerating    73856 non-null  float64\n",
      " 7   numvotes         73856 non-null  int64  \n",
      "dtypes: float64(2), int64(2), object(4)\n",
      "memory usage: 4.5+ MB\n"
     ]
    }
   ],
   "source": [
    "# meta data summary\n",
    "\n",
    "film_df.info()"
   ]
  },
  {
   "cell_type": "code",
   "execution_count": 21,
   "id": "fdf42af2",
   "metadata": {},
   "outputs": [
    {
     "data": {
      "text/plain": [
       "movie_id              0\n",
       "primary_title         0\n",
       "original_title        0\n",
       "start_year            0\n",
       "runtime_minutes    7620\n",
       "genres              804\n",
       "averagerating         0\n",
       "numvotes              0\n",
       "dtype: int64"
      ]
     },
     "execution_count": 21,
     "metadata": {},
     "output_type": "execute_result"
    }
   ],
   "source": [
    "film_df.isna().sum()"
   ]
  },
  {
   "cell_type": "markdown",
   "id": "9241fed4",
   "metadata": {},
   "source": [
    "\n",
    "\n",
    "In cell below I load data from `bom.movie_gross.csv.gz` as I need it for the analysis."
   ]
  },
  {
   "cell_type": "code",
   "execution_count": null,
   "id": "7222a64e",
   "metadata": {},
   "outputs": [
    {
     "data": {
      "application/vnd.microsoft.datawrangler.viewer.v0+json": {
       "columns": [
        {
         "name": "index",
         "rawType": "int64",
         "type": "integer"
        },
        {
         "name": "title",
         "rawType": "object",
         "type": "string"
        },
        {
         "name": "studio",
         "rawType": "object",
         "type": "string"
        },
        {
         "name": "domestic_gross",
         "rawType": "float64",
         "type": "float"
        },
        {
         "name": "foreign_gross",
         "rawType": "object",
         "type": "string"
        },
        {
         "name": "year",
         "rawType": "int64",
         "type": "integer"
        }
       ],
       "conversionMethod": "pd.DataFrame",
       "ref": "89cb7c4e-3436-493f-8215-bfb8d9adbf22",
       "rows": [
        [
         "0",
         "Toy Story 3",
         "BV",
         "415000000.0",
         "652000000",
         "2010"
        ],
        [
         "1",
         "Alice in Wonderland (2010)",
         "BV",
         "334200000.0",
         "691300000",
         "2010"
        ],
        [
         "2",
         "Harry Potter and the Deathly Hallows Part 1",
         "WB",
         "296000000.0",
         "664300000",
         "2010"
        ],
        [
         "3",
         "Inception",
         "WB",
         "292600000.0",
         "535700000",
         "2010"
        ],
        [
         "4",
         "Shrek Forever After",
         "P/DW",
         "238700000.0",
         "513900000",
         "2010"
        ]
       ],
       "shape": {
        "columns": 5,
        "rows": 5
       }
      },
      "text/html": [
       "<div>\n",
       "<style scoped>\n",
       "    .dataframe tbody tr th:only-of-type {\n",
       "        vertical-align: middle;\n",
       "    }\n",
       "\n",
       "    .dataframe tbody tr th {\n",
       "        vertical-align: top;\n",
       "    }\n",
       "\n",
       "    .dataframe thead th {\n",
       "        text-align: right;\n",
       "    }\n",
       "</style>\n",
       "<table border=\"1\" class=\"dataframe\">\n",
       "  <thead>\n",
       "    <tr style=\"text-align: right;\">\n",
       "      <th></th>\n",
       "      <th>title</th>\n",
       "      <th>studio</th>\n",
       "      <th>domestic_gross</th>\n",
       "      <th>foreign_gross</th>\n",
       "      <th>year</th>\n",
       "    </tr>\n",
       "  </thead>\n",
       "  <tbody>\n",
       "    <tr>\n",
       "      <th>0</th>\n",
       "      <td>Toy Story 3</td>\n",
       "      <td>BV</td>\n",
       "      <td>415000000.0</td>\n",
       "      <td>652000000</td>\n",
       "      <td>2010</td>\n",
       "    </tr>\n",
       "    <tr>\n",
       "      <th>1</th>\n",
       "      <td>Alice in Wonderland (2010)</td>\n",
       "      <td>BV</td>\n",
       "      <td>334200000.0</td>\n",
       "      <td>691300000</td>\n",
       "      <td>2010</td>\n",
       "    </tr>\n",
       "    <tr>\n",
       "      <th>2</th>\n",
       "      <td>Harry Potter and the Deathly Hallows Part 1</td>\n",
       "      <td>WB</td>\n",
       "      <td>296000000.0</td>\n",
       "      <td>664300000</td>\n",
       "      <td>2010</td>\n",
       "    </tr>\n",
       "    <tr>\n",
       "      <th>3</th>\n",
       "      <td>Inception</td>\n",
       "      <td>WB</td>\n",
       "      <td>292600000.0</td>\n",
       "      <td>535700000</td>\n",
       "      <td>2010</td>\n",
       "    </tr>\n",
       "    <tr>\n",
       "      <th>4</th>\n",
       "      <td>Shrek Forever After</td>\n",
       "      <td>P/DW</td>\n",
       "      <td>238700000.0</td>\n",
       "      <td>513900000</td>\n",
       "      <td>2010</td>\n",
       "    </tr>\n",
       "  </tbody>\n",
       "</table>\n",
       "</div>"
      ],
      "text/plain": [
       "                                         title studio  domestic_gross  \\\n",
       "0                                  Toy Story 3     BV     415000000.0   \n",
       "1                   Alice in Wonderland (2010)     BV     334200000.0   \n",
       "2  Harry Potter and the Deathly Hallows Part 1     WB     296000000.0   \n",
       "3                                    Inception     WB     292600000.0   \n",
       "4                          Shrek Forever After   P/DW     238700000.0   \n",
       "\n",
       "  foreign_gross  year  \n",
       "0     652000000  2010  \n",
       "1     691300000  2010  \n",
       "2     664300000  2010  \n",
       "3     535700000  2010  \n",
       "4     513900000  2010  "
      ]
     },
     "execution_count": 22,
     "metadata": {},
     "output_type": "execute_result"
    }
   ],
   "source": [
    "# load data from bom.movie_gross.csv.gz\n",
    "# box_office_df : shows how movies were earning\n",
    "\n",
    "box_office_df= pd.read_csv('zippedData/bom.movie_gross.csv.gz')\n",
    "box_office_df.head()"
   ]
  },
  {
   "cell_type": "code",
   "execution_count": null,
   "id": "d1bbff75",
   "metadata": {},
   "outputs": [
    {
     "data": {
      "text/plain": [
       "(3387, 5)"
      ]
     },
     "execution_count": 13,
     "metadata": {},
     "output_type": "execute_result"
    }
   ],
   "source": [
    "# check box_office_df shape\n",
    "box_office_df.shape"
   ]
  },
  {
   "cell_type": "code",
   "execution_count": 14,
   "id": "504520ce",
   "metadata": {},
   "outputs": [
    {
     "name": "stdout",
     "output_type": "stream",
     "text": [
      "<class 'pandas.core.frame.DataFrame'>\n",
      "RangeIndex: 3387 entries, 0 to 3386\n",
      "Data columns (total 5 columns):\n",
      " #   Column          Non-Null Count  Dtype  \n",
      "---  ------          --------------  -----  \n",
      " 0   title           3387 non-null   object \n",
      " 1   studio          3382 non-null   object \n",
      " 2   domestic_gross  3359 non-null   float64\n",
      " 3   foreign_gross   2037 non-null   object \n",
      " 4   year            3387 non-null   int64  \n",
      "dtypes: float64(1), int64(1), object(3)\n",
      "memory usage: 132.4+ KB\n"
     ]
    }
   ],
   "source": [
    "box_office_df.info()"
   ]
  },
  {
   "cell_type": "code",
   "execution_count": 18,
   "id": "832170b1",
   "metadata": {},
   "outputs": [
    {
     "data": {
      "text/plain": [
       "['title', 'studio', 'domestic_gross', 'foreign_gross', 'year']"
      ]
     },
     "execution_count": 18,
     "metadata": {},
     "output_type": "execute_result"
    }
   ],
   "source": [
    "box_office_df.columns.tolist()"
   ]
  },
  {
   "cell_type": "markdown",
   "id": "15456844",
   "metadata": {},
   "source": [
    "The cell above shows `box_office_df` as **3387 entries**  and **5 features**. `box_office_df` shows **How much money a movie made** while `film_df` shows **Movies/film data** eg rating, runminutes etc. **Best option is to use the two dataset separate and work with them parallel** "
   ]
  },
  {
   "cell_type": "code",
   "execution_count": null,
   "id": "d1fd1863",
   "metadata": {},
   "outputs": [],
   "source": [
    "movie_budget_df = pd.read_csv('zippedData/tn.movie_budgets.csv.gz')\n",
    "movie_budget_df.head()"
   ]
  },
  {
   "cell_type": "markdown",
   "id": "69859bc4",
   "metadata": {},
   "source": [
    "## **Data Cleaning**\n",
    "\n",
    "- Loaded cleaned data as csv to use for eda from Mohammed(branch).\n",
    "\n",
    "- Dataset used **(zippedData/cleaned_dataset_box_office.csv)**, **(zippedData/cleaned_dataset_film_df.csv)** & **(zippedData/cleaned_dataset_movie_budget.csv)**\n",
    "\n"
   ]
  },
  {
   "cell_type": "code",
   "execution_count": null,
   "id": "83bc1a10",
   "metadata": {},
   "outputs": [],
   "source": []
  },
  {
   "cell_type": "markdown",
   "id": "7602557e",
   "metadata": {},
   "source": [
    "In cell below I load all dataset and organize them ready to use using following variables.\n",
    "\n",
    "- **box_office_df** - (zippedData/cleaned_dataset_box_office.csv)\n",
    "\n",
    "- **film_df** - (zippedData/cleaned_dataset_film_df.csv)\n",
    "\n",
    "- **movie_budget_df** - (zippedData/cleaned_dataset_movie_budget.csv)"
   ]
  },
  {
   "cell_type": "code",
   "execution_count": null,
   "id": "65dac48d",
   "metadata": {},
   "outputs": [
    {
     "data": {
      "application/vnd.microsoft.datawrangler.viewer.v0+json": {
       "columns": [
        {
         "name": "index",
         "rawType": "int64",
         "type": "integer"
        },
        {
         "name": "movie_id",
         "rawType": "object",
         "type": "string"
        },
        {
         "name": "primary_title",
         "rawType": "object",
         "type": "string"
        },
        {
         "name": "original_title",
         "rawType": "object",
         "type": "string"
        },
        {
         "name": "start_year",
         "rawType": "int64",
         "type": "integer"
        },
        {
         "name": "runtime_minutes",
         "rawType": "float64",
         "type": "float"
        },
        {
         "name": "genres",
         "rawType": "object",
         "type": "string"
        },
        {
         "name": "averagerating",
         "rawType": "float64",
         "type": "float"
        },
        {
         "name": "numvotes",
         "rawType": "int64",
         "type": "integer"
        }
       ],
       "conversionMethod": "pd.DataFrame",
       "ref": "15a8808a-ebe1-460d-9e05-4664e5318b59",
       "rows": [
        [
         "0",
         "tt0063540",
         "sunghursh",
         "sunghursh",
         "2013",
         "175.0",
         "action,crime,drama",
         "7.0",
         "77"
        ],
        [
         "1",
         "tt0066787",
         "one day before the rainy season",
         "ashad ka ek din",
         "2019",
         "114.0",
         "biography,drama",
         "7.2",
         "43"
        ],
        [
         "2",
         "tt0069049",
         "the other side of the wind",
         "the other side of the wind",
         "2018",
         "122.0",
         "drama",
         "6.9",
         "4517"
        ],
        [
         "3",
         "tt0069204",
         "sabse bada sukh",
         "sabse bada sukh",
         "2018",
         "91.0",
         "comedy,drama",
         "6.1",
         "13"
        ],
        [
         "4",
         "tt0100275",
         "the wandering soap opera",
         "la telenovela errante",
         "2017",
         "80.0",
         "comedy,drama,fantasy",
         "6.5",
         "119"
        ]
       ],
       "shape": {
        "columns": 8,
        "rows": 5
       }
      },
      "text/html": [
       "<div>\n",
       "<style scoped>\n",
       "    .dataframe tbody tr th:only-of-type {\n",
       "        vertical-align: middle;\n",
       "    }\n",
       "\n",
       "    .dataframe tbody tr th {\n",
       "        vertical-align: top;\n",
       "    }\n",
       "\n",
       "    .dataframe thead th {\n",
       "        text-align: right;\n",
       "    }\n",
       "</style>\n",
       "<table border=\"1\" class=\"dataframe\">\n",
       "  <thead>\n",
       "    <tr style=\"text-align: right;\">\n",
       "      <th></th>\n",
       "      <th>movie_id</th>\n",
       "      <th>primary_title</th>\n",
       "      <th>original_title</th>\n",
       "      <th>start_year</th>\n",
       "      <th>runtime_minutes</th>\n",
       "      <th>genres</th>\n",
       "      <th>averagerating</th>\n",
       "      <th>numvotes</th>\n",
       "    </tr>\n",
       "  </thead>\n",
       "  <tbody>\n",
       "    <tr>\n",
       "      <th>0</th>\n",
       "      <td>tt0063540</td>\n",
       "      <td>sunghursh</td>\n",
       "      <td>sunghursh</td>\n",
       "      <td>2013</td>\n",
       "      <td>175.0</td>\n",
       "      <td>action,crime,drama</td>\n",
       "      <td>7.0</td>\n",
       "      <td>77</td>\n",
       "    </tr>\n",
       "    <tr>\n",
       "      <th>1</th>\n",
       "      <td>tt0066787</td>\n",
       "      <td>one day before the rainy season</td>\n",
       "      <td>ashad ka ek din</td>\n",
       "      <td>2019</td>\n",
       "      <td>114.0</td>\n",
       "      <td>biography,drama</td>\n",
       "      <td>7.2</td>\n",
       "      <td>43</td>\n",
       "    </tr>\n",
       "    <tr>\n",
       "      <th>2</th>\n",
       "      <td>tt0069049</td>\n",
       "      <td>the other side of the wind</td>\n",
       "      <td>the other side of the wind</td>\n",
       "      <td>2018</td>\n",
       "      <td>122.0</td>\n",
       "      <td>drama</td>\n",
       "      <td>6.9</td>\n",
       "      <td>4517</td>\n",
       "    </tr>\n",
       "    <tr>\n",
       "      <th>3</th>\n",
       "      <td>tt0069204</td>\n",
       "      <td>sabse bada sukh</td>\n",
       "      <td>sabse bada sukh</td>\n",
       "      <td>2018</td>\n",
       "      <td>91.0</td>\n",
       "      <td>comedy,drama</td>\n",
       "      <td>6.1</td>\n",
       "      <td>13</td>\n",
       "    </tr>\n",
       "    <tr>\n",
       "      <th>4</th>\n",
       "      <td>tt0100275</td>\n",
       "      <td>the wandering soap opera</td>\n",
       "      <td>la telenovela errante</td>\n",
       "      <td>2017</td>\n",
       "      <td>80.0</td>\n",
       "      <td>comedy,drama,fantasy</td>\n",
       "      <td>6.5</td>\n",
       "      <td>119</td>\n",
       "    </tr>\n",
       "  </tbody>\n",
       "</table>\n",
       "</div>"
      ],
      "text/plain": [
       "    movie_id                    primary_title              original_title  \\\n",
       "0  tt0063540                        sunghursh                   sunghursh   \n",
       "1  tt0066787  one day before the rainy season             ashad ka ek din   \n",
       "2  tt0069049       the other side of the wind  the other side of the wind   \n",
       "3  tt0069204                  sabse bada sukh             sabse bada sukh   \n",
       "4  tt0100275         the wandering soap opera       la telenovela errante   \n",
       "\n",
       "   start_year  runtime_minutes                genres  averagerating  numvotes  \n",
       "0        2013            175.0    action,crime,drama            7.0        77  \n",
       "1        2019            114.0       biography,drama            7.2        43  \n",
       "2        2018            122.0                 drama            6.9      4517  \n",
       "3        2018             91.0          comedy,drama            6.1        13  \n",
       "4        2017             80.0  comedy,drama,fantasy            6.5       119  "
      ]
     },
     "execution_count": 57,
     "metadata": {},
     "output_type": "execute_result"
    }
   ],
   "source": [
    "# load \n",
    "film_df = pd.read_csv('zippedData/cleaned_dataset_film_df2.csv')\n",
    "film_df.head()"
   ]
  },
  {
   "cell_type": "code",
   "execution_count": null,
   "id": "2642284f",
   "metadata": {},
   "outputs": [
    {
     "data": {
      "text/plain": [
       "(73856, 8)"
      ]
     },
     "execution_count": 58,
     "metadata": {},
     "output_type": "execute_result"
    }
   ],
   "source": [
    "# check shape\n",
    "\n",
    "film_df.shape"
   ]
  },
  {
   "cell_type": "markdown",
   "id": "fca18d6e",
   "metadata": {},
   "source": [
    "Cell above shows that `film_df` contains *73856* entries and *8* attributes\n",
    "\n",
    "In cell below I load `box_office_df` and check for it shape"
   ]
  },
  {
   "cell_type": "code",
   "execution_count": 59,
   "id": "72bb40a5",
   "metadata": {},
   "outputs": [
    {
     "data": {
      "application/vnd.microsoft.datawrangler.viewer.v0+json": {
       "columns": [
        {
         "name": "index",
         "rawType": "int64",
         "type": "integer"
        },
        {
         "name": "title",
         "rawType": "object",
         "type": "string"
        },
        {
         "name": "studio",
         "rawType": "object",
         "type": "string"
        },
        {
         "name": "domestic_gross",
         "rawType": "float64",
         "type": "float"
        },
        {
         "name": "foreign_gross",
         "rawType": "object",
         "type": "string"
        },
        {
         "name": "year",
         "rawType": "int64",
         "type": "integer"
        }
       ],
       "conversionMethod": "pd.DataFrame",
       "ref": "109edafb-fe3e-42c1-bedb-97bfaada296d",
       "rows": [
        [
         "0",
         "Toy Story 3",
         "BV",
         "415000000.0",
         "652000000",
         "2010"
        ],
        [
         "1",
         "Alice in Wonderland (2010)",
         "BV",
         "334200000.0",
         "691300000",
         "2010"
        ],
        [
         "2",
         "Harry Potter and the Deathly Hallows Part 1",
         "WB",
         "296000000.0",
         "664300000",
         "2010"
        ],
        [
         "3",
         "Inception",
         "WB",
         "292600000.0",
         "535700000",
         "2010"
        ],
        [
         "4",
         "Shrek Forever After",
         "P/DW",
         "238700000.0",
         "513900000",
         "2010"
        ]
       ],
       "shape": {
        "columns": 5,
        "rows": 5
       }
      },
      "text/html": [
       "<div>\n",
       "<style scoped>\n",
       "    .dataframe tbody tr th:only-of-type {\n",
       "        vertical-align: middle;\n",
       "    }\n",
       "\n",
       "    .dataframe tbody tr th {\n",
       "        vertical-align: top;\n",
       "    }\n",
       "\n",
       "    .dataframe thead th {\n",
       "        text-align: right;\n",
       "    }\n",
       "</style>\n",
       "<table border=\"1\" class=\"dataframe\">\n",
       "  <thead>\n",
       "    <tr style=\"text-align: right;\">\n",
       "      <th></th>\n",
       "      <th>title</th>\n",
       "      <th>studio</th>\n",
       "      <th>domestic_gross</th>\n",
       "      <th>foreign_gross</th>\n",
       "      <th>year</th>\n",
       "    </tr>\n",
       "  </thead>\n",
       "  <tbody>\n",
       "    <tr>\n",
       "      <th>0</th>\n",
       "      <td>Toy Story 3</td>\n",
       "      <td>BV</td>\n",
       "      <td>415000000.0</td>\n",
       "      <td>652000000</td>\n",
       "      <td>2010</td>\n",
       "    </tr>\n",
       "    <tr>\n",
       "      <th>1</th>\n",
       "      <td>Alice in Wonderland (2010)</td>\n",
       "      <td>BV</td>\n",
       "      <td>334200000.0</td>\n",
       "      <td>691300000</td>\n",
       "      <td>2010</td>\n",
       "    </tr>\n",
       "    <tr>\n",
       "      <th>2</th>\n",
       "      <td>Harry Potter and the Deathly Hallows Part 1</td>\n",
       "      <td>WB</td>\n",
       "      <td>296000000.0</td>\n",
       "      <td>664300000</td>\n",
       "      <td>2010</td>\n",
       "    </tr>\n",
       "    <tr>\n",
       "      <th>3</th>\n",
       "      <td>Inception</td>\n",
       "      <td>WB</td>\n",
       "      <td>292600000.0</td>\n",
       "      <td>535700000</td>\n",
       "      <td>2010</td>\n",
       "    </tr>\n",
       "    <tr>\n",
       "      <th>4</th>\n",
       "      <td>Shrek Forever After</td>\n",
       "      <td>P/DW</td>\n",
       "      <td>238700000.0</td>\n",
       "      <td>513900000</td>\n",
       "      <td>2010</td>\n",
       "    </tr>\n",
       "  </tbody>\n",
       "</table>\n",
       "</div>"
      ],
      "text/plain": [
       "                                         title studio  domestic_gross  \\\n",
       "0                                  Toy Story 3     BV     415000000.0   \n",
       "1                   Alice in Wonderland (2010)     BV     334200000.0   \n",
       "2  Harry Potter and the Deathly Hallows Part 1     WB     296000000.0   \n",
       "3                                    Inception     WB     292600000.0   \n",
       "4                          Shrek Forever After   P/DW     238700000.0   \n",
       "\n",
       "  foreign_gross  year  \n",
       "0     652000000  2010  \n",
       "1     691300000  2010  \n",
       "2     664300000  2010  \n",
       "3     535700000  2010  \n",
       "4     513900000  2010  "
      ]
     },
     "execution_count": 59,
     "metadata": {},
     "output_type": "execute_result"
    }
   ],
   "source": [
    "# load data from bom.movie_gross.csv.gz\n",
    "# box_office_df : shows how movies were earning\n",
    "\n",
    "box_office_df= pd.read_csv('zippedData/bom.movie_gross.csv.gz')\n",
    "box_office_df.head()"
   ]
  },
  {
   "cell_type": "code",
   "execution_count": 60,
   "id": "75d5020f",
   "metadata": {},
   "outputs": [
    {
     "data": {
      "text/plain": [
       "(3387, 5)"
      ]
     },
     "execution_count": 60,
     "metadata": {},
     "output_type": "execute_result"
    }
   ],
   "source": [
    "# check box_office_df shape\n",
    "box_office_df.shape"
   ]
  },
  {
   "cell_type": "markdown",
   "id": "e6d90604",
   "metadata": {},
   "source": [
    "**box_office_df** contains *3387* entries and *5* attributes.\n",
    "\n",
    "In cell below I load **movie_budget_df** and check for it shape"
   ]
  },
  {
   "cell_type": "code",
   "execution_count": 90,
   "id": "c3b84691",
   "metadata": {},
   "outputs": [
    {
     "data": {
      "application/vnd.microsoft.datawrangler.viewer.v0+json": {
       "columns": [
        {
         "name": "index",
         "rawType": "int64",
         "type": "integer"
        },
        {
         "name": "id",
         "rawType": "int64",
         "type": "integer"
        },
        {
         "name": "release_date",
         "rawType": "object",
         "type": "string"
        },
        {
         "name": "movie",
         "rawType": "object",
         "type": "string"
        },
        {
         "name": "production_budget",
         "rawType": "object",
         "type": "string"
        },
        {
         "name": "domestic_gross",
         "rawType": "object",
         "type": "string"
        },
        {
         "name": "worldwide_gross",
         "rawType": "object",
         "type": "string"
        }
       ],
       "conversionMethod": "pd.DataFrame",
       "ref": "5086380a-ff53-470b-acc1-20bb3439cdda",
       "rows": [
        [
         "0",
         "1",
         "dec 18, 2009",
         "avatar",
         "$425,000,000",
         "$760,507,625",
         "$2,776,345,279"
        ],
        [
         "1",
         "2",
         "may 20, 2011",
         "pirates of the caribbean: on stranger tides",
         "$410,600,000",
         "$241,063,875",
         "$1,045,663,875"
        ],
        [
         "2",
         "3",
         "jun 7, 2019",
         "dark phoenix",
         "$350,000,000",
         "$42,762,350",
         "$149,762,350"
        ],
        [
         "3",
         "4",
         "may 1, 2015",
         "avengers: age of ultron",
         "$330,600,000",
         "$459,005,868",
         "$1,403,013,963"
        ],
        [
         "4",
         "5",
         "dec 15, 2017",
         "star wars ep. viii: the last jedi",
         "$317,000,000",
         "$620,181,382",
         "$1,316,721,747"
        ]
       ],
       "shape": {
        "columns": 6,
        "rows": 5
       }
      },
      "text/html": [
       "<div>\n",
       "<style scoped>\n",
       "    .dataframe tbody tr th:only-of-type {\n",
       "        vertical-align: middle;\n",
       "    }\n",
       "\n",
       "    .dataframe tbody tr th {\n",
       "        vertical-align: top;\n",
       "    }\n",
       "\n",
       "    .dataframe thead th {\n",
       "        text-align: right;\n",
       "    }\n",
       "</style>\n",
       "<table border=\"1\" class=\"dataframe\">\n",
       "  <thead>\n",
       "    <tr style=\"text-align: right;\">\n",
       "      <th></th>\n",
       "      <th>id</th>\n",
       "      <th>release_date</th>\n",
       "      <th>movie</th>\n",
       "      <th>production_budget</th>\n",
       "      <th>domestic_gross</th>\n",
       "      <th>worldwide_gross</th>\n",
       "    </tr>\n",
       "  </thead>\n",
       "  <tbody>\n",
       "    <tr>\n",
       "      <th>0</th>\n",
       "      <td>1</td>\n",
       "      <td>dec 18, 2009</td>\n",
       "      <td>avatar</td>\n",
       "      <td>$425,000,000</td>\n",
       "      <td>$760,507,625</td>\n",
       "      <td>$2,776,345,279</td>\n",
       "    </tr>\n",
       "    <tr>\n",
       "      <th>1</th>\n",
       "      <td>2</td>\n",
       "      <td>may 20, 2011</td>\n",
       "      <td>pirates of the caribbean: on stranger tides</td>\n",
       "      <td>$410,600,000</td>\n",
       "      <td>$241,063,875</td>\n",
       "      <td>$1,045,663,875</td>\n",
       "    </tr>\n",
       "    <tr>\n",
       "      <th>2</th>\n",
       "      <td>3</td>\n",
       "      <td>jun 7, 2019</td>\n",
       "      <td>dark phoenix</td>\n",
       "      <td>$350,000,000</td>\n",
       "      <td>$42,762,350</td>\n",
       "      <td>$149,762,350</td>\n",
       "    </tr>\n",
       "    <tr>\n",
       "      <th>3</th>\n",
       "      <td>4</td>\n",
       "      <td>may 1, 2015</td>\n",
       "      <td>avengers: age of ultron</td>\n",
       "      <td>$330,600,000</td>\n",
       "      <td>$459,005,868</td>\n",
       "      <td>$1,403,013,963</td>\n",
       "    </tr>\n",
       "    <tr>\n",
       "      <th>4</th>\n",
       "      <td>5</td>\n",
       "      <td>dec 15, 2017</td>\n",
       "      <td>star wars ep. viii: the last jedi</td>\n",
       "      <td>$317,000,000</td>\n",
       "      <td>$620,181,382</td>\n",
       "      <td>$1,316,721,747</td>\n",
       "    </tr>\n",
       "  </tbody>\n",
       "</table>\n",
       "</div>"
      ],
      "text/plain": [
       "   id  release_date                                        movie  \\\n",
       "0   1  dec 18, 2009                                       avatar   \n",
       "1   2  may 20, 2011  pirates of the caribbean: on stranger tides   \n",
       "2   3   jun 7, 2019                                 dark phoenix   \n",
       "3   4   may 1, 2015                      avengers: age of ultron   \n",
       "4   5  dec 15, 2017            star wars ep. viii: the last jedi   \n",
       "\n",
       "  production_budget domestic_gross worldwide_gross  \n",
       "0      $425,000,000   $760,507,625  $2,776,345,279  \n",
       "1      $410,600,000   $241,063,875  $1,045,663,875  \n",
       "2      $350,000,000    $42,762,350    $149,762,350  \n",
       "3      $330,600,000   $459,005,868  $1,403,013,963  \n",
       "4      $317,000,000   $620,181,382  $1,316,721,747  "
      ]
     },
     "execution_count": 90,
     "metadata": {},
     "output_type": "execute_result"
    }
   ],
   "source": [
    "# load data from tn.movie_budgets.csv.gz\n",
    "movie_budget_df = pd.read_csv('zippedData/cleaned_dataset_movie_budget.csv')\n",
    "movie_budget_df.head()"
   ]
  },
  {
   "cell_type": "code",
   "execution_count": 63,
   "id": "a32a34f3",
   "metadata": {},
   "outputs": [
    {
     "data": {
      "text/plain": [
       "(5782, 6)"
      ]
     },
     "execution_count": 63,
     "metadata": {},
     "output_type": "execute_result"
    }
   ],
   "source": [
    "# check for shape\n",
    "\n",
    "movie_budget_df.shape\n"
   ]
  },
  {
   "cell_type": "markdown",
   "id": "1359badd",
   "metadata": {},
   "source": [
    "## **📊 Exploratory Data Analysis**\n",
    "\n",
    "- Before beginning detailed modeling and recommendations, I will conduct an **Exploratory Data Analysis (EDA)** phase. This phase aims to uncover hidden patterns, trends, and insights that align with the project objectives.\n",
    "\n",
    "- Based on the objectives, I have crafted the following key **analysis questions** to guide an effective exploration and ensure we achieve the project goal\n",
    "\n",
    "✨ **General Patterns and Trends (Objective 1)**\n",
    "\n",
    "- What are the most common genres produced over time?\n",
    "- How has the average box office revenue changed by year or decade?\n",
    "- Are newer movies generally earning more revenue than older ones?\n",
    "- What is the distribution of movie runtimes?\n",
    "- What is the distribution of movie ratings (viewer scores)?\n",
    "- How does the number of votes correlate with the box office revenue?\n",
    "- What is the trend of production volume (number of movies released) year by year?\n",
    "\n",
    "🎥 **Highest Grossing Films (Objective 2)**\n",
    "\n",
    "- Which films have grossed the highest revenue domestically and internationally?\n",
    "- What genres do the top 10 highest-grossing films belong to?\n",
    "- What is the average budget of the highest-grossing films compared to others?\n",
    "- What MPAA ratings (e.g., PG-13, R) are most common among top-grossing films?\n",
    "- Are there specific years or decades that produced more high-grossing films?\n",
    "\n",
    "🧩 **Key Factors Influencing Revenue (Objective 3)**\n",
    "\n",
    "- How does **genre** influence box office revenue?\n",
    "- How does **runtime** correlate with box office success (is there an optimal movie length)?\n",
    "- How does **budget** size impact box office revenue?\n",
    "- Does a higher audience rating lead to higher box office earnings?\n",
    "\n",
    "\n"
   ]
  },
  {
   "cell_type": "code",
   "execution_count": 36,
   "id": "f0ea26cf",
   "metadata": {},
   "outputs": [],
   "source": [
    "# create a copy from film_df\n",
    "\n",
    "film_copy = film_df.copy()\n",
    "box_office_copy = box_office_df.copy()"
   ]
  },
  {
   "cell_type": "markdown",
   "id": "8ca0b82f",
   "metadata": {},
   "source": [
    "In cell below I group data by `year` and `genre` then counts how many movies belong to each genre `each year`. Then finds `top5 most frequent genres` and filter data to keep only top 5 genres. Avoided ploting all genres which would make plot hard to read."
   ]
  },
  {
   "cell_type": "code",
   "execution_count": 34,
   "id": "dcdcace2",
   "metadata": {},
   "outputs": [
    {
     "data": {
      "image/png": "[encoded data removed]",
      "text/plain": [
       "<Figure size 1000x500 with 1 Axes>"
      ]
     },
     "metadata": {},
     "output_type": "display_data"
    }
   ],
   "source": [
    "\n",
    "# Group and count\n",
    "genre_year_counts = film_copy.groupby(['start_year', 'genres']).size().reset_index(name='count')\n",
    "\n",
    "# Pick top 5 genres\n",
    "top_genres = genre_year_counts['genres'].value_counts().head(5).index\n",
    "genre_year_counts = genre_year_counts[genre_year_counts['genres'].isin(top_genres)]\n",
    "\n",
    "# Line Plot\n",
    "\n",
    "fig, ax= plt.subplots(figsize=(10,5))\n",
    "sns.lineplot(data=genre_year_counts, x='start_year', y='count', hue='genres', marker='o')\n",
    "ax.set_title('Most Common Genres Produced Over Time')\n",
    "ax.set_xlabel('Year')\n",
    "ax.set_ylabel('Number of Movies')\n",
    "ax.tick_params(axis='x', rotation=45)\n",
    "ax.legend(title='Genres')\n",
    "plt.grid(True)\n",
    "plt.show()\n"
   ]
  },
  {
   "cell_type": "markdown",
   "id": "2a6bfefd",
   "metadata": {},
   "source": [
    "### ✅ **Insights**\n",
    "\n",
    "1. **Thriller** was the most produced genre, peaking in 2018 before dropping sharply in 2019.\n",
    "2. **Sci-Fi, Thriller** had a major spike in 2016 but didn’t sustain it.\n",
    "3. **Sport**, **War**, and Western genres stayed low and stable over the years.\n",
    "4. A slight rise in Western movies was seen in 2012 and 2018 but wasn't maintained.\n",
    "\n",
    "### 🎯 **Recommendations**\n",
    "\n",
    "1. **Focus on Thriller**: Since Thriller has consistently high production, it remains a strong genre to invest in.\n",
    "\n",
    "2. **Niche Opportunities**: Explore ways to grow interest in less popular genres like Sport and Western through innovation or targeted marketing.\n",
    "\n",
    "4. M**arket Monitoring**: Track shifting audience interests, especially after the 2019 drop, to adjust production strategies.\n",
    "\n"
   ]
  },
  {
   "cell_type": "markdown",
   "id": "86b9466d",
   "metadata": {},
   "source": [
    "The Cell below shows **How has the average box office revenue changed by year**. To achieve this I first converted `foreign_gross` to numeric using `pd.to_numeric()`, then **calculate total revenue** and group by year and plot a `lineplot`\n"
   ]
  },
  {
   "cell_type": "code",
   "execution_count": 44,
   "id": "c4d03578",
   "metadata": {},
   "outputs": [
    {
     "data": {
      "image/png": "[encoded data removed]",
      "text/plain": [
       "<Figure size 1000x600 with 1 Axes>"
      ]
     },
     "metadata": {},
     "output_type": "display_data"
    }
   ],
   "source": [
    "# Convert column to numeric\n",
    "box_office_copy['foreign_gross'] = pd.to_numeric(box_office_copy['foreign_gross'], errors='coerce')\n",
    "\n",
    "\n",
    "#  Create a new total revenue column\n",
    "box_office_copy['total_revenue'] = box_office_copy['domestic_gross'] + box_office_copy['foreign_gross']\n",
    "\n",
    "# : Group by year and calculate the mean of total_revenue\n",
    "revenue_avg = box_office_copy.groupby('year')['total_revenue'].mean().reset_index()\n",
    "\n",
    "# : Plot lineplot\n",
    "fig, ax = plt.subplots(figsize=(10,6))\n",
    "sns.lineplot(data=revenue_avg, x='year', y='total_revenue', marker='o')\n",
    "ax.set_title('Average Box Office Revenue Over Time')\n",
    "ax.set_xlabel('Year')\n",
    "ax.set_ylabel('Average Revenue')\n",
    "ax.tick_params(axis='x' ,rotation=45)\n",
    "plt.grid(True)\n",
    "plt.show()\n"
   ]
  },
  {
   "cell_type": "markdown",
   "id": "73b61453",
   "metadata": {},
   "source": [
    "\n",
    "##  ✅ **Insights**\n",
    "\n",
    "- The **average box office revenue** showed a general **upward trend** from 2010 to 2017.\n",
    "\n",
    "- The **highest average revenue** was recorded in **2017**.\n",
    "\n",
    "- There were **two notable drops** in revenue in 2014 and again slightly in 2018.\n",
    "\n",
    "- Despite occasional declines, the overall pattern indicates **growth in box office earnings** over the years.\n",
    "\n",
    "\n",
    "### 🎯 **Recommendations**\n",
    "\n",
    "- **Capitalize on Growth**: Focus on maintaining and boosting box office momentum by investing in high-performing genres and marketing.\n",
    "\n",
    "- **Investigate Revenue Drops**: Analyze what factors led to the revenue declines in 2014 and 2018 to avoid similar issues in future productions.\n",
    "\n",
    "- **Leverage Peak Years**: Study successful movies from 2017 to replicate winning strategies (e.g., genre, marketing tactics, release timing).\n",
    "\n",
    "- **Diversify Offerings**: Ensure a mix of movies to appeal to a broad audience, helping stabilize revenue even if certain trends change.\n",
    "\n"
   ]
  },
  {
   "cell_type": "markdown",
   "id": "114fd6a6",
   "metadata": {},
   "source": [
    "In cell below the analysis shows **Top 10 Movies by Domestic Gross Revenue** using `barplot`"
   ]
  },
  {
   "cell_type": "code",
   "execution_count": 81,
   "id": "d6d7c0b7",
   "metadata": {},
   "outputs": [
    {
     "data": {
      "image/png": "[encoded data removed]",
      "text/plain": [
       "<Figure size 1000x600 with 1 Axes>"
      ]
     },
     "metadata": {},
     "output_type": "display_data"
    }
   ],
   "source": [
    "\n",
    "# Sort to find top 10 highest grossing films domestically\n",
    "top_domestic = box_office_copy.sort_values(by='domestic_gross', ascending=False).head(10)\n",
    "\n",
    "# Plot 1: Top 10 Domestic Grossing Movies\n",
    "fig, ax = plt.subplots(figsize=(10, 6))\n",
    "sns.barplot(data=top_domestic, x='domestic_gross', y='title', hue='title', palette='Blues_r')\n",
    "ax.set_title('Top 10 Movies by Domestic Gross Revenue', fontsize=16)\n",
    "ax.set_xlabel('Domestic Revenue ($)')\n",
    "ax.set_ylabel('Movie Title')\n",
    "\n",
    "plt.show()"
   ]
  },
  {
   "cell_type": "markdown",
   "id": "6419067b",
   "metadata": {},
   "source": [
    "### ✅ **Insights**\n",
    "\n",
    "- **Blockbusters Dominate**: All top movies are major franchise or branded titles (e.g., Marvel, Star Wars, Pixar, Disney).\n",
    "\n",
    "- **Marvel and Disney Lead**: Marvel and Disney titles appear most frequently, showing strong market influence.\n",
    "\n",
    "- **Top Earner**: Black Panther leads in domestic gross revenue, reflecting audience preference for superhero movies with cultural resonance.\n",
    "\n",
    "- **Animated Films Succeed**: Films like Incredibles 2 and Finding Dory show that animated family movies also generate high revenue.\n",
    "\n",
    "- **Consistency in Themes: Action**, adventure, and fantasy/sci-fi are dominant genres among the top 10.\n",
    "\n",
    "\n",
    "### 🎯 **Recommendations**\n",
    "\n",
    "- 🎬 **Invest in Franchises**: Focus future productions and marketing efforts on franchise films and cinematic universes.\n",
    "\n",
    "- 📈 **Leverage Proven Genres**: Prioritize superhero, fantasy, and animated genres that consistently perform well.\n",
    "\n",
    "- 🌍 **Promote Diversity**: The success of Black Panther highlights the importance of diverse representation and strong cultural storytelling.\n",
    "\n",
    "- 👪 T**arget Family Audiences**: Continue to develop high-quality animated and family-friendly content to tap into a broad demographic.\n",
    "\n",
    "- 📣 **Strategic Marketing**: Follow the example of top-grossing films with early buzz, strong brand identity, and wide release strategies."
   ]
  },
  {
   "cell_type": "markdown",
   "id": "ca92b9f0",
   "metadata": {},
   "source": [
    "In cell below the analysis shows **Top 10 Movies by International Gross Revenue**"
   ]
  },
  {
   "cell_type": "code",
   "execution_count": null,
   "id": "d9c7fd0d",
   "metadata": {},
   "outputs": [
    {
     "data": {
      "image/png": "[encoded data removed]",
      "text/plain": [
       "<Figure size 1000x600 with 1 Axes>"
      ]
     },
     "metadata": {},
     "output_type": "display_data"
    }
   ],
   "source": [
    "\n",
    "\n",
    "#  Sort to find top 10 highest grossing films internationally\n",
    "top_foreign = box_office_copy.sort_values(by='foreign_gross', ascending=False).head(10)\n",
    "\n",
    "\n",
    "#  Top 10 Foreign Grossing Movies\n",
    "fig, ax = plt.subplots(figsize=(10, 6))\n",
    "sns.barplot(data=top_foreign, x='foreign_gross', y='title',hue='title', palette='Greens_r')\n",
    "ax.set_title('Top 10 Movies by International Gross Revenue', fontsize=16)\n",
    "ax.set_xlabel('International Revenue ($)')\n",
    "ax.set_ylabel('Movie Title')\n",
    "plt.show()"
   ]
  },
  {
   "cell_type": "markdown",
   "id": "5c284124",
   "metadata": {},
   "source": [
    "### ✅ **Insights**\n",
    "\n",
    "\n",
    "- 🌍 **Global Appeal Wins**: All top movies are high-budget blockbusters with global recognition and established fan bases.\n",
    "\n",
    "- 🧙‍♂️ **Harry Potter Tops Internationally**: Harry Potter and the Deathly Hallows Part 2 leads, indicating the strong global loyalty to long-running franchises.\n",
    "\n",
    "- 💥 **Superheroes Dominate**: Multiple Marvel titles (Avengers, Age of Ultron, Iron Man 3) rank high, proving superhero content translates well globally.\n",
    "\n",
    "- 🦖 **Action and Fantasy Drive Revenue**: Movies like Jurassic World, Transformers, and Aquaman show that action, fantasy, and sci-fi genres are highly favored internationally.\n",
    "\n",
    "- ❄️ **Family-Friendly Films Thrive**: Frozen and Minions prove that animated films can be international sensations, especially among family audiences.\n",
    "\n",
    "\n",
    "### 🎯 **Recommendations**\n",
    "\n",
    "- 🌐 **Global Distribution Strategy**: Invest in broad international releases, ensuring dubbed/subtitled versions cater to regional markets.\n",
    "\n",
    "- 📽️ **To Focus on Franchises**: Expand existing cinematic universes (e.g., Marvel, Jurassic) or develop new franchise-capable stories.\n",
    "\n",
    "- 👨‍👩‍👧‍👦 **To Prioritize Family Content**: Continue investing in animated and family-oriented films to capture multi-generational audiences.\n",
    "\n",
    "- 📊 **To Tailor for Regional Markets**: Consider region-specific themes, actors, or co-productions to penetrate large markets like China and India.\n",
    "\n",
    "- 🚀 **To Emphasize Visual Spectacle**: Since visual effects-heavy films succeed globally, allocate budget to VFX and globalized storytelling."
   ]
  },
  {
   "cell_type": "code",
   "execution_count": null,
   "id": "6e4f67aa",
   "metadata": {},
   "outputs": [],
   "source": []
  }
 ],
 "metadata": {
  "kernelspec": {
   "display_name": ".venv",
   "language": "python",
   "name": "python3"
  },
  "language_info": {
   "codemirror_mode": {
    "name": "ipython",
    "version": 3
   },
   "file_extension": ".py",
   "mimetype": "text/x-python",
   "name": "python",
   "nbconvert_exporter": "python",
   "pygments_lexer": "ipython3",
   "version": "3.11.9"
  }
 },
 "nbformat": 4,
 "nbformat_minor": 5
}
