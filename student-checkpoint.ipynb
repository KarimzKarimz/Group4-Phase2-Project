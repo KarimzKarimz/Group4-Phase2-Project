{
 "cells": [
  {
   "cell_type": "markdown",
   "metadata": {},
   "source": [
    "#   MOVIE INDUSTRY  ANALYSIS\n",
    "\n",
    "## 🎬 Project Title :\n",
    "Box Office Gold: Data-Driven Insights for a Profitable Movie Studio Launch\n",
    "\n",
    "### Business Understanding\n",
    "👥 Stakeholder\n",
    "The primary stakeholder is the executive team of the company's new movie studio. They need insights into the film industry to make confident decisions on what type of movies to produce.\n",
    "\n",
    "### 🌍 Domain:\n",
    "\n",
    "Entertainment & Media Analytics (specifically, Film Industry/Box Office Performance)\n",
    "\n",
    "#### 📘 Introduction:\n",
    "\n",
    "With the growing trend of major companies venturing into original film production, my organization is planning to launch its own movie studio. However, without prior experience in the film industry, there’s uncertainty about what types of movies resonate with audiences and drive box office success. This project aims to analyze trends in box office data to uncover what genres, budgets, and other film attributes contribute most to commercial success — providing strategic guidance for profitable content creation.\n",
    "\n",
    "#### 🎯 Business Objectives :\n",
    "To Identify High-Performing Film Genres:\n",
    "Analyze box office data to determine which movie genres consistently generate the highest revenue and audience engagement.\n",
    "To Examine the Relationship Between Budget and Profitability:\n",
    "Investigate how production budgets influence box office success and identify the budget range that maximizes return on investment (ROI).\n",
    "To Assess the Impact of Key Film Attributes:\n",
    "Explore how factors such as runtime, cast, release date (season), and film ratings (e.g., PG-13, R) affect a movie’s performance.\n",
    "To Benchmark Against Top Studios :\n",
    "Analyze which production studios are leading in terms of commercial success and identify patterns in their film portfolios.\n",
    "To Provide Actionable Recommendations:\n",
    "Based on the insights, suggest the optimal type of film (genre, budget, release timing, etc.) that the company should produce for a successful studio launch.\n",
    "\n",
    "#### 📊 Project Plan: Box Office Gold – Data-Driven Insights for a Profitable Movie Studio Launch\n",
    "🔍 1. Problem Understanding & Goal Definition\n",
    "\n",
    "Review business problem: Identify film types that succeed at the box office.\n",
    "\n",
    "Define clear goals: Provide recommendations on genre, budget, and release strategy.\n",
    "\n",
    "📦 2. Data Collection\n",
    "\n",
    "Source Box Office Datasets from platforms like:\n",
    "\n",
    "Im.db.zip(movie_basics & Movie_ratings)\n",
    "\n",
    "bom.movie_gross.gz\n",
    "\n",
    "Collect relevant data fields:\n",
    "\n",
    "Genre, budget, revenue, runtime, release date, production company, director, cast, rating, etc.\n",
    "\n",
    "🧹 3. Data Cleaning & Preprocessing\n",
    "\n",
    "Handle missing values and inconsistencies.\n",
    "Standardize formats (dates, currencies, genres).\n",
    "Convert categorical variables where necessary.\n",
    "Remove duplicates or irrelevant records (e.g., short films, non-theatrical releases).\n",
    "📊 4. Exploratory Data Analysis (EDA)\n",
    "\n",
    "Univariate & Bivariate Analysis (e.g., budget vs revenue, genre vs revenue).\n",
    "Correlation heatmaps, box plots, histograms.\n",
    "Identify outliers and common patterns in successful films.\n",
    "Segment data by genre, production studio, or release year.\n",
    "🧠 5. Insights & Recommendations\n",
    "\n",
    "Summarize which genres are top performers.\n",
    "Recommend ideal budget ranges.\n",
    "Identify optimal release months/seasons.\n",
    "Suggest attributes linked to successful movies (e.g., popular runtimes, ratings).\n",
    "📑 6. Reporting & Visualization\n",
    "\n",
    "Build clear and compelling visualizations (using Tableau, Power BI, or Python’s Seaborn/Matplotlib).\n",
    "Draft a business-focused report or slide deck.\n",
    "Include:\n",
    "\n",
    "Key findings\n",
    "Strategic suggestions\n",
    "Visual evidence\n",
    "📢 7. Presentation to Stakeholders\n",
    "\n",
    "#### Communicate insights in non-technical language.\n",
    "Show data-driven rationale for proposed movie types.\n",
    "Allow room for stakeholder feedback and Q&A.\n",
    "Overview/Background\n",
    "As the entertainment industry shifts toward original content production, many large companies are investing in their own movie studios to capture audience attention and drive revenue. The company seeks to follow this trend but lacks experience in film production. To ensure a successful studio launch, this project aims to analyze historical box office data to uncover key trends in genre performance, budget impact, and other critical success factors. The goal is to provide data-driven insights that will guide strategic decisions on what types of films to produce for maximum box office success.\n",
    "\n",
    "#### Challenges\n",
    "One of the main challenges in this project is acquiring comprehensive and reliable box office data that includes essential attributes such as genre, budget, revenue, and release details. Additionally, the film industry is influenced by unpredictable factors like audience trends, star power, and marketing, which are difficult to quantify. Ensuring data quality, handling missing or inconsistent entries, and drawing actionable insights that align with business goals also present key hurdles in the analysis process.\n",
    "\n",
    "#### Proposed Solution\n",
    "To address the business challenge, this project proposes a data-driven approach that involves collecting and analyzing historical box office data to identify patterns in successful films. By examining factors such as genre, budget, revenue, release timing, and other key attributes, the project will uncover trends that correlate with box office success. The insights will then be translated into practical recommendations to guide the company in producing films with higher chances of commercial success.\n",
    "\n",
    "#### Conclusion:\n",
    "Launching a successful movie studio requires more than creativity—it demands strategic, data-informed decisions. This project leverages box office analytics to uncover what drives film profitability, helping the company make confident choices about genre, budget, and release strategy. With clear insights and recommendations, the company will be well-positioned to enter the competitive film industry with a strong foundation for success.\n",
    "\n",
    "#### ❗ Problem Statement\n",
    "As the company plans to venture into original film production, it faces significant uncertainty due to a lack of industry experience. 🎬 Making informed decisions about what types of films to produce is challenging without a clear understanding of market trends and performance drivers. Additionally, obtaining accurate and complete box office data is difficult, and the film industry itself is influenced by various unpredictable factors such as changing audience preferences, marketing impact, and star power. These challenges make it hard to identify what contributes to a movie’s commercial success and pose a risk to the company’s new venture.\n",
    "\n",
    "#### 📊 Data Understanding\n",
    "The data for this project comes from multiple sources:\n",
    "\n",
    "im.db.zip:\n",
    "A zipped SQLite database that contains various tables. The two most relevant tables are:\n",
    "\n",
    "movie_basics: Likely includes key information about movies such as titles, genres, release dates, runtime, etc.\n",
    "movie_ratings: Contains viewer and critic ratings, providing insight into movie reception.\n",
    "bom.movie_gross.csv.gz:\n",
    "A compressed CSV file containing box office gross data. This file is essential for analyzing revenue trends and overall financial performance.\n",
    "These sources combined offer a comprehensive view of film attributes and performance metrics, which are crucial for understanding the factors behind movie success.\n",
    "\n",
    "\n",
    "\n",
    "\n",
    "\n",
    "\n",
    "\n"
   ]
  },
  {
   "cell_type": "markdown",
   "metadata": {},
   "source": [
    "### Workflow & Steps\n",
    "\n",
    "#### Step 1: Importing ,Connecting and Loading Datasets and Analysing the datasets\n",
    "\n",
    " Import necessary  libraries\n",
    "\n",
    " Connecting and loading the \n",
    "\n",
    " Check dataset shape (rows & columns) \n",
    "\n",
    " View dataset information (column types, missing values)\n",
    "\n",
    " Summary statistics of numerical columns  \n",
    "\n",
    " Check for duplicate rows  \n",
    "\n",
    " Check for unique values in key categorical columns\n",
    "\n",
    "\n",
    "#### Step 2: Data Cleaning\n",
    "\n",
    " Remove duplicates \n",
    "\n",
    " Handle missing values appropriately  \n",
    "\n",
    " Convert data types if necessary  \n",
    "\n",
    " Standardize column names for consistency \n",
    "\n",
    " Correct inconsistent categorical values  \n",
    "\n",
    " Save the cleaned dataset  "
   ]
  },
  {
   "cell_type": "markdown",
   "metadata": {},
   "source": [
    "## Step 1: Importing and Loading Data"
   ]
  },
  {
   "cell_type": "markdown",
   "metadata": {},
   "source": [
    "### 📚 1.1 Importing Necessary Libraries\n",
    "\n",
    "In this step, we import all the essential Python libraries that we will use throughout the project for:\n",
    "- Extracting and reading data (from ZIP files and SQLite databases)\n",
    "- Cleaning and analyzing data\n",
    "- Performing statistical operations\n",
    "- Visualizing data to uncover insights\n"
   ]
  },
  {
   "cell_type": "code",
   "execution_count": 40,
   "metadata": {},
   "outputs": [],
   "source": [
    "# We are Importing neccessary libraries\n",
    "\n",
    "import zipfile\n",
    "from scipy import stats\n",
    "import sqlite3\n",
    "import pandas as pd\n",
    "import numpy as np\n",
    "import matplotlib.pyplot as plt\n",
    "import seaborn as sns\n",
    "import warnings; warnings.simplefilter('ignore', FutureWarning)\n"
   ]
  },
  {
   "cell_type": "markdown",
   "metadata": {},
   "source": [
    "* In this project, we import libraries that provide tools for data manipulation and database interaction. \n",
    " These libraries enable efficient loading, cleaning, merging, and analysis of structured data from various sources, \n",
    " including flat files and relational databases. By using these tools, we can prepare and organize the data for deeper analysis and insight."
   ]
  },
  {
   "cell_type": "markdown",
   "metadata": {},
   "source": [
    " ### 🗄️ 1.2: Connecting to the SQLite Database\n",
    "\n",
    "In this step, we establish a connection to the SQLite database that contains structured data related to our project.\n",
    "\n",
    "**Why this is important:**  \n",
    "SQLite databases allow us to store and retrieve data efficiently using SQL queries. We first need to connect to the database before we can explore or extract tables for analysis.\n"
   ]
  },
  {
   "cell_type": "code",
   "execution_count": 41,
   "metadata": {},
   "outputs": [
    {
     "data": {
      "text/plain": [
       "[('movie_basics',),\n",
       " ('directors',),\n",
       " ('known_for',),\n",
       " ('movie_akas',),\n",
       " ('movie_ratings',),\n",
       " ('persons',),\n",
       " ('principals',),\n",
       " ('writers',)]"
      ]
     },
     "execution_count": 41,
     "metadata": {},
     "output_type": "execute_result"
    }
   ],
   "source": [
    "# Establishing a connection to the SQLite database containing structured data \n",
    "conn = sqlite3.connect(\"zippedData/im.db1/im.db\")\n",
    "cur = conn.cursor()\n",
    "\n",
    "cur.execute(\"SELECT name from sqlite_master\").fetchall()"
   ]
  },
  {
   "cell_type": "markdown",
   "metadata": {},
   "source": [
    "* Establishing a connection to the SQLite database containing structured data *by creating a connection object, we enable the ability to execute SQL queries  and extract tables or records from the database. This connection is essential for retrieving data stored in relational format and loading it into a DataFrame and also for further analysis.\n"
   ]
  },
  {
   "cell_type": "markdown",
   "metadata": {},
   "source": [
    "# Combined Dataset\n",
    "\n",
    "This dataset merges information from the following tables:\n",
    "- `principals`\n",
    "- `movie_akas`\n",
    "- `movie_basics`\n",
    "- `movie_ratings`\n",
    "- `persons`\n",
    "\n",
    "### Columns:\n",
    "- `movie_id` — Unique identifier for each movie\n",
    "- `person_id` — Unique identifier for each person\n",
    "- `category` — The category of job for the person (e.g., actor, director)\n",
    "- `job` — Specific job title\n",
    "- `characters` — Characters played (if applicable)\n",
    "- `ordering` — Order of the title for the movie\n",
    "- `aka_title` — Alternative title of the movie\n",
    "- `region` — Region associated with the title\n",
    "- `language` — Language of the alternative title\n",
    "- `types` — Types of alternative titles (e.g., working title, original)\n",
    "- `attributes` — Additional attributes of the title\n",
    "- `is_original_title` — Indicator if the title is the original\n",
    "- `primary_title` — Official main title of the movie\n",
    "- `original_title` — Original language title\n",
    "- `start_year` — Year the movie was released\n",
    "- `runtime_minutes` — Duration of the movie\n",
    "- `genres` — Movie genres\n",
    "- `average_rating` — Average rating from users\n",
    "- `num_votes` — Number of votes received\n",
    "- `primary_name` — Person’s name\n",
    "- `birth_year` — Person’s birth year\n",
    "- `death_year` — Person’s death year (if applicable)\n",
    "- `primary_profession` — Main profession(s) of the person\n"
   ]
  },
  {
   "cell_type": "code",
   "execution_count": 42,
   "metadata": {},
   "outputs": [
    {
     "data": {
      "text/html": [
       "<div>\n",
       "<style scoped>\n",
       "    .dataframe tbody tr th:only-of-type {\n",
       "        vertical-align: middle;\n",
       "    }\n",
       "\n",
       "    .dataframe tbody tr th {\n",
       "        vertical-align: top;\n",
       "    }\n",
       "\n",
       "    .dataframe thead th {\n",
       "        text-align: right;\n",
       "    }\n",
       "</style>\n",
       "<table border=\"1\" class=\"dataframe\">\n",
       "  <thead>\n",
       "    <tr style=\"text-align: right;\">\n",
       "      <th></th>\n",
       "      <th>movie_id</th>\n",
       "      <th>ordering</th>\n",
       "      <th>person_id</th>\n",
       "      <th>category</th>\n",
       "      <th>job</th>\n",
       "      <th>characters</th>\n",
       "      <th>ordering</th>\n",
       "      <th>title</th>\n",
       "      <th>region</th>\n",
       "      <th>language</th>\n",
       "      <th>...</th>\n",
       "      <th>original_title</th>\n",
       "      <th>start_year</th>\n",
       "      <th>runtime_minutes</th>\n",
       "      <th>genres</th>\n",
       "      <th>averagerating</th>\n",
       "      <th>numvotes</th>\n",
       "      <th>primary_name</th>\n",
       "      <th>birth_year</th>\n",
       "      <th>death_year</th>\n",
       "      <th>primary_profession</th>\n",
       "    </tr>\n",
       "  </thead>\n",
       "  <tbody>\n",
       "    <tr>\n",
       "      <th>0</th>\n",
       "      <td>tt0323808</td>\n",
       "      <td>10</td>\n",
       "      <td>nm0059247</td>\n",
       "      <td>editor</td>\n",
       "      <td>None</td>\n",
       "      <td>None</td>\n",
       "      <td>1</td>\n",
       "      <td>May Day</td>\n",
       "      <td>GB</td>\n",
       "      <td>None</td>\n",
       "      <td>...</td>\n",
       "      <td>The Wicker Tree</td>\n",
       "      <td>2011</td>\n",
       "      <td>96.0</td>\n",
       "      <td>Drama,Horror</td>\n",
       "      <td>3.9</td>\n",
       "      <td>2328</td>\n",
       "      <td>Sean Barton</td>\n",
       "      <td>1944.0</td>\n",
       "      <td>NaN</td>\n",
       "      <td>editor,editorial_department,assistant_director</td>\n",
       "    </tr>\n",
       "    <tr>\n",
       "      <th>1</th>\n",
       "      <td>tt0323808</td>\n",
       "      <td>10</td>\n",
       "      <td>nm0059247</td>\n",
       "      <td>editor</td>\n",
       "      <td>None</td>\n",
       "      <td>None</td>\n",
       "      <td>2</td>\n",
       "      <td>Cowboys for Christ</td>\n",
       "      <td>GB</td>\n",
       "      <td>None</td>\n",
       "      <td>...</td>\n",
       "      <td>The Wicker Tree</td>\n",
       "      <td>2011</td>\n",
       "      <td>96.0</td>\n",
       "      <td>Drama,Horror</td>\n",
       "      <td>3.9</td>\n",
       "      <td>2328</td>\n",
       "      <td>Sean Barton</td>\n",
       "      <td>1944.0</td>\n",
       "      <td>NaN</td>\n",
       "      <td>editor,editorial_department,assistant_director</td>\n",
       "    </tr>\n",
       "    <tr>\n",
       "      <th>2</th>\n",
       "      <td>tt0323808</td>\n",
       "      <td>10</td>\n",
       "      <td>nm0059247</td>\n",
       "      <td>editor</td>\n",
       "      <td>None</td>\n",
       "      <td>None</td>\n",
       "      <td>3</td>\n",
       "      <td>The Wicker Tree</td>\n",
       "      <td>GB</td>\n",
       "      <td>None</td>\n",
       "      <td>...</td>\n",
       "      <td>The Wicker Tree</td>\n",
       "      <td>2011</td>\n",
       "      <td>96.0</td>\n",
       "      <td>Drama,Horror</td>\n",
       "      <td>3.9</td>\n",
       "      <td>2328</td>\n",
       "      <td>Sean Barton</td>\n",
       "      <td>1944.0</td>\n",
       "      <td>NaN</td>\n",
       "      <td>editor,editorial_department,assistant_director</td>\n",
       "    </tr>\n",
       "    <tr>\n",
       "      <th>3</th>\n",
       "      <td>tt0323808</td>\n",
       "      <td>10</td>\n",
       "      <td>nm0059247</td>\n",
       "      <td>editor</td>\n",
       "      <td>None</td>\n",
       "      <td>None</td>\n",
       "      <td>4</td>\n",
       "      <td>The Wicker Tree</td>\n",
       "      <td>None</td>\n",
       "      <td>None</td>\n",
       "      <td>...</td>\n",
       "      <td>The Wicker Tree</td>\n",
       "      <td>2011</td>\n",
       "      <td>96.0</td>\n",
       "      <td>Drama,Horror</td>\n",
       "      <td>3.9</td>\n",
       "      <td>2328</td>\n",
       "      <td>Sean Barton</td>\n",
       "      <td>1944.0</td>\n",
       "      <td>NaN</td>\n",
       "      <td>editor,editorial_department,assistant_director</td>\n",
       "    </tr>\n",
       "    <tr>\n",
       "      <th>4</th>\n",
       "      <td>tt0323808</td>\n",
       "      <td>10</td>\n",
       "      <td>nm0059247</td>\n",
       "      <td>editor</td>\n",
       "      <td>None</td>\n",
       "      <td>None</td>\n",
       "      <td>5</td>\n",
       "      <td>Плетеное дерево</td>\n",
       "      <td>RU</td>\n",
       "      <td>None</td>\n",
       "      <td>...</td>\n",
       "      <td>The Wicker Tree</td>\n",
       "      <td>2011</td>\n",
       "      <td>96.0</td>\n",
       "      <td>Drama,Horror</td>\n",
       "      <td>3.9</td>\n",
       "      <td>2328</td>\n",
       "      <td>Sean Barton</td>\n",
       "      <td>1944.0</td>\n",
       "      <td>NaN</td>\n",
       "      <td>editor,editorial_department,assistant_director</td>\n",
       "    </tr>\n",
       "  </tbody>\n",
       "</table>\n",
       "<p>5 rows × 24 columns</p>\n",
       "</div>"
      ],
      "text/plain": [
       "    movie_id  ordering  person_id category   job characters  ordering  \\\n",
       "0  tt0323808        10  nm0059247   editor  None       None         1   \n",
       "1  tt0323808        10  nm0059247   editor  None       None         2   \n",
       "2  tt0323808        10  nm0059247   editor  None       None         3   \n",
       "3  tt0323808        10  nm0059247   editor  None       None         4   \n",
       "4  tt0323808        10  nm0059247   editor  None       None         5   \n",
       "\n",
       "                title region language  ...   original_title start_year  \\\n",
       "0             May Day     GB     None  ...  The Wicker Tree       2011   \n",
       "1  Cowboys for Christ     GB     None  ...  The Wicker Tree       2011   \n",
       "2     The Wicker Tree     GB     None  ...  The Wicker Tree       2011   \n",
       "3     The Wicker Tree   None     None  ...  The Wicker Tree       2011   \n",
       "4     Плетеное дерево     RU     None  ...  The Wicker Tree       2011   \n",
       "\n",
       "   runtime_minutes        genres averagerating  numvotes  primary_name  \\\n",
       "0             96.0  Drama,Horror           3.9      2328   Sean Barton   \n",
       "1             96.0  Drama,Horror           3.9      2328   Sean Barton   \n",
       "2             96.0  Drama,Horror           3.9      2328   Sean Barton   \n",
       "3             96.0  Drama,Horror           3.9      2328   Sean Barton   \n",
       "4             96.0  Drama,Horror           3.9      2328   Sean Barton   \n",
       "\n",
       "  birth_year  death_year                              primary_profession  \n",
       "0     1944.0         NaN  editor,editorial_department,assistant_director  \n",
       "1     1944.0         NaN  editor,editorial_department,assistant_director  \n",
       "2     1944.0         NaN  editor,editorial_department,assistant_director  \n",
       "3     1944.0         NaN  editor,editorial_department,assistant_director  \n",
       "4     1944.0         NaN  editor,editorial_department,assistant_director  \n",
       "\n",
       "[5 rows x 24 columns]"
      ]
     },
     "execution_count": 42,
     "metadata": {},
     "output_type": "execute_result"
    }
   ],
   "source": [
    "#directors has person_id,movie_id\n",
    "#writers has movie_id,person_id\n",
    "#known_for has person_id,movie_id\n",
    "#movie_ratings movie_id,averagerating,numvotes\n",
    "#persons has person_id,primary_name,birth_year,death_year,primary_profession\n",
    "#principals has movie_id,person_id,category,job,characters\n",
    "#movie_akas has movie_id,ordering,title,region,language,types,attributes,is_original_title\n",
    "#movie_basics has movie_id,primary_title,original_title,start_year,runtime_minutes,genres\n",
    "\n",
    "#persons,principals,movie_akas,movie_basics,movie_ratings are the only tables we need for all the columns in the db\n",
    "\n",
    "combined = \"\"\"SELECT *\n",
    "                from principals\n",
    "                JOIN movie_akas USING (movie_id)\n",
    "                JOIN movie_basics USING (movie_id)\n",
    "                JOIN movie_ratings USING (movie_id)\n",
    "                JOIN persons USING (person_id);\"\"\"\n",
    "\n",
    "combined_df = pd.read_sql_query(combined,conn)\n",
    "combined_df.head()\n",
    "\n",
    "\n"
   ]
  },
  {
   "cell_type": "code",
   "execution_count": 43,
   "metadata": {},
   "outputs": [],
   "source": [
    "film_df = combined_df.copy()"
   ]
  },
  {
   "cell_type": "markdown",
   "metadata": {},
   "source": [
    "## Checking the Number of Rows and Columns After Merging\n",
    "\n",
    "We will verify the size of the merged DataFrame `film_df` to see how many records and fields it contains after combining \n"
   ]
  },
  {
   "cell_type": "code",
   "execution_count": 44,
   "metadata": {},
   "outputs": [
    {
     "data": {
      "text/plain": [
       "(2422866, 24)"
      ]
     },
     "execution_count": 44,
     "metadata": {},
     "output_type": "execute_result"
    }
   ],
   "source": [
    "# checking for  rows and column after merging\n",
    "film_df.shape"
   ]
  },
  {
   "cell_type": "markdown",
   "metadata": {},
   "source": [
    "  \n",
    "- `.shape` returns a tuple:\n",
    "  - The **first value** is the number of rows (movies with both basic info and ratings).\n",
    "  - The **second value** is the number of columns (combined fields from both DataFrames).\n",
    "- This helps confirm the size of the new dataset after merging, ensuring no unexpected data loss or duplication occurred.\n"
   ]
  },
  {
   "cell_type": "markdown",
   "metadata": {},
   "source": [
    "## Checking Data Types and Basic Information of `film_df`\n",
    "\n",
    "We will inspect the structure of `film_df`, including data types, non-null counts, and memory usage, to better understand the dataset.\n"
   ]
  },
  {
   "cell_type": "code",
   "execution_count": 45,
   "metadata": {},
   "outputs": [
    {
     "name": "stdout",
     "output_type": "stream",
     "text": [
      "<class 'pandas.core.frame.DataFrame'>\n",
      "RangeIndex: 2422866 entries, 0 to 2422865\n",
      "Data columns (total 24 columns):\n",
      " #   Column              Dtype  \n",
      "---  ------              -----  \n",
      " 0   movie_id            object \n",
      " 1   ordering            int64  \n",
      " 2   person_id           object \n",
      " 3   category            object \n",
      " 4   job                 object \n",
      " 5   characters          object \n",
      " 6   ordering            int64  \n",
      " 7   title               object \n",
      " 8   region              object \n",
      " 9   language            object \n",
      " 10  types               object \n",
      " 11  attributes          object \n",
      " 12  is_original_title   float64\n",
      " 13  primary_title       object \n",
      " 14  original_title      object \n",
      " 15  start_year          int64  \n",
      " 16  runtime_minutes     float64\n",
      " 17  genres              object \n",
      " 18  averagerating       float64\n",
      " 19  numvotes            int64  \n",
      " 20  primary_name        object \n",
      " 21  birth_year          float64\n",
      " 22  death_year          float64\n",
      " 23  primary_profession  object \n",
      "dtypes: float64(5), int64(4), object(15)\n",
      "memory usage: 443.6+ MB\n"
     ]
    }
   ],
   "source": [
    "# Checking Data Types and Basic Information of `film_df`\n",
    "film_df.info()"
   ]
  },
  {
   "cell_type": "markdown",
   "metadata": {},
   "source": [
    "  \n",
    "- `.info()` provides a summary of the DataFrame, showing:\n",
    "  - The **total number of entries** (rows),\n",
    "  - **Non-null counts** for each column (helpful for spotting missing data),\n",
    "  - **Data types** for each column:\n",
    "    - `object` for text/string,\n",
    "    - `int64` for integers,\n",
    "    - `float64` for decimal numbers,\n",
    "  - **Memory usage** (important for very large datasets).\n",
    "- This is crucial for:\n",
    "  - Detecting missing data early,\n",
    "  - Planning data cleaning steps,\n",
    "  - Knowing if data types need optimization (e.g., changing types to save memory).\n"
   ]
  },
  {
   "cell_type": "markdown",
   "metadata": {},
   "source": [
    "## Summary Statistics of `film_df`\n",
    "\n",
    "We will generate descriptive statistics for the numeric columns in the merged `film_df` DataFrame to understand the distribution and range of the data.\n"
   ]
  },
  {
   "cell_type": "code",
   "execution_count": 46,
   "metadata": {},
   "outputs": [
    {
     "data": {
      "text/html": [
       "<div>\n",
       "<style scoped>\n",
       "    .dataframe tbody tr th:only-of-type {\n",
       "        vertical-align: middle;\n",
       "    }\n",
       "\n",
       "    .dataframe tbody tr th {\n",
       "        vertical-align: top;\n",
       "    }\n",
       "\n",
       "    .dataframe thead th {\n",
       "        text-align: right;\n",
       "    }\n",
       "</style>\n",
       "<table border=\"1\" class=\"dataframe\">\n",
       "  <thead>\n",
       "    <tr style=\"text-align: right;\">\n",
       "      <th></th>\n",
       "      <th>ordering</th>\n",
       "      <th>ordering</th>\n",
       "      <th>is_original_title</th>\n",
       "      <th>start_year</th>\n",
       "      <th>runtime_minutes</th>\n",
       "      <th>averagerating</th>\n",
       "      <th>numvotes</th>\n",
       "      <th>birth_year</th>\n",
       "      <th>death_year</th>\n",
       "    </tr>\n",
       "  </thead>\n",
       "  <tbody>\n",
       "    <tr>\n",
       "      <th>count</th>\n",
       "      <td>2.422866e+06</td>\n",
       "      <td>2.422866e+06</td>\n",
       "      <td>2.422866e+06</td>\n",
       "      <td>2.422866e+06</td>\n",
       "      <td>2.327862e+06</td>\n",
       "      <td>2.422866e+06</td>\n",
       "      <td>2.422866e+06</td>\n",
       "      <td>1.054911e+06</td>\n",
       "      <td>42418.000000</td>\n",
       "    </tr>\n",
       "    <tr>\n",
       "      <th>mean</th>\n",
       "      <td>5.279298e+00</td>\n",
       "      <td>6.401481e+00</td>\n",
       "      <td>1.377749e-01</td>\n",
       "      <td>2.014116e+03</td>\n",
       "      <td>1.005235e+02</td>\n",
       "      <td>6.240323e+00</td>\n",
       "      <td>3.104851e+04</td>\n",
       "      <td>1.967515e+03</td>\n",
       "      <td>1990.075251</td>\n",
       "    </tr>\n",
       "    <tr>\n",
       "      <th>std</th>\n",
       "      <td>2.825593e+00</td>\n",
       "      <td>7.383870e+00</td>\n",
       "      <td>3.446636e-01</td>\n",
       "      <td>2.576625e+00</td>\n",
       "      <td>1.203028e+02</td>\n",
       "      <td>1.234918e+00</td>\n",
       "      <td>9.810964e+04</td>\n",
       "      <td>2.026385e+01</td>\n",
       "      <td>64.839456</td>\n",
       "    </tr>\n",
       "    <tr>\n",
       "      <th>min</th>\n",
       "      <td>1.000000e+00</td>\n",
       "      <td>1.000000e+00</td>\n",
       "      <td>0.000000e+00</td>\n",
       "      <td>2.010000e+03</td>\n",
       "      <td>3.000000e+00</td>\n",
       "      <td>1.000000e+00</td>\n",
       "      <td>5.000000e+00</td>\n",
       "      <td>1.000000e+00</td>\n",
       "      <td>17.000000</td>\n",
       "    </tr>\n",
       "    <tr>\n",
       "      <th>25%</th>\n",
       "      <td>3.000000e+00</td>\n",
       "      <td>2.000000e+00</td>\n",
       "      <td>0.000000e+00</td>\n",
       "      <td>2.012000e+03</td>\n",
       "      <td>8.800000e+01</td>\n",
       "      <td>5.600000e+00</td>\n",
       "      <td>8.900000e+01</td>\n",
       "      <td>1.960000e+03</td>\n",
       "      <td>1992.000000</td>\n",
       "    </tr>\n",
       "    <tr>\n",
       "      <th>50%</th>\n",
       "      <td>5.000000e+00</td>\n",
       "      <td>3.000000e+00</td>\n",
       "      <td>0.000000e+00</td>\n",
       "      <td>2.014000e+03</td>\n",
       "      <td>9.700000e+01</td>\n",
       "      <td>6.400000e+00</td>\n",
       "      <td>8.290000e+02</td>\n",
       "      <td>1.970000e+03</td>\n",
       "      <td>2012.000000</td>\n",
       "    </tr>\n",
       "    <tr>\n",
       "      <th>75%</th>\n",
       "      <td>8.000000e+00</td>\n",
       "      <td>8.000000e+00</td>\n",
       "      <td>0.000000e+00</td>\n",
       "      <td>2.016000e+03</td>\n",
       "      <td>1.100000e+02</td>\n",
       "      <td>7.100000e+00</td>\n",
       "      <td>9.625000e+03</td>\n",
       "      <td>1.979000e+03</td>\n",
       "      <td>2016.000000</td>\n",
       "    </tr>\n",
       "    <tr>\n",
       "      <th>max</th>\n",
       "      <td>1.000000e+01</td>\n",
       "      <td>6.100000e+01</td>\n",
       "      <td>1.000000e+00</td>\n",
       "      <td>2.019000e+03</td>\n",
       "      <td>5.142000e+04</td>\n",
       "      <td>1.000000e+01</td>\n",
       "      <td>1.841066e+06</td>\n",
       "      <td>2.014000e+03</td>\n",
       "      <td>2019.000000</td>\n",
       "    </tr>\n",
       "  </tbody>\n",
       "</table>\n",
       "</div>"
      ],
      "text/plain": [
       "           ordering      ordering  is_original_title    start_year  \\\n",
       "count  2.422866e+06  2.422866e+06       2.422866e+06  2.422866e+06   \n",
       "mean   5.279298e+00  6.401481e+00       1.377749e-01  2.014116e+03   \n",
       "std    2.825593e+00  7.383870e+00       3.446636e-01  2.576625e+00   \n",
       "min    1.000000e+00  1.000000e+00       0.000000e+00  2.010000e+03   \n",
       "25%    3.000000e+00  2.000000e+00       0.000000e+00  2.012000e+03   \n",
       "50%    5.000000e+00  3.000000e+00       0.000000e+00  2.014000e+03   \n",
       "75%    8.000000e+00  8.000000e+00       0.000000e+00  2.016000e+03   \n",
       "max    1.000000e+01  6.100000e+01       1.000000e+00  2.019000e+03   \n",
       "\n",
       "       runtime_minutes  averagerating      numvotes    birth_year  \\\n",
       "count     2.327862e+06   2.422866e+06  2.422866e+06  1.054911e+06   \n",
       "mean      1.005235e+02   6.240323e+00  3.104851e+04  1.967515e+03   \n",
       "std       1.203028e+02   1.234918e+00  9.810964e+04  2.026385e+01   \n",
       "min       3.000000e+00   1.000000e+00  5.000000e+00  1.000000e+00   \n",
       "25%       8.800000e+01   5.600000e+00  8.900000e+01  1.960000e+03   \n",
       "50%       9.700000e+01   6.400000e+00  8.290000e+02  1.970000e+03   \n",
       "75%       1.100000e+02   7.100000e+00  9.625000e+03  1.979000e+03   \n",
       "max       5.142000e+04   1.000000e+01  1.841066e+06  2.014000e+03   \n",
       "\n",
       "         death_year  \n",
       "count  42418.000000  \n",
       "mean    1990.075251  \n",
       "std       64.839456  \n",
       "min       17.000000  \n",
       "25%     1992.000000  \n",
       "50%     2012.000000  \n",
       "75%     2016.000000  \n",
       "max     2019.000000  "
      ]
     },
     "execution_count": 46,
     "metadata": {},
     "output_type": "execute_result"
    }
   ],
   "source": [
    "# Summary Statistics\n",
    "film_df.describe()\n"
   ]
  },
  {
   "cell_type": "markdown",
   "metadata": {},
   "source": [
    " \n",
    "- `.describe()` provides summary statistics for **numeric columns** in the `film_df` DataFrame, including:\n",
    "  - **count**: Number of non-null entries,\n",
    "  - **mean**: Average value,\n",
    "  - **std**: Standard deviation (how spread out the values are),\n",
    "  - **min**: Minimum value,\n",
    "  - **25%**, **50% (median)**, **75%**: Percentile values indicating distribution,\n",
    "  - **max**: Maximum value.\n",
    "- This gives a quick overview of the central tendency, spread, and variability of the dataset’s numerical features (like ratings or release year).\n"
   ]
  },
  {
   "cell_type": "markdown",
   "metadata": {},
   "source": [
    "## Listing the Column Names in `film_df`\n",
    "\n",
    "We will display the names of all the columns in the `film_df` DataFrame to understand its structure and the data it contains.\n"
   ]
  },
  {
   "cell_type": "markdown",
   "metadata": {},
   "source": [
    " \n",
    "- `.describe()` provides summary statistics for **numeric columns** in the `film_df` DataFrame, including:\n",
    "  - **count**: Number of non-null entries,\n",
    "  - **mean**: Average value,\n",
    "  - **std**: Standard deviation (how spread out the values are),\n",
    "  - **min**: Minimum value,\n",
    "  - **25%**, **50% (median)**, **75%**: Percentile values indicating distribution,\n",
    "  - **max**: Maximum value.\n",
    "- This gives a quick overview of the central tendency, spread, and variability of the dataset’s numerical features (like ratings or release year).\n"
   ]
  },
  {
   "cell_type": "markdown",
   "metadata": {},
   "source": [
    "## Listing the Column Names in `film_df`\n",
    "\n",
    "We will display the names of all the columns in the `film_df` DataFrame to understand its structure and the data it contains.\n"
   ]
  },
  {
   "cell_type": "code",
   "execution_count": 47,
   "metadata": {},
   "outputs": [
    {
     "data": {
      "text/plain": [
       "['movie_id',\n",
       " 'ordering',\n",
       " 'person_id',\n",
       " 'category',\n",
       " 'job',\n",
       " 'characters',\n",
       " 'ordering',\n",
       " 'title',\n",
       " 'region',\n",
       " 'language',\n",
       " 'types',\n",
       " 'attributes',\n",
       " 'is_original_title',\n",
       " 'primary_title',\n",
       " 'original_title',\n",
       " 'start_year',\n",
       " 'runtime_minutes',\n",
       " 'genres',\n",
       " 'averagerating',\n",
       " 'numvotes',\n",
       " 'primary_name',\n",
       " 'birth_year',\n",
       " 'death_year',\n",
       " 'primary_profession']"
      ]
     },
     "execution_count": 47,
     "metadata": {},
     "output_type": "execute_result"
    }
   ],
   "source": [
    "# The following are the column names in the `film_df` DataFrame:\n",
    "film_df.columns.tolist()"
   ]
  },
  {
   "cell_type": "markdown",
   "metadata": {},
   "source": [
    " \n",
    "- `.columns` retrieves the column names of the DataFrame.\n",
    "- `.tolist()` converts the column names into a **Python list** for easier reading and use.\n",
    "- This step is useful for:\n",
    "  - Quickly checking what data is available in the merged DataFrame,\n",
    "  - Ensuring all expected columns are present after merging the datasets.\n"
   ]
  },
  {
   "cell_type": "markdown",
   "metadata": {},
   "source": [
    "## Loading Data from `bom.movie_gross.csv.gz`\n",
    "\n",
    "We will load the movie box office earnings data from the `bom.movie_gross.csv.gz` file and display the first few rows to inspect its contents.\n"
   ]
  },
  {
   "cell_type": "code",
   "execution_count": 48,
   "metadata": {},
   "outputs": [
    {
     "data": {
      "text/html": [
       "<div>\n",
       "<style scoped>\n",
       "    .dataframe tbody tr th:only-of-type {\n",
       "        vertical-align: middle;\n",
       "    }\n",
       "\n",
       "    .dataframe tbody tr th {\n",
       "        vertical-align: top;\n",
       "    }\n",
       "\n",
       "    .dataframe thead th {\n",
       "        text-align: right;\n",
       "    }\n",
       "</style>\n",
       "<table border=\"1\" class=\"dataframe\">\n",
       "  <thead>\n",
       "    <tr style=\"text-align: right;\">\n",
       "      <th></th>\n",
       "      <th>title</th>\n",
       "      <th>studio</th>\n",
       "      <th>domestic_gross</th>\n",
       "      <th>foreign_gross</th>\n",
       "      <th>year</th>\n",
       "    </tr>\n",
       "  </thead>\n",
       "  <tbody>\n",
       "    <tr>\n",
       "      <th>0</th>\n",
       "      <td>Toy Story 3</td>\n",
       "      <td>BV</td>\n",
       "      <td>415000000.0</td>\n",
       "      <td>652000000</td>\n",
       "      <td>2010</td>\n",
       "    </tr>\n",
       "    <tr>\n",
       "      <th>1</th>\n",
       "      <td>Alice in Wonderland (2010)</td>\n",
       "      <td>BV</td>\n",
       "      <td>334200000.0</td>\n",
       "      <td>691300000</td>\n",
       "      <td>2010</td>\n",
       "    </tr>\n",
       "    <tr>\n",
       "      <th>2</th>\n",
       "      <td>Harry Potter and the Deathly Hallows Part 1</td>\n",
       "      <td>WB</td>\n",
       "      <td>296000000.0</td>\n",
       "      <td>664300000</td>\n",
       "      <td>2010</td>\n",
       "    </tr>\n",
       "    <tr>\n",
       "      <th>3</th>\n",
       "      <td>Inception</td>\n",
       "      <td>WB</td>\n",
       "      <td>292600000.0</td>\n",
       "      <td>535700000</td>\n",
       "      <td>2010</td>\n",
       "    </tr>\n",
       "    <tr>\n",
       "      <th>4</th>\n",
       "      <td>Shrek Forever After</td>\n",
       "      <td>P/DW</td>\n",
       "      <td>238700000.0</td>\n",
       "      <td>513900000</td>\n",
       "      <td>2010</td>\n",
       "    </tr>\n",
       "  </tbody>\n",
       "</table>\n",
       "</div>"
      ],
      "text/plain": [
       "                                         title studio  domestic_gross  \\\n",
       "0                                  Toy Story 3     BV     415000000.0   \n",
       "1                   Alice in Wonderland (2010)     BV     334200000.0   \n",
       "2  Harry Potter and the Deathly Hallows Part 1     WB     296000000.0   \n",
       "3                                    Inception     WB     292600000.0   \n",
       "4                          Shrek Forever After   P/DW     238700000.0   \n",
       "\n",
       "  foreign_gross  year  \n",
       "0     652000000  2010  \n",
       "1     691300000  2010  \n",
       "2     664300000  2010  \n",
       "3     535700000  2010  \n",
       "4     513900000  2010  "
      ]
     },
     "execution_count": 48,
     "metadata": {},
     "output_type": "execute_result"
    }
   ],
   "source": [
    "# load data from bom.movie_gross.csv.gz\n",
    "# box_office_df : shows how movies were earning\n",
    "\n",
    "box_office_df= pd.read_csv('zippedData/bom.movie_gross.csv.gz')\n",
    "box_office_df.head()"
   ]
  },
  {
   "cell_type": "markdown",
   "metadata": {},
   "source": [
    "\n",
    "- `pd.read_csv()` is used to load the data from a CSV file into a pandas DataFrame.\n",
    "  - In this case, the file is compressed as `.gz`, but pandas can read it directly without any extra steps.\n",
    "- `.head()` displays the first 5 rows of the DataFrame to give a quick view of the data structure.\n",
    "- The dataset likely contains information on how movies performed at the box office, such as gross earnings, release date, etc.\n"
   ]
  },
  {
   "cell_type": "markdown",
   "metadata": {},
   "source": [
    "## Checking the Number of Rows and Columns in `box_office_df`\n",
    "\n",
    "We will check the dimensions of the `box_office_df` DataFrame to see how many records and fields it contains.\n"
   ]
  },
  {
   "cell_type": "code",
   "execution_count": 49,
   "metadata": {},
   "outputs": [
    {
     "data": {
      "text/plain": [
       "(3387, 5)"
      ]
     },
     "execution_count": 49,
     "metadata": {},
     "output_type": "execute_result"
    }
   ],
   "source": [
    "# check box_office_df rows and columns\n",
    "box_office_df.shape"
   ]
  },
  {
   "cell_type": "markdown",
   "metadata": {},
   "source": [
    "\n",
    "- `.shape` returns a tuple:\n",
    "  - The **first value** represents the **number of rows** (how many box office records are available).\n",
    "  - The **second value** represents the **number of columns** (how many features or fields are provided for each record).\n",
    "- This helps quickly assess the size and structure of the dataset.\n"
   ]
  },
  {
   "cell_type": "markdown",
   "metadata": {},
   "source": [
    "## Summary Statistics of `box_office_df`\n",
    "\n",
    "We will generate descriptive statistics for the numeric columns in the `box_office_df` DataFrame to understand the distribution and range of the box office earnings data.\n"
   ]
  },
  {
   "cell_type": "code",
   "execution_count": 50,
   "metadata": {},
   "outputs": [
    {
     "data": {
      "text/html": [
       "<div>\n",
       "<style scoped>\n",
       "    .dataframe tbody tr th:only-of-type {\n",
       "        vertical-align: middle;\n",
       "    }\n",
       "\n",
       "    .dataframe tbody tr th {\n",
       "        vertical-align: top;\n",
       "    }\n",
       "\n",
       "    .dataframe thead th {\n",
       "        text-align: right;\n",
       "    }\n",
       "</style>\n",
       "<table border=\"1\" class=\"dataframe\">\n",
       "  <thead>\n",
       "    <tr style=\"text-align: right;\">\n",
       "      <th></th>\n",
       "      <th>domestic_gross</th>\n",
       "      <th>year</th>\n",
       "    </tr>\n",
       "  </thead>\n",
       "  <tbody>\n",
       "    <tr>\n",
       "      <th>count</th>\n",
       "      <td>3.359000e+03</td>\n",
       "      <td>3387.000000</td>\n",
       "    </tr>\n",
       "    <tr>\n",
       "      <th>mean</th>\n",
       "      <td>2.874585e+07</td>\n",
       "      <td>2013.958075</td>\n",
       "    </tr>\n",
       "    <tr>\n",
       "      <th>std</th>\n",
       "      <td>6.698250e+07</td>\n",
       "      <td>2.478141</td>\n",
       "    </tr>\n",
       "    <tr>\n",
       "      <th>min</th>\n",
       "      <td>1.000000e+02</td>\n",
       "      <td>2010.000000</td>\n",
       "    </tr>\n",
       "    <tr>\n",
       "      <th>25%</th>\n",
       "      <td>1.200000e+05</td>\n",
       "      <td>2012.000000</td>\n",
       "    </tr>\n",
       "    <tr>\n",
       "      <th>50%</th>\n",
       "      <td>1.400000e+06</td>\n",
       "      <td>2014.000000</td>\n",
       "    </tr>\n",
       "    <tr>\n",
       "      <th>75%</th>\n",
       "      <td>2.790000e+07</td>\n",
       "      <td>2016.000000</td>\n",
       "    </tr>\n",
       "    <tr>\n",
       "      <th>max</th>\n",
       "      <td>9.367000e+08</td>\n",
       "      <td>2018.000000</td>\n",
       "    </tr>\n",
       "  </tbody>\n",
       "</table>\n",
       "</div>"
      ],
      "text/plain": [
       "       domestic_gross         year\n",
       "count    3.359000e+03  3387.000000\n",
       "mean     2.874585e+07  2013.958075\n",
       "std      6.698250e+07     2.478141\n",
       "min      1.000000e+02  2010.000000\n",
       "25%      1.200000e+05  2012.000000\n",
       "50%      1.400000e+06  2014.000000\n",
       "75%      2.790000e+07  2016.000000\n",
       "max      9.367000e+08  2018.000000"
      ]
     },
     "execution_count": 50,
     "metadata": {},
     "output_type": "execute_result"
    }
   ],
   "source": [
    "# Generate summary (descriptive) statistics for the numeric columns\n",
    "# .describe() summarizes key statistical measures for each numeric column\n",
    "box_office_df.describe()"
   ]
  },
  {
   "cell_type": "markdown",
   "metadata": {},
   "source": [
    "  \n",
    "- `.describe()` provides summary statistics for **numeric columns** in the `box_office_df` DataFrame, including:\n",
    "  - **count**: Number of non-null entries,\n",
    "  - **mean**: Average value,\n",
    "  - **std**: Standard deviation (measure of spread),\n",
    "  - **min**: Minimum value,\n",
    "  - **25%**, **50% (median)**, **75%**: Percentile values (showing distribution),\n",
    "  - **max**: Maximum value.\n",
    "- This step is essential for getting a quick understanding of the box office data’s central tendency, spread, and overall range.\n"
   ]
  },
  {
   "cell_type": "markdown",
   "metadata": {},
   "source": [
    "## Checking Dataset Info for `box_office_df`\n",
    "\n",
    "We will inspect the structure of the `box_office_df` DataFrame, including column types, non-null counts, and memory usage, to better understand the dataset.\n"
   ]
  },
  {
   "cell_type": "code",
   "execution_count": 51,
   "metadata": {},
   "outputs": [
    {
     "name": "stdout",
     "output_type": "stream",
     "text": [
      "<class 'pandas.core.frame.DataFrame'>\n",
      "RangeIndex: 3387 entries, 0 to 3386\n",
      "Data columns (total 5 columns):\n",
      " #   Column          Non-Null Count  Dtype  \n",
      "---  ------          --------------  -----  \n",
      " 0   title           3387 non-null   object \n",
      " 1   studio          3382 non-null   object \n",
      " 2   domestic_gross  3359 non-null   float64\n",
      " 3   foreign_gross   2037 non-null   object \n",
      " 4   year            3387 non-null   int64  \n",
      "dtypes: float64(1), int64(1), object(3)\n",
      "memory usage: 132.4+ KB\n"
     ]
    }
   ],
   "source": [
    "# Check dataset info\n",
    "box_office_df.info()  # Summary of dataset, including column types and non-null values"
   ]
  },
  {
   "cell_type": "markdown",
   "metadata": {},
   "source": [
    "\n",
    "- `.info()` provides an overview of the DataFrame, including:\n",
    "  - **Data types**: It shows the type of data in each column (e.g., `int64`, `float64`, `object` for text).\n",
    "  - **Non-null counts**: Helps detect missing values by showing how many non-null entries exist in each column.\n",
    "  - **Memory usage**: Indicates how much memory the entire DataFrame is using (important for large datasets).\n",
    "- This step is crucial for understanding the structure and cleanliness of the dataset.\n"
   ]
  },
  {
   "cell_type": "markdown",
   "metadata": {},
   "source": [
    "## Loading Data from `tn.movie_budgets.csv`\n",
    "\n",
    "We will load the movie box office earnings data from the `tn.movie_budgets.csv` file and display the first few rows to inspect its contents.\n"
   ]
  },
  {
   "cell_type": "code",
   "execution_count": 52,
   "metadata": {},
   "outputs": [
    {
     "data": {
      "text/html": [
       "<div>\n",
       "<style scoped>\n",
       "    .dataframe tbody tr th:only-of-type {\n",
       "        vertical-align: middle;\n",
       "    }\n",
       "\n",
       "    .dataframe tbody tr th {\n",
       "        vertical-align: top;\n",
       "    }\n",
       "\n",
       "    .dataframe thead th {\n",
       "        text-align: right;\n",
       "    }\n",
       "</style>\n",
       "<table border=\"1\" class=\"dataframe\">\n",
       "  <thead>\n",
       "    <tr style=\"text-align: right;\">\n",
       "      <th></th>\n",
       "      <th>id</th>\n",
       "      <th>release_date</th>\n",
       "      <th>movie</th>\n",
       "      <th>production_budget</th>\n",
       "      <th>domestic_gross</th>\n",
       "      <th>worldwide_gross</th>\n",
       "    </tr>\n",
       "  </thead>\n",
       "  <tbody>\n",
       "    <tr>\n",
       "      <th>0</th>\n",
       "      <td>1</td>\n",
       "      <td>Dec 18, 2009</td>\n",
       "      <td>Avatar</td>\n",
       "      <td>$425,000,000</td>\n",
       "      <td>$760,507,625</td>\n",
       "      <td>$2,776,345,279</td>\n",
       "    </tr>\n",
       "    <tr>\n",
       "      <th>1</th>\n",
       "      <td>2</td>\n",
       "      <td>May 20, 2011</td>\n",
       "      <td>Pirates of the Caribbean: On Stranger Tides</td>\n",
       "      <td>$410,600,000</td>\n",
       "      <td>$241,063,875</td>\n",
       "      <td>$1,045,663,875</td>\n",
       "    </tr>\n",
       "    <tr>\n",
       "      <th>2</th>\n",
       "      <td>3</td>\n",
       "      <td>Jun 7, 2019</td>\n",
       "      <td>Dark Phoenix</td>\n",
       "      <td>$350,000,000</td>\n",
       "      <td>$42,762,350</td>\n",
       "      <td>$149,762,350</td>\n",
       "    </tr>\n",
       "    <tr>\n",
       "      <th>3</th>\n",
       "      <td>4</td>\n",
       "      <td>May 1, 2015</td>\n",
       "      <td>Avengers: Age of Ultron</td>\n",
       "      <td>$330,600,000</td>\n",
       "      <td>$459,005,868</td>\n",
       "      <td>$1,403,013,963</td>\n",
       "    </tr>\n",
       "    <tr>\n",
       "      <th>4</th>\n",
       "      <td>5</td>\n",
       "      <td>Dec 15, 2017</td>\n",
       "      <td>Star Wars Ep. VIII: The Last Jedi</td>\n",
       "      <td>$317,000,000</td>\n",
       "      <td>$620,181,382</td>\n",
       "      <td>$1,316,721,747</td>\n",
       "    </tr>\n",
       "  </tbody>\n",
       "</table>\n",
       "</div>"
      ],
      "text/plain": [
       "   id  release_date                                        movie  \\\n",
       "0   1  Dec 18, 2009                                       Avatar   \n",
       "1   2  May 20, 2011  Pirates of the Caribbean: On Stranger Tides   \n",
       "2   3   Jun 7, 2019                                 Dark Phoenix   \n",
       "3   4   May 1, 2015                      Avengers: Age of Ultron   \n",
       "4   5  Dec 15, 2017            Star Wars Ep. VIII: The Last Jedi   \n",
       "\n",
       "  production_budget domestic_gross worldwide_gross  \n",
       "0      $425,000,000   $760,507,625  $2,776,345,279  \n",
       "1      $410,600,000   $241,063,875  $1,045,663,875  \n",
       "2      $350,000,000    $42,762,350    $149,762,350  \n",
       "3      $330,600,000   $459,005,868  $1,403,013,963  \n",
       "4      $317,000,000   $620,181,382  $1,316,721,747  "
      ]
     },
     "execution_count": 52,
     "metadata": {},
     "output_type": "execute_result"
    }
   ],
   "source": [
    "# load data from bom.movie_gross.csv.gz\n",
    "# box_office_df : shows how movies were earning\n",
    "\n",
    "movie_budget_df= pd.read_csv('zippedData/tn.movie_budgets.csv.gz')\n",
    "movie_budget_df.head()"
   ]
  },
  {
   "cell_type": "markdown",
   "metadata": {},
   "source": [
    "\n",
    "- `pd.read_csv()` is used to load the data from a CSV file into a pandas DataFrame.\n",
    "  - In this case, the file is compressed as `.gz`, but pandas can read it directly without any extra steps.\n",
    "- `.head()` displays the first 5 rows of the DataFrame to give a quick view of the data structure.\n",
    "- The dataset likely contains information on how movies performed at the movie_budget.\n"
   ]
  },
  {
   "cell_type": "markdown",
   "metadata": {},
   "source": [
    "## Checking the Number of Rows and Columns in `movie_budget_df`\n",
    "\n",
    "We will check the dimensions of the `moviee_budget_df` DataFrame to see how many records and fields it contains.\n"
   ]
  },
  {
   "cell_type": "code",
   "execution_count": 53,
   "metadata": {},
   "outputs": [
    {
     "data": {
      "text/plain": [
       "(5782, 6)"
      ]
     },
     "execution_count": 53,
     "metadata": {},
     "output_type": "execute_result"
    }
   ],
   "source": [
    "# check box_office_df rows and columns\n",
    "movie_budget_df.shape"
   ]
  },
  {
   "cell_type": "markdown",
   "metadata": {},
   "source": [
    "\n",
    "- `.shape` returns a tuple:\n",
    "  - The **first value** represents the **number of rows** (how many box office records are available).\n",
    "  - The **second value** represents the **number of columns** (how many features or fields are provided for each record).\n",
    "- This helps quickly assess the size and structure of the dataset.\n"
   ]
  },
  {
   "cell_type": "markdown",
   "metadata": {},
   "source": [
    "## Summary Statistics of `movie_budget_df`\n",
    "\n",
    "We will generate descriptive statistics for the numeric columns in the `movie_budget_df` DataFrame to understand the distribution and range of the movie budget earnings data.\n"
   ]
  },
  {
   "cell_type": "code",
   "execution_count": 54,
   "metadata": {},
   "outputs": [
    {
     "data": {
      "text/plain": [
       "<bound method NDFrame.describe of       id  release_date                                        movie  \\\n",
       "0      1  Dec 18, 2009                                       Avatar   \n",
       "1      2  May 20, 2011  Pirates of the Caribbean: On Stranger Tides   \n",
       "2      3   Jun 7, 2019                                 Dark Phoenix   \n",
       "3      4   May 1, 2015                      Avengers: Age of Ultron   \n",
       "4      5  Dec 15, 2017            Star Wars Ep. VIII: The Last Jedi   \n",
       "...   ..           ...                                          ...   \n",
       "5777  78  Dec 31, 2018                                       Red 11   \n",
       "5778  79   Apr 2, 1999                                    Following   \n",
       "5779  80  Jul 13, 2005                Return to the Land of Wonders   \n",
       "5780  81  Sep 29, 2015                         A Plague So Pleasant   \n",
       "5781  82   Aug 5, 2005                            My Date With Drew   \n",
       "\n",
       "     production_budget domestic_gross worldwide_gross  \n",
       "0         $425,000,000   $760,507,625  $2,776,345,279  \n",
       "1         $410,600,000   $241,063,875  $1,045,663,875  \n",
       "2         $350,000,000    $42,762,350    $149,762,350  \n",
       "3         $330,600,000   $459,005,868  $1,403,013,963  \n",
       "4         $317,000,000   $620,181,382  $1,316,721,747  \n",
       "...                ...            ...             ...  \n",
       "5777            $7,000             $0              $0  \n",
       "5778            $6,000        $48,482        $240,495  \n",
       "5779            $5,000         $1,338          $1,338  \n",
       "5780            $1,400             $0              $0  \n",
       "5781            $1,100       $181,041        $181,041  \n",
       "\n",
       "[5782 rows x 6 columns]>"
      ]
     },
     "execution_count": 54,
     "metadata": {},
     "output_type": "execute_result"
    }
   ],
   "source": [
    "# Generate summary (descriptive) statistics for the numeric columns\n",
    "# .describe() summarizes key statistical measures for each numeric column\n",
    "movie_budget_df.describe"
   ]
  },
  {
   "cell_type": "markdown",
   "metadata": {},
   "source": [
    "  \n",
    "- `.describe()` provides summary statistics for **numeric columns** in the `movie_budget_df` DataFrame, including:\n",
    "  - **count**: Number of non-null entries,\n",
    "  - **mean**: Average value,\n",
    "  - **std**: Standard deviation (measure of spread),\n",
    "  - **min**: Minimum value,\n",
    "  - **25%**, **50% (median)**, **75%**: Percentile values (showing distribution),\n",
    "  - **max**: Maximum value.\n",
    "- This step is essential for getting a quick understanding of the movie budget data’s central tendency, spread, and overall range.\n"
   ]
  },
  {
   "cell_type": "markdown",
   "metadata": {},
   "source": [
    "## Checking Dataset Info for `movie_budget_df`\n",
    "\n",
    "We will inspect the structure of the `movie_budget_df` DataFrame, including column types, non-null counts, and memory usage, to better understand the dataset.\n"
   ]
  },
  {
   "cell_type": "code",
   "execution_count": 55,
   "metadata": {},
   "outputs": [
    {
     "name": "stdout",
     "output_type": "stream",
     "text": [
      "<class 'pandas.core.frame.DataFrame'>\n",
      "RangeIndex: 5782 entries, 0 to 5781\n",
      "Data columns (total 6 columns):\n",
      " #   Column             Non-Null Count  Dtype \n",
      "---  ------             --------------  ----- \n",
      " 0   id                 5782 non-null   int64 \n",
      " 1   release_date       5782 non-null   object\n",
      " 2   movie              5782 non-null   object\n",
      " 3   production_budget  5782 non-null   object\n",
      " 4   domestic_gross     5782 non-null   object\n",
      " 5   worldwide_gross    5782 non-null   object\n",
      "dtypes: int64(1), object(5)\n",
      "memory usage: 271.2+ KB\n"
     ]
    }
   ],
   "source": [
    "# Check dataset info\n",
    "movie_budget_df.info()  # Summary of dataset, including column types and non-null values\n"
   ]
  },
  {
   "cell_type": "markdown",
   "metadata": {},
   "source": [
    "\n",
    "- `.info()` provides an overview of the DataFrame, including:\n",
    "  - **Data types**: It shows the type of data in each column (e.g., `int64`, `float64`, `object` for text).\n",
    "  - **Non-null counts**: Helps detect missing values by showing how many non-null entries exist in each column.\n",
    "  - **Memory usage**: Indicates how much memory the entire DataFrame is using (important for large datasets).\n",
    "- This step is crucial for understanding the structure and cleanliness of the dataset.\n"
   ]
  },
  {
   "cell_type": "markdown",
   "metadata": {},
   "source": [
    "# Step 2: Data Cleaning "
   ]
  },
  {
   "cell_type": "markdown",
   "metadata": {},
   "source": [
    "## Checking for Missing Values in Multiple Datasets\n",
    "\n",
    "We will define a function to check for missing values in different DataFrames (`box_office_df`, `movie_basics_df`, `movie_rating_df`, and `film_df`) and display the columns with missing data.\n"
   ]
  },
  {
   "cell_type": "code",
   "execution_count": 56,
   "metadata": {},
   "outputs": [
    {
     "name": "stdout",
     "output_type": "stream",
     "text": [
      "\n",
      "🔍 Missing values in Box Office Data:\n",
      "studio               5\n",
      "domestic_gross      28\n",
      "foreign_gross     1350\n",
      "dtype: int64\n",
      "\n",
      "🔍 Missing values in Merged Movie basics and Movie ratings Data:\n",
      "job                   1757131\n",
      "characters            1468512\n",
      "region                 393739\n",
      "language              2073586\n",
      "types                  974092\n",
      "attributes            2301142\n",
      "runtime_minutes         95004\n",
      "genres                   9057\n",
      "birth_year            1367955\n",
      "death_year            2380448\n",
      "primary_profession      52454\n",
      "dtype: int64\n",
      "\n",
      "🔍 Missing values in movie budget Data:\n",
      "Series([], dtype: int64)\n"
     ]
    }
   ],
   "source": [
    "# Define a function to check for missing values in a DataFrame\n",
    "def check_missing_values(df, name):\n",
    "    print(f\"\\n🔍 Missing values in {name}:\")\n",
    "    # Use .isnull() to identify missing data and .sum() to count them\n",
    "    missing_values = df.isnull().sum()\n",
    "    # Print only columns with missing values (where the sum is greater than 0)\n",
    "    print(missing_values[missing_values > 0])  \n",
    "\n",
    "# Check for missing values in each DataFrame\n",
    "check_missing_values(box_office_df, \"Box Office Data\")\n",
    "check_missing_values(film_df, \"Merged Movie basics and Movie ratings Data\")\n",
    "check_missing_values(movie_budget_df, \"movie budget Data\")\n"
   ]
  },
  {
   "cell_type": "markdown",
   "metadata": {},
   "source": [
    "\n",
    "- The function `check_missing_values(df, name)` checks for missing values in a given DataFrame:\n",
    "  - `.isnull()` creates a DataFrame of boolean values (`True` for missing, `False` for not missing).\n",
    "  - `.sum()` adds up the number of `True` values (i.e., missing entries) for each column.\n",
    "  - We then filter and display only those columns with **missing values** (`missing_values > 0`).\n",
    "- We run the function for each DataFrame to identify any missing data in the following:\n",
    "  - **Box Office Data (`box_office_df`)**\n",
    "  - **Movie Basics Data (`movie_basics_df`)**\n",
    "  - **Movie Ratings Data (`movie_rating_df`)**\n",
    "  - **Merged Movie Data (`film_df`)**\n"
   ]
  },
  {
   "cell_type": "markdown",
   "metadata": {},
   "source": [
    "## Handling Missing Values"
   ]
  },
  {
   "cell_type": "markdown",
   "metadata": {},
   "source": [
    "#### Dropping Rows with Missing Values in Specific Columns\n",
    "\n",
    "We want to drop rows from `box_office_df` where either the `studio` or `domestic_gross` columns have missing values. This is done using the `dropna()` function with the `subset` argument to target specific columns.\n"
   ]
  },
  {
   "cell_type": "code",
   "execution_count": 57,
   "metadata": {},
   "outputs": [
    {
     "name": "stdout",
     "output_type": "stream",
     "text": [
      "Shape of box_office_df after dropping missing values in 'studio' or 'domestic_gross':\n",
      "(3356, 5)\n"
     ]
    }
   ],
   "source": [
    "# Drop rows where either 'studio' or 'domestic_gross' has missing values\n",
    "box_office_df.dropna(subset=[\"studio\", \"domestic_gross\"], inplace=True)\n",
    "\n",
    "# Check the shape of the DataFrame after dropping rows\n",
    "print(\"Shape of box_office_df after dropping missing values in 'studio' or 'domestic_gross':\")\n",
    "print(box_office_df.shape)\n"
   ]
  },
  {
   "cell_type": "markdown",
   "metadata": {},
   "source": [
    "Since 1350 missing values is a significant amount, we will fill them with the median "
   ]
  },
  {
   "cell_type": "markdown",
   "metadata": {},
   "source": [
    "## Cleaning and Handling `foreign_gross` Column\n",
    "\n",
    "We will:\n",
    "- Remove any commas in the `foreign_gross` column.\n",
    "- Convert the column values to `float`.\n",
    "- Fill missing values (`NaN`) with the median value of the `foreign_gross` column.\n"
   ]
  },
  {
   "cell_type": "code",
   "execution_count": 58,
   "metadata": {},
   "outputs": [
    {
     "name": "stdout",
     "output_type": "stream",
     "text": [
      "   foreign_gross\n",
      "0    652000000.0\n",
      "1    691300000.0\n",
      "2    664300000.0\n",
      "3    535700000.0\n",
      "4    513900000.0\n"
     ]
    }
   ],
   "source": [
    "# Remove commas from 'foreign_gross' and convert it to a float\n",
    "box_office_df[\"foreign_gross\"] = box_office_df[\"foreign_gross\"].replace(\",\", \"\", regex=True).astype(float)\n",
    "\n",
    "# Fill missing values with the median of the 'foreign_gross' column\n",
    "box_office_df[\"foreign_gross\"].fillna(box_office_df[\"foreign_gross\"].median(), inplace=True)\n",
    "\n",
    "# Display the first few rows to check the results\n",
    "print(box_office_df[['foreign_gross']].head())\n"
   ]
  },
  {
   "cell_type": "markdown",
   "metadata": {},
   "source": [
    "\n",
    "- **`.replace(\",\", \"\", regex=True)`**: This removes any commas in the `foreign_gross` column to ensure that the values can be converted to numeric values.\n",
    "- **`.astype(float)`**: After removing commas, we convert the column values to the `float` type for numerical operations.\n",
    "- **`.fillna(box_office_df[\"foreign_gross\"].median(), inplace=True)`**: Any missing values in the `foreign_gross` column are filled with the **median** value of the column. The median is often a good choice for filling missing values because it is less sensitive to outliers than the mean.\n",
    "- We then print the first few rows of the `foreign_gross` column to check the changes.\n",
    "\n",
    " \n",
    "\n"
   ]
  },
  {
   "cell_type": "markdown",
   "metadata": {},
   "source": [
    "## Confirming No Missing Values\n",
    "\n",
    "We will:\n",
    "- Check the data type of `foreign_gross` to ensure it's of type `float`.\n",
    "- Use `.isnull().sum()` to verify that no missing values exist in the entire `box_office_df` DataFrame.\n"
   ]
  },
  {
   "cell_type": "code",
   "execution_count": 59,
   "metadata": {},
   "outputs": [
    {
     "name": "stdout",
     "output_type": "stream",
     "text": [
      "Data type of 'foreign_gross': float64\n",
      "\n",
      "Missing values in the dataset:\n",
      "title             0\n",
      "studio            0\n",
      "domestic_gross    0\n",
      "foreign_gross     0\n",
      "year              0\n",
      "dtype: int64\n",
      "\n",
      "Missing values in the dataset:\n",
      "id                   0\n",
      "release_date         0\n",
      "movie                0\n",
      "production_budget    0\n",
      "domestic_gross       0\n",
      "worldwide_gross      0\n",
      "dtype: int64\n"
     ]
    }
   ],
   "source": [
    "# Check the data type of 'foreign_gross' to ensure it's float\n",
    "print(\"Data type of 'foreign_gross':\", box_office_df[\"foreign_gross\"].dtype)\n",
    "\n",
    "# Check for any missing values across the entire dataset\n",
    "print(\"\\nMissing values in the dataset:\")\n",
    "print(box_office_df.isnull().sum())\n",
    "\n",
    "print(\"\\nMissing values in the dataset:\")\n",
    "print(movie_budget_df.isnull().sum())"
   ]
  },
  {
   "cell_type": "markdown",
   "metadata": {},
   "source": [
    "* box_office_df[\"foreign_gross\"].dtype: This checks the data type of the foreign_gross column. After the conversion, it should return float.\n",
    "\n",
    "*  box_office_df.isnull().sum(): This provides a count of missing values across all columns in the box_office_df DataFrame. The result should show no missing values if all missing values were handled correctly."
   ]
  },
  {
   "cell_type": "markdown",
   "metadata": {},
   "source": [
    "## Film Data Cleaning\n",
    "\n",
    "We will:\n",
    "- Fill missing `runtime_minutes` with the median value of the column.\n",
    "- Fill missing `genres` with `\"Unknown\"`.\n",
    "- Optionally, fill missing `original_title` with the value from `primary_title`.\n",
    "- Finally, check for any remaining missing values in the dataset.\n"
   ]
  },
  {
   "cell_type": "code",
   "execution_count": 60,
   "metadata": {},
   "outputs": [
    {
     "name": "stdout",
     "output_type": "stream",
     "text": [
      "Missing Values After Cleaning:\n",
      "movie_id                    0\n",
      "ordering                    0\n",
      "person_id                   0\n",
      "category                    0\n",
      "job                   1757131\n",
      "characters            1468512\n",
      "ordering                    0\n",
      "title                       0\n",
      "region                 393739\n",
      "language              2073586\n",
      "types                  974092\n",
      "attributes            2301142\n",
      "is_original_title           0\n",
      "primary_title               0\n",
      "original_title              0\n",
      "start_year                  0\n",
      "runtime_minutes             0\n",
      "genres                      0\n",
      "averagerating               0\n",
      "numvotes                    0\n",
      "primary_name                0\n",
      "birth_year            1367955\n",
      "death_year            2380448\n",
      "primary_profession      52454\n",
      "dtype: int64\n"
     ]
    }
   ],
   "source": [
    "# film Data Cleaning \n",
    "\n",
    "# Fill missing 'runtime_minutes' with the median value\n",
    "median_runtime = film_df['runtime_minutes'].median()\n",
    "film_df['runtime_minutes'].fillna(median_runtime, inplace=True)\n",
    "\n",
    "# Fill missing 'genres' with 'Unknown'\n",
    "film_df['genres'].fillna('Unknown', inplace=True)\n",
    "\n",
    "# Optional: If you want to fill missing 'original_title' with the 'primary_title' instead\n",
    "film_df['original_title'].fillna(film_df['primary_title'], inplace=True)\n",
    "\n",
    "# --- Checking after cleaning ---\n",
    "print(\"Missing Values After Cleaning:\")\n",
    "print(film_df.isnull().sum())\n"
   ]
  },
  {
   "cell_type": "markdown",
   "metadata": {},
   "source": [
    "## Movie Basics Data Cleaning\n",
    "\n",
    "We will:\n",
    "- Fill missing `runtime_minutes` with the median value of the column in `movie_basics_df`.\n",
    "- Fill missing `genres` with `\"Unknown\"`.\n",
    "- Optionally, fill missing `original_title` with the value from `primary_title`.\n",
    "- Finally, check for any remaining missing values in the `movie_basics_df` dataset.\n"
   ]
  },
  {
   "cell_type": "code",
   "execution_count": 61,
   "metadata": {},
   "outputs": [
    {
     "name": "stdout",
     "output_type": "stream",
     "text": [
      "Missing Values After Cleaning:\n",
      "movie_id                    0\n",
      "ordering                    0\n",
      "person_id                   0\n",
      "category                    0\n",
      "job                   1757131\n",
      "characters            1468512\n",
      "ordering                    0\n",
      "title                       0\n",
      "region                 393739\n",
      "language              2073586\n",
      "types                  974092\n",
      "attributes            2301142\n",
      "is_original_title           0\n",
      "primary_title               0\n",
      "original_title              0\n",
      "start_year                  0\n",
      "runtime_minutes             0\n",
      "genres                      0\n",
      "averagerating               0\n",
      "numvotes                    0\n",
      "primary_name                0\n",
      "birth_year            1367955\n",
      "death_year            2380448\n",
      "primary_profession      52454\n",
      "dtype: int64\n"
     ]
    }
   ],
   "source": [
    "median_runtime = film_df['runtime_minutes'].median()\n",
    "film_df['runtime_minutes'].fillna(median_runtime, inplace=True)\n",
    "\n",
    "# Fill missing 'genres' with 'Unknown'\n",
    "film_df['genres'].fillna('Unknown', inplace=True)\n",
    "\n",
    "# Optional: If you want to fill missing 'original_title' with the 'primary_title' instead\n",
    "film_df['original_title'].fillna(film_df['primary_title'], inplace=True)\n",
    "\n",
    "# --- Checking after cleaning ---\n",
    "print(\"Missing Values After Cleaning:\")\n",
    "print(film_df.isnull().sum())"
   ]
  },
  {
   "cell_type": "markdown",
   "metadata": {},
   "source": [
    "\n",
    "* Fill missing runtime_minutes:\n",
    "\n",
    "The median value is computed and then used to fill missing values in the runtime_minutes column.\n",
    "\n",
    "* Fill missing genres:\n",
    "\n",
    "Any missing value in the genres column is filled with \"Unknown\".\n",
    "\n",
    "* Optional filling of original_title:\n",
    "\n",
    "If there are missing values in original_title, they are filled with the corresponding value from primary_title.\n",
    "\n",
    "* Check for remaining missing values:\n",
    "\n",
    "The check is performed on movie_basics_df after cleaning."
   ]
  },
  {
   "cell_type": "markdown",
   "metadata": {},
   "source": [
    "## Dropping Rows with Missing 'runtime_minutes' or 'genres'\n",
    "\n",
    "We will drop any rows that still have missing values in the `runtime_minutes` or `genres` columns. Afterward, we will perform a final check to ensure that no missing values remain.\n"
   ]
  },
  {
   "cell_type": "code",
   "execution_count": 62,
   "metadata": {},
   "outputs": [
    {
     "name": "stdout",
     "output_type": "stream",
     "text": [
      "Missing Values After Final Cleaning:\n",
      "movie_id                    0\n",
      "ordering                    0\n",
      "person_id                   0\n",
      "category                    0\n",
      "job                   1757131\n",
      "characters            1468512\n",
      "ordering                    0\n",
      "title                       0\n",
      "region                 393739\n",
      "language              2073586\n",
      "types                  974092\n",
      "attributes            2301142\n",
      "is_original_title           0\n",
      "primary_title               0\n",
      "original_title              0\n",
      "start_year                  0\n",
      "runtime_minutes             0\n",
      "genres                      0\n",
      "averagerating               0\n",
      "numvotes                    0\n",
      "primary_name                0\n",
      "birth_year            1367955\n",
      "death_year            2380448\n",
      "primary_profession      52454\n",
      "dtype: int64\n"
     ]
    }
   ],
   "source": [
    "# Drop any rows still missing 'runtime_minutes' or 'genres'\n",
    "film_df.dropna(subset=['runtime_minutes', 'genres'], inplace=True)\n",
    "\n",
    "# Final check\n",
    "print(\"Missing Values After Final Cleaning:\")\n",
    "print(film_df.isnull().sum())\n"
   ]
  },
  {
   "cell_type": "code",
   "execution_count": 63,
   "metadata": {},
   "outputs": [
    {
     "name": "stdout",
     "output_type": "stream",
     "text": [
      "Missing Values After Final Cleaning:\n",
      "movie_id             0\n",
      "ordering             0\n",
      "person_id            0\n",
      "category             0\n",
      "ordering             0\n",
      "title                0\n",
      "is_original_title    0\n",
      "primary_title        0\n",
      "original_title       0\n",
      "start_year           0\n",
      "runtime_minutes      0\n",
      "genres               0\n",
      "averagerating        0\n",
      "numvotes             0\n",
      "primary_name         0\n",
      "dtype: int64\n"
     ]
    }
   ],
   "source": [
    "# drop columns that have large missing value\n",
    "columns_to_drop = ['job', 'characters', 'region', 'language', 'types', 'attributes', 'birth_year', 'death_year', 'primary_profession']\n",
    "film_df = film_df.drop(columns=columns_to_drop)\n",
    "print(\"Missing Values After Final Cleaning:\")\n",
    "print(film_df.isnull().sum())"
   ]
  },
  {
   "cell_type": "markdown",
   "metadata": {},
   "source": [
    "* .dropna(subset=['runtime_minutes', 'genres']): This ensures that rows with missing values in the specified columns (runtime_minutes and genres) are dropped from the DataFrame. We set inplace=True to modify the DataFrame directly without needing to create a new one.\n",
    "\n",
    "* .isnull().sum(): After dropping rows, this command checks the entire film_df for any remaining missing values and displays the count of NaN values in each column.\n",
    "* We dropped the columns 'job', 'characters', 'region', 'language', 'types', 'attributes', 'birth_year', 'death_year', and 'primary_profession' from film_df because they had a large number of missing values, making them unreliable for analysis. Removing them ensures the dataset is cleaner and more accurate for further exploration.\n",
    "\n"
   ]
  },
  {
   "cell_type": "markdown",
   "metadata": {},
   "source": [
    "## Standardizing Column Names\n",
    "\n",
    "We will:\n",
    "- Strip leading and trailing spaces from column names.\n",
    "- Convert column names to lowercase.\n",
    "- Replace spaces in column names with underscores to improve consistency.\n"
   ]
  },
  {
   "cell_type": "code",
   "execution_count": 64,
   "metadata": {},
   "outputs": [
    {
     "name": "stdout",
     "output_type": "stream",
     "text": [
      "Standardized Column Names in film_df: ['movie_id', 'ordering', 'person_id', 'category', 'ordering', 'title', 'is_original_title', 'primary_title', 'original_title', 'start_year', 'runtime_minutes', 'genres', 'averagerating', 'numvotes', 'primary_name']\n",
      "Standardized Column Names in box_office_df: ['title', 'studio', 'domestic_gross', 'foreign_gross', 'year']\n",
      "Standardized Column Names in movie_budget_df: ['id', 'release_date', 'movie', 'production_budget', 'domestic_gross', 'worldwide_gross']\n"
     ]
    }
   ],
   "source": [
    "# Standardize column names in film_df\n",
    "film_df.columns = film_df.columns.str.strip().str.lower().str.replace(' ', '_')\n",
    "\n",
    "# Standardize column names in box_office_df\n",
    "box_office_df.columns = box_office_df.columns.str.strip().str.lower().str.replace(' ', '_')\n",
    "\n",
    "\n",
    "# Standardize column names in movie_budget_df\n",
    "movie_budget_df.columns = movie_budget_df.columns.str.strip().str.lower().str.replace(' ', '_')\n",
    "\n",
    "# Display column names to confirm changes\n",
    "print(\"Standardized Column Names in film_df:\", film_df.columns.tolist())\n",
    "print(\"Standardized Column Names in box_office_df:\", box_office_df.columns.tolist())\n",
    "print(\"Standardized Column Names in movie_budget_df:\", movie_budget_df.columns.tolist())\n"
   ]
  },
  {
   "cell_type": "markdown",
   "metadata": {},
   "source": [
    "\n",
    "* .str.strip(): Removes leading and trailing spaces from each column name.\n",
    "\n",
    "* .str.lower(): Converts each column name to lowercase for uniformity.\n",
    "\n",
    "* .str.replace(' ', '_'): Replaces spaces in column names with underscores (_)."
   ]
  },
  {
   "cell_type": "markdown",
   "metadata": {},
   "source": [
    "## Correcting Inconsistent Categorical Values\n",
    "\n",
    "We will:\n",
    "- Convert all text (string) values in categorical columns to lowercase.\n",
    "- Strip any leading or trailing spaces from the string values for consistency.\n"
   ]
  },
  {
   "cell_type": "code",
   "execution_count": 65,
   "metadata": {},
   "outputs": [
    {
     "name": "stdout",
     "output_type": "stream",
     "text": [
      "First few rows of film_df after cleaning:\n",
      "    movie_id  ordering  person_id category  ordering               title  \\\n",
      "0  tt0323808        10  nm0059247   editor         1             may day   \n",
      "1  tt0323808        10  nm0059247   editor         2  cowboys for christ   \n",
      "2  tt0323808        10  nm0059247   editor         3     the wicker tree   \n",
      "3  tt0323808        10  nm0059247   editor         4     the wicker tree   \n",
      "4  tt0323808        10  nm0059247   editor         5     плетеное дерево   \n",
      "\n",
      "   is_original_title    primary_title   original_title  start_year  \\\n",
      "0                0.0  the wicker tree  the wicker tree        2011   \n",
      "1                0.0  the wicker tree  the wicker tree        2011   \n",
      "2                0.0  the wicker tree  the wicker tree        2011   \n",
      "3                1.0  the wicker tree  the wicker tree        2011   \n",
      "4                0.0  the wicker tree  the wicker tree        2011   \n",
      "\n",
      "   runtime_minutes        genres  averagerating  numvotes primary_name  \n",
      "0             96.0  drama,horror            3.9      2328  sean barton  \n",
      "1             96.0  drama,horror            3.9      2328  sean barton  \n",
      "2             96.0  drama,horror            3.9      2328  sean barton  \n",
      "3             96.0  drama,horror            3.9      2328  sean barton  \n",
      "4             96.0  drama,horror            3.9      2328  sean barton  \n",
      "First few rows of box_office_df after cleaning:\n",
      "                                         title studio  domestic_gross  \\\n",
      "0                                  toy story 3     bv     415000000.0   \n",
      "1                   alice in wonderland (2010)     bv     334200000.0   \n",
      "2  harry potter and the deathly hallows part 1     wb     296000000.0   \n",
      "3                                    inception     wb     292600000.0   \n",
      "4                          shrek forever after   p/dw     238700000.0   \n",
      "\n",
      "   foreign_gross  year  \n",
      "0    652000000.0  2010  \n",
      "1    691300000.0  2010  \n",
      "2    664300000.0  2010  \n",
      "3    535700000.0  2010  \n",
      "4    513900000.0  2010  \n"
     ]
    }
   ],
   "source": [
    "# Correct inconsistent categorical values in film_df\n",
    "for col in film_df.select_dtypes(include=['object']).columns:\n",
    "    film_df[col] = film_df[col].str.lower().str.strip()\n",
    "\n",
    "# Correct inconsistent categorical values in box_office_df\n",
    "for col in box_office_df.select_dtypes(include=['object']).columns:\n",
    "    box_office_df[col] = box_office_df[col].str.lower().str.strip()\n",
    "\n",
    "# Displaying the first few rows to check the changes\n",
    "print(\"First few rows of film_df after cleaning:\")\n",
    "print(film_df.head())\n",
    "\n",
    "print(\"First few rows of box_office_df after cleaning:\")\n",
    "print(box_office_df.head())\n"
   ]
  },
  {
   "cell_type": "code",
   "execution_count": 66,
   "metadata": {},
   "outputs": [
    {
     "name": "stdout",
     "output_type": "stream",
     "text": [
      "First few rows of box_office_df after cleaning:\n",
      "   id  release_date                                        movie  \\\n",
      "0   1  dec 18, 2009                                       avatar   \n",
      "1   2  may 20, 2011  pirates of the caribbean: on stranger tides   \n",
      "2   3   jun 7, 2019                                 dark phoenix   \n",
      "3   4   may 1, 2015                      avengers: age of ultron   \n",
      "4   5  dec 15, 2017            star wars ep. viii: the last jedi   \n",
      "\n",
      "  production_budget domestic_gross worldwide_gross  \n",
      "0      $425,000,000   $760,507,625  $2,776,345,279  \n",
      "1      $410,600,000   $241,063,875  $1,045,663,875  \n",
      "2      $350,000,000    $42,762,350    $149,762,350  \n",
      "3      $330,600,000   $459,005,868  $1,403,013,963  \n",
      "4      $317,000,000   $620,181,382  $1,316,721,747  \n"
     ]
    }
   ],
   "source": [
    "\n",
    "# Correct inconsistent categorical values in movie_budget_df\n",
    "for col in movie_budget_df.select_dtypes(include=['object']).columns:\n",
    "    movie_budget_df[col] = movie_budget_df[col].str.lower().str.strip()\n",
    "\n",
    "\n",
    "print(\"First few rows of box_office_df after cleaning:\")\n",
    "print(movie_budget_df.head())\n"
   ]
  },
  {
   "cell_type": "markdown",
   "metadata": {},
   "source": [
    "* .select_dtypes(include=['object']): This selects all columns that contain object (string) data.\n",
    "\n",
    "* .str.lower(): Converts all string values to lowercase to ensure uniformity.\n",
    "\n",
    "* .str.strip(): Removes any leading or trailing spaces from string values.\n",
    "\n",
    "This ensures that the categorical columns in both film_df and box_office_df are standardized and ready for analysis."
   ]
  },
  {
   "cell_type": "code",
   "execution_count": 67,
   "metadata": {},
   "outputs": [],
   "source": [
    "# Remove dollar signs and commas, then convert to integers\n",
    "money_columns = ['production_budget', 'domestic_gross', 'worldwide_gross']\n",
    "for col in money_columns:\n",
    "    movie_budget_df[col] = movie_budget_df[col].replace('[\\$,]', '', regex=True).astype(int)\n",
    "\n",
    "# Convert 'release_date' to MM/DD/YYYY format\n",
    "movie_budget_df['release_date'] = pd.to_datetime(movie_budget_df['release_date'], format='mixed', errors='coerce').dt.strftime('%m/%d/%Y')\n"
   ]
  },
  {
   "cell_type": "markdown",
   "metadata": {},
   "source": [
    "pd.to_datetime(...): Converts the date strings (like \"Dec 18, 2009\") into proper datetime objects.\n",
    "\n",
    ".dt.strftime('%m/%d/%Y'): Formats the date into a consistent numeric format: MM/DD/YYYY (e.g., \"12/18/2009\"), which is easier to sort or filter programmatically.\n",
    "\n",
    "\n",
    "This cleaned format ensures data consistency, improves readability, and allows for more robust data analysis and visualization."
   ]
  },
  {
   "cell_type": "markdown",
   "metadata": {},
   "source": [
    "## Handling Duplicates in the Data"
   ]
  },
  {
   "cell_type": "markdown",
   "metadata": {},
   "source": [
    "### Checking for Duplicates\n",
    "\n",
    "We will:\n",
    "- Check each dataset for duplicate rows and print out the number of duplicates for each.\n"
   ]
  },
  {
   "cell_type": "code",
   "execution_count": 68,
   "metadata": {},
   "outputs": [
    {
     "name": "stdout",
     "output_type": "stream",
     "text": [
      "🔍 Duplicates in Box Office Data: 0\n",
      "🔍 Duplicates in Box Office Data: 0\n",
      "🔍 Duplicates in Movie Budgets Data: 0\n"
     ]
    }
   ],
   "source": [
    "# Check for duplicates\n",
    "\n",
    "print(f\"🔍 Duplicates in Box Office Data: {box_office_df.duplicated().sum()}\")\n",
    "print(f\"🔍 Duplicates in Box Office Data: {movie_budget_df.duplicated().sum()}\")\n",
    "print(f\"🔍 Duplicates in Movie Budgets Data: {film_df.duplicated().sum()}\")"
   ]
  },
  {
   "cell_type": "markdown",
   "metadata": {},
   "source": [
    "* .duplicated(): Identifies duplicate rows in the DataFrame. By default, it considers all columns to determine if a row is duplicated.\n",
    "\n",
    "* .sum(): Counts the number of True values returned by .duplicated(), which corresponds to the number of duplicate rows.\n",
    "\n",
    "Note:\n",
    "Your comment mentions \"Movie Budgets Data\" for movie_rating_df, but the variable name is movie_rating_df. It seems like you might have meant movie_rating_df instead, so I’ve kept it consistent in the updated code."
   ]
  },
  {
   "cell_type": "markdown",
   "metadata": {},
   "source": [
    "## Checking for Inconsistent Casing\n",
    "\n",
    "We will:\n",
    "- Strip extra spaces and convert the `studio` and `title` columns to lowercase to ensure consistency.\n"
   ]
  },
  {
   "cell_type": "code",
   "execution_count": 69,
   "metadata": {},
   "outputs": [
    {
     "name": "stdout",
     "output_type": "stream",
     "text": [
      "First few rows of box_office_df after fixing casing:\n",
      "  studio                                        title\n",
      "0     bv                                  toy story 3\n",
      "1     bv                   alice in wonderland (2010)\n",
      "2     wb  harry potter and the deathly hallows part 1\n",
      "3     wb                                    inception\n",
      "4   p/dw                          shrek forever after\n"
     ]
    }
   ],
   "source": [
    "# Correct inconsistent casing and strip spaces in 'studio' and 'title' columns\n",
    "box_office_df[\"studio\"] = box_office_df[\"studio\"].str.strip().str.lower()\n",
    "box_office_df[\"title\"] = box_office_df[\"title\"].str.strip().str.lower()\n",
    "\n",
    "# Displaying the first few rows to confirm the changes\n",
    "print(\"First few rows of box_office_df after fixing casing:\")\n",
    "print(box_office_df[['studio', 'title']].head())\n"
   ]
  },
  {
   "cell_type": "markdown",
   "metadata": {},
   "source": [
    "* .str.strip(): Removes any leading or trailing spaces from the studio and title columns to avoid inconsistencies caused by extra spaces.\n",
    "\n",
    "* .str.lower(): Converts the entire text in the studio and title columns to lowercase, ensuring that casing does not cause issues when comparing or analyzing data.\n",
    "\n",
    "This will help make sure that the values in studio and title are consistently formatted. Let me know if you'd like to apply this to other columns as well or need further modifications!"
   ]
  },
  {
   "cell_type": "markdown",
   "metadata": {},
   "source": [
    "## Counting Occurrences of Each Title\n",
    "We will:\n",
    "\n",
    "Count the occurrences of each unique title in the title column and display the top 10 most frequent titles."
   ]
  },
  {
   "cell_type": "code",
   "execution_count": 70,
   "metadata": {},
   "outputs": [
    {
     "data": {
      "text/plain": [
       "title\n",
       "bluebeard                                                   2\n",
       "the chronicles of narnia: the voyage of the dawn treader    1\n",
       "the king's speech                                           1\n",
       "tron legacy                                                 1\n",
       "the karate kid                                              1\n",
       "prince of persia: the sands of time                         1\n",
       "black swan                                                  1\n",
       "megamind                                                    1\n",
       "robin hood                                                  1\n",
       "the last airbender                                          1\n",
       "Name: count, dtype: int64"
      ]
     },
     "execution_count": 70,
     "metadata": {},
     "output_type": "execute_result"
    }
   ],
   "source": [
    "# Counting occurrences of each title\n",
    "box_office_df[\"title\"].value_counts().head(10)"
   ]
  },
  {
   "cell_type": "markdown",
   "metadata": {},
   "source": [
    "* .value_counts(): This function counts the occurrences of each unique value in the title column of box_office_df.\n",
    "\n",
    "* .head(10): Displays the top 10 titles with the highest frequency."
   ]
  },
  {
   "cell_type": "markdown",
   "metadata": {},
   "source": [
    "## Searching for the Movie \"Bluebeard\" in Box Office Data\n",
    "\n",
    "We will:\n",
    "- Search for the movie \"Bluebeard\" in the `title` column of the `box_office_df` DataFrame and display the results.\n"
   ]
  },
  {
   "cell_type": "code",
   "execution_count": 71,
   "metadata": {},
   "outputs": [
    {
     "data": {
      "text/html": [
       "<div>\n",
       "<style scoped>\n",
       "    .dataframe tbody tr th:only-of-type {\n",
       "        vertical-align: middle;\n",
       "    }\n",
       "\n",
       "    .dataframe tbody tr th {\n",
       "        vertical-align: top;\n",
       "    }\n",
       "\n",
       "    .dataframe thead th {\n",
       "        text-align: right;\n",
       "    }\n",
       "</style>\n",
       "<table border=\"1\" class=\"dataframe\">\n",
       "  <thead>\n",
       "    <tr style=\"text-align: right;\">\n",
       "      <th></th>\n",
       "      <th>title</th>\n",
       "      <th>studio</th>\n",
       "      <th>domestic_gross</th>\n",
       "      <th>foreign_gross</th>\n",
       "      <th>year</th>\n",
       "    </tr>\n",
       "  </thead>\n",
       "  <tbody>\n",
       "    <tr>\n",
       "      <th>317</th>\n",
       "      <td>bluebeard</td>\n",
       "      <td>strand</td>\n",
       "      <td>33500.0</td>\n",
       "      <td>5200.0</td>\n",
       "      <td>2010</td>\n",
       "    </tr>\n",
       "    <tr>\n",
       "      <th>3045</th>\n",
       "      <td>bluebeard</td>\n",
       "      <td>wgusa</td>\n",
       "      <td>43100.0</td>\n",
       "      <td>19400000.0</td>\n",
       "      <td>2017</td>\n",
       "    </tr>\n",
       "  </tbody>\n",
       "</table>\n",
       "</div>"
      ],
      "text/plain": [
       "          title  studio  domestic_gross  foreign_gross  year\n",
       "317   bluebeard  strand         33500.0         5200.0  2010\n",
       "3045  bluebeard   wgusa         43100.0     19400000.0  2017"
      ]
     },
     "execution_count": 71,
     "metadata": {},
     "output_type": "execute_result"
    }
   ],
   "source": [
    "# Searching for the Movie \"Bluebeard\" in `box_office_df`\n",
    "box_office_df[box_office_df[\"title\"] == \"bluebeard\"]"
   ]
  },
  {
   "cell_type": "markdown",
   "metadata": {},
   "source": [
    "* box_office_df[box_office_df[\"title\"] == \"bluebeard\"]: Filters the rows in the box_office_df DataFrame where the title column is exactly equal to \"bluebeard\". Since you standardized the column to lowercase, this will match any title with the name \"Bluebeard\" (case-insensitive)."
   ]
  },
  {
   "cell_type": "code",
   "execution_count": 72,
   "metadata": {},
   "outputs": [
    {
     "data": {
      "text/plain": [
       "Series([], Name: count, dtype: int64)"
      ]
     },
     "execution_count": 72,
     "metadata": {},
     "output_type": "execute_result"
    }
   ],
   "source": [
    "# Differentiating the titles Bluebeard by adding the release year\n",
    "box_office_df[\"title\"] = box_office_df[\"title\"] + \" (\" + box_office_df[\"year\"].astype(str) + \")\"\n",
    "box_office_df[\"title\"].value_counts()[box_office_df[\"title\"].value_counts() > 1]"
   ]
  },
  {
   "cell_type": "markdown",
   "metadata": {},
   "source": [
    "## Displaying Categorical Features Summary\n",
    "\n",
    "We will:\n",
    "- Use `describe(include=['O'])` to get a summary of categorical features (object columns) for `box_office_df`, `movie_basics_df`, and `movie_rating_df`.\n"
   ]
  },
  {
   "cell_type": "code",
   "execution_count": 73,
   "metadata": {},
   "outputs": [
    {
     "data": {
      "text/html": [
       "<div>\n",
       "<style scoped>\n",
       "    .dataframe tbody tr th:only-of-type {\n",
       "        vertical-align: middle;\n",
       "    }\n",
       "\n",
       "    .dataframe tbody tr th {\n",
       "        vertical-align: top;\n",
       "    }\n",
       "\n",
       "    .dataframe thead th {\n",
       "        text-align: right;\n",
       "    }\n",
       "</style>\n",
       "<table border=\"1\" class=\"dataframe\">\n",
       "  <thead>\n",
       "    <tr style=\"text-align: right;\">\n",
       "      <th></th>\n",
       "      <th>movie_id</th>\n",
       "      <th>person_id</th>\n",
       "      <th>category</th>\n",
       "      <th>title</th>\n",
       "      <th>primary_title</th>\n",
       "      <th>original_title</th>\n",
       "      <th>genres</th>\n",
       "      <th>primary_name</th>\n",
       "    </tr>\n",
       "  </thead>\n",
       "  <tbody>\n",
       "    <tr>\n",
       "      <th>count</th>\n",
       "      <td>2422866</td>\n",
       "      <td>2422866</td>\n",
       "      <td>2422866</td>\n",
       "      <td>2422866</td>\n",
       "      <td>2422866</td>\n",
       "      <td>2422866</td>\n",
       "      <td>2422866</td>\n",
       "      <td>2422866</td>\n",
       "    </tr>\n",
       "    <tr>\n",
       "      <th>unique</th>\n",
       "      <td>69502</td>\n",
       "      <td>343794</td>\n",
       "      <td>12</td>\n",
       "      <td>193482</td>\n",
       "      <td>65862</td>\n",
       "      <td>66952</td>\n",
       "      <td>915</td>\n",
       "      <td>333736</td>\n",
       "    </tr>\n",
       "    <tr>\n",
       "      <th>top</th>\n",
       "      <td>tt2488496</td>\n",
       "      <td>nm0089658</td>\n",
       "      <td>actor</td>\n",
       "      <td>robin hood</td>\n",
       "      <td>frozen</td>\n",
       "      <td>frozen</td>\n",
       "      <td>drama</td>\n",
       "      <td>jason blum</td>\n",
       "    </tr>\n",
       "    <tr>\n",
       "      <th>freq</th>\n",
       "      <td>610</td>\n",
       "      <td>1321</td>\n",
       "      <td>580858</td>\n",
       "      <td>320</td>\n",
       "      <td>810</td>\n",
       "      <td>770</td>\n",
       "      <td>333400</td>\n",
       "      <td>1321</td>\n",
       "    </tr>\n",
       "  </tbody>\n",
       "</table>\n",
       "</div>"
      ],
      "text/plain": [
       "         movie_id  person_id category       title primary_title  \\\n",
       "count     2422866    2422866  2422866     2422866       2422866   \n",
       "unique      69502     343794       12      193482         65862   \n",
       "top     tt2488496  nm0089658    actor  robin hood        frozen   \n",
       "freq          610       1321   580858         320           810   \n",
       "\n",
       "       original_title   genres primary_name  \n",
       "count         2422866  2422866      2422866  \n",
       "unique          66952      915       333736  \n",
       "top            frozen    drama   jason blum  \n",
       "freq              770   333400         1321  "
      ]
     },
     "execution_count": 73,
     "metadata": {},
     "output_type": "execute_result"
    }
   ],
   "source": [
    "#  Display categorical features summary\n",
    "box_office_df.describe(include=['O'])\n",
    "movie_budget_df.describe(include=['O'])\n",
    "film_df.describe(include=['O'])"
   ]
  },
  {
   "cell_type": "markdown",
   "metadata": {},
   "source": [
    "* describe(include=['O']): This method will provide summary statistics for all columns that are of object (categorical) type in the DataFrame. It includes the count, unique values, top (most frequent value), and frequency of the top value."
   ]
  },
  {
   "cell_type": "markdown",
   "metadata": {},
   "source": [
    "## Performing Data Integrity Checks\n",
    "\n",
    "We will:\n",
    "- Check for missing values in `box_office_df` and `film_df` using `.isnull().sum()`.\n",
    "- Check for duplicate rows using `.duplicated().sum()`.\n",
    "- Check the data types of each column in both DataFrames using `.dtypes`.\n"
   ]
  },
  {
   "cell_type": "markdown",
   "metadata": {},
   "source": [
    "* describe(include=['O']): This method will provide summary statistics for all columns that are of object (categorical) type in the DataFrame. It includes the count, unique values, top (most frequent value), and frequency of the top value."
   ]
  },
  {
   "cell_type": "markdown",
   "metadata": {},
   "source": [
    "## Performing Data Integrity Checks\n",
    "\n",
    "We will:\n",
    "- Check for missing values in `box_office_df` and `film_df` using `.isnull().sum()`.\n",
    "- Check for duplicate rows using `.duplicated().sum()`.\n",
    "- Check the data types of each column in both DataFrames using `.dtypes`.\n"
   ]
  },
  {
   "cell_type": "code",
   "execution_count": 74,
   "metadata": {},
   "outputs": [
    {
     "name": "stdout",
     "output_type": "stream",
     "text": [
      "Missing Values in Box Office Data:\n",
      " title             0\n",
      "studio            0\n",
      "domestic_gross    0\n",
      "foreign_gross     0\n",
      "year              0\n",
      "dtype: int64\n",
      "\n",
      "Missing Values in Merged Movie Data (film_df):\n",
      " movie_id             0\n",
      "ordering             0\n",
      "person_id            0\n",
      "category             0\n",
      "ordering             0\n",
      "title                0\n",
      "is_original_title    0\n",
      "primary_title        0\n",
      "original_title       0\n",
      "start_year           0\n",
      "runtime_minutes      0\n",
      "genres               0\n",
      "averagerating        0\n",
      "numvotes             0\n",
      "primary_name         0\n",
      "dtype: int64\n",
      "\n",
      "Missing Values in Movie budget Data (movie_budget_df):\n",
      " id                   0\n",
      "release_date         0\n",
      "movie                0\n",
      "production_budget    0\n",
      "domestic_gross       0\n",
      "worldwide_gross      0\n",
      "dtype: int64\n",
      "\n",
      "Duplicate Rows in Box Office Data: 0\n",
      "\n",
      "Duplicate Rows in movie budget Data: 0\n",
      "\n",
      "Duplicate Rows in Merged Movie Data (film_df): 0\n",
      "\n",
      "Data Types in Box Office Data:\n",
      " title              object\n",
      "studio             object\n",
      "domestic_gross    float64\n",
      "foreign_gross     float64\n",
      "year                int64\n",
      "dtype: object\n",
      "\n",
      "Data Types in Merged Movie Data (film_df):\n",
      " movie_id              object\n",
      "ordering               int64\n",
      "person_id             object\n",
      "category              object\n",
      "ordering               int64\n",
      "title                 object\n",
      "is_original_title    float64\n",
      "primary_title         object\n",
      "original_title        object\n",
      "start_year             int64\n",
      "runtime_minutes      float64\n",
      "genres                object\n",
      "averagerating        float64\n",
      "numvotes               int64\n",
      "primary_name          object\n",
      "dtype: object\n",
      "\n",
      "Data Types in movie budget Data:\n",
      " id                    int64\n",
      "release_date         object\n",
      "movie                object\n",
      "production_budget     int64\n",
      "domestic_gross        int64\n",
      "worldwide_gross       int64\n",
      "dtype: object\n"
     ]
    }
   ],
   "source": [
    "# Check missing values in box_office_df and film_df\n",
    "print(\"Missing Values in Box Office Data:\\n\", box_office_df.isnull().sum())\n",
    "print(\"\\nMissing Values in Merged Movie Data (film_df):\\n\", film_df.isnull().sum())\n",
    "print(\"\\nMissing Values in Movie budget Data (movie_budget_df):\\n\", movie_budget_df.isnull().sum())\n",
    "\n",
    "# Check duplicate rows in box_office_df and film_df\n",
    "print(\"\\nDuplicate Rows in Box Office Data:\", box_office_df.duplicated().sum())\n",
    "print(\"\\nDuplicate Rows in movie budget Data:\", movie_budget_df.duplicated().sum())\n",
    "print(\"\\nDuplicate Rows in Merged Movie Data (film_df):\", film_df.duplicated().sum())\n",
    "\n",
    "# Check data types in box_office_df and film_df\n",
    "print(\"\\nData Types in Box Office Data:\\n\", box_office_df.dtypes)\n",
    "print(\"\\nData Types in Merged Movie Data (film_df):\\n\", film_df.dtypes)\n",
    "print(\"\\nData Types in movie budget Data:\\n\", movie_budget_df.dtypes)"
   ]
  },
  {
   "cell_type": "markdown",
   "metadata": {},
   "source": [
    "* Missing Values:\n",
    "\n",
    ".isnull().sum() returns the count of missing (NaN) values for each column.\n",
    "\n",
    "* Duplicate Rows:\n",
    "\n",
    ".duplicated().sum() returns the number of duplicate rows in the DataFrame.\n",
    "\n",
    "* Data Types:\n",
    "\n",
    ".dtypes returns the data types of each column, which is helpful to ensure the correctness of column data types (e.g., object, int64, float64, etc.)."
   ]
  },
  {
   "cell_type": "markdown",
   "metadata": {},
   "source": [
    "## Saving Cleaned Datasets\n",
    "\n",
    "We will:\n",
    "- Save the cleaned  dataset to a separate CSV file.\n"
   ]
  },
  {
   "cell_type": "code",
   "execution_count": 75,
   "metadata": {},
   "outputs": [
    {
     "name": "stdout",
     "output_type": "stream",
     "text": [
      "⚠️ Skipped (already exists): zippedData/cleaned_dataset_box_office.csv\n",
      "⚠️ Skipped (already exists): zippedData/cleaned_dataset_film_df.csv\n",
      "✅ Saved: zippedData/cleaned_dataset_movie_budget.csv\n"
     ]
    }
   ],
   "source": [
    "import os\n",
    "from IPython.display import FileLink\n",
    "\n",
    "# Ensure the target folder exists\n",
    "os.makedirs(\"zippedData\", exist_ok=True)\n",
    "\n",
    "# Define file paths\n",
    "box_office_path = \"zippedData/cleaned_dataset_box_office.csv\"\n",
    "film_df_path = \"zippedData/cleaned_dataset_film_df.csv\"\n",
    "movie_budget_path = \"zippedData/cleaned_dataset_movie_budget.csv\"\n",
    "\n",
    "# Save box_office_df\n",
    "if not os.path.exists(box_office_path):\n",
    "    box_office_df.to_csv(box_office_path, index=False)\n",
    "    print(f\"✅ Saved: {box_office_path}\")\n",
    "else:\n",
    "    print(f\"⚠️ Skipped (already exists): {box_office_path}\")\n",
    "\n",
    "# Save film_df\n",
    "if not os.path.exists(film_df_path):\n",
    "    film_df.to_csv(film_df_path, index=False)\n",
    "    print(f\"✅ Saved: {film_df_path}\")\n",
    "else:\n",
    "    print(f\"⚠️ Skipped (already exists): {film_df_path}\")\n",
    "\n",
    "# Save movie_budget_df\n",
    "if not os.path.exists(movie_budget_path):\n",
    "    movie_budget_df.to_csv(movie_budget_path, index=False)\n",
    "    print(f\"✅ Saved: {movie_budget_path}\")\n",
    "else:\n",
    "    print(f\"⚠️ Skipped (already exists): {movie_budget_path}\")\n",
    "\n",
    "\n"
   ]
  },
  {
   "cell_type": "markdown",
   "metadata": {},
   "source": [
    "* index=False: Prevents the DataFrame index from being saved as an additional column in the CSV file.\n",
    "\n",
    "* Unique filenames: By giving each dataset a unique filename (cleaned dataset.csv), you ensure that all  datasets are saved without overwriting each other."
   ]
  },
  {
   "cell_type": "markdown",
   "metadata": {},
   "source": [
    "## Generate Download Link for Cleaned Dataset\n",
    "\n",
    "We will:\n",
    "- Generate a download link for the cleaned dataset (`cleaned_dataset.csv`).\n"
   ]
  },
  {
   "cell_type": "code",
   "execution_count": 76,
   "metadata": {},
   "outputs": [
    {
     "name": "stdout",
     "output_type": "stream",
     "text": [
      "\n",
      "📎 Download links:\n"
     ]
    },
    {
     "data": {
      "text/html": [
       "<a href='zippedData/cleaned_dataset_box_office.csv' target='_blank'>zippedData/cleaned_dataset_box_office.csv</a><br>"
      ],
      "text/plain": [
       "c:\\Users\\hp\\OneDrive\\Desktop\\DSF-FT12\\DS-Phase2\\Phase-2 Project\\Group4-Phase2-Project\\zippedData\\cleaned_dataset_box_office.csv"
      ]
     },
     "metadata": {},
     "output_type": "display_data"
    },
    {
     "data": {
      "text/html": [
       "<a href='zippedData/cleaned_dataset_film_df.csv' target='_blank'>zippedData/cleaned_dataset_film_df.csv</a><br>"
      ],
      "text/plain": [
       "c:\\Users\\hp\\OneDrive\\Desktop\\DSF-FT12\\DS-Phase2\\Phase-2 Project\\Group4-Phase2-Project\\zippedData\\cleaned_dataset_film_df.csv"
      ]
     },
     "metadata": {},
     "output_type": "display_data"
    },
    {
     "data": {
      "text/html": [
       "<a href='zippedData/cleaned_dataset_movie_budget.csv' target='_blank'>zippedData/cleaned_dataset_movie_budget.csv</a><br>"
      ],
      "text/plain": [
       "c:\\Users\\hp\\OneDrive\\Desktop\\DSF-FT12\\DS-Phase2\\Phase-2 Project\\Group4-Phase2-Project\\zippedData\\cleaned_dataset_movie_budget.csv"
      ]
     },
     "metadata": {},
     "output_type": "display_data"
    }
   ],
   "source": [
    " # Generate download links\n",
    "print(\"\\n📎 Download links:\")\n",
    "display(FileLink(box_office_path))\n",
    "display(FileLink(film_df_path))\n",
    "display(FileLink(movie_budget_path))"
   ]
  },
  {
   "cell_type": "markdown",
   "metadata": {},
   "source": [
    "* index=False: Prevents the DataFrame index from being saved as an additional column in the CSV file.\n",
    "\n",
    "* Unique filenames: By giving each dataset a unique filename (cleaned_dataset.csv), you ensure that all datasets are saved without overwriting each other."
   ]
  }
 ],
 "metadata": {
  "kernelspec": {
   "display_name": "learn-env",
   "language": "python",
   "name": "python3"
  },
  "language_info": {
   "codemirror_mode": {
    "name": "ipython",
    "version": 3
   },
   "file_extension": ".py",
   "mimetype": "text/x-python",
   "name": "python",
   "nbconvert_exporter": "python",
   "pygments_lexer": "ipython3",
   "version": "3.9.21"
  }
 },
 "nbformat": 4,
 "nbformat_minor": 4
}
