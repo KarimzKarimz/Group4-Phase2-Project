{
 "cells": [
  {
   "cell_type": "markdown",
   "metadata": {},
   "source": [
    "#   MOVIE INDUSTRY  ANALYSIS\n",
    "\n",
    "## 🎬 Project Title :\n",
    "Box Office Gold: Data-Driven Insights for a Profitable Movie Studio Launch\n",
    "\n",
    "### Business Understanding\n",
    "👥 Stakeholder\n",
    "The primary stakeholder is the executive team of the company's new movie studio. They need insights into the film industry to make confident decisions on what type of movies to produce.\n",
    "\n",
    "### 🌍 Domain:\n",
    "\n",
    "Entertainment & Media Analytics (specifically, Film Industry/Box Office Performance)\n",
    "\n",
    "#### 📘 Introduction:\n",
    "\n",
    "With the growing trend of major companies venturing into original film production, my organization is planning to launch its own movie studio. However, without prior experience in the film industry, there’s uncertainty about what types of movies resonate with audiences and drive box office success. This project aims to analyze trends in box office data to uncover what genres, budgets, and other film attributes contribute most to commercial success — providing strategic guidance for profitable content creation.\n",
    "\n",
    "#### 🎯 Business Objectives :\n",
    "To Identify High-Performing Film Genres:\n",
    "Analyze box office data to determine which movie genres consistently generate the highest revenue and audience engagement.\n",
    "To Examine the Relationship Between Budget and Profitability:\n",
    "Investigate how production budgets influence box office success and identify the budget range that maximizes return on investment (ROI).\n",
    "To Assess the Impact of Key Film Attributes:\n",
    "Explore how factors such as runtime, cast, release date (season), and film ratings (e.g., PG-13, R) affect a movie’s performance.\n",
    "To Benchmark Against Top Studios :\n",
    "Analyze which production studios are leading in terms of commercial success and identify patterns in their film portfolios.\n",
    "To Provide Actionable Recommendations:\n",
    "Based on the insights, suggest the optimal type of film (genre, budget, release timing, etc.) that the company should produce for a successful studio launch.\n",
    "\n",
    "#### 📊 Project Plan: Box Office Gold – Data-Driven Insights for a Profitable Movie Studio Launch\n",
    "🔍 1. Problem Understanding & Goal Definition\n",
    "\n",
    "Review business problem: Identify film types that succeed at the box office.\n",
    "\n",
    "Define clear goals: Provide recommendations on genre, budget, and release strategy.\n",
    "\n",
    "📦 2. Data Collection\n",
    "\n",
    "Source Box Office Datasets from platforms like:\n",
    "\n",
    "Im.db.zip(movie_basics & Movie_ratings)\n",
    "\n",
    "bom.movie_gross.gz\n",
    "\n",
    "Collect relevant data fields:\n",
    "\n",
    "Genre, budget, revenue, runtime, release date, production company, director, cast, rating, etc.\n",
    "\n",
    "🧹 3. Data Cleaning & Preprocessing\n",
    "\n",
    "Handle missing values and inconsistencies.\n",
    "Standardize formats (dates, currencies, genres).\n",
    "Convert categorical variables where necessary.\n",
    "Remove duplicates or irrelevant records (e.g., short films, non-theatrical releases).\n",
    "📊 4. Exploratory Data Analysis (EDA)\n",
    "\n",
    "Univariate & Bivariate Analysis (e.g., budget vs revenue, genre vs revenue).\n",
    "Correlation heatmaps, box plots, histograms.\n",
    "Identify outliers and common patterns in successful films.\n",
    "Segment data by genre, production studio, or release year.\n",
    "🧠 5. Insights & Recommendations\n",
    "\n",
    "Summarize which genres are top performers.\n",
    "Recommend ideal budget ranges.\n",
    "Identify optimal release months/seasons.\n",
    "Suggest attributes linked to successful movies (e.g., popular runtimes, ratings).\n",
    "📑 6. Reporting & Visualization\n",
    "\n",
    "Build clear and compelling visualizations (using Tableau, Power BI, or Python’s Seaborn/Matplotlib).\n",
    "Draft a business-focused report or slide deck.\n",
    "Include:\n",
    "\n",
    "Key findings\n",
    "Strategic suggestions\n",
    "Visual evidence\n",
    "📢 7. Presentation to Stakeholders\n",
    "\n",
    "#### Communicate insights in non-technical language.\n",
    "Show data-driven rationale for proposed movie types.\n",
    "Allow room for stakeholder feedback and Q&A.\n",
    "Overview/Background\n",
    "As the entertainment industry shifts toward original content production, many large companies are investing in their own movie studios to capture audience attention and drive revenue. The company seeks to follow this trend but lacks experience in film production. To ensure a successful studio launch, this project aims to analyze historical box office data to uncover key trends in genre performance, budget impact, and other critical success factors. The goal is to provide data-driven insights that will guide strategic decisions on what types of films to produce for maximum box office success.\n",
    "\n",
    "#### Challenges\n",
    "One of the main challenges in this project is acquiring comprehensive and reliable box office data that includes essential attributes such as genre, budget, revenue, and release details. Additionally, the film industry is influenced by unpredictable factors like audience trends, star power, and marketing, which are difficult to quantify. Ensuring data quality, handling missing or inconsistent entries, and drawing actionable insights that align with business goals also present key hurdles in the analysis process.\n",
    "\n",
    "#### Proposed Solution\n",
    "To address the business challenge, this project proposes a data-driven approach that involves collecting and analyzing historical box office data to identify patterns in successful films. By examining factors such as genre, budget, revenue, release timing, and other key attributes, the project will uncover trends that correlate with box office success. The insights will then be translated into practical recommendations to guide the company in producing films with higher chances of commercial success.\n",
    "\n",
    "#### Conclusion:\n",
    "Launching a successful movie studio requires more than creativity—it demands strategic, data-informed decisions. This project leverages box office analytics to uncover what drives film profitability, helping the company make confident choices about genre, budget, and release strategy. With clear insights and recommendations, the company will be well-positioned to enter the competitive film industry with a strong foundation for success.\n",
    "\n",
    "#### ❗ Problem Statement\n",
    "As the company plans to venture into original film production, it faces significant uncertainty due to a lack of industry experience. 🎬 Making informed decisions about what types of films to produce is challenging without a clear understanding of market trends and performance drivers. Additionally, obtaining accurate and complete box office data is difficult, and the film industry itself is influenced by various unpredictable factors such as changing audience preferences, marketing impact, and star power. These challenges make it hard to identify what contributes to a movie’s commercial success and pose a risk to the company’s new venture.\n",
    "\n",
    "#### 📊 Data Understanding\n",
    "The data for this project comes from multiple sources:\n",
    "\n",
    "im.db.zip:\n",
    "A zipped SQLite database that contains various tables. The two most relevant tables are:\n",
    "\n",
    "movie_basics: Likely includes key information about movies such as titles, genres, release dates, runtime, etc.\n",
    "movie_ratings: Contains viewer and critic ratings, providing insight into movie reception.\n",
    "bom.movie_gross.csv.gz:\n",
    "A compressed CSV file containing box office gross data. This file is essential for analyzing revenue trends and overall financial performance.\n",
    "These sources combined offer a comprehensive view of film attributes and performance metrics, which are crucial for understanding the factors behind movie success.\n",
    "\n",
    "\n",
    "\n",
    "\n",
    "\n",
    "\n",
    "\n"
   ]
  },
  {
   "cell_type": "markdown",
   "metadata": {},
   "source": [
    "### Workflow & Steps\n",
    "\n",
    "#### Step 1: Importing ,Connecting and Loading Datasets and Analysing the datasets\n",
    "\n",
    " Import necessary  libraries\n",
    "\n",
    " Connecting and loading the \n",
    "\n",
    " Check dataset shape (rows & columns) \n",
    "\n",
    " View dataset information (column types, missing values)\n",
    "\n",
    " Summary statistics of numerical columns  \n",
    "\n",
    " Check for duplicate rows  \n",
    "\n",
    " Check for unique values in key categorical columns\n",
    "\n",
    "\n",
    "#### Step 2: Data Cleaning\n",
    "\n",
    " Remove duplicates \n",
    "\n",
    " Handle missing values appropriately  \n",
    "\n",
    " Convert data types if necessary  \n",
    "\n",
    " Standardize column names for consistency \n",
    "\n",
    " Correct inconsistent categorical values  \n",
    "\n",
    " Save the cleaned dataset  "
   ]
  },
  {
   "cell_type": "markdown",
   "metadata": {},
   "source": [
    "## Step 1: Importing and Loading Data"
   ]
  },
  {
   "cell_type": "markdown",
   "metadata": {},
   "source": [
    "### 📚 1.1 Importing Necessary Libraries\n",
    "\n",
    "In this step, we import all the essential Python libraries that we will use throughout the project for:\n",
    "- Extracting and reading data (from ZIP files and SQLite databases)\n",
    "- Cleaning and analyzing data\n",
    "- Performing statistical operations\n",
    "- Visualizing data to uncover insights\n"
   ]
  },
  {
   "cell_type": "code",
   "execution_count": 214,
   "metadata": {},
   "outputs": [],
   "source": [
    "# We are Importing neccessary libraries\n",
    "\n",
    "import zipfile\n",
    "from scipy import stats\n",
    "import sqlite3\n",
    "import pandas as pd\n",
    "import numpy as np\n",
    "import matplotlib.pyplot as plt\n",
    "import seaborn as sns"
   ]
  },
  {
   "cell_type": "markdown",
   "metadata": {},
   "source": [
    "* In this project, we import libraries that provide tools for data manipulation and database interaction. \n",
    " These libraries enable efficient loading, cleaning, merging, and analysis of structured data from various sources, \n",
    " including flat files and relational databases. By using these tools, we can prepare and organize the data for deeper analysis and insight."
   ]
  },
  {
   "cell_type": "markdown",
   "metadata": {},
   "source": [
    " ### 🗄️ 1.2: Connecting to the SQLite Database\n",
    "\n",
    "In this step, we establish a connection to the SQLite database that contains structured data related to our project.\n",
    "\n",
    "**Why this is important:**  \n",
    "SQLite databases allow us to store and retrieve data efficiently using SQL queries. We first need to connect to the database before we can explore or extract tables for analysis.\n"
   ]
  },
  {
   "cell_type": "code",
   "execution_count": 215,
   "metadata": {},
   "outputs": [],
   "source": [
    "# Establishing a connection to the SQLite database containing structured data \n",
    "conn = sqlite3.connect(\"zippedData/im.db1/im.db\")"
   ]
  },
  {
   "cell_type": "markdown",
   "metadata": {},
   "source": [
    "* Establishing a connection to the SQLite database containing structured data *by creating a connection object, we enable the ability to execute SQL queries  and extract tables or records from the database. This connection is essential for retrieving data stored in relational format and loading it into a DataFrame and also for further analysis.\n"
   ]
  },
  {
   "cell_type": "markdown",
   "metadata": {},
   "source": [
    "### Querying the `movie_basics` Table\n",
    "\n",
    "We will query all records from the `movie_basics` table in the `im.db` SQLite database and display the first few rows using pandas.\n"
   ]
  },
  {
   "cell_type": "code",
   "execution_count": 216,
   "metadata": {},
   "outputs": [
    {
     "data": {
      "text/html": [
       "<div>\n",
       "<style scoped>\n",
       "    .dataframe tbody tr th:only-of-type {\n",
       "        vertical-align: middle;\n",
       "    }\n",
       "\n",
       "    .dataframe tbody tr th {\n",
       "        vertical-align: top;\n",
       "    }\n",
       "\n",
       "    .dataframe thead th {\n",
       "        text-align: right;\n",
       "    }\n",
       "</style>\n",
       "<table border=\"1\" class=\"dataframe\">\n",
       "  <thead>\n",
       "    <tr style=\"text-align: right;\">\n",
       "      <th></th>\n",
       "      <th>movie_id</th>\n",
       "      <th>primary_title</th>\n",
       "      <th>original_title</th>\n",
       "      <th>start_year</th>\n",
       "      <th>runtime_minutes</th>\n",
       "      <th>genres</th>\n",
       "    </tr>\n",
       "  </thead>\n",
       "  <tbody>\n",
       "    <tr>\n",
       "      <th>0</th>\n",
       "      <td>tt0063540</td>\n",
       "      <td>Sunghursh</td>\n",
       "      <td>Sunghursh</td>\n",
       "      <td>2013</td>\n",
       "      <td>175.0</td>\n",
       "      <td>Action,Crime,Drama</td>\n",
       "    </tr>\n",
       "    <tr>\n",
       "      <th>1</th>\n",
       "      <td>tt0066787</td>\n",
       "      <td>One Day Before the Rainy Season</td>\n",
       "      <td>Ashad Ka Ek Din</td>\n",
       "      <td>2019</td>\n",
       "      <td>114.0</td>\n",
       "      <td>Biography,Drama</td>\n",
       "    </tr>\n",
       "    <tr>\n",
       "      <th>2</th>\n",
       "      <td>tt0069049</td>\n",
       "      <td>The Other Side of the Wind</td>\n",
       "      <td>The Other Side of the Wind</td>\n",
       "      <td>2018</td>\n",
       "      <td>122.0</td>\n",
       "      <td>Drama</td>\n",
       "    </tr>\n",
       "    <tr>\n",
       "      <th>3</th>\n",
       "      <td>tt0069204</td>\n",
       "      <td>Sabse Bada Sukh</td>\n",
       "      <td>Sabse Bada Sukh</td>\n",
       "      <td>2018</td>\n",
       "      <td>NaN</td>\n",
       "      <td>Comedy,Drama</td>\n",
       "    </tr>\n",
       "    <tr>\n",
       "      <th>4</th>\n",
       "      <td>tt0100275</td>\n",
       "      <td>The Wandering Soap Opera</td>\n",
       "      <td>La Telenovela Errante</td>\n",
       "      <td>2017</td>\n",
       "      <td>80.0</td>\n",
       "      <td>Comedy,Drama,Fantasy</td>\n",
       "    </tr>\n",
       "  </tbody>\n",
       "</table>\n",
       "</div>"
      ],
      "text/plain": [
       "    movie_id                    primary_title              original_title  \\\n",
       "0  tt0063540                        Sunghursh                   Sunghursh   \n",
       "1  tt0066787  One Day Before the Rainy Season             Ashad Ka Ek Din   \n",
       "2  tt0069049       The Other Side of the Wind  The Other Side of the Wind   \n",
       "3  tt0069204                  Sabse Bada Sukh             Sabse Bada Sukh   \n",
       "4  tt0100275         The Wandering Soap Opera       La Telenovela Errante   \n",
       "\n",
       "   start_year  runtime_minutes                genres  \n",
       "0        2013            175.0    Action,Crime,Drama  \n",
       "1        2019            114.0       Biography,Drama  \n",
       "2        2018            122.0                 Drama  \n",
       "3        2018              NaN          Comedy,Drama  \n",
       "4        2017             80.0  Comedy,Drama,Fantasy  "
      ]
     },
     "execution_count": 216,
     "metadata": {},
     "output_type": "execute_result"
    }
   ],
   "source": [
    "# Query im.db to get data from movie_basics.\n",
    "\n",
    "query = \"\"\"\n",
    "SELECT * \n",
    " FROM movie_basics;\n",
    "\"\"\"\n",
    "\n",
    "# output query using pandas\n",
    "\n",
    "movie_basics_df = pd.read_sql(query, conn)\n",
    "movie_basics_df.head()"
   ]
  },
  {
   "cell_type": "markdown",
   "metadata": {},
   "source": [
    "**\n",
    "- `query`: A multi-line string containing the SQL command to select all columns (`*`) from the `movie_basics` table.\n",
    "- `pd.read_sql(query, conn)`: pandas reads the SQL query results directly into a DataFrame called `movie_basics_df`. The `conn` object represents the active connection to the `im.db` SQLite database.\n",
    "- `.head()`: Shows the first 5 rows of `movie_basics_df`, allowing us to quickly inspect the structure and contents of the data.\n"
   ]
  },
  {
   "cell_type": "markdown",
   "metadata": {},
   "source": [
    "## Checking  rows and columumn in movie_basics"
   ]
  },
  {
   "cell_type": "code",
   "execution_count": 217,
   "metadata": {},
   "outputs": [
    {
     "data": {
      "text/plain": [
       "(146144, 6)"
      ]
     },
     "execution_count": 217,
     "metadata": {},
     "output_type": "execute_result"
    }
   ],
   "source": [
    "# checking  rows and columumn in movie_basics\n",
    "movie_basics_df.shape"
   ]
  },
  {
   "cell_type": "markdown",
   "metadata": {},
   "source": [
    "### Checking the Number of Rows and Columns in `movie_basics`\n",
    "\n",
    "We will check the dimensions of the `movie_basics_df` DataFrame to understand how many rows (records) and columns (features) it contains.\n",
    "*\n",
    "- `.shape` returns a tuple where:\n",
    "  - The **first value** is the number of rows (how many records/movies are in the dataset).\n",
    "  - The **second value** is the number of columns (how many fields/features each record has).\n",
    "- This helps quickly understand the dataset size and structure.\n"
   ]
  },
  {
   "cell_type": "markdown",
   "metadata": {},
   "source": [
    "## Summary Statistics of `movie_basics_df`"
   ]
  },
  {
   "cell_type": "code",
   "execution_count": 218,
   "metadata": {},
   "outputs": [
    {
     "data": {
      "text/plain": [
       "<bound method NDFrame.describe of          movie_id                                primary_title  \\\n",
       "0       tt0063540                                    Sunghursh   \n",
       "1       tt0066787              One Day Before the Rainy Season   \n",
       "2       tt0069049                   The Other Side of the Wind   \n",
       "3       tt0069204                              Sabse Bada Sukh   \n",
       "4       tt0100275                     The Wandering Soap Opera   \n",
       "...           ...                                          ...   \n",
       "146139  tt9916538                          Kuambil Lagi Hatiku   \n",
       "146140  tt9916622  Rodolpho Teóphilo - O Legado de um Pioneiro   \n",
       "146141  tt9916706                              Dankyavar Danka   \n",
       "146142  tt9916730                                       6 Gunn   \n",
       "146143  tt9916754               Chico Albuquerque - Revelações   \n",
       "\n",
       "                                     original_title  start_year  \\\n",
       "0                                         Sunghursh        2013   \n",
       "1                                   Ashad Ka Ek Din        2019   \n",
       "2                        The Other Side of the Wind        2018   \n",
       "3                                   Sabse Bada Sukh        2018   \n",
       "4                             La Telenovela Errante        2017   \n",
       "...                                             ...         ...   \n",
       "146139                          Kuambil Lagi Hatiku        2019   \n",
       "146140  Rodolpho Teóphilo - O Legado de um Pioneiro        2015   \n",
       "146141                              Dankyavar Danka        2013   \n",
       "146142                                       6 Gunn        2017   \n",
       "146143               Chico Albuquerque - Revelações        2013   \n",
       "\n",
       "        runtime_minutes                genres  \n",
       "0                 175.0    Action,Crime,Drama  \n",
       "1                 114.0       Biography,Drama  \n",
       "2                 122.0                 Drama  \n",
       "3                   NaN          Comedy,Drama  \n",
       "4                  80.0  Comedy,Drama,Fantasy  \n",
       "...                 ...                   ...  \n",
       "146139            123.0                 Drama  \n",
       "146140              NaN           Documentary  \n",
       "146141              NaN                Comedy  \n",
       "146142            116.0                  None  \n",
       "146143              NaN           Documentary  \n",
       "\n",
       "[146144 rows x 6 columns]>"
      ]
     },
     "execution_count": 218,
     "metadata": {},
     "output_type": "execute_result"
    }
   ],
   "source": [
    "# Summary Statistics of `movie_basics_df`\n",
    "movie_basics_df.describe"
   ]
  },
  {
   "cell_type": "markdown",
   "metadata": {},
   "source": [
    "### Summary Statistics of `movie_basics_df`\n",
    "\n",
    "We will generate descriptive statistics for the numeric columns in the `movie_basics_df` DataFrame to better understand the distribution and range of the data.\n"
   ]
  },
  {
   "cell_type": "markdown",
   "metadata": {},
   "source": [
    "## query movie_ratings table"
   ]
  },
  {
   "cell_type": "markdown",
   "metadata": {},
   "source": [
    "### Querying the `movie_ratings` Table\n",
    "\n",
    "We will query all records from the `movie_ratings` table in the `im.db` SQLite database and display the first few rows using pandas.\n"
   ]
  },
  {
   "cell_type": "code",
   "execution_count": 219,
   "metadata": {},
   "outputs": [
    {
     "data": {
      "text/html": [
       "<div>\n",
       "<style scoped>\n",
       "    .dataframe tbody tr th:only-of-type {\n",
       "        vertical-align: middle;\n",
       "    }\n",
       "\n",
       "    .dataframe tbody tr th {\n",
       "        vertical-align: top;\n",
       "    }\n",
       "\n",
       "    .dataframe thead th {\n",
       "        text-align: right;\n",
       "    }\n",
       "</style>\n",
       "<table border=\"1\" class=\"dataframe\">\n",
       "  <thead>\n",
       "    <tr style=\"text-align: right;\">\n",
       "      <th></th>\n",
       "      <th>movie_id</th>\n",
       "      <th>averagerating</th>\n",
       "      <th>numvotes</th>\n",
       "    </tr>\n",
       "  </thead>\n",
       "  <tbody>\n",
       "    <tr>\n",
       "      <th>0</th>\n",
       "      <td>tt10356526</td>\n",
       "      <td>8.3</td>\n",
       "      <td>31</td>\n",
       "    </tr>\n",
       "    <tr>\n",
       "      <th>1</th>\n",
       "      <td>tt10384606</td>\n",
       "      <td>8.9</td>\n",
       "      <td>559</td>\n",
       "    </tr>\n",
       "    <tr>\n",
       "      <th>2</th>\n",
       "      <td>tt1042974</td>\n",
       "      <td>6.4</td>\n",
       "      <td>20</td>\n",
       "    </tr>\n",
       "    <tr>\n",
       "      <th>3</th>\n",
       "      <td>tt1043726</td>\n",
       "      <td>4.2</td>\n",
       "      <td>50352</td>\n",
       "    </tr>\n",
       "    <tr>\n",
       "      <th>4</th>\n",
       "      <td>tt1060240</td>\n",
       "      <td>6.5</td>\n",
       "      <td>21</td>\n",
       "    </tr>\n",
       "  </tbody>\n",
       "</table>\n",
       "</div>"
      ],
      "text/plain": [
       "     movie_id  averagerating  numvotes\n",
       "0  tt10356526            8.3        31\n",
       "1  tt10384606            8.9       559\n",
       "2   tt1042974            6.4        20\n",
       "3   tt1043726            4.2     50352\n",
       "4   tt1060240            6.5        21"
      ]
     },
     "execution_count": 219,
     "metadata": {},
     "output_type": "execute_result"
    }
   ],
   "source": [
    "# query movie_ratings table\n",
    "\n",
    "query = \"\"\"\n",
    "SELECT *\n",
    " FROM movie_ratings;\n",
    "\"\"\"\n",
    "\n",
    "movie_rating_df = pd.read_sql(query, conn)\n",
    "movie_rating_df.head()"
   ]
  },
  {
   "cell_type": "markdown",
   "metadata": {},
   "source": [
    "*\n",
    "- `query`: A multi-line string containing the SQL command to select all columns (`*`) from the `movie_ratings` table.\n",
    "- `pd.read_sql(query, conn)`: Executes the query using pandas and loads the results directly into a DataFrame called `movie_rating_df`.\n",
    "- `.head()`: Displays the first 5 rows of the DataFrame to quickly inspect the structure and contents.\n"
   ]
  },
  {
   "cell_type": "markdown",
   "metadata": {},
   "source": [
    "## Checking the Number of Rows and Columns in `movie_rating_df`\n",
    "\n",
    "We will check the dimensions of the `movie_rating_df` DataFrame to see how many records and fields it contains.\n"
   ]
  },
  {
   "cell_type": "code",
   "execution_count": 220,
   "metadata": {},
   "outputs": [
    {
     "data": {
      "text/plain": [
       "(73856, 3)"
      ]
     },
     "execution_count": 220,
     "metadata": {},
     "output_type": "execute_result"
    }
   ],
   "source": [
    "# checking  rows and columumn in movie_rating.\n",
    "movie_rating_df.shape"
   ]
  },
  {
   "cell_type": "markdown",
   "metadata": {},
   "source": [
    "\n",
    "\n",
    "- `.shape` returns a tuple where:\n",
    "  - The **first element** is the number of rows (how many ratings records are present).\n",
    "  - The **second element** is the number of columns (how many fields each rating has).\n",
    "- This helps understand the size and complexity of the dataset at a glance.\n",
    "\n",
    "* indicates that the movie_basics has 73,856 rows and 3 columns."
   ]
  },
  {
   "cell_type": "markdown",
   "metadata": {},
   "source": [
    "## Summary Statistics of `movie_rating_df`\n",
    "\n",
    "We will generate descriptive statistics for the numeric columns in the `movie_rating_df` DataFrame to understand the distribution and range of the ratings data.\n"
   ]
  },
  {
   "cell_type": "code",
   "execution_count": 221,
   "metadata": {},
   "outputs": [
    {
     "data": {
      "text/plain": [
       "<bound method NDFrame.describe of          movie_id  averagerating  numvotes\n",
       "0      tt10356526            8.3        31\n",
       "1      tt10384606            8.9       559\n",
       "2       tt1042974            6.4        20\n",
       "3       tt1043726            4.2     50352\n",
       "4       tt1060240            6.5        21\n",
       "...           ...            ...       ...\n",
       "73851   tt9805820            8.1        25\n",
       "73852   tt9844256            7.5        24\n",
       "73853   tt9851050            4.7        14\n",
       "73854   tt9886934            7.0         5\n",
       "73855   tt9894098            6.3       128\n",
       "\n",
       "[73856 rows x 3 columns]>"
      ]
     },
     "execution_count": 221,
     "metadata": {},
     "output_type": "execute_result"
    }
   ],
   "source": [
    "# Summary Statistics of `movie_rating_df`\n",
    "movie_rating_df.describe"
   ]
  },
  {
   "cell_type": "markdown",
   "metadata": {},
   "source": [
    "  \n",
    "- `.describe()` automatically calculates important summary statistics for all **numeric columns**:\n",
    "  - **count**: Number of non-null entries,\n",
    "  - **mean**: Average value,\n",
    "  - **std**: Standard deviation (measure of spread),\n",
    "  - **min**: Minimum value,\n",
    "  - **25%**, **50% (median)**, **75%**: Percentile values,\n",
    "  - **max**: Maximum value.\n",
    "- This gives a quick view of the distribution, range, and variation in the movie ratings dataset.\n"
   ]
  },
  {
   "cell_type": "markdown",
   "metadata": {},
   "source": [
    "## Merging `movie_basics_df` and `movie_rating_df`\n",
    "\n",
    "We will merge the two DataFrames using the common `movie_id` column to create a combined dataset containing both movie details and their ratings.\n",
    "Called film_df."
   ]
  },
  {
   "cell_type": "code",
   "execution_count": 222,
   "metadata": {},
   "outputs": [
    {
     "data": {
      "text/html": [
       "<div>\n",
       "<style scoped>\n",
       "    .dataframe tbody tr th:only-of-type {\n",
       "        vertical-align: middle;\n",
       "    }\n",
       "\n",
       "    .dataframe tbody tr th {\n",
       "        vertical-align: top;\n",
       "    }\n",
       "\n",
       "    .dataframe thead th {\n",
       "        text-align: right;\n",
       "    }\n",
       "</style>\n",
       "<table border=\"1\" class=\"dataframe\">\n",
       "  <thead>\n",
       "    <tr style=\"text-align: right;\">\n",
       "      <th></th>\n",
       "      <th>movie_id</th>\n",
       "      <th>primary_title</th>\n",
       "      <th>original_title</th>\n",
       "      <th>start_year</th>\n",
       "      <th>runtime_minutes</th>\n",
       "      <th>genres</th>\n",
       "      <th>averagerating</th>\n",
       "      <th>numvotes</th>\n",
       "    </tr>\n",
       "  </thead>\n",
       "  <tbody>\n",
       "    <tr>\n",
       "      <th>0</th>\n",
       "      <td>tt0063540</td>\n",
       "      <td>Sunghursh</td>\n",
       "      <td>Sunghursh</td>\n",
       "      <td>2013</td>\n",
       "      <td>175.0</td>\n",
       "      <td>Action,Crime,Drama</td>\n",
       "      <td>7.0</td>\n",
       "      <td>77</td>\n",
       "    </tr>\n",
       "    <tr>\n",
       "      <th>1</th>\n",
       "      <td>tt0066787</td>\n",
       "      <td>One Day Before the Rainy Season</td>\n",
       "      <td>Ashad Ka Ek Din</td>\n",
       "      <td>2019</td>\n",
       "      <td>114.0</td>\n",
       "      <td>Biography,Drama</td>\n",
       "      <td>7.2</td>\n",
       "      <td>43</td>\n",
       "    </tr>\n",
       "    <tr>\n",
       "      <th>2</th>\n",
       "      <td>tt0069049</td>\n",
       "      <td>The Other Side of the Wind</td>\n",
       "      <td>The Other Side of the Wind</td>\n",
       "      <td>2018</td>\n",
       "      <td>122.0</td>\n",
       "      <td>Drama</td>\n",
       "      <td>6.9</td>\n",
       "      <td>4517</td>\n",
       "    </tr>\n",
       "    <tr>\n",
       "      <th>3</th>\n",
       "      <td>tt0069204</td>\n",
       "      <td>Sabse Bada Sukh</td>\n",
       "      <td>Sabse Bada Sukh</td>\n",
       "      <td>2018</td>\n",
       "      <td>NaN</td>\n",
       "      <td>Comedy,Drama</td>\n",
       "      <td>6.1</td>\n",
       "      <td>13</td>\n",
       "    </tr>\n",
       "    <tr>\n",
       "      <th>4</th>\n",
       "      <td>tt0100275</td>\n",
       "      <td>The Wandering Soap Opera</td>\n",
       "      <td>La Telenovela Errante</td>\n",
       "      <td>2017</td>\n",
       "      <td>80.0</td>\n",
       "      <td>Comedy,Drama,Fantasy</td>\n",
       "      <td>6.5</td>\n",
       "      <td>119</td>\n",
       "    </tr>\n",
       "  </tbody>\n",
       "</table>\n",
       "</div>"
      ],
      "text/plain": [
       "    movie_id                    primary_title              original_title  \\\n",
       "0  tt0063540                        Sunghursh                   Sunghursh   \n",
       "1  tt0066787  One Day Before the Rainy Season             Ashad Ka Ek Din   \n",
       "2  tt0069049       The Other Side of the Wind  The Other Side of the Wind   \n",
       "3  tt0069204                  Sabse Bada Sukh             Sabse Bada Sukh   \n",
       "4  tt0100275         The Wandering Soap Opera       La Telenovela Errante   \n",
       "\n",
       "   start_year  runtime_minutes                genres  averagerating  numvotes  \n",
       "0        2013            175.0    Action,Crime,Drama            7.0        77  \n",
       "1        2019            114.0       Biography,Drama            7.2        43  \n",
       "2        2018            122.0                 Drama            6.9      4517  \n",
       "3        2018              NaN          Comedy,Drama            6.1        13  \n",
       "4        2017             80.0  Comedy,Drama,Fantasy            6.5       119  "
      ]
     },
     "execution_count": 222,
     "metadata": {},
     "output_type": "execute_result"
    }
   ],
   "source": [
    "# merge movie_basics_df & movie_rating_df\n",
    "\n",
    "film_df = pd.merge(movie_basics_df, movie_rating_df, on='movie_id', how='inner')\n",
    "film_df.head()"
   ]
  },
  {
   "cell_type": "markdown",
   "metadata": {},
   "source": [
    "  \n",
    "- `pd.merge(df1, df2, on='column', how='type')` merges two DataFrames:\n",
    "  - `movie_basics_df` and `movie_rating_df` are merged **on** the common `movie_id` column.\n",
    "  - `how='inner'` means:\n",
    "    - Only include rows where `movie_id` exists in **both** DataFrames.\n",
    "    - Movies without ratings (or ratings without movie info) are excluded.\n",
    "- The resulting DataFrame `film_df` contains combined information: movie details + ratings.\n",
    "- `.head()` shows the first 5 rows to confirm that the merge worked correctly.\n"
   ]
  },
  {
   "cell_type": "markdown",
   "metadata": {},
   "source": [
    "## Checking the Number of Rows and Columns After Merging\n",
    "\n",
    "We will verify the size of the merged DataFrame `film_df` to see how many records and fields it contains after combining `movie_basics_df` and `movie_rating_df`.\n"
   ]
  },
  {
   "cell_type": "code",
   "execution_count": 223,
   "metadata": {},
   "outputs": [
    {
     "data": {
      "text/plain": [
       "(73856, 8)"
      ]
     },
     "execution_count": 223,
     "metadata": {},
     "output_type": "execute_result"
    }
   ],
   "source": [
    "# checking for  rows and column after merging\n",
    "film_df.shape"
   ]
  },
  {
   "cell_type": "markdown",
   "metadata": {},
   "source": [
    "  \n",
    "- `.shape` returns a tuple:\n",
    "  - The **first value** is the number of rows (movies with both basic info and ratings).\n",
    "  - The **second value** is the number of columns (combined fields from both DataFrames).\n",
    "- This helps confirm the size of the new dataset after merging, ensuring no unexpected data loss or duplication occurred.\n"
   ]
  },
  {
   "cell_type": "markdown",
   "metadata": {},
   "source": [
    "## Checking Data Types and Basic Information of `film_df`\n",
    "\n",
    "We will inspect the structure of `film_df`, including data types, non-null counts, and memory usage, to better understand the dataset.\n"
   ]
  },
  {
   "cell_type": "code",
   "execution_count": 225,
   "metadata": {},
   "outputs": [
    {
     "name": "stdout",
     "output_type": "stream",
     "text": [
      "<class 'pandas.core.frame.DataFrame'>\n",
      "RangeIndex: 73856 entries, 0 to 73855\n",
      "Data columns (total 8 columns):\n",
      " #   Column           Non-Null Count  Dtype  \n",
      "---  ------           --------------  -----  \n",
      " 0   movie_id         73856 non-null  object \n",
      " 1   primary_title    73856 non-null  object \n",
      " 2   original_title   73856 non-null  object \n",
      " 3   start_year       73856 non-null  int64  \n",
      " 4   runtime_minutes  66236 non-null  float64\n",
      " 5   genres           73052 non-null  object \n",
      " 6   averagerating    73856 non-null  float64\n",
      " 7   numvotes         73856 non-null  int64  \n",
      "dtypes: float64(2), int64(2), object(4)\n",
      "memory usage: 4.5+ MB\n"
     ]
    }
   ],
   "source": [
    "# Checking Data Types and Basic Information of `film_df`\n",
    "film_df.info()"
   ]
  },
  {
   "cell_type": "markdown",
   "metadata": {},
   "source": [
    "  \n",
    "- `.info()` provides a summary of the DataFrame, showing:\n",
    "  - The **total number of entries** (rows),\n",
    "  - **Non-null counts** for each column (helpful for spotting missing data),\n",
    "  - **Data types** for each column:\n",
    "    - `object` for text/string,\n",
    "    - `int64` for integers,\n",
    "    - `float64` for decimal numbers,\n",
    "  - **Memory usage** (important for very large datasets).\n",
    "- This is crucial for:\n",
    "  - Detecting missing data early,\n",
    "  - Planning data cleaning steps,\n",
    "  - Knowing if data types need optimization (e.g., changing types to save memory).\n"
   ]
  },
  {
   "cell_type": "markdown",
   "metadata": {},
   "source": [
    "## Summary Statistics of `film_df`\n",
    "\n",
    "We will generate descriptive statistics for the numeric columns in the merged `film_df` DataFrame to understand the distribution and range of the data.\n"
   ]
  },
  {
   "cell_type": "code",
   "execution_count": null,
   "metadata": {},
   "outputs": [
    {
     "data": {
      "text/plain": [
       "<bound method NDFrame.describe of         movie_id                    primary_title              original_title  \\\n",
       "0      tt0063540                        sunghursh                   sunghursh   \n",
       "1      tt0066787  one day before the rainy season             ashad ka ek din   \n",
       "2      tt0069049       the other side of the wind  the other side of the wind   \n",
       "3      tt0069204                  sabse bada sukh             sabse bada sukh   \n",
       "4      tt0100275         the wandering soap opera       la telenovela errante   \n",
       "...          ...                              ...                         ...   \n",
       "73851  tt9913084                 diabolik sono io            diabolik sono io   \n",
       "73852  tt9914286                sokagin çocuklari           sokagin çocuklari   \n",
       "73853  tt9914642                        albatross                   albatross   \n",
       "73854  tt9914942       la vida sense la sara amat  la vida sense la sara amat   \n",
       "73855  tt9916160                       drømmeland                  drømmeland   \n",
       "\n",
       "       start_year  runtime_minutes                genres  averagerating  \\\n",
       "0            2013            175.0    action,crime,drama            7.0   \n",
       "1            2019            114.0       biography,drama            7.2   \n",
       "2            2018            122.0                 drama            6.9   \n",
       "3            2018             91.0          comedy,drama            6.1   \n",
       "4            2017             80.0  comedy,drama,fantasy            6.5   \n",
       "...           ...              ...                   ...            ...   \n",
       "73851        2019             75.0           documentary            6.2   \n",
       "73852        2019             98.0          drama,family            8.7   \n",
       "73853        2017             91.0           documentary            8.5   \n",
       "73854        2019             91.0               unknown            6.6   \n",
       "73855        2019             72.0           documentary            6.5   \n",
       "\n",
       "       numvotes  \n",
       "0            77  \n",
       "1            43  \n",
       "2          4517  \n",
       "3            13  \n",
       "4           119  \n",
       "...         ...  \n",
       "73851         6  \n",
       "73852       136  \n",
       "73853         8  \n",
       "73854         5  \n",
       "73855        11  \n",
       "\n",
       "[73856 rows x 8 columns]>"
      ]
     },
     "execution_count": 182,
     "metadata": {},
     "output_type": "execute_result"
    }
   ],
   "source": [
    "# Summary Statistics\n",
    "film_df.describe\n"
   ]
  },
  {
   "cell_type": "markdown",
   "metadata": {},
   "source": [
    " \n",
    "- `.describe()` provides summary statistics for **numeric columns** in the `film_df` DataFrame, including:\n",
    "  - **count**: Number of non-null entries,\n",
    "  - **mean**: Average value,\n",
    "  - **std**: Standard deviation (how spread out the values are),\n",
    "  - **min**: Minimum value,\n",
    "  - **25%**, **50% (median)**, **75%**: Percentile values indicating distribution,\n",
    "  - **max**: Maximum value.\n",
    "- This gives a quick overview of the central tendency, spread, and variability of the dataset’s numerical features (like ratings or release year).\n"
   ]
  },
  {
   "cell_type": "markdown",
   "metadata": {},
   "source": [
    "## Listing the Column Names in `film_df`\n",
    "\n",
    "We will display the names of all the columns in the `film_df` DataFrame to understand its structure and the data it contains.\n"
   ]
  },
  {
   "cell_type": "code",
   "execution_count": null,
   "metadata": {},
   "outputs": [
    {
     "data": {
      "text/plain": [
       "['movie_id',\n",
       " 'primary_title',\n",
       " 'original_title',\n",
       " 'start_year',\n",
       " 'runtime_minutes',\n",
       " 'genres',\n",
       " 'averagerating',\n",
       " 'numvotes']"
      ]
     },
     "execution_count": 183,
     "metadata": {},
     "output_type": "execute_result"
    }
   ],
   "source": [
    "# The following are the column names in the `film_df` DataFrame:\n",
    "film_df.columns.tolist()"
   ]
  },
  {
   "cell_type": "markdown",
   "metadata": {},
   "source": [
    " \n",
    "- `.columns` retrieves the column names of the DataFrame.\n",
    "- `.tolist()` converts the column names into a **Python list** for easier reading and use.\n",
    "- This step is useful for:\n",
    "  - Quickly checking what data is available in the merged DataFrame,\n",
    "  - Ensuring all expected columns are present after merging the datasets.\n"
   ]
  },
  {
   "cell_type": "markdown",
   "metadata": {},
   "source": [
    "## Loading Data from `bom.movie_gross.csv.gz`\n",
    "\n",
    "We will load the movie box office earnings data from the `bom.movie_gross.csv.gz` file and display the first few rows to inspect its contents.\n"
   ]
  },
  {
   "cell_type": "code",
   "execution_count": null,
   "metadata": {},
   "outputs": [
    {
     "data": {
      "text/html": [
       "<div>\n",
       "<style scoped>\n",
       "    .dataframe tbody tr th:only-of-type {\n",
       "        vertical-align: middle;\n",
       "    }\n",
       "\n",
       "    .dataframe tbody tr th {\n",
       "        vertical-align: top;\n",
       "    }\n",
       "\n",
       "    .dataframe thead th {\n",
       "        text-align: right;\n",
       "    }\n",
       "</style>\n",
       "<table border=\"1\" class=\"dataframe\">\n",
       "  <thead>\n",
       "    <tr style=\"text-align: right;\">\n",
       "      <th></th>\n",
       "      <th>title</th>\n",
       "      <th>studio</th>\n",
       "      <th>domestic_gross</th>\n",
       "      <th>foreign_gross</th>\n",
       "      <th>year</th>\n",
       "    </tr>\n",
       "  </thead>\n",
       "  <tbody>\n",
       "    <tr>\n",
       "      <th>0</th>\n",
       "      <td>Toy Story 3</td>\n",
       "      <td>BV</td>\n",
       "      <td>415000000.0</td>\n",
       "      <td>652000000</td>\n",
       "      <td>2010</td>\n",
       "    </tr>\n",
       "    <tr>\n",
       "      <th>1</th>\n",
       "      <td>Alice in Wonderland (2010)</td>\n",
       "      <td>BV</td>\n",
       "      <td>334200000.0</td>\n",
       "      <td>691300000</td>\n",
       "      <td>2010</td>\n",
       "    </tr>\n",
       "    <tr>\n",
       "      <th>2</th>\n",
       "      <td>Harry Potter and the Deathly Hallows Part 1</td>\n",
       "      <td>WB</td>\n",
       "      <td>296000000.0</td>\n",
       "      <td>664300000</td>\n",
       "      <td>2010</td>\n",
       "    </tr>\n",
       "    <tr>\n",
       "      <th>3</th>\n",
       "      <td>Inception</td>\n",
       "      <td>WB</td>\n",
       "      <td>292600000.0</td>\n",
       "      <td>535700000</td>\n",
       "      <td>2010</td>\n",
       "    </tr>\n",
       "    <tr>\n",
       "      <th>4</th>\n",
       "      <td>Shrek Forever After</td>\n",
       "      <td>P/DW</td>\n",
       "      <td>238700000.0</td>\n",
       "      <td>513900000</td>\n",
       "      <td>2010</td>\n",
       "    </tr>\n",
       "  </tbody>\n",
       "</table>\n",
       "</div>"
      ],
      "text/plain": [
       "                                         title studio  domestic_gross  \\\n",
       "0                                  Toy Story 3     BV     415000000.0   \n",
       "1                   Alice in Wonderland (2010)     BV     334200000.0   \n",
       "2  Harry Potter and the Deathly Hallows Part 1     WB     296000000.0   \n",
       "3                                    Inception     WB     292600000.0   \n",
       "4                          Shrek Forever After   P/DW     238700000.0   \n",
       "\n",
       "  foreign_gross  year  \n",
       "0     652000000  2010  \n",
       "1     691300000  2010  \n",
       "2     664300000  2010  \n",
       "3     535700000  2010  \n",
       "4     513900000  2010  "
      ]
     },
     "execution_count": 158,
     "metadata": {},
     "output_type": "execute_result"
    }
   ],
   "source": [
    "# load data from bom.movie_gross.csv.gz\n",
    "# box_office_df : shows how movies were earning\n",
    "\n",
    "box_office_df= pd.read_csv('zippedData/bom.movie_gross.csv.gz')\n",
    "box_office_df.head()"
   ]
  },
  {
   "cell_type": "markdown",
   "metadata": {},
   "source": [
    "\n",
    "- `pd.read_csv()` is used to load the data from a CSV file into a pandas DataFrame.\n",
    "  - In this case, the file is compressed as `.gz`, but pandas can read it directly without any extra steps.\n",
    "- `.head()` displays the first 5 rows of the DataFrame to give a quick view of the data structure.\n",
    "- The dataset likely contains information on how movies performed at the box office, such as gross earnings, release date, etc.\n"
   ]
  },
  {
   "cell_type": "markdown",
   "metadata": {},
   "source": [
    "## Checking the Number of Rows and Columns in `box_office_df`\n",
    "\n",
    "We will check the dimensions of the `box_office_df` DataFrame to see how many records and fields it contains.\n"
   ]
  },
  {
   "cell_type": "code",
   "execution_count": null,
   "metadata": {},
   "outputs": [
    {
     "data": {
      "text/plain": [
       "(3356, 5)"
      ]
     },
     "execution_count": 184,
     "metadata": {},
     "output_type": "execute_result"
    }
   ],
   "source": [
    "# check box_office_df rows and columns\n",
    "box_office_df.shape"
   ]
  },
  {
   "cell_type": "markdown",
   "metadata": {},
   "source": [
    "\n",
    "- `.shape` returns a tuple:\n",
    "  - The **first value** represents the **number of rows** (how many box office records are available).\n",
    "  - The **second value** represents the **number of columns** (how many features or fields are provided for each record).\n",
    "- This helps quickly assess the size and structure of the dataset.\n"
   ]
  },
  {
   "cell_type": "markdown",
   "metadata": {},
   "source": [
    "## Summary Statistics of `box_office_df`\n",
    "\n",
    "We will generate descriptive statistics for the numeric columns in the `box_office_df` DataFrame to understand the distribution and range of the box office earnings data.\n"
   ]
  },
  {
   "cell_type": "code",
   "execution_count": null,
   "metadata": {},
   "outputs": [
    {
     "data": {
      "text/html": [
       "<div>\n",
       "<style scoped>\n",
       "    .dataframe tbody tr th:only-of-type {\n",
       "        vertical-align: middle;\n",
       "    }\n",
       "\n",
       "    .dataframe tbody tr th {\n",
       "        vertical-align: top;\n",
       "    }\n",
       "\n",
       "    .dataframe thead th {\n",
       "        text-align: right;\n",
       "    }\n",
       "</style>\n",
       "<table border=\"1\" class=\"dataframe\">\n",
       "  <thead>\n",
       "    <tr style=\"text-align: right;\">\n",
       "      <th></th>\n",
       "      <th>domestic_gross</th>\n",
       "      <th>foreign_gross</th>\n",
       "      <th>year</th>\n",
       "    </tr>\n",
       "  </thead>\n",
       "  <tbody>\n",
       "    <tr>\n",
       "      <th>count</th>\n",
       "      <td>3.356000e+03</td>\n",
       "      <td>3.356000e+03</td>\n",
       "      <td>3356.000000</td>\n",
       "    </tr>\n",
       "    <tr>\n",
       "      <th>mean</th>\n",
       "      <td>2.877149e+07</td>\n",
       "      <td>5.312333e+07</td>\n",
       "      <td>2013.970203</td>\n",
       "    </tr>\n",
       "    <tr>\n",
       "      <th>std</th>\n",
       "      <td>6.700694e+07</td>\n",
       "      <td>1.103674e+08</td>\n",
       "      <td>2.479064</td>\n",
       "    </tr>\n",
       "    <tr>\n",
       "      <th>min</th>\n",
       "      <td>1.000000e+02</td>\n",
       "      <td>6.000000e+02</td>\n",
       "      <td>2010.000000</td>\n",
       "    </tr>\n",
       "    <tr>\n",
       "      <th>25%</th>\n",
       "      <td>1.200000e+05</td>\n",
       "      <td>1.220000e+07</td>\n",
       "      <td>2012.000000</td>\n",
       "    </tr>\n",
       "    <tr>\n",
       "      <th>50%</th>\n",
       "      <td>1.400000e+06</td>\n",
       "      <td>1.940000e+07</td>\n",
       "      <td>2014.000000</td>\n",
       "    </tr>\n",
       "    <tr>\n",
       "      <th>75%</th>\n",
       "      <td>2.795000e+07</td>\n",
       "      <td>2.970000e+07</td>\n",
       "      <td>2016.000000</td>\n",
       "    </tr>\n",
       "    <tr>\n",
       "      <th>max</th>\n",
       "      <td>9.367000e+08</td>\n",
       "      <td>9.605000e+08</td>\n",
       "      <td>2018.000000</td>\n",
       "    </tr>\n",
       "  </tbody>\n",
       "</table>\n",
       "</div>"
      ],
      "text/plain": [
       "       domestic_gross  foreign_gross         year\n",
       "count    3.356000e+03   3.356000e+03  3356.000000\n",
       "mean     2.877149e+07   5.312333e+07  2013.970203\n",
       "std      6.700694e+07   1.103674e+08     2.479064\n",
       "min      1.000000e+02   6.000000e+02  2010.000000\n",
       "25%      1.200000e+05   1.220000e+07  2012.000000\n",
       "50%      1.400000e+06   1.940000e+07  2014.000000\n",
       "75%      2.795000e+07   2.970000e+07  2016.000000\n",
       "max      9.367000e+08   9.605000e+08  2018.000000"
      ]
     },
     "execution_count": 185,
     "metadata": {},
     "output_type": "execute_result"
    }
   ],
   "source": [
    "# Generate summary (descriptive) statistics for the numeric columns\n",
    "# .describe() summarizes key statistical measures for each numeric column\n",
    "box_office_df.describe()"
   ]
  },
  {
   "cell_type": "markdown",
   "metadata": {},
   "source": [
    "  \n",
    "- `.describe()` provides summary statistics for **numeric columns** in the `box_office_df` DataFrame, including:\n",
    "  - **count**: Number of non-null entries,\n",
    "  - **mean**: Average value,\n",
    "  - **std**: Standard deviation (measure of spread),\n",
    "  - **min**: Minimum value,\n",
    "  - **25%**, **50% (median)**, **75%**: Percentile values (showing distribution),\n",
    "  - **max**: Maximum value.\n",
    "- This step is essential for getting a quick understanding of the box office data’s central tendency, spread, and overall range.\n"
   ]
  },
  {
   "cell_type": "markdown",
   "metadata": {},
   "source": [
    "## Checking Dataset Info for `box_office_df`\n",
    "\n",
    "We will inspect the structure of the `box_office_df` DataFrame, including column types, non-null counts, and memory usage, to better understand the dataset.\n"
   ]
  },
  {
   "cell_type": "code",
   "execution_count": null,
   "metadata": {},
   "outputs": [
    {
     "name": "stdout",
     "output_type": "stream",
     "text": [
      "<class 'pandas.core.frame.DataFrame'>\n",
      "Index: 3356 entries, 0 to 3386\n",
      "Data columns (total 5 columns):\n",
      " #   Column          Non-Null Count  Dtype  \n",
      "---  ------          --------------  -----  \n",
      " 0   title           3356 non-null   object \n",
      " 1   studio          3356 non-null   object \n",
      " 2   domestic_gross  3356 non-null   float64\n",
      " 3   foreign_gross   3356 non-null   float64\n",
      " 4   year            3356 non-null   int64  \n",
      "dtypes: float64(2), int64(1), object(2)\n",
      "memory usage: 157.3+ KB\n"
     ]
    }
   ],
   "source": [
    "# Check dataset info\n",
    "box_office_df.info()  # Summary of dataset, including column types and non-null values"
   ]
  },
  {
   "cell_type": "markdown",
   "metadata": {},
   "source": [
    "\n",
    "- `.info()` provides an overview of the DataFrame, including:\n",
    "  - **Data types**: It shows the type of data in each column (e.g., `int64`, `float64`, `object` for text).\n",
    "  - **Non-null counts**: Helps detect missing values by showing how many non-null entries exist in each column.\n",
    "  - **Memory usage**: Indicates how much memory the entire DataFrame is using (important for large datasets).\n",
    "- This step is crucial for understanding the structure and cleanliness of the dataset.\n"
   ]
  },
  {
   "cell_type": "markdown",
   "metadata": {},
   "source": [
    "# Step 2: Data Cleaning "
   ]
  },
  {
   "cell_type": "markdown",
   "metadata": {},
   "source": [
    "## Checking for Missing Values in Multiple Datasets\n",
    "\n",
    "We will define a function to check for missing values in different DataFrames (`box_office_df`, `movie_basics_df`, `movie_rating_df`, and `film_df`) and display the columns with missing data.\n"
   ]
  },
  {
   "cell_type": "code",
   "execution_count": null,
   "metadata": {},
   "outputs": [
    {
     "name": "stdout",
     "output_type": "stream",
     "text": [
      "\n",
      "🔍 Missing values in Box Office Data:\n",
      "Series([], dtype: int64)\n",
      "\n",
      "🔍 Missing values in Movies basics Data:\n",
      "Series([], dtype: int64)\n",
      "\n",
      "🔍 Missing values in Movie Ratings Data:\n",
      "Series([], dtype: int64)\n",
      "\n",
      "🔍 Missing values in Merged Movie basics and Movie ratings Data:\n",
      "Series([], dtype: int64)\n"
     ]
    }
   ],
   "source": [
    "# Define a function to check for missing values in a DataFrame\n",
    "def check_missing_values(df, name):\n",
    "    print(f\"\\n🔍 Missing values in {name}:\")\n",
    "    # Use .isnull() to identify missing data and .sum() to count them\n",
    "    missing_values = df.isnull().sum()\n",
    "    # Print only columns with missing values (where the sum is greater than 0)\n",
    "    print(missing_values[missing_values > 0])  \n",
    "\n",
    "# Check for missing values in each DataFrame\n",
    "check_missing_values(box_office_df, \"Box Office Data\")\n",
    "check_missing_values(movie_basics_df, \"Movies basics Data\")\n",
    "check_missing_values(movie_rating_df, \"Movie Ratings Data\")\n",
    "check_missing_values(film_df, \"Merged Movie basics and Movie ratings Data\")\n"
   ]
  },
  {
   "cell_type": "markdown",
   "metadata": {},
   "source": [
    "\n",
    "- The function `check_missing_values(df, name)` checks for missing values in a given DataFrame:\n",
    "  - `.isnull()` creates a DataFrame of boolean values (`True` for missing, `False` for not missing).\n",
    "  - `.sum()` adds up the number of `True` values (i.e., missing entries) for each column.\n",
    "  - We then filter and display only those columns with **missing values** (`missing_values > 0`).\n",
    "- We run the function for each DataFrame to identify any missing data in the following:\n",
    "  - **Box Office Data (`box_office_df`)**\n",
    "  - **Movie Basics Data (`movie_basics_df`)**\n",
    "  - **Movie Ratings Data (`movie_rating_df`)**\n",
    "  - **Merged Movie Data (`film_df`)**\n"
   ]
  },
  {
   "cell_type": "markdown",
   "metadata": {},
   "source": [
    "## Handling Missing Values"
   ]
  },
  {
   "cell_type": "markdown",
   "metadata": {},
   "source": [
    "#### Dropping Rows with Missing Values in Specific Columns\n",
    "\n",
    "We want to drop rows from `box_office_df` where either the `studio` or `domestic_gross` columns have missing values. This is done using the `dropna()` function with the `subset` argument to target specific columns.\n"
   ]
  },
  {
   "cell_type": "code",
   "execution_count": null,
   "metadata": {},
   "outputs": [
    {
     "name": "stdout",
     "output_type": "stream",
     "text": [
      "Shape of box_office_df after dropping missing values in 'studio' or 'domestic_gross':\n",
      "(3356, 5)\n"
     ]
    }
   ],
   "source": [
    "# Drop rows where either 'studio' or 'domestic_gross' has missing values\n",
    "box_office_df.dropna(subset=[\"studio\", \"domestic_gross\"], inplace=True)\n",
    "\n",
    "# Check the shape of the DataFrame after dropping rows\n",
    "print(\"Shape of box_office_df after dropping missing values in 'studio' or 'domestic_gross':\")\n",
    "print(box_office_df.shape)\n"
   ]
  },
  {
   "cell_type": "markdown",
   "metadata": {},
   "source": [
    "Since 1350 missing values is a significant amount, we will fill them with the median "
   ]
  },
  {
   "cell_type": "markdown",
   "metadata": {},
   "source": [
    "## Cleaning and Handling `foreign_gross` Column\n",
    "\n",
    "We will:\n",
    "- Remove any commas in the `foreign_gross` column.\n",
    "- Convert the column values to `float`.\n",
    "- Fill missing values (`NaN`) with the median value of the `foreign_gross` column.\n"
   ]
  },
  {
   "cell_type": "code",
   "execution_count": null,
   "metadata": {},
   "outputs": [
    {
     "name": "stdout",
     "output_type": "stream",
     "text": [
      "   foreign_gross\n",
      "0    652000000.0\n",
      "1    691300000.0\n",
      "2    664300000.0\n",
      "3    535700000.0\n",
      "4    513900000.0\n"
     ]
    },
    {
     "name": "stderr",
     "output_type": "stream",
     "text": [
      "C:\\Users\\hp\\AppData\\Local\\Temp\\ipykernel_19648\\1960239373.py:5: FutureWarning: A value is trying to be set on a copy of a DataFrame or Series through chained assignment using an inplace method.\n",
      "The behavior will change in pandas 3.0. This inplace method will never work because the intermediate object on which we are setting values always behaves as a copy.\n",
      "\n",
      "For example, when doing 'df[col].method(value, inplace=True)', try using 'df.method({col: value}, inplace=True)' or df[col] = df[col].method(value) instead, to perform the operation inplace on the original object.\n",
      "\n",
      "\n",
      "  box_office_df[\"foreign_gross\"].fillna(box_office_df[\"foreign_gross\"].median(), inplace=True)\n"
     ]
    }
   ],
   "source": [
    "# Remove commas from 'foreign_gross' and convert it to a float\n",
    "box_office_df[\"foreign_gross\"] = box_office_df[\"foreign_gross\"].replace(\",\", \"\", regex=True).astype(float)\n",
    "\n",
    "# Fill missing values with the median of the 'foreign_gross' column\n",
    "box_office_df[\"foreign_gross\"].fillna(box_office_df[\"foreign_gross\"].median(), inplace=True)\n",
    "\n",
    "# Display the first few rows to check the results\n",
    "print(box_office_df[['foreign_gross']].head())\n"
   ]
  },
  {
   "cell_type": "markdown",
   "metadata": {},
   "source": [
    "\n",
    "- **`.replace(\",\", \"\", regex=True)`**: This removes any commas in the `foreign_gross` column to ensure that the values can be converted to numeric values.\n",
    "- **`.astype(float)`**: After removing commas, we convert the column values to the `float` type for numerical operations.\n",
    "- **`.fillna(box_office_df[\"foreign_gross\"].median(), inplace=True)`**: Any missing values in the `foreign_gross` column are filled with the **median** value of the column. The median is often a good choice for filling missing values because it is less sensitive to outliers than the mean.\n",
    "- We then print the first few rows of the `foreign_gross` column to check the changes.\n",
    "\n",
    " \n",
    "\n"
   ]
  },
  {
   "cell_type": "markdown",
   "metadata": {},
   "source": [
    "## Confirming No Missing Values\n",
    "\n",
    "We will:\n",
    "- Check the data type of `foreign_gross` to ensure it's of type `float`.\n",
    "- Use `.isnull().sum()` to verify that no missing values exist in the entire `box_office_df` DataFrame.\n"
   ]
  },
  {
   "cell_type": "code",
   "execution_count": null,
   "metadata": {},
   "outputs": [
    {
     "name": "stdout",
     "output_type": "stream",
     "text": [
      "Data type of 'foreign_gross': float64\n",
      "\n",
      "Missing values in the dataset:\n",
      "title             0\n",
      "studio            0\n",
      "domestic_gross    0\n",
      "foreign_gross     0\n",
      "year              0\n",
      "dtype: int64\n"
     ]
    }
   ],
   "source": [
    "# Check the data type of 'foreign_gross' to ensure it's float\n",
    "print(\"Data type of 'foreign_gross':\", box_office_df[\"foreign_gross\"].dtype)\n",
    "\n",
    "# Check for any missing values across the entire dataset\n",
    "print(\"\\nMissing values in the dataset:\")\n",
    "print(box_office_df.isnull().sum())\n"
   ]
  },
  {
   "cell_type": "markdown",
   "metadata": {},
   "source": [
    "* box_office_df[\"foreign_gross\"].dtype: This checks the data type of the foreign_gross column. After the conversion, it should return float.\n",
    "\n",
    "*  box_office_df.isnull().sum(): This provides a count of missing values across all columns in the box_office_df DataFrame. The result should show no missing values if all missing values were handled correctly."
   ]
  },
  {
   "cell_type": "markdown",
   "metadata": {},
   "source": [
    "## Film Data Cleaning\n",
    "\n",
    "We will:\n",
    "- Fill missing `runtime_minutes` with the median value of the column.\n",
    "- Fill missing `genres` with `\"Unknown\"`.\n",
    "- Optionally, fill missing `original_title` with the value from `primary_title`.\n",
    "- Finally, check for any remaining missing values in the dataset.\n"
   ]
  },
  {
   "cell_type": "code",
   "execution_count": null,
   "metadata": {},
   "outputs": [
    {
     "name": "stdout",
     "output_type": "stream",
     "text": [
      "Missing Values After Cleaning:\n",
      "movie_id           0\n",
      "primary_title      0\n",
      "original_title     0\n",
      "start_year         0\n",
      "runtime_minutes    0\n",
      "genres             0\n",
      "averagerating      0\n",
      "numvotes           0\n",
      "dtype: int64\n"
     ]
    },
    {
     "name": "stderr",
     "output_type": "stream",
     "text": [
      "C:\\Users\\hp\\AppData\\Local\\Temp\\ipykernel_19648\\2613208606.py:5: FutureWarning: A value is trying to be set on a copy of a DataFrame or Series through chained assignment using an inplace method.\n",
      "The behavior will change in pandas 3.0. This inplace method will never work because the intermediate object on which we are setting values always behaves as a copy.\n",
      "\n",
      "For example, when doing 'df[col].method(value, inplace=True)', try using 'df.method({col: value}, inplace=True)' or df[col] = df[col].method(value) instead, to perform the operation inplace on the original object.\n",
      "\n",
      "\n",
      "  film_df['runtime_minutes'].fillna(median_runtime, inplace=True)\n",
      "C:\\Users\\hp\\AppData\\Local\\Temp\\ipykernel_19648\\2613208606.py:8: FutureWarning: A value is trying to be set on a copy of a DataFrame or Series through chained assignment using an inplace method.\n",
      "The behavior will change in pandas 3.0. This inplace method will never work because the intermediate object on which we are setting values always behaves as a copy.\n",
      "\n",
      "For example, when doing 'df[col].method(value, inplace=True)', try using 'df.method({col: value}, inplace=True)' or df[col] = df[col].method(value) instead, to perform the operation inplace on the original object.\n",
      "\n",
      "\n",
      "  film_df['genres'].fillna('Unknown', inplace=True)\n",
      "C:\\Users\\hp\\AppData\\Local\\Temp\\ipykernel_19648\\2613208606.py:11: FutureWarning: A value is trying to be set on a copy of a DataFrame or Series through chained assignment using an inplace method.\n",
      "The behavior will change in pandas 3.0. This inplace method will never work because the intermediate object on which we are setting values always behaves as a copy.\n",
      "\n",
      "For example, when doing 'df[col].method(value, inplace=True)', try using 'df.method({col: value}, inplace=True)' or df[col] = df[col].method(value) instead, to perform the operation inplace on the original object.\n",
      "\n",
      "\n",
      "  film_df['original_title'].fillna(movie_basics_df['primary_title'], inplace=True)\n"
     ]
    }
   ],
   "source": [
    "# film Data Cleaning \n",
    "\n",
    "# Fill missing 'runtime_minutes' with the median value\n",
    "median_runtime = film_df['runtime_minutes'].median()\n",
    "film_df['runtime_minutes'].fillna(median_runtime, inplace=True)\n",
    "\n",
    "# Fill missing 'genres' with 'Unknown'\n",
    "film_df['genres'].fillna('Unknown', inplace=True)\n",
    "\n",
    "# Optional: If you want to fill missing 'original_title' with the 'primary_title' instead\n",
    "film_df['original_title'].fillna(movie_basics_df['primary_title'], inplace=True)\n",
    "\n",
    "# --- Checking after cleaning ---\n",
    "print(\"Missing Values After Cleaning:\")\n",
    "print(film_df.isnull().sum())\n"
   ]
  },
  {
   "cell_type": "markdown",
   "metadata": {},
   "source": [
    "## Movie Basics Data Cleaning\n",
    "\n",
    "We will:\n",
    "- Fill missing `runtime_minutes` with the median value of the column in `movie_basics_df`.\n",
    "- Fill missing `genres` with `\"Unknown\"`.\n",
    "- Optionally, fill missing `original_title` with the value from `primary_title`.\n",
    "- Finally, check for any remaining missing values in the `movie_basics_df` dataset.\n"
   ]
  },
  {
   "cell_type": "code",
   "execution_count": null,
   "metadata": {},
   "outputs": [
    {
     "name": "stderr",
     "output_type": "stream",
     "text": [
      "C:\\Users\\hp\\AppData\\Local\\Temp\\ipykernel_19648\\3745992684.py:2: FutureWarning: A value is trying to be set on a copy of a DataFrame or Series through chained assignment using an inplace method.\n",
      "The behavior will change in pandas 3.0. This inplace method will never work because the intermediate object on which we are setting values always behaves as a copy.\n",
      "\n",
      "For example, when doing 'df[col].method(value, inplace=True)', try using 'df.method({col: value}, inplace=True)' or df[col] = df[col].method(value) instead, to perform the operation inplace on the original object.\n",
      "\n",
      "\n",
      "  movie_basics_df['runtime_minutes'].fillna(median_runtime, inplace=True)\n",
      "C:\\Users\\hp\\AppData\\Local\\Temp\\ipykernel_19648\\3745992684.py:5: FutureWarning: A value is trying to be set on a copy of a DataFrame or Series through chained assignment using an inplace method.\n",
      "The behavior will change in pandas 3.0. This inplace method will never work because the intermediate object on which we are setting values always behaves as a copy.\n",
      "\n",
      "For example, when doing 'df[col].method(value, inplace=True)', try using 'df.method({col: value}, inplace=True)' or df[col] = df[col].method(value) instead, to perform the operation inplace on the original object.\n",
      "\n",
      "\n",
      "  movie_basics_df['genres'].fillna('Unknown', inplace=True)\n",
      "C:\\Users\\hp\\AppData\\Local\\Temp\\ipykernel_19648\\3745992684.py:8: FutureWarning: A value is trying to be set on a copy of a DataFrame or Series through chained assignment using an inplace method.\n",
      "The behavior will change in pandas 3.0. This inplace method will never work because the intermediate object on which we are setting values always behaves as a copy.\n",
      "\n",
      "For example, when doing 'df[col].method(value, inplace=True)', try using 'df.method({col: value}, inplace=True)' or df[col] = df[col].method(value) instead, to perform the operation inplace on the original object.\n",
      "\n",
      "\n",
      "  movie_basics_df['original_title'].fillna(movie_basics_df['primary_title'], inplace=True)\n"
     ]
    },
    {
     "name": "stdout",
     "output_type": "stream",
     "text": [
      "Missing Values After Cleaning:\n",
      "movie_id           0\n",
      "primary_title      0\n",
      "original_title     0\n",
      "start_year         0\n",
      "runtime_minutes    0\n",
      "genres             0\n",
      "averagerating      0\n",
      "numvotes           0\n",
      "dtype: int64\n"
     ]
    }
   ],
   "source": [
    "median_runtime = film_df['runtime_minutes'].median()\n",
    "movie_basics_df['runtime_minutes'].fillna(median_runtime, inplace=True)\n",
    "\n",
    "# Fill missing 'genres' with 'Unknown'\n",
    "movie_basics_df['genres'].fillna('Unknown', inplace=True)\n",
    "\n",
    "# Optional: If you want to fill missing 'original_title' with the 'primary_title' instead\n",
    "movie_basics_df['original_title'].fillna(movie_basics_df['primary_title'], inplace=True)\n",
    "\n",
    "# --- Checking after cleaning ---\n",
    "print(\"Missing Values After Cleaning:\")\n",
    "print(film_df.isnull().sum())"
   ]
  },
  {
   "cell_type": "markdown",
   "metadata": {},
   "source": [
    "\n",
    "* Fill missing runtime_minutes:\n",
    "\n",
    "The median value is computed and then used to fill missing values in the runtime_minutes column.\n",
    "\n",
    "* Fill missing genres:\n",
    "\n",
    "Any missing value in the genres column is filled with \"Unknown\".\n",
    "\n",
    "* Optional filling of original_title:\n",
    "\n",
    "If there are missing values in original_title, they are filled with the corresponding value from primary_title.\n",
    "\n",
    "* Check for remaining missing values:\n",
    "\n",
    "The check is performed on movie_basics_df after cleaning."
   ]
  },
  {
   "cell_type": "markdown",
   "metadata": {},
   "source": [
    "## Dropping Rows with Missing 'runtime_minutes' or 'genres'\n",
    "\n",
    "We will drop any rows that still have missing values in the `runtime_minutes` or `genres` columns. Afterward, we will perform a final check to ensure that no missing values remain.\n"
   ]
  },
  {
   "cell_type": "code",
   "execution_count": null,
   "metadata": {},
   "outputs": [
    {
     "name": "stdout",
     "output_type": "stream",
     "text": [
      "Missing Values After Final Cleaning:\n",
      "movie_id           0\n",
      "primary_title      0\n",
      "original_title     0\n",
      "start_year         0\n",
      "runtime_minutes    0\n",
      "genres             0\n",
      "averagerating      0\n",
      "numvotes           0\n",
      "dtype: int64\n"
     ]
    }
   ],
   "source": [
    "# Drop any rows still missing 'runtime_minutes' or 'genres'\n",
    "film_df.dropna(subset=['runtime_minutes', 'genres'], inplace=True)\n",
    "\n",
    "# Final check\n",
    "print(\"Missing Values After Final Cleaning:\")\n",
    "print(film_df.isnull().sum())\n"
   ]
  },
  {
   "cell_type": "markdown",
   "metadata": {},
   "source": [
    "* .dropna(subset=['runtime_minutes', 'genres']): This ensures that rows with missing values in the specified columns (runtime_minutes and genres) are dropped from the DataFrame. We set inplace=True to modify the DataFrame directly without needing to create a new one.\n",
    "\n",
    "* .isnull().sum(): After dropping rows, this command checks the entire film_df for any remaining missing values and displays the count of NaN values in each column.\n",
    "\n"
   ]
  },
  {
   "cell_type": "markdown",
   "metadata": {},
   "source": [
    "## Standardizing Column Names\n",
    "\n",
    "We will:\n",
    "- Strip leading and trailing spaces from column names.\n",
    "- Convert column names to lowercase.\n",
    "- Replace spaces in column names with underscores to improve consistency.\n"
   ]
  },
  {
   "cell_type": "code",
   "execution_count": null,
   "metadata": {},
   "outputs": [
    {
     "name": "stdout",
     "output_type": "stream",
     "text": [
      "Standardized Column Names in film_df: ['movie_id', 'primary_title', 'original_title', 'start_year', 'runtime_minutes', 'genres', 'averagerating', 'numvotes']\n",
      "Standardized Column Names in box_office_df: ['title', 'studio', 'domestic_gross', 'foreign_gross', 'year']\n"
     ]
    }
   ],
   "source": [
    "# Standardize column names in film_df\n",
    "film_df.columns = film_df.columns.str.strip().str.lower().str.replace(' ', '_')\n",
    "\n",
    "# Standardize column names in box_office_df\n",
    "box_office_df.columns = box_office_df.columns.str.strip().str.lower().str.replace(' ', '_')\n",
    "\n",
    "# Display column names to confirm changes\n",
    "print(\"Standardized Column Names in film_df:\", film_df.columns.tolist())\n",
    "print(\"Standardized Column Names in box_office_df:\", box_office_df.columns.tolist())\n"
   ]
  },
  {
   "cell_type": "markdown",
   "metadata": {},
   "source": [
    "\n",
    "* .str.strip(): Removes leading and trailing spaces from each column name.\n",
    "\n",
    "* .str.lower(): Converts each column name to lowercase for uniformity.\n",
    "\n",
    "* .str.replace(' ', '_'): Replaces spaces in column names with underscores (_)."
   ]
  },
  {
   "cell_type": "markdown",
   "metadata": {},
   "source": [
    "## Correcting Inconsistent Categorical Values\n",
    "\n",
    "We will:\n",
    "- Convert all text (string) values in categorical columns to lowercase.\n",
    "- Strip any leading or trailing spaces from the string values for consistency.\n"
   ]
  },
  {
   "cell_type": "code",
   "execution_count": null,
   "metadata": {},
   "outputs": [
    {
     "name": "stdout",
     "output_type": "stream",
     "text": [
      "First few rows of film_df after cleaning:\n",
      "    movie_id                    primary_title              original_title  \\\n",
      "0  tt0063540                        sunghursh                   sunghursh   \n",
      "1  tt0066787  one day before the rainy season             ashad ka ek din   \n",
      "2  tt0069049       the other side of the wind  the other side of the wind   \n",
      "3  tt0069204                  sabse bada sukh             sabse bada sukh   \n",
      "4  tt0100275         the wandering soap opera       la telenovela errante   \n",
      "\n",
      "   start_year  runtime_minutes                genres  averagerating  numvotes  \n",
      "0        2013            175.0    action,crime,drama            7.0        77  \n",
      "1        2019            114.0       biography,drama            7.2        43  \n",
      "2        2018            122.0                 drama            6.9      4517  \n",
      "3        2018             91.0          comedy,drama            6.1        13  \n",
      "4        2017             80.0  comedy,drama,fantasy            6.5       119  \n",
      "First few rows of box_office_df after cleaning:\n",
      "                                               title studio  domestic_gross  \\\n",
      "0                                 toy story 3 (2010)     bv     415000000.0   \n",
      "1                  alice in wonderland (2010) (2010)     bv     334200000.0   \n",
      "2  harry potter and the deathly hallows part 1 (2...     wb     296000000.0   \n",
      "3                                   inception (2010)     wb     292600000.0   \n",
      "4                         shrek forever after (2010)   p/dw     238700000.0   \n",
      "\n",
      "   foreign_gross  year  \n",
      "0    652000000.0  2010  \n",
      "1    691300000.0  2010  \n",
      "2    664300000.0  2010  \n",
      "3    535700000.0  2010  \n",
      "4    513900000.0  2010  \n"
     ]
    }
   ],
   "source": [
    "# Correct inconsistent categorical values in film_df\n",
    "for col in film_df.select_dtypes(include=['object']).columns:\n",
    "    film_df[col] = film_df[col].str.lower().str.strip()\n",
    "\n",
    "# Correct inconsistent categorical values in box_office_df\n",
    "for col in box_office_df.select_dtypes(include=['object']).columns:\n",
    "    box_office_df[col] = box_office_df[col].str.lower().str.strip()\n",
    "\n",
    "# Displaying the first few rows to check the changes\n",
    "print(\"First few rows of film_df after cleaning:\")\n",
    "print(film_df.head())\n",
    "\n",
    "print(\"First few rows of box_office_df after cleaning:\")\n",
    "print(box_office_df.head())\n"
   ]
  },
  {
   "cell_type": "markdown",
   "metadata": {},
   "source": [
    "* .select_dtypes(include=['object']): This selects all columns that contain object (string) data.\n",
    "\n",
    "* .str.lower(): Converts all string values to lowercase to ensure uniformity.\n",
    "\n",
    "* .str.strip(): Removes any leading or trailing spaces from string values.\n",
    "\n",
    "This ensures that the categorical columns in both film_df and box_office_df are standardized and ready for analysis."
   ]
  },
  {
   "cell_type": "markdown",
   "metadata": {},
   "source": [
    "## Handling Duplicates in the Data"
   ]
  },
  {
   "cell_type": "markdown",
   "metadata": {},
   "source": [
    "### Checking for Duplicates\n",
    "\n",
    "We will:\n",
    "- Check each dataset for duplicate rows and print out the number of duplicates for each.\n"
   ]
  },
  {
   "cell_type": "code",
   "execution_count": null,
   "metadata": {},
   "outputs": [
    {
     "name": "stdout",
     "output_type": "stream",
     "text": [
      "🔍 Duplicates in Box Office Data: 0\n",
      "🔍 Duplicates in TMDb Movies Data: 0\n",
      "🔍 Duplicates in Movie Budgets Data: 0\n",
      "🔍 Duplicates in Movie Budgets Data: 0\n"
     ]
    }
   ],
   "source": [
    "# Check for duplicates\n",
    "\n",
    "print(f\"🔍 Duplicates in Box Office Data: {box_office_df.duplicated().sum()}\")\n",
    "print(f\"🔍 Duplicates in TMDb Movies Data: {movie_basics_df.duplicated().sum()}\")\n",
    "print(f\"🔍 Duplicates in Movie Budgets Data: {movie_rating_df.duplicated().sum()}\")\n",
    "print(f\"🔍 Duplicates in Movie Budgets Data: {film_df.duplicated().sum()}\")"
   ]
  },
  {
   "cell_type": "markdown",
   "metadata": {},
   "source": [
    "* .duplicated(): Identifies duplicate rows in the DataFrame. By default, it considers all columns to determine if a row is duplicated.\n",
    "\n",
    "* .sum(): Counts the number of True values returned by .duplicated(), which corresponds to the number of duplicate rows.\n",
    "\n",
    "Note:\n",
    "Your comment mentions \"Movie Budgets Data\" for movie_rating_df, but the variable name is movie_rating_df. It seems like you might have meant movie_rating_df instead, so I’ve kept it consistent in the updated code."
   ]
  },
  {
   "cell_type": "markdown",
   "metadata": {},
   "source": [
    "## Checking for Inconsistent Casing\n",
    "\n",
    "We will:\n",
    "- Strip extra spaces and convert the `studio` and `title` columns to lowercase to ensure consistency.\n"
   ]
  },
  {
   "cell_type": "code",
   "execution_count": null,
   "metadata": {},
   "outputs": [
    {
     "name": "stdout",
     "output_type": "stream",
     "text": [
      "First few rows of box_office_df after fixing casing:\n",
      "  studio                                              title\n",
      "0     bv                                 toy story 3 (2010)\n",
      "1     bv                  alice in wonderland (2010) (2010)\n",
      "2     wb  harry potter and the deathly hallows part 1 (2...\n",
      "3     wb                                   inception (2010)\n",
      "4   p/dw                         shrek forever after (2010)\n"
     ]
    }
   ],
   "source": [
    "# Correct inconsistent casing and strip spaces in 'studio' and 'title' columns\n",
    "box_office_df[\"studio\"] = box_office_df[\"studio\"].str.strip().str.lower()\n",
    "box_office_df[\"title\"] = box_office_df[\"title\"].str.strip().str.lower()\n",
    "\n",
    "# Displaying the first few rows to confirm the changes\n",
    "print(\"First few rows of box_office_df after fixing casing:\")\n",
    "print(box_office_df[['studio', 'title']].head())\n"
   ]
  },
  {
   "cell_type": "markdown",
   "metadata": {},
   "source": [
    "* .str.strip(): Removes any leading or trailing spaces from the studio and title columns to avoid inconsistencies caused by extra spaces.\n",
    "\n",
    "* .str.lower(): Converts the entire text in the studio and title columns to lowercase, ensuring that casing does not cause issues when comparing or analyzing data.\n",
    "\n",
    "This will help make sure that the values in studio and title are consistently formatted. Let me know if you'd like to apply this to other columns as well or need further modifications!"
   ]
  },
  {
   "cell_type": "markdown",
   "metadata": {},
   "source": [
    "## Counting Occurrences of Each Title\n",
    "We will:\n",
    "\n",
    "Count the occurrences of each unique title in the title column and display the top 10 most frequent titles."
   ]
  },
  {
   "cell_type": "code",
   "execution_count": null,
   "metadata": {},
   "outputs": [
    {
     "data": {
      "text/plain": [
       "title\n",
       "an actor prepares (2018)                              1\n",
       "toy story 3 (2010)                                    1\n",
       "alice in wonderland (2010) (2010)                     1\n",
       "harry potter and the deathly hallows part 1 (2010)    1\n",
       "inception (2010)                                      1\n",
       "shrek forever after (2010)                            1\n",
       "the twilight saga: eclipse (2010)                     1\n",
       "iron man 2 (2010)                                     1\n",
       "tangled (2010)                                        1\n",
       "despicable me (2010)                                  1\n",
       "Name: count, dtype: int64"
      ]
     },
     "execution_count": 199,
     "metadata": {},
     "output_type": "execute_result"
    }
   ],
   "source": [
    "# Counting occurrences of each title\n",
    "box_office_df[\"title\"].value_counts().head(10)"
   ]
  },
  {
   "cell_type": "markdown",
   "metadata": {},
   "source": [
    "* .value_counts(): This function counts the occurrences of each unique value in the title column of box_office_df.\n",
    "\n",
    "* .head(10): Displays the top 10 titles with the highest frequency."
   ]
  },
  {
   "cell_type": "markdown",
   "metadata": {},
   "source": [
    "## Searching for the Movie \"Bluebeard\" in Box Office Data\n",
    "\n",
    "We will:\n",
    "- Search for the movie \"Bluebeard\" in the `title` column of the `box_office_df` DataFrame and display the results.\n"
   ]
  },
  {
   "cell_type": "code",
   "execution_count": null,
   "metadata": {},
   "outputs": [
    {
     "data": {
      "text/html": [
       "<div>\n",
       "<style scoped>\n",
       "    .dataframe tbody tr th:only-of-type {\n",
       "        vertical-align: middle;\n",
       "    }\n",
       "\n",
       "    .dataframe tbody tr th {\n",
       "        vertical-align: top;\n",
       "    }\n",
       "\n",
       "    .dataframe thead th {\n",
       "        text-align: right;\n",
       "    }\n",
       "</style>\n",
       "<table border=\"1\" class=\"dataframe\">\n",
       "  <thead>\n",
       "    <tr style=\"text-align: right;\">\n",
       "      <th></th>\n",
       "      <th>title</th>\n",
       "      <th>studio</th>\n",
       "      <th>domestic_gross</th>\n",
       "      <th>foreign_gross</th>\n",
       "      <th>year</th>\n",
       "    </tr>\n",
       "  </thead>\n",
       "  <tbody>\n",
       "    <tr>\n",
       "      <th>317</th>\n",
       "      <td>bluebeard</td>\n",
       "      <td>strand</td>\n",
       "      <td>33500.0</td>\n",
       "      <td>5200.0</td>\n",
       "      <td>2010</td>\n",
       "    </tr>\n",
       "    <tr>\n",
       "      <th>3045</th>\n",
       "      <td>bluebeard</td>\n",
       "      <td>wgusa</td>\n",
       "      <td>43100.0</td>\n",
       "      <td>19400000.0</td>\n",
       "      <td>2017</td>\n",
       "    </tr>\n",
       "  </tbody>\n",
       "</table>\n",
       "</div>"
      ],
      "text/plain": [
       "          title  studio  domestic_gross  foreign_gross  year\n",
       "317   bluebeard  strand         33500.0         5200.0  2010\n",
       "3045  bluebeard   wgusa         43100.0     19400000.0  2017"
      ]
     },
     "execution_count": 175,
     "metadata": {},
     "output_type": "execute_result"
    }
   ],
   "source": [
    "# Searching for the Movie \"Bluebeard\" in `box_office_df`\n",
    "box_office_df[box_office_df[\"title\"] == \"bluebeard\"]"
   ]
  },
  {
   "cell_type": "markdown",
   "metadata": {},
   "source": [
    "* box_office_df[box_office_df[\"title\"] == \"bluebeard\"]: Filters the rows in the box_office_df DataFrame where the title column is exactly equal to \"bluebeard\". Since you standardized the column to lowercase, this will match any title with the name \"Bluebeard\" (case-insensitive)."
   ]
  },
  {
   "cell_type": "code",
   "execution_count": null,
   "metadata": {},
   "outputs": [
    {
     "data": {
      "text/plain": [
       "Series([], Name: count, dtype: int64)"
      ]
     },
     "execution_count": 200,
     "metadata": {},
     "output_type": "execute_result"
    }
   ],
   "source": [
    "# Differentiating the titles Bluebeard by adding the release year\n",
    "box_office_df[\"title\"] = box_office_df[\"title\"] + \" (\" + box_office_df[\"year\"].astype(str) + \")\"\n",
    "box_office_df[\"title\"].value_counts()[box_office_df[\"title\"].value_counts() > 1]"
   ]
  },
  {
   "cell_type": "markdown",
   "metadata": {},
   "source": [
    "## Displaying Categorical Features Summary\n",
    "\n",
    "We will:\n",
    "- Use `describe(include=['O'])` to get a summary of categorical features (object columns) for `box_office_df`, `movie_basics_df`, and `movie_rating_df`.\n"
   ]
  },
  {
   "cell_type": "code",
   "execution_count": null,
   "metadata": {},
   "outputs": [
    {
     "data": {
      "text/html": [
       "<div>\n",
       "<style scoped>\n",
       "    .dataframe tbody tr th:only-of-type {\n",
       "        vertical-align: middle;\n",
       "    }\n",
       "\n",
       "    .dataframe tbody tr th {\n",
       "        vertical-align: top;\n",
       "    }\n",
       "\n",
       "    .dataframe thead th {\n",
       "        text-align: right;\n",
       "    }\n",
       "</style>\n",
       "<table border=\"1\" class=\"dataframe\">\n",
       "  <thead>\n",
       "    <tr style=\"text-align: right;\">\n",
       "      <th></th>\n",
       "      <th>movie_id</th>\n",
       "    </tr>\n",
       "  </thead>\n",
       "  <tbody>\n",
       "    <tr>\n",
       "      <th>count</th>\n",
       "      <td>73856</td>\n",
       "    </tr>\n",
       "    <tr>\n",
       "      <th>unique</th>\n",
       "      <td>73856</td>\n",
       "    </tr>\n",
       "    <tr>\n",
       "      <th>top</th>\n",
       "      <td>tt9174828</td>\n",
       "    </tr>\n",
       "    <tr>\n",
       "      <th>freq</th>\n",
       "      <td>1</td>\n",
       "    </tr>\n",
       "  </tbody>\n",
       "</table>\n",
       "</div>"
      ],
      "text/plain": [
       "         movie_id\n",
       "count       73856\n",
       "unique      73856\n",
       "top     tt9174828\n",
       "freq            1"
      ]
     },
     "execution_count": 177,
     "metadata": {},
     "output_type": "execute_result"
    }
   ],
   "source": [
    "#  Display categorical features summary\n",
    "box_office_df.describe(include=['O'])\n",
    "movie_basics_df.describe(include=['O'])\n",
    "movie_rating_df.describe(include=['O'])"
   ]
  },
  {
   "cell_type": "markdown",
   "metadata": {},
   "source": [
    "* describe(include=['O']): This method will provide summary statistics for all columns that are of object (categorical) type in the DataFrame. It includes the count, unique values, top (most frequent value), and frequency of the top value."
   ]
  },
  {
   "cell_type": "markdown",
   "metadata": {},
   "source": [
    "## Performing Data Integrity Checks\n",
    "\n",
    "We will:\n",
    "- Check for missing values in `box_office_df` and `film_df` using `.isnull().sum()`.\n",
    "- Check for duplicate rows using `.duplicated().sum()`.\n",
    "- Check the data types of each column in both DataFrames using `.dtypes`.\n"
   ]
  },
  {
   "cell_type": "code",
   "execution_count": null,
   "metadata": {},
   "outputs": [
    {
     "name": "stdout",
     "output_type": "stream",
     "text": [
      "Missing Values in Box Office Data:\n",
      " title             0\n",
      "studio            0\n",
      "domestic_gross    0\n",
      "foreign_gross     0\n",
      "year              0\n",
      "dtype: int64\n",
      "\n",
      "Missing Values in Merged Movie Data (film_df):\n",
      " movie_id           0\n",
      "primary_title      0\n",
      "original_title     0\n",
      "start_year         0\n",
      "runtime_minutes    0\n",
      "genres             0\n",
      "averagerating      0\n",
      "numvotes           0\n",
      "dtype: int64\n",
      "\n",
      "Duplicate Rows in Box Office Data: 0\n",
      "\n",
      "Duplicate Rows in Merged Movie Data (film_df): 0\n",
      "\n",
      "Data Types in Box Office Data:\n",
      " title              object\n",
      "studio             object\n",
      "domestic_gross    float64\n",
      "foreign_gross     float64\n",
      "year                int64\n",
      "dtype: object\n",
      "\n",
      "Data Types in Merged Movie Data (film_df):\n",
      " movie_id            object\n",
      "primary_title       object\n",
      "original_title      object\n",
      "start_year           int64\n",
      "runtime_minutes    float64\n",
      "genres              object\n",
      "averagerating      float64\n",
      "numvotes             int64\n",
      "dtype: object\n"
     ]
    }
   ],
   "source": [
    "# Check missing values in box_office_df and film_df\n",
    "print(\"Missing Values in Box Office Data:\\n\", box_office_df.isnull().sum())\n",
    "print(\"\\nMissing Values in Merged Movie Data (film_df):\\n\", film_df.isnull().sum())\n",
    "\n",
    "# Check duplicate rows in box_office_df and film_df\n",
    "print(\"\\nDuplicate Rows in Box Office Data:\", box_office_df.duplicated().sum())\n",
    "print(\"\\nDuplicate Rows in Merged Movie Data (film_df):\", film_df.duplicated().sum())\n",
    "\n",
    "# Check data types in box_office_df and film_df\n",
    "print(\"\\nData Types in Box Office Data:\\n\", box_office_df.dtypes)\n",
    "print(\"\\nData Types in Merged Movie Data (film_df):\\n\", film_df.dtypes)\n"
   ]
  },
  {
   "cell_type": "markdown",
   "metadata": {},
   "source": [
    "* Missing Values:\n",
    "\n",
    ".isnull().sum() returns the count of missing (NaN) values for each column.\n",
    "\n",
    "* Duplicate Rows:\n",
    "\n",
    ".duplicated().sum() returns the number of duplicate rows in the DataFrame.\n",
    "\n",
    "* Data Types:\n",
    "\n",
    ".dtypes returns the data types of each column, which is helpful to ensure the correctness of column data types (e.g., object, int64, float64, etc.)."
   ]
  },
  {
   "cell_type": "markdown",
   "metadata": {},
   "source": [
    "## Saving Cleaned Datasets\n",
    "\n",
    "We will:\n",
    "- Save the cleaned `film_df` dataset to a CSV file.\n",
    "- Save the cleaned `box_office_df` dataset to a separate CSV file.\n"
   ]
  },
  {
   "cell_type": "code",
   "execution_count": null,
   "metadata": {},
   "outputs": [],
   "source": [
    "film_df.to_csv(\"cleaned_dataset.csv\", index=False)  # Save cleaned dataset for Tableau \n",
    "box_office_df.to_csv(\"cleaned_dataset.csv\", index=False)\n"
   ]
  },
  {
   "cell_type": "markdown",
   "metadata": {},
   "source": [
    "* index=False: Prevents the DataFrame index from being saved as an additional column in the CSV file.\n",
    "\n",
    "* Unique filenames: By giving each dataset a unique filename (cleaned_film_dataset.csv and cleaned_box_office_dataset.csv), you ensure that both datasets are saved without overwriting each other."
   ]
  },
  {
   "cell_type": "markdown",
   "metadata": {},
   "source": [
    "## Generate Download Link for Cleaned Dataset\n",
    "\n",
    "We will:\n",
    "- Generate a download link for the cleaned dataset (`cleaned_film_dataset.csv` or `cleaned_box_office_dataset.csv`).\n"
   ]
  },
  {
   "cell_type": "code",
   "execution_count": null,
   "metadata": {},
   "outputs": [
    {
     "data": {
      "text/html": [
       "<a href='cleaned_dataset.csv' target='_blank'>cleaned_dataset.csv</a><br>"
      ],
      "text/plain": [
       "c:\\Users\\hp\\OneDrive\\Desktop\\DSF-FT12\\DS-Phase2\\Phase-2 Project\\Group4-Phase2-Project\\cleaned_dataset.csv"
      ]
     },
     "execution_count": 202,
     "metadata": {},
     "output_type": "execute_result"
    }
   ],
   "source": [
    " # Generates a download link \n",
    "from IPython.display import FileLink  \n",
    "FileLink(\"cleaned_dataset.csv\") "
   ]
  },
  {
   "cell_type": "code",
   "execution_count": null,
   "metadata": {},
   "outputs": [],
   "source": [
    "# Statistical Distribution\n",
    "# A statistical distribution shows how the values of a variable are spread or arranged.\n",
    "# In your case, you're analyzing things like:\n",
    "\n",
    "# Movie revenues (Box Office gross)\n",
    "\n",
    "# Ratings (Rotten Tomatoes, IMDb)\n",
    "\n",
    "# Number of reviews\n",
    "\n",
    "# Movie release years\n",
    "\n"
   ]
  }
 ],
 "metadata": {
  "kernelspec": {
   "display_name": "learn-env",
   "language": "python",
   "name": "python3"
  },
  "language_info": {
   "codemirror_mode": {
    "name": "ipython",
    "version": 3
   },
   "file_extension": ".py",
   "mimetype": "text/x-python",
   "name": "python",
   "nbconvert_exporter": "python",
   "pygments_lexer": "ipython3",
   "version": "3.9.21"
  }
 },
 "nbformat": 4,
 "nbformat_minor": 4
}
