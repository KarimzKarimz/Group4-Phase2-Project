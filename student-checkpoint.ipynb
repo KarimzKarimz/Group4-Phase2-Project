{
 "cells": [
  {
   "cell_type": "markdown",
   "metadata": {},
   "source": [
    "#   MOVIE INDUSTRY  ANALYSIS\n",
    "\n",
    "\n",
    "## Business Problem\n",
    "Your company now sees all the big companies creating original video content and they want to get in on the fun. They have decided to create a new movie studio, but they don’t know anything about creating movies. You are charged with exploring what types of films are currently doing the best at the box office. You must then translate those findings into actionable insights that the head of your company's new movie studio can use to help decide what type of films to create.\n",
    "\n",
    "\n",
    "\n",
    "# Objective\n",
    "\n",
    "This project aims to analyze  data to identify trends, clean inconsistencies, and visualize insights. The workflow follows five structured steps:\n"
   ]
  },
  {
   "cell_type": "markdown",
   "metadata": {},
   "source": [
    "### Workflow & Steps\n",
    "\n",
    "#### Step 1: Importing ,Connecting and Loading Datasets and Analysing the datasets\n",
    "\n",
    "1.1 Import necessary  libraries\n",
    "\n",
    "1.2 Connecting and loading the \n",
    "\n",
    "1.3 Check dataset shape (rows & columns) \n",
    "\n",
    "1.4 View dataset information (column types, missing values)\n",
    "\n",
    "1.5 Summary statistics of numerical columns  \n",
    "\n",
    "1.6 Check for duplicate rows  \n",
    "\n",
    "1.7 Check for unique values in key categorical columns\n",
    "\n",
    "\n",
    "#### Step 2: Data Cleaning\n",
    "\n",
    "2.1 Remove duplicates \n",
    "\n",
    "2.2 Handle missing values appropriately  \n",
    "\n",
    "2.3 Convert data types if necessary  \n",
    "\n",
    "2.4 Standardize column names for consistency \n",
    "\n",
    "2.5 Correct inconsistent categorical values  \n",
    "\n",
    "2.6 Save the cleaned dataset  "
   ]
  },
  {
   "cell_type": "markdown",
   "metadata": {},
   "source": [
    "#### Step 1: Importing and Loading Data"
   ]
  },
  {
   "cell_type": "markdown",
   "metadata": {},
   "source": [
    "#### 1.1 : Importing neccessary libraries"
   ]
  },
  {
   "cell_type": "code",
   "execution_count": 166,
   "metadata": {},
   "outputs": [],
   "source": [
    "# We are Importing neccessary libraries\n",
    "\n",
    "import zipfile\n",
    "from scipy import stats\n",
    "import sqlite3\n",
    "import pandas as pd\n",
    "import numpy as np\n",
    "import matplotlib.pyplot as plt\n",
    "import seaborn as sns"
   ]
  },
  {
   "cell_type": "markdown",
   "metadata": {},
   "source": [
    "* In this project, we import libraries that provide tools for data manipulation and database interaction. \n",
    " These libraries enable efficient loading, cleaning, merging, and analysis of structured data from various sources, \n",
    " including flat files and relational databases. By using these tools, we can prepare and organize the data for deeper analysis and insight."
   ]
  },
  {
   "cell_type": "markdown",
   "metadata": {},
   "source": [
    "1.2:Connecting and  Loading  the dataset"
   ]
  },
  {
   "cell_type": "code",
   "execution_count": 167,
   "metadata": {},
   "outputs": [],
   "source": [
    "# Establishing a connection to the SQLite database containing structured data \n",
    "conn = sqlite3.connect(\"zippedData/im.db1/im.db\")"
   ]
  },
  {
   "cell_type": "markdown",
   "metadata": {},
   "source": [
    "* Establishing a connection to the SQLite database containing structured data *by creating a connection object, we enable the ability to execute SQL queries  and extract tables or records from the database. This connection is essential for retrieving data stored in relational format and loading it into a DataFrame and also for further analysis.\n"
   ]
  },
  {
   "cell_type": "code",
   "execution_count": 168,
   "metadata": {},
   "outputs": [
    {
     "data": {
      "text/html": [
       "<div>\n",
       "<style scoped>\n",
       "    .dataframe tbody tr th:only-of-type {\n",
       "        vertical-align: middle;\n",
       "    }\n",
       "\n",
       "    .dataframe tbody tr th {\n",
       "        vertical-align: top;\n",
       "    }\n",
       "\n",
       "    .dataframe thead th {\n",
       "        text-align: right;\n",
       "    }\n",
       "</style>\n",
       "<table border=\"1\" class=\"dataframe\">\n",
       "  <thead>\n",
       "    <tr style=\"text-align: right;\">\n",
       "      <th></th>\n",
       "      <th>movie_id</th>\n",
       "      <th>primary_title</th>\n",
       "      <th>original_title</th>\n",
       "      <th>start_year</th>\n",
       "      <th>runtime_minutes</th>\n",
       "      <th>genres</th>\n",
       "    </tr>\n",
       "  </thead>\n",
       "  <tbody>\n",
       "    <tr>\n",
       "      <th>0</th>\n",
       "      <td>tt0063540</td>\n",
       "      <td>Sunghursh</td>\n",
       "      <td>Sunghursh</td>\n",
       "      <td>2013</td>\n",
       "      <td>175.0</td>\n",
       "      <td>Action,Crime,Drama</td>\n",
       "    </tr>\n",
       "    <tr>\n",
       "      <th>1</th>\n",
       "      <td>tt0066787</td>\n",
       "      <td>One Day Before the Rainy Season</td>\n",
       "      <td>Ashad Ka Ek Din</td>\n",
       "      <td>2019</td>\n",
       "      <td>114.0</td>\n",
       "      <td>Biography,Drama</td>\n",
       "    </tr>\n",
       "    <tr>\n",
       "      <th>2</th>\n",
       "      <td>tt0069049</td>\n",
       "      <td>The Other Side of the Wind</td>\n",
       "      <td>The Other Side of the Wind</td>\n",
       "      <td>2018</td>\n",
       "      <td>122.0</td>\n",
       "      <td>Drama</td>\n",
       "    </tr>\n",
       "    <tr>\n",
       "      <th>3</th>\n",
       "      <td>tt0069204</td>\n",
       "      <td>Sabse Bada Sukh</td>\n",
       "      <td>Sabse Bada Sukh</td>\n",
       "      <td>2018</td>\n",
       "      <td>NaN</td>\n",
       "      <td>Comedy,Drama</td>\n",
       "    </tr>\n",
       "    <tr>\n",
       "      <th>4</th>\n",
       "      <td>tt0100275</td>\n",
       "      <td>The Wandering Soap Opera</td>\n",
       "      <td>La Telenovela Errante</td>\n",
       "      <td>2017</td>\n",
       "      <td>80.0</td>\n",
       "      <td>Comedy,Drama,Fantasy</td>\n",
       "    </tr>\n",
       "  </tbody>\n",
       "</table>\n",
       "</div>"
      ],
      "text/plain": [
       "    movie_id                    primary_title              original_title  \\\n",
       "0  tt0063540                        Sunghursh                   Sunghursh   \n",
       "1  tt0066787  One Day Before the Rainy Season             Ashad Ka Ek Din   \n",
       "2  tt0069049       The Other Side of the Wind  The Other Side of the Wind   \n",
       "3  tt0069204                  Sabse Bada Sukh             Sabse Bada Sukh   \n",
       "4  tt0100275         The Wandering Soap Opera       La Telenovela Errante   \n",
       "\n",
       "   start_year  runtime_minutes                genres  \n",
       "0        2013            175.0    Action,Crime,Drama  \n",
       "1        2019            114.0       Biography,Drama  \n",
       "2        2018            122.0                 Drama  \n",
       "3        2018              NaN          Comedy,Drama  \n",
       "4        2017             80.0  Comedy,Drama,Fantasy  "
      ]
     },
     "execution_count": 168,
     "metadata": {},
     "output_type": "execute_result"
    }
   ],
   "source": [
    "# Query im.db to get data from movie_basics.\n",
    "\n",
    "query = \"\"\"\n",
    "SELECT * \n",
    " FROM movie_basics;\n",
    "\"\"\"\n",
    "\n",
    "# output query using pandas\n",
    "\n",
    "movie_basics_df = pd.read_sql(query, conn)\n",
    "movie_basics_df.head()"
   ]
  },
  {
   "cell_type": "markdown",
   "metadata": {},
   "source": [
    "* This will display the first 5 rows of the movie_basics_df DataFrame."
   ]
  },
  {
   "cell_type": "code",
   "execution_count": 169,
   "metadata": {},
   "outputs": [
    {
     "data": {
      "text/plain": [
       "(146144, 6)"
      ]
     },
     "execution_count": 169,
     "metadata": {},
     "output_type": "execute_result"
    }
   ],
   "source": [
    "# checking  rows and columumn in movie_basics\n",
    "movie_basics_df.shape"
   ]
  },
  {
   "cell_type": "markdown",
   "metadata": {},
   "source": [
    "* indicates that the movie_basics has 146,144 rows and 6 columns."
   ]
  },
  {
   "cell_type": "code",
   "execution_count": 170,
   "metadata": {},
   "outputs": [
    {
     "data": {
      "text/plain": [
       "<bound method NDFrame.describe of          movie_id                                primary_title  \\\n",
       "0       tt0063540                                    Sunghursh   \n",
       "1       tt0066787              One Day Before the Rainy Season   \n",
       "2       tt0069049                   The Other Side of the Wind   \n",
       "3       tt0069204                              Sabse Bada Sukh   \n",
       "4       tt0100275                     The Wandering Soap Opera   \n",
       "...           ...                                          ...   \n",
       "146139  tt9916538                          Kuambil Lagi Hatiku   \n",
       "146140  tt9916622  Rodolpho Teóphilo - O Legado de um Pioneiro   \n",
       "146141  tt9916706                              Dankyavar Danka   \n",
       "146142  tt9916730                                       6 Gunn   \n",
       "146143  tt9916754               Chico Albuquerque - Revelações   \n",
       "\n",
       "                                     original_title  start_year  \\\n",
       "0                                         Sunghursh        2013   \n",
       "1                                   Ashad Ka Ek Din        2019   \n",
       "2                        The Other Side of the Wind        2018   \n",
       "3                                   Sabse Bada Sukh        2018   \n",
       "4                             La Telenovela Errante        2017   \n",
       "...                                             ...         ...   \n",
       "146139                          Kuambil Lagi Hatiku        2019   \n",
       "146140  Rodolpho Teóphilo - O Legado de um Pioneiro        2015   \n",
       "146141                              Dankyavar Danka        2013   \n",
       "146142                                       6 Gunn        2017   \n",
       "146143               Chico Albuquerque - Revelações        2013   \n",
       "\n",
       "        runtime_minutes                genres  \n",
       "0                 175.0    Action,Crime,Drama  \n",
       "1                 114.0       Biography,Drama  \n",
       "2                 122.0                 Drama  \n",
       "3                   NaN          Comedy,Drama  \n",
       "4                  80.0  Comedy,Drama,Fantasy  \n",
       "...                 ...                   ...  \n",
       "146139            123.0                 Drama  \n",
       "146140              NaN           Documentary  \n",
       "146141              NaN                Comedy  \n",
       "146142            116.0                  None  \n",
       "146143              NaN           Documentary  \n",
       "\n",
       "[146144 rows x 6 columns]>"
      ]
     },
     "execution_count": 170,
     "metadata": {},
     "output_type": "execute_result"
    }
   ],
   "source": [
    "# Summary Statistics of `movie_basics_df`\n",
    "movie_basics_df.describe"
   ]
  },
  {
   "cell_type": "markdown",
   "metadata": {},
   "source": [
    " * To generate summary statistics for the numerical columns of your movie_basics_df DataFrame."
   ]
  },
  {
   "cell_type": "code",
   "execution_count": 171,
   "metadata": {},
   "outputs": [
    {
     "data": {
      "text/html": [
       "<div>\n",
       "<style scoped>\n",
       "    .dataframe tbody tr th:only-of-type {\n",
       "        vertical-align: middle;\n",
       "    }\n",
       "\n",
       "    .dataframe tbody tr th {\n",
       "        vertical-align: top;\n",
       "    }\n",
       "\n",
       "    .dataframe thead th {\n",
       "        text-align: right;\n",
       "    }\n",
       "</style>\n",
       "<table border=\"1\" class=\"dataframe\">\n",
       "  <thead>\n",
       "    <tr style=\"text-align: right;\">\n",
       "      <th></th>\n",
       "      <th>movie_id</th>\n",
       "      <th>averagerating</th>\n",
       "      <th>numvotes</th>\n",
       "    </tr>\n",
       "  </thead>\n",
       "  <tbody>\n",
       "    <tr>\n",
       "      <th>0</th>\n",
       "      <td>tt10356526</td>\n",
       "      <td>8.3</td>\n",
       "      <td>31</td>\n",
       "    </tr>\n",
       "    <tr>\n",
       "      <th>1</th>\n",
       "      <td>tt10384606</td>\n",
       "      <td>8.9</td>\n",
       "      <td>559</td>\n",
       "    </tr>\n",
       "    <tr>\n",
       "      <th>2</th>\n",
       "      <td>tt1042974</td>\n",
       "      <td>6.4</td>\n",
       "      <td>20</td>\n",
       "    </tr>\n",
       "    <tr>\n",
       "      <th>3</th>\n",
       "      <td>tt1043726</td>\n",
       "      <td>4.2</td>\n",
       "      <td>50352</td>\n",
       "    </tr>\n",
       "    <tr>\n",
       "      <th>4</th>\n",
       "      <td>tt1060240</td>\n",
       "      <td>6.5</td>\n",
       "      <td>21</td>\n",
       "    </tr>\n",
       "  </tbody>\n",
       "</table>\n",
       "</div>"
      ],
      "text/plain": [
       "     movie_id  averagerating  numvotes\n",
       "0  tt10356526            8.3        31\n",
       "1  tt10384606            8.9       559\n",
       "2   tt1042974            6.4        20\n",
       "3   tt1043726            4.2     50352\n",
       "4   tt1060240            6.5        21"
      ]
     },
     "execution_count": 171,
     "metadata": {},
     "output_type": "execute_result"
    }
   ],
   "source": [
    "# query movie_ratings table\n",
    "\n",
    "query = \"\"\"\n",
    "SELECT *\n",
    " FROM movie_ratings;\n",
    "\"\"\"\n",
    "\n",
    "movie_rating_df = pd.read_sql(query, conn)\n",
    "movie_rating_df.head()"
   ]
  },
  {
   "cell_type": "markdown",
   "metadata": {},
   "source": [
    "* This will display the first 5 rows of the movie_ratings DataFrame."
   ]
  },
  {
   "cell_type": "code",
   "execution_count": 172,
   "metadata": {},
   "outputs": [
    {
     "data": {
      "text/plain": [
       "(73856, 3)"
      ]
     },
     "execution_count": 172,
     "metadata": {},
     "output_type": "execute_result"
    }
   ],
   "source": [
    "# checking  rows and columumn in movie_rating.\n",
    "movie_rating_df.shape"
   ]
  },
  {
   "cell_type": "markdown",
   "metadata": {},
   "source": [
    "* indicates that the movie_basics has 73,856 rows and 3 columns."
   ]
  },
  {
   "cell_type": "code",
   "execution_count": 173,
   "metadata": {},
   "outputs": [
    {
     "data": {
      "text/plain": [
       "<bound method NDFrame.describe of          movie_id  averagerating  numvotes\n",
       "0      tt10356526            8.3        31\n",
       "1      tt10384606            8.9       559\n",
       "2       tt1042974            6.4        20\n",
       "3       tt1043726            4.2     50352\n",
       "4       tt1060240            6.5        21\n",
       "...           ...            ...       ...\n",
       "73851   tt9805820            8.1        25\n",
       "73852   tt9844256            7.5        24\n",
       "73853   tt9851050            4.7        14\n",
       "73854   tt9886934            7.0         5\n",
       "73855   tt9894098            6.3       128\n",
       "\n",
       "[73856 rows x 3 columns]>"
      ]
     },
     "execution_count": 173,
     "metadata": {},
     "output_type": "execute_result"
    }
   ],
   "source": [
    "# Summary Statistics of `movie_rating_df`\n",
    "movie_rating_df.describe"
   ]
  },
  {
   "cell_type": "markdown",
   "metadata": {},
   "source": [
    " * To generate summary statistics for the numerical columns of your movie_rating_df DataFrame."
   ]
  },
  {
   "cell_type": "code",
   "execution_count": 174,
   "metadata": {},
   "outputs": [
    {
     "data": {
      "text/html": [
       "<div>\n",
       "<style scoped>\n",
       "    .dataframe tbody tr th:only-of-type {\n",
       "        vertical-align: middle;\n",
       "    }\n",
       "\n",
       "    .dataframe tbody tr th {\n",
       "        vertical-align: top;\n",
       "    }\n",
       "\n",
       "    .dataframe thead th {\n",
       "        text-align: right;\n",
       "    }\n",
       "</style>\n",
       "<table border=\"1\" class=\"dataframe\">\n",
       "  <thead>\n",
       "    <tr style=\"text-align: right;\">\n",
       "      <th></th>\n",
       "      <th>movie_id</th>\n",
       "      <th>primary_title</th>\n",
       "      <th>original_title</th>\n",
       "      <th>start_year</th>\n",
       "      <th>runtime_minutes</th>\n",
       "      <th>genres</th>\n",
       "      <th>averagerating</th>\n",
       "      <th>numvotes</th>\n",
       "    </tr>\n",
       "  </thead>\n",
       "  <tbody>\n",
       "    <tr>\n",
       "      <th>0</th>\n",
       "      <td>tt0063540</td>\n",
       "      <td>Sunghursh</td>\n",
       "      <td>Sunghursh</td>\n",
       "      <td>2013</td>\n",
       "      <td>175.0</td>\n",
       "      <td>Action,Crime,Drama</td>\n",
       "      <td>7.0</td>\n",
       "      <td>77</td>\n",
       "    </tr>\n",
       "    <tr>\n",
       "      <th>1</th>\n",
       "      <td>tt0066787</td>\n",
       "      <td>One Day Before the Rainy Season</td>\n",
       "      <td>Ashad Ka Ek Din</td>\n",
       "      <td>2019</td>\n",
       "      <td>114.0</td>\n",
       "      <td>Biography,Drama</td>\n",
       "      <td>7.2</td>\n",
       "      <td>43</td>\n",
       "    </tr>\n",
       "    <tr>\n",
       "      <th>2</th>\n",
       "      <td>tt0069049</td>\n",
       "      <td>The Other Side of the Wind</td>\n",
       "      <td>The Other Side of the Wind</td>\n",
       "      <td>2018</td>\n",
       "      <td>122.0</td>\n",
       "      <td>Drama</td>\n",
       "      <td>6.9</td>\n",
       "      <td>4517</td>\n",
       "    </tr>\n",
       "    <tr>\n",
       "      <th>3</th>\n",
       "      <td>tt0069204</td>\n",
       "      <td>Sabse Bada Sukh</td>\n",
       "      <td>Sabse Bada Sukh</td>\n",
       "      <td>2018</td>\n",
       "      <td>NaN</td>\n",
       "      <td>Comedy,Drama</td>\n",
       "      <td>6.1</td>\n",
       "      <td>13</td>\n",
       "    </tr>\n",
       "    <tr>\n",
       "      <th>4</th>\n",
       "      <td>tt0100275</td>\n",
       "      <td>The Wandering Soap Opera</td>\n",
       "      <td>La Telenovela Errante</td>\n",
       "      <td>2017</td>\n",
       "      <td>80.0</td>\n",
       "      <td>Comedy,Drama,Fantasy</td>\n",
       "      <td>6.5</td>\n",
       "      <td>119</td>\n",
       "    </tr>\n",
       "  </tbody>\n",
       "</table>\n",
       "</div>"
      ],
      "text/plain": [
       "    movie_id                    primary_title              original_title  \\\n",
       "0  tt0063540                        Sunghursh                   Sunghursh   \n",
       "1  tt0066787  One Day Before the Rainy Season             Ashad Ka Ek Din   \n",
       "2  tt0069049       The Other Side of the Wind  The Other Side of the Wind   \n",
       "3  tt0069204                  Sabse Bada Sukh             Sabse Bada Sukh   \n",
       "4  tt0100275         The Wandering Soap Opera       La Telenovela Errante   \n",
       "\n",
       "   start_year  runtime_minutes                genres  averagerating  numvotes  \n",
       "0        2013            175.0    Action,Crime,Drama            7.0        77  \n",
       "1        2019            114.0       Biography,Drama            7.2        43  \n",
       "2        2018            122.0                 Drama            6.9      4517  \n",
       "3        2018              NaN          Comedy,Drama            6.1        13  \n",
       "4        2017             80.0  Comedy,Drama,Fantasy            6.5       119  "
      ]
     },
     "execution_count": 174,
     "metadata": {},
     "output_type": "execute_result"
    }
   ],
   "source": [
    "# merge movie_basics_df & movie_rating_df\n",
    "\n",
    "film_df = pd.merge(movie_basics_df, movie_rating_df, on='movie_id', how='inner')\n",
    "film_df.head()"
   ]
  },
  {
   "cell_type": "markdown",
   "metadata": {},
   "source": [
    "* movie_basics and movie_ratings tables are most relevant so we merged to get film dataframe."
   ]
  },
  {
   "cell_type": "code",
   "execution_count": 175,
   "metadata": {},
   "outputs": [
    {
     "data": {
      "text/plain": [
       "(73856, 8)"
      ]
     },
     "execution_count": 175,
     "metadata": {},
     "output_type": "execute_result"
    }
   ],
   "source": [
    "# checking for  rows and column after merging\n",
    "film_df.shape"
   ]
  },
  {
   "cell_type": "markdown",
   "metadata": {},
   "source": [
    "*  indicates that the movie_basics has 73,856 rows and 8 columns."
   ]
  },
  {
   "cell_type": "code",
   "execution_count": 176,
   "metadata": {},
   "outputs": [
    {
     "name": "stdout",
     "output_type": "stream",
     "text": [
      "<class 'pandas.core.frame.DataFrame'>\n",
      "RangeIndex: 73856 entries, 0 to 73855\n",
      "Data columns (total 8 columns):\n",
      " #   Column           Non-Null Count  Dtype  \n",
      "---  ------           --------------  -----  \n",
      " 0   movie_id         73856 non-null  object \n",
      " 1   primary_title    73856 non-null  object \n",
      " 2   original_title   73856 non-null  object \n",
      " 3   start_year       73856 non-null  int64  \n",
      " 4   runtime_minutes  66236 non-null  float64\n",
      " 5   genres           73052 non-null  object \n",
      " 6   averagerating    73856 non-null  float64\n",
      " 7   numvotes         73856 non-null  int64  \n",
      "dtypes: float64(2), int64(2), object(4)\n",
      "memory usage: 4.5+ MB\n"
     ]
    }
   ],
   "source": [
    "# Data type \n",
    "film_df.info()"
   ]
  },
  {
   "cell_type": "markdown",
   "metadata": {},
   "source": [
    "* To get an overview of the DataFrame, including the number of non-null entries, data types"
   ]
  },
  {
   "cell_type": "code",
   "execution_count": 177,
   "metadata": {},
   "outputs": [
    {
     "data": {
      "text/plain": [
       "<bound method NDFrame.describe of         movie_id                    primary_title              original_title  \\\n",
       "0      tt0063540                        Sunghursh                   Sunghursh   \n",
       "1      tt0066787  One Day Before the Rainy Season             Ashad Ka Ek Din   \n",
       "2      tt0069049       The Other Side of the Wind  The Other Side of the Wind   \n",
       "3      tt0069204                  Sabse Bada Sukh             Sabse Bada Sukh   \n",
       "4      tt0100275         The Wandering Soap Opera       La Telenovela Errante   \n",
       "...          ...                              ...                         ...   \n",
       "73851  tt9913084                 Diabolik sono io            Diabolik sono io   \n",
       "73852  tt9914286                Sokagin Çocuklari           Sokagin Çocuklari   \n",
       "73853  tt9914642                        Albatross                   Albatross   \n",
       "73854  tt9914942       La vida sense la Sara Amat  La vida sense la Sara Amat   \n",
       "73855  tt9916160                       Drømmeland                  Drømmeland   \n",
       "\n",
       "       start_year  runtime_minutes                genres  averagerating  \\\n",
       "0            2013            175.0    Action,Crime,Drama            7.0   \n",
       "1            2019            114.0       Biography,Drama            7.2   \n",
       "2            2018            122.0                 Drama            6.9   \n",
       "3            2018              NaN          Comedy,Drama            6.1   \n",
       "4            2017             80.0  Comedy,Drama,Fantasy            6.5   \n",
       "...           ...              ...                   ...            ...   \n",
       "73851        2019             75.0           Documentary            6.2   \n",
       "73852        2019             98.0          Drama,Family            8.7   \n",
       "73853        2017              NaN           Documentary            8.5   \n",
       "73854        2019              NaN                  None            6.6   \n",
       "73855        2019             72.0           Documentary            6.5   \n",
       "\n",
       "       numvotes  \n",
       "0            77  \n",
       "1            43  \n",
       "2          4517  \n",
       "3            13  \n",
       "4           119  \n",
       "...         ...  \n",
       "73851         6  \n",
       "73852       136  \n",
       "73853         8  \n",
       "73854         5  \n",
       "73855        11  \n",
       "\n",
       "[73856 rows x 8 columns]>"
      ]
     },
     "execution_count": 177,
     "metadata": {},
     "output_type": "execute_result"
    }
   ],
   "source": [
    "# Summary Statistics\n",
    "film_df.describe\n"
   ]
  },
  {
   "cell_type": "code",
   "execution_count": 178,
   "metadata": {},
   "outputs": [
    {
     "data": {
      "text/plain": [
       "['movie_id',\n",
       " 'primary_title',\n",
       " 'original_title',\n",
       " 'start_year',\n",
       " 'runtime_minutes',\n",
       " 'genres',\n",
       " 'averagerating',\n",
       " 'numvotes']"
      ]
     },
     "execution_count": 178,
     "metadata": {},
     "output_type": "execute_result"
    }
   ],
   "source": [
    "# The following are the column names in the `film_df` DataFrame:\n",
    "film_df.columns.tolist()"
   ]
  },
  {
   "cell_type": "code",
   "execution_count": 179,
   "metadata": {},
   "outputs": [
    {
     "data": {
      "text/html": [
       "<div>\n",
       "<style scoped>\n",
       "    .dataframe tbody tr th:only-of-type {\n",
       "        vertical-align: middle;\n",
       "    }\n",
       "\n",
       "    .dataframe tbody tr th {\n",
       "        vertical-align: top;\n",
       "    }\n",
       "\n",
       "    .dataframe thead th {\n",
       "        text-align: right;\n",
       "    }\n",
       "</style>\n",
       "<table border=\"1\" class=\"dataframe\">\n",
       "  <thead>\n",
       "    <tr style=\"text-align: right;\">\n",
       "      <th></th>\n",
       "      <th>title</th>\n",
       "      <th>studio</th>\n",
       "      <th>domestic_gross</th>\n",
       "      <th>foreign_gross</th>\n",
       "      <th>year</th>\n",
       "    </tr>\n",
       "  </thead>\n",
       "  <tbody>\n",
       "    <tr>\n",
       "      <th>0</th>\n",
       "      <td>Toy Story 3</td>\n",
       "      <td>BV</td>\n",
       "      <td>415000000.0</td>\n",
       "      <td>652000000</td>\n",
       "      <td>2010</td>\n",
       "    </tr>\n",
       "    <tr>\n",
       "      <th>1</th>\n",
       "      <td>Alice in Wonderland (2010)</td>\n",
       "      <td>BV</td>\n",
       "      <td>334200000.0</td>\n",
       "      <td>691300000</td>\n",
       "      <td>2010</td>\n",
       "    </tr>\n",
       "    <tr>\n",
       "      <th>2</th>\n",
       "      <td>Harry Potter and the Deathly Hallows Part 1</td>\n",
       "      <td>WB</td>\n",
       "      <td>296000000.0</td>\n",
       "      <td>664300000</td>\n",
       "      <td>2010</td>\n",
       "    </tr>\n",
       "    <tr>\n",
       "      <th>3</th>\n",
       "      <td>Inception</td>\n",
       "      <td>WB</td>\n",
       "      <td>292600000.0</td>\n",
       "      <td>535700000</td>\n",
       "      <td>2010</td>\n",
       "    </tr>\n",
       "    <tr>\n",
       "      <th>4</th>\n",
       "      <td>Shrek Forever After</td>\n",
       "      <td>P/DW</td>\n",
       "      <td>238700000.0</td>\n",
       "      <td>513900000</td>\n",
       "      <td>2010</td>\n",
       "    </tr>\n",
       "  </tbody>\n",
       "</table>\n",
       "</div>"
      ],
      "text/plain": [
       "                                         title studio  domestic_gross  \\\n",
       "0                                  Toy Story 3     BV     415000000.0   \n",
       "1                   Alice in Wonderland (2010)     BV     334200000.0   \n",
       "2  Harry Potter and the Deathly Hallows Part 1     WB     296000000.0   \n",
       "3                                    Inception     WB     292600000.0   \n",
       "4                          Shrek Forever After   P/DW     238700000.0   \n",
       "\n",
       "  foreign_gross  year  \n",
       "0     652000000  2010  \n",
       "1     691300000  2010  \n",
       "2     664300000  2010  \n",
       "3     535700000  2010  \n",
       "4     513900000  2010  "
      ]
     },
     "execution_count": 179,
     "metadata": {},
     "output_type": "execute_result"
    }
   ],
   "source": [
    "# load data from bom.movie_gross.csv.gz\n",
    "# box_office_df : shows how movies were earning\n",
    "\n",
    "box_office_df= pd.read_csv('zippedData/bom.movie_gross.csv.gz')\n",
    "box_office_df.head()"
   ]
  },
  {
   "cell_type": "code",
   "execution_count": 180,
   "metadata": {},
   "outputs": [
    {
     "data": {
      "text/plain": [
       "(3387, 5)"
      ]
     },
     "execution_count": 180,
     "metadata": {},
     "output_type": "execute_result"
    }
   ],
   "source": [
    "# check box_office_df rows and columns\n",
    "box_office_df.shape"
   ]
  },
  {
   "cell_type": "code",
   "execution_count": 181,
   "metadata": {},
   "outputs": [
    {
     "data": {
      "text/html": [
       "<div>\n",
       "<style scoped>\n",
       "    .dataframe tbody tr th:only-of-type {\n",
       "        vertical-align: middle;\n",
       "    }\n",
       "\n",
       "    .dataframe tbody tr th {\n",
       "        vertical-align: top;\n",
       "    }\n",
       "\n",
       "    .dataframe thead th {\n",
       "        text-align: right;\n",
       "    }\n",
       "</style>\n",
       "<table border=\"1\" class=\"dataframe\">\n",
       "  <thead>\n",
       "    <tr style=\"text-align: right;\">\n",
       "      <th></th>\n",
       "      <th>domestic_gross</th>\n",
       "      <th>year</th>\n",
       "    </tr>\n",
       "  </thead>\n",
       "  <tbody>\n",
       "    <tr>\n",
       "      <th>count</th>\n",
       "      <td>3.359000e+03</td>\n",
       "      <td>3387.000000</td>\n",
       "    </tr>\n",
       "    <tr>\n",
       "      <th>mean</th>\n",
       "      <td>2.874585e+07</td>\n",
       "      <td>2013.958075</td>\n",
       "    </tr>\n",
       "    <tr>\n",
       "      <th>std</th>\n",
       "      <td>6.698250e+07</td>\n",
       "      <td>2.478141</td>\n",
       "    </tr>\n",
       "    <tr>\n",
       "      <th>min</th>\n",
       "      <td>1.000000e+02</td>\n",
       "      <td>2010.000000</td>\n",
       "    </tr>\n",
       "    <tr>\n",
       "      <th>25%</th>\n",
       "      <td>1.200000e+05</td>\n",
       "      <td>2012.000000</td>\n",
       "    </tr>\n",
       "    <tr>\n",
       "      <th>50%</th>\n",
       "      <td>1.400000e+06</td>\n",
       "      <td>2014.000000</td>\n",
       "    </tr>\n",
       "    <tr>\n",
       "      <th>75%</th>\n",
       "      <td>2.790000e+07</td>\n",
       "      <td>2016.000000</td>\n",
       "    </tr>\n",
       "    <tr>\n",
       "      <th>max</th>\n",
       "      <td>9.367000e+08</td>\n",
       "      <td>2018.000000</td>\n",
       "    </tr>\n",
       "  </tbody>\n",
       "</table>\n",
       "</div>"
      ],
      "text/plain": [
       "       domestic_gross         year\n",
       "count    3.359000e+03  3387.000000\n",
       "mean     2.874585e+07  2013.958075\n",
       "std      6.698250e+07     2.478141\n",
       "min      1.000000e+02  2010.000000\n",
       "25%      1.200000e+05  2012.000000\n",
       "50%      1.400000e+06  2014.000000\n",
       "75%      2.790000e+07  2016.000000\n",
       "max      9.367000e+08  2018.000000"
      ]
     },
     "execution_count": 181,
     "metadata": {},
     "output_type": "execute_result"
    }
   ],
   "source": [
    "box_office_df.describe()"
   ]
  },
  {
   "cell_type": "code",
   "execution_count": 182,
   "metadata": {},
   "outputs": [
    {
     "name": "stdout",
     "output_type": "stream",
     "text": [
      "<class 'pandas.core.frame.DataFrame'>\n",
      "RangeIndex: 3387 entries, 0 to 3386\n",
      "Data columns (total 5 columns):\n",
      " #   Column          Non-Null Count  Dtype  \n",
      "---  ------          --------------  -----  \n",
      " 0   title           3387 non-null   object \n",
      " 1   studio          3382 non-null   object \n",
      " 2   domestic_gross  3359 non-null   float64\n",
      " 3   foreign_gross   2037 non-null   object \n",
      " 4   year            3387 non-null   int64  \n",
      "dtypes: float64(1), int64(1), object(3)\n",
      "memory usage: 132.4+ KB\n"
     ]
    }
   ],
   "source": [
    "# Check dataset info\n",
    "box_office_df.info()  # Summary of dataset, including column types and non-null values"
   ]
  },
  {
   "cell_type": "markdown",
   "metadata": {},
   "source": [
    " 1.4 Checking For Missing Values"
   ]
  },
  {
   "cell_type": "code",
   "execution_count": 183,
   "metadata": {},
   "outputs": [
    {
     "name": "stdout",
     "output_type": "stream",
     "text": [
      "\n",
      "🔍 Missing values in Box Office Data:\n",
      "studio               5\n",
      "domestic_gross      28\n",
      "foreign_gross     1350\n",
      "dtype: int64\n",
      "\n",
      "🔍 Missing values in Movies basics Data:\n",
      "original_title        21\n",
      "runtime_minutes    31739\n",
      "genres              5408\n",
      "dtype: int64\n",
      "\n",
      "🔍 Missing values in Movie Ratings Data:\n",
      "Series([], dtype: int64)\n",
      "\n",
      "🔍 Missing values in Merged Movie basics and Movie ratings Data:\n",
      "runtime_minutes    7620\n",
      "genres              804\n",
      "dtype: int64\n"
     ]
    }
   ],
   "source": [
    "# Checking missing values\n",
    "def check_missing_values(df, name):\n",
    "    print(f\"\\n🔍 Missing values in {name}:\")\n",
    "    missing_values = df.isnull().sum()\n",
    "    print(missing_values[missing_values > 0])  # Show only columns with missing values\n",
    "\n",
    "# Check for missing values\n",
    "check_missing_values(box_office_df, \"Box Office Data\")\n",
    "check_missing_values(movie_basics_df, \"Movies basics Data\")\n",
    "check_missing_values(movie_rating_df, \"Movie Ratings Data\")\n",
    "check_missing_values(film_df, \"Merged Movie basics and Movie ratings Data\")"
   ]
  },
  {
   "cell_type": "markdown",
   "metadata": {},
   "source": [
    "#### 1.5 Handling Missing Values"
   ]
  },
  {
   "cell_type": "markdown",
   "metadata": {},
   "source": [
    "Since there are only 5 missing studio values and 28 missing domestic_gross values, we drop the rows."
   ]
  },
  {
   "cell_type": "code",
   "execution_count": 184,
   "metadata": {},
   "outputs": [],
   "source": [
    "box_office_df.dropna(subset=[\"studio\", \"domestic_gross\"], inplace=True)"
   ]
  },
  {
   "cell_type": "markdown",
   "metadata": {},
   "source": [
    "Since 1350 missing values is a significant amount, we will fill them with the median "
   ]
  },
  {
   "cell_type": "code",
   "execution_count": 185,
   "metadata": {},
   "outputs": [
    {
     "name": "stderr",
     "output_type": "stream",
     "text": [
      "C:\\Users\\hp\\AppData\\Local\\Temp\\ipykernel_9972\\4119186565.py:2: FutureWarning: A value is trying to be set on a copy of a DataFrame or Series through chained assignment using an inplace method.\n",
      "The behavior will change in pandas 3.0. This inplace method will never work because the intermediate object on which we are setting values always behaves as a copy.\n",
      "\n",
      "For example, when doing 'df[col].method(value, inplace=True)', try using 'df.method({col: value}, inplace=True)' or df[col] = df[col].method(value) instead, to perform the operation inplace on the original object.\n",
      "\n",
      "\n",
      "  box_office_df[\"foreign_gross\"].fillna(box_office_df[\"foreign_gross\"].median(), inplace=True)\n"
     ]
    }
   ],
   "source": [
    "box_office_df[\"foreign_gross\"] = box_office_df[\"foreign_gross\"].replace(\",\", \"\", regex=True).astype(float)\n",
    "box_office_df[\"foreign_gross\"].fillna(box_office_df[\"foreign_gross\"].median(), inplace=True)"
   ]
  },
  {
   "cell_type": "code",
   "execution_count": 186,
   "metadata": {},
   "outputs": [
    {
     "data": {
      "text/plain": [
       "title             0\n",
       "studio            0\n",
       "domestic_gross    0\n",
       "foreign_gross     0\n",
       "year              0\n",
       "dtype: int64"
      ]
     },
     "execution_count": 186,
     "metadata": {},
     "output_type": "execute_result"
    }
   ],
   "source": [
    "# Checking handled missing values\n",
    "\n",
    "# To confirm no missing values\n",
    "box_office_df[\"foreign_gross\"].dtype \n",
    "box_office_df.isnull().sum() "
   ]
  },
  {
   "cell_type": "code",
   "execution_count": 187,
   "metadata": {},
   "outputs": [
    {
     "name": "stdout",
     "output_type": "stream",
     "text": [
      "Missing Values After Cleaning:\n",
      "movie_id           0\n",
      "primary_title      0\n",
      "original_title     0\n",
      "start_year         0\n",
      "runtime_minutes    0\n",
      "genres             0\n",
      "averagerating      0\n",
      "numvotes           0\n",
      "dtype: int64\n"
     ]
    },
    {
     "name": "stderr",
     "output_type": "stream",
     "text": [
      "C:\\Users\\hp\\AppData\\Local\\Temp\\ipykernel_9972\\2613208606.py:5: FutureWarning: A value is trying to be set on a copy of a DataFrame or Series through chained assignment using an inplace method.\n",
      "The behavior will change in pandas 3.0. This inplace method will never work because the intermediate object on which we are setting values always behaves as a copy.\n",
      "\n",
      "For example, when doing 'df[col].method(value, inplace=True)', try using 'df.method({col: value}, inplace=True)' or df[col] = df[col].method(value) instead, to perform the operation inplace on the original object.\n",
      "\n",
      "\n",
      "  film_df['runtime_minutes'].fillna(median_runtime, inplace=True)\n",
      "C:\\Users\\hp\\AppData\\Local\\Temp\\ipykernel_9972\\2613208606.py:8: FutureWarning: A value is trying to be set on a copy of a DataFrame or Series through chained assignment using an inplace method.\n",
      "The behavior will change in pandas 3.0. This inplace method will never work because the intermediate object on which we are setting values always behaves as a copy.\n",
      "\n",
      "For example, when doing 'df[col].method(value, inplace=True)', try using 'df.method({col: value}, inplace=True)' or df[col] = df[col].method(value) instead, to perform the operation inplace on the original object.\n",
      "\n",
      "\n",
      "  film_df['genres'].fillna('Unknown', inplace=True)\n",
      "C:\\Users\\hp\\AppData\\Local\\Temp\\ipykernel_9972\\2613208606.py:11: FutureWarning: A value is trying to be set on a copy of a DataFrame or Series through chained assignment using an inplace method.\n",
      "The behavior will change in pandas 3.0. This inplace method will never work because the intermediate object on which we are setting values always behaves as a copy.\n",
      "\n",
      "For example, when doing 'df[col].method(value, inplace=True)', try using 'df.method({col: value}, inplace=True)' or df[col] = df[col].method(value) instead, to perform the operation inplace on the original object.\n",
      "\n",
      "\n",
      "  film_df['original_title'].fillna(movie_basics_df['primary_title'], inplace=True)\n"
     ]
    }
   ],
   "source": [
    "# film Data Cleaning \n",
    "\n",
    "# Fill missing 'runtime_minutes' with the median value\n",
    "median_runtime = film_df['runtime_minutes'].median()\n",
    "film_df['runtime_minutes'].fillna(median_runtime, inplace=True)\n",
    "\n",
    "# Fill missing 'genres' with 'Unknown'\n",
    "film_df['genres'].fillna('Unknown', inplace=True)\n",
    "\n",
    "# Optional: If you want to fill missing 'original_title' with the 'primary_title' instead\n",
    "film_df['original_title'].fillna(movie_basics_df['primary_title'], inplace=True)\n",
    "\n",
    "# --- Checking after cleaning ---\n",
    "print(\"Missing Values After Cleaning:\")\n",
    "print(film_df.isnull().sum())\n"
   ]
  },
  {
   "cell_type": "code",
   "execution_count": 188,
   "metadata": {},
   "outputs": [
    {
     "name": "stdout",
     "output_type": "stream",
     "text": [
      "Missing Values After Final Cleaning:\n",
      "movie_id           0\n",
      "primary_title      0\n",
      "original_title     0\n",
      "start_year         0\n",
      "runtime_minutes    0\n",
      "genres             0\n",
      "averagerating      0\n",
      "numvotes           0\n",
      "dtype: int64\n"
     ]
    }
   ],
   "source": [
    "# Drop any rows still missing 'runtime_minutes' or 'genres'\n",
    "film_df.dropna(subset=['runtime_minutes', 'genres'], inplace=True)\n",
    "\n",
    "# Final check\n",
    "print(\"Missing Values After Final Cleaning:\")\n",
    "print(film_df.isnull().sum())\n"
   ]
  },
  {
   "cell_type": "code",
   "execution_count": 189,
   "metadata": {},
   "outputs": [],
   "source": [
    "#  Standardize column names\n",
    "film_df.columns =film_df .columns.str.strip().str.lower().str.replace(\n",
    "    ' ', '_') \n",
    "box_office_df.columns = box_office_df.columns.str.strip().str.lower().str.replace(\n",
    "    ' ', '_')  "
   ]
  },
  {
   "cell_type": "code",
   "execution_count": 190,
   "metadata": {},
   "outputs": [],
   "source": [
    "#  Correct inconsistent categorical values (Example: Convert text to lowercase)\n",
    "for col in film_df.select_dtypes(include=['object']).columns:\n",
    "    film_df[col] =film_df[col].str.lower().str.strip()\n",
    "\n",
    "for col in box_office_df.select_dtypes(include=['object']).columns:\n",
    "    box_office_df[col] =box_office_df[col].str.lower().str.strip()"
   ]
  },
  {
   "cell_type": "markdown",
   "metadata": {},
   "source": [
    " Handling Duplicates in the Data"
   ]
  },
  {
   "cell_type": "code",
   "execution_count": 191,
   "metadata": {},
   "outputs": [
    {
     "name": "stdout",
     "output_type": "stream",
     "text": [
      "🔍 Duplicates in Box Office Data: 0\n",
      "🔍 Duplicates in TMDb Movies Data: 0\n",
      "🔍 Duplicates in Movie Budgets Data: 0\n",
      "🔍 Duplicates in Movie Budgets Data: 0\n"
     ]
    }
   ],
   "source": [
    "# 2.2 Check for duplicates\n",
    "# duplicates = df.duplicated().sum()\n",
    "# Print(f\"Number of duplicate rows: {duplicates}\")  # Identify duplicate records\n",
    "print(f\"🔍 Duplicates in Box Office Data: {box_office_df.duplicated().sum()}\")\n",
    "print(f\"🔍 Duplicates in TMDb Movies Data: {movie_basics_df.duplicated().sum()}\")\n",
    "print(f\"🔍 Duplicates in Movie Budgets Data: {movie_rating_df.duplicated().sum()}\")\n",
    "print(f\"🔍 Duplicates in Movie Budgets Data: {film_df.duplicated().sum()}\")"
   ]
  },
  {
   "cell_type": "code",
   "execution_count": 192,
   "metadata": {},
   "outputs": [],
   "source": [
    " # Checking  inconsistent casing:\n",
    "\n",
    "box_office_df[\"studio\"] = box_office_df[\"studio\"].str.strip().str.lower()\n",
    "box_office_df[\"title\"] = box_office_df[\"title\"].str.strip().str.lower()\n"
   ]
  },
  {
   "cell_type": "code",
   "execution_count": 193,
   "metadata": {},
   "outputs": [
    {
     "data": {
      "text/plain": [
       "title\n",
       "bluebeard                                                   2\n",
       "the chronicles of narnia: the voyage of the dawn treader    1\n",
       "the king's speech                                           1\n",
       "tron legacy                                                 1\n",
       "the karate kid                                              1\n",
       "prince of persia: the sands of time                         1\n",
       "black swan                                                  1\n",
       "megamind                                                    1\n",
       "robin hood                                                  1\n",
       "the last airbender                                          1\n",
       "Name: count, dtype: int64"
      ]
     },
     "execution_count": 193,
     "metadata": {},
     "output_type": "execute_result"
    }
   ],
   "source": [
    "# Counting occurrences of each title\n",
    "box_office_df[\"title\"].value_counts().head(10)"
   ]
  },
  {
   "cell_type": "code",
   "execution_count": 194,
   "metadata": {},
   "outputs": [
    {
     "data": {
      "text/html": [
       "<div>\n",
       "<style scoped>\n",
       "    .dataframe tbody tr th:only-of-type {\n",
       "        vertical-align: middle;\n",
       "    }\n",
       "\n",
       "    .dataframe tbody tr th {\n",
       "        vertical-align: top;\n",
       "    }\n",
       "\n",
       "    .dataframe thead th {\n",
       "        text-align: right;\n",
       "    }\n",
       "</style>\n",
       "<table border=\"1\" class=\"dataframe\">\n",
       "  <thead>\n",
       "    <tr style=\"text-align: right;\">\n",
       "      <th></th>\n",
       "      <th>title</th>\n",
       "      <th>studio</th>\n",
       "      <th>domestic_gross</th>\n",
       "      <th>foreign_gross</th>\n",
       "      <th>year</th>\n",
       "    </tr>\n",
       "  </thead>\n",
       "  <tbody>\n",
       "    <tr>\n",
       "      <th>317</th>\n",
       "      <td>bluebeard</td>\n",
       "      <td>strand</td>\n",
       "      <td>33500.0</td>\n",
       "      <td>5200.0</td>\n",
       "      <td>2010</td>\n",
       "    </tr>\n",
       "    <tr>\n",
       "      <th>3045</th>\n",
       "      <td>bluebeard</td>\n",
       "      <td>wgusa</td>\n",
       "      <td>43100.0</td>\n",
       "      <td>19400000.0</td>\n",
       "      <td>2017</td>\n",
       "    </tr>\n",
       "  </tbody>\n",
       "</table>\n",
       "</div>"
      ],
      "text/plain": [
       "          title  studio  domestic_gross  foreign_gross  year\n",
       "317   bluebeard  strand         33500.0         5200.0  2010\n",
       "3045  bluebeard   wgusa         43100.0     19400000.0  2017"
      ]
     },
     "execution_count": 194,
     "metadata": {},
     "output_type": "execute_result"
    }
   ],
   "source": [
    "# Searching for the Movie \"Bluebeard\" in `box_office_df`\n",
    "box_office_df[box_office_df[\"title\"] == \"bluebeard\"]"
   ]
  },
  {
   "cell_type": "code",
   "execution_count": 195,
   "metadata": {},
   "outputs": [
    {
     "data": {
      "text/plain": [
       "Series([], Name: count, dtype: int64)"
      ]
     },
     "execution_count": 195,
     "metadata": {},
     "output_type": "execute_result"
    }
   ],
   "source": [
    "# Differentiating the titles Bluebeard by adding the release year\n",
    "box_office_df[\"title\"] = box_office_df[\"title\"] + \" (\" + box_office_df[\"year\"].astype(str) + \")\"\n",
    "box_office_df[\"title\"].value_counts()[box_office_df[\"title\"].value_counts() > 1]"
   ]
  },
  {
   "cell_type": "code",
   "execution_count": 196,
   "metadata": {},
   "outputs": [
    {
     "data": {
      "text/html": [
       "<div>\n",
       "<style scoped>\n",
       "    .dataframe tbody tr th:only-of-type {\n",
       "        vertical-align: middle;\n",
       "    }\n",
       "\n",
       "    .dataframe tbody tr th {\n",
       "        vertical-align: top;\n",
       "    }\n",
       "\n",
       "    .dataframe thead th {\n",
       "        text-align: right;\n",
       "    }\n",
       "</style>\n",
       "<table border=\"1\" class=\"dataframe\">\n",
       "  <thead>\n",
       "    <tr style=\"text-align: right;\">\n",
       "      <th></th>\n",
       "      <th>movie_id</th>\n",
       "    </tr>\n",
       "  </thead>\n",
       "  <tbody>\n",
       "    <tr>\n",
       "      <th>count</th>\n",
       "      <td>73856</td>\n",
       "    </tr>\n",
       "    <tr>\n",
       "      <th>unique</th>\n",
       "      <td>73856</td>\n",
       "    </tr>\n",
       "    <tr>\n",
       "      <th>top</th>\n",
       "      <td>tt9174828</td>\n",
       "    </tr>\n",
       "    <tr>\n",
       "      <th>freq</th>\n",
       "      <td>1</td>\n",
       "    </tr>\n",
       "  </tbody>\n",
       "</table>\n",
       "</div>"
      ],
      "text/plain": [
       "         movie_id\n",
       "count       73856\n",
       "unique      73856\n",
       "top     tt9174828\n",
       "freq            1"
      ]
     },
     "execution_count": 196,
     "metadata": {},
     "output_type": "execute_result"
    }
   ],
   "source": [
    "# 2.3 Display categorical features summary\n",
    "box_office_df.describe(include=['O'])\n",
    "movie_basics_df.describe(include=['O'])\n",
    "movie_rating_df.describe(include=['O'])"
   ]
  },
  {
   "cell_type": "code",
   "execution_count": 197,
   "metadata": {},
   "outputs": [
    {
     "name": "stdout",
     "output_type": "stream",
     "text": [
      "Missing Values:\n",
      " title             0\n",
      "studio            0\n",
      "domestic_gross    0\n",
      "foreign_gross     0\n",
      "year              0\n",
      "dtype: int64\n",
      "Missing Values:\n",
      " movie_id               0\n",
      "primary_title          0\n",
      "original_title        21\n",
      "start_year             0\n",
      "runtime_minutes    31739\n",
      "genres              5408\n",
      "dtype: int64\n",
      "Missing Values:\n",
      " movie_id         0\n",
      "averagerating    0\n",
      "numvotes         0\n",
      "dtype: int64\n",
      "\n",
      "Duplicate Rows: 0\n",
      "\n",
      "Duplicate Rows: 0\n",
      "\n",
      "Duplicate Rows: 0\n",
      "\n",
      "Data Types:\n",
      " title              object\n",
      "studio             object\n",
      "domestic_gross    float64\n",
      "foreign_gross     float64\n",
      "year                int64\n",
      "dtype: object\n",
      "\n",
      "Data Types:\n",
      " movie_id            object\n",
      "primary_title       object\n",
      "original_title      object\n",
      "start_year           int64\n",
      "runtime_minutes    float64\n",
      "genres              object\n",
      "dtype: object\n",
      "\n",
      "Data Types:\n",
      " movie_id          object\n",
      "averagerating    float64\n",
      "numvotes           int64\n",
      "dtype: object\n"
     ]
    }
   ],
   "source": [
    "print(\"Missing Values:\\n\", box_office_df.isnull().sum())  # Check missing values \n",
    "print(\"Missing Values:\\n\", movie_basics_df.isnull().sum())  # Check missing values\n",
    "print(\"Missing Values:\\n\", movie_rating_df.isnull().sum())  # Check missing values     \n",
    "print(\"\\nDuplicate Rows:\", box_office_df.duplicated().sum())  # Check duplicate rows  \n",
    "print(\"\\nDuplicate Rows:\", movie_basics_df.duplicated().sum())  # Check duplicate rows \n",
    "print(\"\\nDuplicate Rows:\",movie_rating_df.duplicated().sum())  # Check duplicate rows \n",
    "print(\"\\nData Types:\\n\", box_office_df.dtypes)  # Check data type\n",
    "print(\"\\nData Types:\\n\", movie_basics_df.dtypes)  # Check data type\n",
    "print(\"\\nData Types:\\n\", movie_rating_df.dtypes)  # Check data type"
   ]
  },
  {
   "cell_type": "code",
   "execution_count": 198,
   "metadata": {},
   "outputs": [],
   "source": [
    "film_df.to_csv(\"cleaned_dataset.csv\", index=False)  # Save cleaned dataset for Tableau \n",
    "box_office_df.to_csv(\"cleaned_dataset.csv\", index=False)\n"
   ]
  },
  {
   "cell_type": "code",
   "execution_count": 199,
   "metadata": {},
   "outputs": [
    {
     "data": {
      "text/html": [
       "<a href='cleaned_dataset.csv' target='_blank'>cleaned_dataset.csv</a><br>"
      ],
      "text/plain": [
       "c:\\Users\\hp\\OneDrive\\Desktop\\DSF-FT12\\DS-Phase2\\Phase-2 Project\\Group4-Phase2-Project\\cleaned_dataset.csv"
      ]
     },
     "execution_count": 199,
     "metadata": {},
     "output_type": "execute_result"
    }
   ],
   "source": [
    "from IPython.display import FileLink  \n",
    "FileLink(\"cleaned_dataset.csv\")  # Generates a download link "
   ]
  },
  {
   "cell_type": "code",
   "execution_count": null,
   "metadata": {},
   "outputs": [],
   "source": []
  }
 ],
 "metadata": {
  "kernelspec": {
   "display_name": "learn-env",
   "language": "python",
   "name": "python3"
  },
  "language_info": {
   "codemirror_mode": {
    "name": "ipython",
    "version": 3
   },
   "file_extension": ".py",
   "mimetype": "text/x-python",
   "name": "python",
   "nbconvert_exporter": "python",
   "pygments_lexer": "ipython3",
   "version": "3.9.21"
  }
 },
 "nbformat": 4,
 "nbformat_minor": 4
}
